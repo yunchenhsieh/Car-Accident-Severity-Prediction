{
 "cells": [
  {
   "cell_type": "markdown",
   "metadata": {
    "application/vnd.databricks.v1+cell": {
     "cellMetadata": {},
     "inputWidgets": {},
     "nuid": "5ee406ed-ddb2-4391-903e-ae2db8a65635",
     "showTitle": false,
     "title": ""
    }
   },
   "source": [
    "## Import the file uploaded in the DBFS"
   ]
  },
  {
   "cell_type": "code",
   "execution_count": 0,
   "metadata": {
    "application/vnd.databricks.v1+cell": {
     "cellMetadata": {
      "byteLimit": 2048000,
      "rowLimit": 10000
     },
     "inputWidgets": {},
     "nuid": "045fecc0-a4e3-4d6e-a678-c5eeffd9899e",
     "showTitle": false,
     "title": ""
    }
   },
   "outputs": [
    {
     "output_type": "display_data",
     "data": {
      "text/html": [
       "<style scoped>\n",
       "  .ansiout {\n",
       "    display: block;\n",
       "    unicode-bidi: embed;\n",
       "    white-space: pre-wrap;\n",
       "    word-wrap: break-word;\n",
       "    word-break: break-all;\n",
       "    font-family: \"Menlo\", \"Monaco\", \"Consolas\", \"Ubuntu Mono\", \"Source Code Pro\", monospace;\n",
       "    font-size: 13px;\n",
       "    color: #555;\n",
       "    margin-left: 4px;\n",
       "    line-height: 19px;\n",
       "  }\n",
       "</style>\n",
       "<div class=\"ansiout\">res0: Boolean = true\n",
       "</div>"
      ]
     },
     "metadata": {
      "application/vnd.databricks.v1+output": {
       "addedWidgets": {},
       "arguments": {},
       "data": "<div class=\"ansiout\">res0: Boolean = true\n</div>",
       "datasetInfos": [],
       "metadata": {
        "isDbfsCommandResult": false
       },
       "removedWidgets": [],
       "type": "html"
      }
     },
     "output_type": "display_data"
    }
   ],
   "source": [
    "%fs cp dbfs:/FileStore/TrendsMarket/US_Accidents_March23_sampled_500k.zip file:/databricks/driver/US_Accidents.zip"
   ]
  },
  {
   "cell_type": "code",
   "execution_count": 0,
   "metadata": {
    "application/vnd.databricks.v1+cell": {
     "cellMetadata": {
      "byteLimit": 2048000,
      "rowLimit": 10000
     },
     "inputWidgets": {},
     "nuid": "2f72788c-9117-43e7-831d-0187697b2e37",
     "showTitle": false,
     "title": ""
    }
   },
   "outputs": [
    {
     "output_type": "stream",
     "name": "stdout",
     "output_type": "stream",
     "text": [
      "total 54772\r\n-rw-r--r-- 1 root root 54752696 Dec  5 20:10 US_Accidents.zip\r\ndrwxr-xr-x 2 root root     4096 Dec  5 07:09 azure\r\ndrwxr-xr-x 2 root root     4096 Dec  5 07:09 conf\r\ndrwxr-xr-x 3 root root     4096 Dec  5 20:09 eventlogs\r\n-r-xr-xr-x 1 root root     2755 Dec  5 07:09 hadoop_accessed_config.lst\r\ndrwxr-xr-x 2 root root     4096 Dec  5 20:09 logs\r\n-r-xr-xr-x 1 root root  1306936 Dec  5 07:09 preload_class.lst\r\n"
     ]
    }
   ],
   "source": [
    "!ls -l"
   ]
  },
  {
   "cell_type": "code",
   "execution_count": 0,
   "metadata": {
    "application/vnd.databricks.v1+cell": {
     "cellMetadata": {
      "byteLimit": 2048000,
      "rowLimit": 10000
     },
     "inputWidgets": {},
     "nuid": "b2d07fe6-7c1f-4245-89aa-f49bea0ad182",
     "showTitle": false,
     "title": ""
    }
   },
   "outputs": [
    {
     "output_type": "stream",
     "name": "stdout",
     "output_type": "stream",
     "text": [
      "Archive:  US_Accidents.zip\r\n  inflating: US_Accidents_March23_sampled_500k.csv  \r\n"
     ]
    }
   ],
   "source": [
    "!unzip US_Accidents.zip "
   ]
  },
  {
   "cell_type": "markdown",
   "metadata": {
    "application/vnd.databricks.v1+cell": {
     "cellMetadata": {},
     "inputWidgets": {},
     "nuid": "35862b61-0618-44e1-90a2-cce4683658b2",
     "showTitle": false,
     "title": ""
    }
   },
   "source": [
    "## Create a dataframe by using pyspark"
   ]
  },
  {
   "cell_type": "code",
   "execution_count": 0,
   "metadata": {
    "application/vnd.databricks.v1+cell": {
     "cellMetadata": {
      "byteLimit": 2048000,
      "rowLimit": 10000
     },
     "inputWidgets": {},
     "nuid": "cf213907-535e-4a16-b826-5b9d2a2bd7d3",
     "showTitle": false,
     "title": ""
    }
   },
   "outputs": [],
   "source": [
    "us_acc = spark.read.csv(\"file:/databricks/driver/US_Accidents_March23_sampled_500k.csv\", inferSchema=True, header=True).cache()"
   ]
  },
  {
   "cell_type": "code",
   "execution_count": 0,
   "metadata": {
    "application/vnd.databricks.v1+cell": {
     "cellMetadata": {
      "byteLimit": 2048000,
      "rowLimit": 10000
     },
     "inputWidgets": {},
     "nuid": "b8a153bb-0a13-438c-888b-3911e80a96e1",
     "showTitle": false,
     "title": ""
    }
   },
   "outputs": [],
   "source": [
    "us_acc.write.parquet('file:/databricks/driver/US Accident Sample/')"
   ]
  },
  {
   "cell_type": "code",
   "execution_count": 0,
   "metadata": {
    "application/vnd.databricks.v1+cell": {
     "cellMetadata": {
      "byteLimit": 2048000,
      "rowLimit": 10000
     },
     "inputWidgets": {},
     "nuid": "eb359032-6c81-4f6a-af29-d5dd26d4604b",
     "showTitle": false,
     "title": ""
    }
   },
   "outputs": [],
   "source": [
    "# dbutils.fs.rm('file:/databricks/driver/Trends Market Parquet/', recurse=True)"
   ]
  },
  {
   "cell_type": "code",
   "execution_count": 0,
   "metadata": {
    "application/vnd.databricks.v1+cell": {
     "cellMetadata": {
      "byteLimit": 2048000,
      "rowLimit": 10000
     },
     "inputWidgets": {},
     "nuid": "b6e417e1-2c68-4949-a78e-ff7533f6e159",
     "showTitle": false,
     "title": ""
    }
   },
   "outputs": [
    {
     "output_type": "stream",
     "name": "stdout",
     "output_type": "stream",
     "text": [
      "total 247360\r\ndrwxr-xr-x 2 root root      4096 Dec  5 20:12 'US Accident Sample'\r\n-rw-r--r-- 1 root root  54752696 Dec  5 20:10  US_Accidents.zip\r\n-rw-r--r-- 1 root root 197199338 Nov 16 03:20  US_Accidents_March23_sampled_500k.csv\r\ndrwxr-xr-x 2 root root      4096 Dec  5 07:09  azure\r\ndrwxr-xr-x 2 root root      4096 Dec  5 07:09  conf\r\ndrwxr-xr-x 3 root root      4096 Dec  5 20:09  eventlogs\r\n-r-xr-xr-x 1 root root      2755 Dec  5 07:09  hadoop_accessed_config.lst\r\ndrwxr-xr-x 2 root root      4096 Dec  5 20:11  logs\r\ndrwxr-xr-x 5 root root      4096 Dec  5 20:11  metastore_db\r\n-r-xr-xr-x 1 root root   1306936 Dec  5 07:09  preload_class.lst\r\n"
     ]
    }
   ],
   "source": [
    "!ls  -l"
   ]
  },
  {
   "cell_type": "code",
   "execution_count": 0,
   "metadata": {
    "application/vnd.databricks.v1+cell": {
     "cellMetadata": {
      "byteLimit": 2048000,
      "rowLimit": 10000
     },
     "inputWidgets": {},
     "nuid": "76e4c51a-a043-4edc-bdf5-a3c82556ee64",
     "showTitle": false,
     "title": ""
    }
   },
   "outputs": [],
   "source": [
    "us_acc = spark.read.parquet(\"file:/databricks/driver/US Accident Sample/\").cache()"
   ]
  },
  {
   "cell_type": "code",
   "execution_count": 0,
   "metadata": {
    "application/vnd.databricks.v1+cell": {
     "cellMetadata": {
      "byteLimit": 2048000,
      "rowLimit": 10000
     },
     "inputWidgets": {},
     "nuid": "5358cef5-4123-42d7-9622-a4fba041f89b",
     "showTitle": false,
     "title": ""
    }
   },
   "outputs": [
    {
     "output_type": "stream",
     "name": "stdout",
     "output_type": "stream",
     "text": [
      "root\n |-- ID: string (nullable = true)\n |-- Source: string (nullable = true)\n |-- Severity: integer (nullable = true)\n |-- Start_Time: timestamp (nullable = true)\n |-- End_Time: timestamp (nullable = true)\n |-- Start_Lat: double (nullable = true)\n |-- Start_Lng: double (nullable = true)\n |-- End_Lat: double (nullable = true)\n |-- End_Lng: double (nullable = true)\n |-- Distance(mi): double (nullable = true)\n |-- Description: string (nullable = true)\n |-- Street: string (nullable = true)\n |-- City: string (nullable = true)\n |-- County: string (nullable = true)\n |-- State: string (nullable = true)\n |-- Zipcode: string (nullable = true)\n |-- Country: string (nullable = true)\n |-- Timezone: string (nullable = true)\n |-- Airport_Code: string (nullable = true)\n |-- Weather_Timestamp: timestamp (nullable = true)\n |-- Temperature(F): double (nullable = true)\n |-- Wind_Chill(F): double (nullable = true)\n |-- Humidity(%): double (nullable = true)\n |-- Pressure(in): double (nullable = true)\n |-- Visibility(mi): double (nullable = true)\n |-- Wind_Direction: string (nullable = true)\n |-- Wind_Speed(mph): double (nullable = true)\n |-- Precipitation(in): double (nullable = true)\n |-- Weather_Condition: string (nullable = true)\n |-- Amenity: boolean (nullable = true)\n |-- Bump: boolean (nullable = true)\n |-- Crossing: boolean (nullable = true)\n |-- Give_Way: boolean (nullable = true)\n |-- Junction: boolean (nullable = true)\n |-- No_Exit: boolean (nullable = true)\n |-- Railway: boolean (nullable = true)\n |-- Roundabout: boolean (nullable = true)\n |-- Station: boolean (nullable = true)\n |-- Stop: boolean (nullable = true)\n |-- Traffic_Calming: boolean (nullable = true)\n |-- Traffic_Signal: boolean (nullable = true)\n |-- Turning_Loop: boolean (nullable = true)\n |-- Sunrise_Sunset: string (nullable = true)\n |-- Civil_Twilight: string (nullable = true)\n |-- Nautical_Twilight: string (nullable = true)\n |-- Astronomical_Twilight: string (nullable = true)\n\n"
     ]
    }
   ],
   "source": [
    "us_acc.printSchema()"
   ]
  },
  {
   "cell_type": "code",
   "execution_count": 0,
   "metadata": {
    "application/vnd.databricks.v1+cell": {
     "cellMetadata": {
      "byteLimit": 2048000,
      "rowLimit": 10000
     },
     "inputWidgets": {},
     "nuid": "baa94c10-9028-430c-9d70-2514c6ac932e",
     "showTitle": false,
     "title": ""
    }
   },
   "outputs": [
    {
     "output_type": "display_data",
     "data": {
      "text/html": [
       "<style scoped>\n",
       "  .table-result-container {\n",
       "    max-height: 300px;\n",
       "    overflow: auto;\n",
       "  }\n",
       "  table, th, td {\n",
       "    border: 1px solid black;\n",
       "    border-collapse: collapse;\n",
       "  }\n",
       "  th, td {\n",
       "    padding: 5px;\n",
       "  }\n",
       "  th {\n",
       "    text-align: left;\n",
       "  }\n",
       "</style><div class='table-result-container'><table class='table-result'><thead style='background-color: white'><tr><th>ID</th><th>Source</th><th>Severity</th><th>Start_Time</th><th>End_Time</th><th>Start_Lat</th><th>Start_Lng</th><th>End_Lat</th><th>End_Lng</th><th>Distance(mi)</th><th>Description</th><th>Street</th><th>City</th><th>County</th><th>State</th><th>Zipcode</th><th>Country</th><th>Timezone</th><th>Airport_Code</th><th>Weather_Timestamp</th><th>Temperature(F)</th><th>Wind_Chill(F)</th><th>Humidity(%)</th><th>Pressure(in)</th><th>Visibility(mi)</th><th>Wind_Direction</th><th>Wind_Speed(mph)</th><th>Precipitation(in)</th><th>Weather_Condition</th><th>Amenity</th><th>Bump</th><th>Crossing</th><th>Give_Way</th><th>Junction</th><th>No_Exit</th><th>Railway</th><th>Roundabout</th><th>Station</th><th>Stop</th><th>Traffic_Calming</th><th>Traffic_Signal</th><th>Turning_Loop</th><th>Sunrise_Sunset</th><th>Civil_Twilight</th><th>Nautical_Twilight</th><th>Astronomical_Twilight</th></tr></thead><tbody><tr><td>A-6932963</td><td>Source1</td><td>2</td><td>2020-11-07T22:01:59.000+0000</td><td>2020-11-07T23:58:58.000+0000</td><td>26.390415</td><td>-80.099676</td><td>26.374375</td><td>-80.116476</td><td>1.52</td><td>Incident on I-95 SB near EXIT 45 Left shoulder closed.</td><td>I-95 S</td><td>Boca Raton</td><td>Palm Beach</td><td>FL</td><td>33431</td><td>US</td><td>US/Eastern</td><td>KBCT</td><td>2020-11-07T21:22:00.000+0000</td><td>79.0</td><td>79.0</td><td>84.0</td><td>29.88</td><td>8.0</td><td>E</td><td>25.0</td><td>0.0</td><td>Cloudy / Windy</td><td>false</td><td>false</td><td>false</td><td>false</td><td>false</td><td>false</td><td>false</td><td>false</td><td>false</td><td>false</td><td>false</td><td>false</td><td>false</td><td>Night</td><td>Night</td><td>Night</td><td>Night</td></tr><tr><td>A-6115247</td><td>Source1</td><td>2</td><td>2021-08-31T16:00:02.000+0000</td><td>2021-08-31T16:33:20.000+0000</td><td>28.339375</td><td>-81.410286</td><td>28.337149</td><td>-81.40383299999998</td><td>0.421</td><td>Slow traffic from N Bermuda Ave/N John Young Pkwy (W Osceola Pkwy) to US-441/N Orange Blossom Trl (W Osceola Pkwy) due to accident.</td><td> W Osceola Pkwy</td><td>Kissimmee</td><td>Osceola</td><td>FL</td><td>34741-7586</td><td>US</td><td>US/Eastern</td><td>KISM</td><td>2021-08-31T15:56:00.000+0000</td><td>95.0</td><td>95.0</td><td>47.0</td><td>29.8</td><td>10.0</td><td>WNW</td><td>10.0</td><td>0.0</td><td>Fair</td><td>false</td><td>false</td><td>false</td><td>false</td><td>false</td><td>false</td><td>false</td><td>false</td><td>false</td><td>false</td><td>false</td><td>false</td><td>false</td><td>Day</td><td>Day</td><td>Day</td><td>Day</td></tr><tr><td>A-4043983</td><td>Source1</td><td>2</td><td>2022-03-05T13:18:30.000+0000</td><td>2022-03-05T15:21:00.000+0000</td><td>34.152413</td><td>-118.095331</td><td>34.120859</td><td>-117.879937</td><td>12.51</td><td>Slow traffic on I-210 E - Foothill Fwy E from Sierra Madre Blvd/Altadena Dr (I-210) to Grand Ave (I-210) due to accident.</td><td>Foothill Fwy E</td><td>Pasadena</td><td>Los Angeles</td><td>CA</td><td>91107</td><td>US</td><td>US/Pacific</td><td>KMWS</td><td>null</td><td>null</td><td>null</td><td>null</td><td>null</td><td>null</td><td>null</td><td>null</td><td>null</td><td>null</td><td>false</td><td>false</td><td>false</td><td>false</td><td>false</td><td>false</td><td>false</td><td>false</td><td>false</td><td>false</td><td>false</td><td>false</td><td>false</td><td>Day</td><td>Day</td><td>Day</td><td>Day</td></tr><tr><td>A-1415732</td><td>Source2</td><td>2</td><td>2020-08-07T19:36:52.000+0000</td><td>2020-08-07T20:22:39.000+0000</td><td>36.139839</td><td>-86.78759000000002</td><td>null</td><td>null</td><td>0.0</td><td>Accident on 12th Ave at Horton Ave.</td><td>Horton Ave</td><td>Nashville</td><td>Davidson</td><td>TN</td><td>37212-3032</td><td>US</td><td>US/Central</td><td>KBNA</td><td>2020-08-07T19:53:00.000+0000</td><td>81.0</td><td>81.0</td><td>56.0</td><td>29.46</td><td>10.0</td><td>N</td><td>7.0</td><td>0.0</td><td>Fair</td><td>false</td><td>false</td><td>false</td><td>false</td><td>false</td><td>false</td><td>false</td><td>false</td><td>false</td><td>false</td><td>false</td><td>true</td><td>false</td><td>Day</td><td>Day</td><td>Day</td><td>Day</td></tr><tr><td>A-5499272</td><td>Source1</td><td>2</td><td>2021-12-02T17:56:49.000+0000</td><td>2021-12-02T19:59:19.000+0000</td><td>32.908407000000004</td><td>-96.838198</td><td>32.909453000000006</td><td>-96.834749</td><td>0.213</td><td>Stationary traffic from Cedarbrush Dr to Crestline Ave due to accident.</td><td> Midway Rd</td><td>Dallas</td><td>Dallas</td><td>TX</td><td>75229</td><td>US</td><td>US/Central</td><td>KDAL</td><td>2021-12-02T17:53:00.000+0000</td><td>72.0</td><td>72.0</td><td>59.0</td><td>29.52</td><td>10.0</td><td>SSE</td><td>7.0</td><td>0.0</td><td>Mostly Cloudy</td><td>false</td><td>false</td><td>false</td><td>false</td><td>false</td><td>false</td><td>false</td><td>false</td><td>false</td><td>false</td><td>false</td><td>false</td><td>false</td><td>Night</td><td>Night</td><td>Day</td><td>Day</td></tr><tr><td>A-829501</td><td>Source2</td><td>2</td><td>2021-11-08T06:55:59.000+0000</td><td>2021-11-08T07:40:18.000+0000</td><td>33.881962</td><td>-117.880585</td><td>null</td><td>null</td><td>0.0</td><td>#1 lane blocked and HOV lane blocked due to accident on CA-57 Southbound after Exit 8 Yorba Linda Blvd. SigAlert issued.</td><td>CA-57 S</td><td>Fullerton</td><td>Orange</td><td>CA</td><td>92831</td><td>US</td><td>US/Pacific</td><td>KFUL</td><td>2021-11-08T06:53:00.000+0000</td><td>58.0</td><td>58.0</td><td>78.0</td><td>29.93</td><td>7.0</td><td>ENE</td><td>3.0</td><td>0.0</td><td>Cloudy</td><td>false</td><td>false</td><td>false</td><td>false</td><td>false</td><td>false</td><td>false</td><td>false</td><td>false</td><td>false</td><td>false</td><td>false</td><td>false</td><td>Day</td><td>Day</td><td>Day</td><td>Day</td></tr><tr><td>A-3008800</td><td>Source2</td><td>3</td><td>2018-02-13T08:07:14.000+0000</td><td>2018-02-13T08:36:41.000+0000</td><td>34.227894</td><td>-83.862282</td><td>null</td><td>null</td><td>0.0</td><td>Right lane blocked due to accident on I-985 Southbound at Exits 16 17 GA-53 Mundy Mill Rd.</td><td>GA-365 S</td><td>Gainesville</td><td>Hall</td><td>GA</td><td>30504</td><td>US</td><td>US/Eastern</td><td>KGVL</td><td>2018-02-13T07:53:00.000+0000</td><td>42.1</td><td>34.5</td><td>82.0</td><td>30.6</td><td>10.0</td><td>ENE</td><td>15.0</td><td>null</td><td>Overcast</td><td>false</td><td>false</td><td>false</td><td>false</td><td>false</td><td>false</td><td>false</td><td>false</td><td>false</td><td>false</td><td>false</td><td>false</td><td>false</td><td>Day</td><td>Day</td><td>Day</td><td>Day</td></tr><tr><td>A-6623837</td><td>Source1</td><td>2</td><td>2020-12-30T20:31:00.000+0000</td><td>2020-12-30T22:16:23.000+0000</td><td>36.739364</td><td>-80.769349</td><td>36.677404</td><td>-80.711739</td><td>5.34</td><td>Incident on I-77 SB near MM 12 Expect delays.</td><td>I-77 S</td><td>Hillsville</td><td>Carroll</td><td>VA</td><td>24343</td><td>US</td><td>US/Eastern</td><td>KHLX</td><td>2020-12-30T20:35:00.000+0000</td><td>42.0</td><td>38.0</td><td>96.0</td><td>27.32</td><td>7.0</td><td>S</td><td>6.0</td><td>0.0</td><td>Cloudy</td><td>false</td><td>false</td><td>false</td><td>false</td><td>false</td><td>false</td><td>false</td><td>false</td><td>false</td><td>false</td><td>false</td><td>false</td><td>false</td><td>Night</td><td>Night</td><td>Night</td><td>Night</td></tr><tr><td>A-2336930</td><td>Source2</td><td>2</td><td>2019-01-15T08:59:05.000+0000</td><td>2019-01-15T09:28:49.000+0000</td><td>41.73888</td><td>-78.6838</td><td>null</td><td>null</td><td>0.0</td><td>Restrictions due to accident on US-219 Buffalo-Pittsburgh Hwy both ways at Mead Run Rd.</td><td>Route 219</td><td>Mount Jewett</td><td>McKean</td><td>PA</td><td>16740-2028</td><td>US</td><td>US/Eastern</td><td>KBFD</td><td>2019-01-15T08:53:00.000+0000</td><td>19.0</td><td>12.3</td><td>81.0</td><td>30.19</td><td>10.0</td><td>Variable</td><td>4.6</td><td>null</td><td>Overcast</td><td>false</td><td>false</td><td>false</td><td>false</td><td>false</td><td>false</td><td>false</td><td>false</td><td>false</td><td>false</td><td>false</td><td>false</td><td>false</td><td>Day</td><td>Day</td><td>Day</td><td>Day</td></tr><tr><td>A-7310037</td><td>Source1</td><td>2</td><td>2019-12-11T17:11:00.000+0000</td><td>2019-12-11T19:42:18.000+0000</td><td>34.014515</td><td>-117.266645</td><td>34.014515</td><td>-117.266645</td><td>0.0</td><td>At E Washington St - Accident.</td><td> Reche Canyon Rd</td><td>Colton</td><td>Riverside</td><td>CA</td><td>92324-9629</td><td>US</td><td>US/Pacific</td><td>KSBD</td><td>2019-12-11T16:45:00.000+0000</td><td>63.0</td><td>63.0</td><td>42.0</td><td>28.91</td><td>7.0</td><td>CALM</td><td>0.0</td><td>0.0</td><td>Mostly Cloudy</td><td>false</td><td>false</td><td>false</td><td>false</td><td>false</td><td>false</td><td>false</td><td>false</td><td>false</td><td>false</td><td>false</td><td>false</td><td>false</td><td>Night</td><td>Night</td><td>Day</td><td>Day</td></tr></tbody></table></div>"
      ]
     },
     "metadata": {
      "application/vnd.databricks.v1+output": {
       "addedWidgets": {},
       "aggData": [],
       "aggError": "",
       "aggOverflow": false,
       "aggSchema": [],
       "aggSeriesLimitReached": false,
       "aggType": "",
       "arguments": {},
       "columnCustomDisplayInfos": {},
       "data": [
        [
         "A-6932963",
         "Source1",
         2,
         "2020-11-07T22:01:59.000+0000",
         "2020-11-07T23:58:58.000+0000",
         26.390415,
         -80.099676,
         26.374375,
         -80.116476,
         1.52,
         "Incident on I-95 SB near EXIT 45 Left shoulder closed.",
         "I-95 S",
         "Boca Raton",
         "Palm Beach",
         "FL",
         "33431",
         "US",
         "US/Eastern",
         "KBCT",
         "2020-11-07T21:22:00.000+0000",
         79.0,
         79.0,
         84.0,
         29.88,
         8.0,
         "E",
         25.0,
         0.0,
         "Cloudy / Windy",
         false,
         false,
         false,
         false,
         false,
         false,
         false,
         false,
         false,
         false,
         false,
         false,
         false,
         "Night",
         "Night",
         "Night",
         "Night"
        ],
        [
         "A-6115247",
         "Source1",
         2,
         "2021-08-31T16:00:02.000+0000",
         "2021-08-31T16:33:20.000+0000",
         28.339375,
         -81.410286,
         28.337149,
         -81.40383299999998,
         0.421,
         "Slow traffic from N Bermuda Ave/N John Young Pkwy (W Osceola Pkwy) to US-441/N Orange Blossom Trl (W Osceola Pkwy) due to accident.",
         " W Osceola Pkwy",
         "Kissimmee",
         "Osceola",
         "FL",
         "34741-7586",
         "US",
         "US/Eastern",
         "KISM",
         "2021-08-31T15:56:00.000+0000",
         95.0,
         95.0,
         47.0,
         29.8,
         10.0,
         "WNW",
         10.0,
         0.0,
         "Fair",
         false,
         false,
         false,
         false,
         false,
         false,
         false,
         false,
         false,
         false,
         false,
         false,
         false,
         "Day",
         "Day",
         "Day",
         "Day"
        ],
        [
         "A-4043983",
         "Source1",
         2,
         "2022-03-05T13:18:30.000+0000",
         "2022-03-05T15:21:00.000+0000",
         34.152413,
         -118.095331,
         34.120859,
         -117.879937,
         12.51,
         "Slow traffic on I-210 E - Foothill Fwy E from Sierra Madre Blvd/Altadena Dr (I-210) to Grand Ave (I-210) due to accident.",
         "Foothill Fwy E",
         "Pasadena",
         "Los Angeles",
         "CA",
         "91107",
         "US",
         "US/Pacific",
         "KMWS",
         null,
         null,
         null,
         null,
         null,
         null,
         null,
         null,
         null,
         null,
         false,
         false,
         false,
         false,
         false,
         false,
         false,
         false,
         false,
         false,
         false,
         false,
         false,
         "Day",
         "Day",
         "Day",
         "Day"
        ],
        [
         "A-1415732",
         "Source2",
         2,
         "2020-08-07T19:36:52.000+0000",
         "2020-08-07T20:22:39.000+0000",
         36.139839,
         -86.78759000000002,
         null,
         null,
         0.0,
         "Accident on 12th Ave at Horton Ave.",
         "Horton Ave",
         "Nashville",
         "Davidson",
         "TN",
         "37212-3032",
         "US",
         "US/Central",
         "KBNA",
         "2020-08-07T19:53:00.000+0000",
         81.0,
         81.0,
         56.0,
         29.46,
         10.0,
         "N",
         7.0,
         0.0,
         "Fair",
         false,
         false,
         false,
         false,
         false,
         false,
         false,
         false,
         false,
         false,
         false,
         true,
         false,
         "Day",
         "Day",
         "Day",
         "Day"
        ],
        [
         "A-5499272",
         "Source1",
         2,
         "2021-12-02T17:56:49.000+0000",
         "2021-12-02T19:59:19.000+0000",
         32.908407000000004,
         -96.838198,
         32.909453000000006,
         -96.834749,
         0.213,
         "Stationary traffic from Cedarbrush Dr to Crestline Ave due to accident.",
         " Midway Rd",
         "Dallas",
         "Dallas",
         "TX",
         "75229",
         "US",
         "US/Central",
         "KDAL",
         "2021-12-02T17:53:00.000+0000",
         72.0,
         72.0,
         59.0,
         29.52,
         10.0,
         "SSE",
         7.0,
         0.0,
         "Mostly Cloudy",
         false,
         false,
         false,
         false,
         false,
         false,
         false,
         false,
         false,
         false,
         false,
         false,
         false,
         "Night",
         "Night",
         "Day",
         "Day"
        ],
        [
         "A-829501",
         "Source2",
         2,
         "2021-11-08T06:55:59.000+0000",
         "2021-11-08T07:40:18.000+0000",
         33.881962,
         -117.880585,
         null,
         null,
         0.0,
         "#1 lane blocked and HOV lane blocked due to accident on CA-57 Southbound after Exit 8 Yorba Linda Blvd. SigAlert issued.",
         "CA-57 S",
         "Fullerton",
         "Orange",
         "CA",
         "92831",
         "US",
         "US/Pacific",
         "KFUL",
         "2021-11-08T06:53:00.000+0000",
         58.0,
         58.0,
         78.0,
         29.93,
         7.0,
         "ENE",
         3.0,
         0.0,
         "Cloudy",
         false,
         false,
         false,
         false,
         false,
         false,
         false,
         false,
         false,
         false,
         false,
         false,
         false,
         "Day",
         "Day",
         "Day",
         "Day"
        ],
        [
         "A-3008800",
         "Source2",
         3,
         "2018-02-13T08:07:14.000+0000",
         "2018-02-13T08:36:41.000+0000",
         34.227894,
         -83.862282,
         null,
         null,
         0.0,
         "Right lane blocked due to accident on I-985 Southbound at Exits 16 17 GA-53 Mundy Mill Rd.",
         "GA-365 S",
         "Gainesville",
         "Hall",
         "GA",
         "30504",
         "US",
         "US/Eastern",
         "KGVL",
         "2018-02-13T07:53:00.000+0000",
         42.1,
         34.5,
         82.0,
         30.6,
         10.0,
         "ENE",
         15.0,
         null,
         "Overcast",
         false,
         false,
         false,
         false,
         false,
         false,
         false,
         false,
         false,
         false,
         false,
         false,
         false,
         "Day",
         "Day",
         "Day",
         "Day"
        ],
        [
         "A-6623837",
         "Source1",
         2,
         "2020-12-30T20:31:00.000+0000",
         "2020-12-30T22:16:23.000+0000",
         36.739364,
         -80.769349,
         36.677404,
         -80.711739,
         5.34,
         "Incident on I-77 SB near MM 12 Expect delays.",
         "I-77 S",
         "Hillsville",
         "Carroll",
         "VA",
         "24343",
         "US",
         "US/Eastern",
         "KHLX",
         "2020-12-30T20:35:00.000+0000",
         42.0,
         38.0,
         96.0,
         27.32,
         7.0,
         "S",
         6.0,
         0.0,
         "Cloudy",
         false,
         false,
         false,
         false,
         false,
         false,
         false,
         false,
         false,
         false,
         false,
         false,
         false,
         "Night",
         "Night",
         "Night",
         "Night"
        ],
        [
         "A-2336930",
         "Source2",
         2,
         "2019-01-15T08:59:05.000+0000",
         "2019-01-15T09:28:49.000+0000",
         41.73888,
         -78.6838,
         null,
         null,
         0.0,
         "Restrictions due to accident on US-219 Buffalo-Pittsburgh Hwy both ways at Mead Run Rd.",
         "Route 219",
         "Mount Jewett",
         "McKean",
         "PA",
         "16740-2028",
         "US",
         "US/Eastern",
         "KBFD",
         "2019-01-15T08:53:00.000+0000",
         19.0,
         12.3,
         81.0,
         30.19,
         10.0,
         "Variable",
         4.6,
         null,
         "Overcast",
         false,
         false,
         false,
         false,
         false,
         false,
         false,
         false,
         false,
         false,
         false,
         false,
         false,
         "Day",
         "Day",
         "Day",
         "Day"
        ],
        [
         "A-7310037",
         "Source1",
         2,
         "2019-12-11T17:11:00.000+0000",
         "2019-12-11T19:42:18.000+0000",
         34.014515,
         -117.266645,
         34.014515,
         -117.266645,
         0.0,
         "At E Washington St - Accident.",
         " Reche Canyon Rd",
         "Colton",
         "Riverside",
         "CA",
         "92324-9629",
         "US",
         "US/Pacific",
         "KSBD",
         "2019-12-11T16:45:00.000+0000",
         63.0,
         63.0,
         42.0,
         28.91,
         7.0,
         "CALM",
         0.0,
         0.0,
         "Mostly Cloudy",
         false,
         false,
         false,
         false,
         false,
         false,
         false,
         false,
         false,
         false,
         false,
         false,
         false,
         "Night",
         "Night",
         "Day",
         "Day"
        ]
       ],
       "datasetInfos": [],
       "dbfsResultPath": null,
       "isJsonSchema": true,
       "metadata": {},
       "overflow": false,
       "plotOptions": {
        "customPlotOptions": {},
        "displayType": "table",
        "pivotAggregation": null,
        "pivotColumns": null,
        "xColumns": null,
        "yColumns": null
       },
       "removedWidgets": [],
       "schema": [
        {
         "metadata": "{}",
         "name": "ID",
         "type": "\"string\""
        },
        {
         "metadata": "{}",
         "name": "Source",
         "type": "\"string\""
        },
        {
         "metadata": "{}",
         "name": "Severity",
         "type": "\"integer\""
        },
        {
         "metadata": "{}",
         "name": "Start_Time",
         "type": "\"timestamp\""
        },
        {
         "metadata": "{}",
         "name": "End_Time",
         "type": "\"timestamp\""
        },
        {
         "metadata": "{}",
         "name": "Start_Lat",
         "type": "\"double\""
        },
        {
         "metadata": "{}",
         "name": "Start_Lng",
         "type": "\"double\""
        },
        {
         "metadata": "{}",
         "name": "End_Lat",
         "type": "\"double\""
        },
        {
         "metadata": "{}",
         "name": "End_Lng",
         "type": "\"double\""
        },
        {
         "metadata": "{}",
         "name": "Distance(mi)",
         "type": "\"double\""
        },
        {
         "metadata": "{}",
         "name": "Description",
         "type": "\"string\""
        },
        {
         "metadata": "{}",
         "name": "Street",
         "type": "\"string\""
        },
        {
         "metadata": "{}",
         "name": "City",
         "type": "\"string\""
        },
        {
         "metadata": "{}",
         "name": "County",
         "type": "\"string\""
        },
        {
         "metadata": "{}",
         "name": "State",
         "type": "\"string\""
        },
        {
         "metadata": "{}",
         "name": "Zipcode",
         "type": "\"string\""
        },
        {
         "metadata": "{}",
         "name": "Country",
         "type": "\"string\""
        },
        {
         "metadata": "{}",
         "name": "Timezone",
         "type": "\"string\""
        },
        {
         "metadata": "{}",
         "name": "Airport_Code",
         "type": "\"string\""
        },
        {
         "metadata": "{}",
         "name": "Weather_Timestamp",
         "type": "\"timestamp\""
        },
        {
         "metadata": "{}",
         "name": "Temperature(F)",
         "type": "\"double\""
        },
        {
         "metadata": "{}",
         "name": "Wind_Chill(F)",
         "type": "\"double\""
        },
        {
         "metadata": "{}",
         "name": "Humidity(%)",
         "type": "\"double\""
        },
        {
         "metadata": "{}",
         "name": "Pressure(in)",
         "type": "\"double\""
        },
        {
         "metadata": "{}",
         "name": "Visibility(mi)",
         "type": "\"double\""
        },
        {
         "metadata": "{}",
         "name": "Wind_Direction",
         "type": "\"string\""
        },
        {
         "metadata": "{}",
         "name": "Wind_Speed(mph)",
         "type": "\"double\""
        },
        {
         "metadata": "{}",
         "name": "Precipitation(in)",
         "type": "\"double\""
        },
        {
         "metadata": "{}",
         "name": "Weather_Condition",
         "type": "\"string\""
        },
        {
         "metadata": "{}",
         "name": "Amenity",
         "type": "\"boolean\""
        },
        {
         "metadata": "{}",
         "name": "Bump",
         "type": "\"boolean\""
        },
        {
         "metadata": "{}",
         "name": "Crossing",
         "type": "\"boolean\""
        },
        {
         "metadata": "{}",
         "name": "Give_Way",
         "type": "\"boolean\""
        },
        {
         "metadata": "{}",
         "name": "Junction",
         "type": "\"boolean\""
        },
        {
         "metadata": "{}",
         "name": "No_Exit",
         "type": "\"boolean\""
        },
        {
         "metadata": "{}",
         "name": "Railway",
         "type": "\"boolean\""
        },
        {
         "metadata": "{}",
         "name": "Roundabout",
         "type": "\"boolean\""
        },
        {
         "metadata": "{}",
         "name": "Station",
         "type": "\"boolean\""
        },
        {
         "metadata": "{}",
         "name": "Stop",
         "type": "\"boolean\""
        },
        {
         "metadata": "{}",
         "name": "Traffic_Calming",
         "type": "\"boolean\""
        },
        {
         "metadata": "{}",
         "name": "Traffic_Signal",
         "type": "\"boolean\""
        },
        {
         "metadata": "{}",
         "name": "Turning_Loop",
         "type": "\"boolean\""
        },
        {
         "metadata": "{}",
         "name": "Sunrise_Sunset",
         "type": "\"string\""
        },
        {
         "metadata": "{}",
         "name": "Civil_Twilight",
         "type": "\"string\""
        },
        {
         "metadata": "{}",
         "name": "Nautical_Twilight",
         "type": "\"string\""
        },
        {
         "metadata": "{}",
         "name": "Astronomical_Twilight",
         "type": "\"string\""
        }
       ],
       "type": "table"
      }
     },
     "output_type": "display_data"
    }
   ],
   "source": [
    "us_acc.limit(10).display()"
   ]
  },
  {
   "cell_type": "code",
   "execution_count": 0,
   "metadata": {
    "application/vnd.databricks.v1+cell": {
     "cellMetadata": {
      "byteLimit": 2048000,
      "rowLimit": 10000
     },
     "inputWidgets": {},
     "nuid": "2f79f083-3e27-4068-a128-829bd88b8229",
     "showTitle": false,
     "title": ""
    }
   },
   "outputs": [
    {
     "output_type": "stream",
     "name": "stdout",
     "output_type": "stream",
     "text": [
      "Out[10]: 500000"
     ]
    }
   ],
   "source": [
    "us_acc.count()"
   ]
  },
  {
   "cell_type": "markdown",
   "metadata": {
    "application/vnd.databricks.v1+cell": {
     "cellMetadata": {},
     "inputWidgets": {},
     "nuid": "f7d9d8f3-8822-4c52-b145-f6a33946612f",
     "showTitle": false,
     "title": ""
    }
   },
   "source": [
    "## Select columns that is going to be used in the prediction model"
   ]
  },
  {
   "cell_type": "code",
   "execution_count": 0,
   "metadata": {
    "application/vnd.databricks.v1+cell": {
     "cellMetadata": {
      "byteLimit": 2048000,
      "rowLimit": 10000
     },
     "inputWidgets": {},
     "nuid": "c1ab86a0-ba0e-4c7c-913d-c96aee8535ba",
     "showTitle": false,
     "title": ""
    }
   },
   "outputs": [],
   "source": [
    "## weather condition has too many categories, Turning_Loop all False!!\n",
    "us_acc_train = us_acc['Severity', 'Distance(mi)', 'Temperature(F)', 'Wind_Chill(F)', 'Humidity(%)', 'Pressure(in)', 'Visibility(mi)', 'Wind_Speed(mph)', 'Precipitation(in)', 'Amenity', 'Bump', 'Crossing', 'Give_Way', 'Junction', 'No_Exit', 'Railway', 'Roundabout', 'Station', 'Stop', 'Traffic_Calming', 'Traffic_Signal', 'Sunrise_Sunset', 'Civil_Twilight', 'Nautical_Twilight', 'Astronomical_Twilight']"
   ]
  },
  {
   "cell_type": "code",
   "execution_count": 0,
   "metadata": {
    "application/vnd.databricks.v1+cell": {
     "cellMetadata": {
      "byteLimit": 2048000,
      "rowLimit": 10000
     },
     "inputWidgets": {},
     "nuid": "21ac977b-ffce-457d-a1d0-1b94611824df",
     "showTitle": false,
     "title": ""
    }
   },
   "outputs": [
    {
     "output_type": "display_data",
     "data": {
      "text/html": [
       "<style scoped>\n",
       "  .table-result-container {\n",
       "    max-height: 300px;\n",
       "    overflow: auto;\n",
       "  }\n",
       "  table, th, td {\n",
       "    border: 1px solid black;\n",
       "    border-collapse: collapse;\n",
       "  }\n",
       "  th, td {\n",
       "    padding: 5px;\n",
       "  }\n",
       "  th {\n",
       "    text-align: left;\n",
       "  }\n",
       "</style><div class='table-result-container'><table class='table-result'><thead style='background-color: white'><tr><th>Severity</th><th>Distance(mi)</th><th>Temperature(F)</th><th>Wind_Chill(F)</th><th>Humidity(%)</th><th>Pressure(in)</th><th>Visibility(mi)</th><th>Wind_Speed(mph)</th><th>Precipitation(in)</th><th>Amenity</th><th>Bump</th><th>Crossing</th><th>Give_Way</th><th>Junction</th><th>No_Exit</th><th>Railway</th><th>Roundabout</th><th>Station</th><th>Stop</th><th>Traffic_Calming</th><th>Traffic_Signal</th><th>Sunrise_Sunset</th><th>Civil_Twilight</th><th>Nautical_Twilight</th><th>Astronomical_Twilight</th></tr></thead><tbody><tr><td>2</td><td>1.52</td><td>79.0</td><td>79.0</td><td>84.0</td><td>29.88</td><td>8.0</td><td>25.0</td><td>0.0</td><td>false</td><td>false</td><td>false</td><td>false</td><td>false</td><td>false</td><td>false</td><td>false</td><td>false</td><td>false</td><td>false</td><td>false</td><td>Night</td><td>Night</td><td>Night</td><td>Night</td></tr><tr><td>2</td><td>0.421</td><td>95.0</td><td>95.0</td><td>47.0</td><td>29.8</td><td>10.0</td><td>10.0</td><td>0.0</td><td>false</td><td>false</td><td>false</td><td>false</td><td>false</td><td>false</td><td>false</td><td>false</td><td>false</td><td>false</td><td>false</td><td>false</td><td>Day</td><td>Day</td><td>Day</td><td>Day</td></tr><tr><td>2</td><td>12.51</td><td>null</td><td>null</td><td>null</td><td>null</td><td>null</td><td>null</td><td>null</td><td>false</td><td>false</td><td>false</td><td>false</td><td>false</td><td>false</td><td>false</td><td>false</td><td>false</td><td>false</td><td>false</td><td>false</td><td>Day</td><td>Day</td><td>Day</td><td>Day</td></tr><tr><td>2</td><td>0.0</td><td>81.0</td><td>81.0</td><td>56.0</td><td>29.46</td><td>10.0</td><td>7.0</td><td>0.0</td><td>false</td><td>false</td><td>false</td><td>false</td><td>false</td><td>false</td><td>false</td><td>false</td><td>false</td><td>false</td><td>false</td><td>true</td><td>Day</td><td>Day</td><td>Day</td><td>Day</td></tr><tr><td>2</td><td>0.213</td><td>72.0</td><td>72.0</td><td>59.0</td><td>29.52</td><td>10.0</td><td>7.0</td><td>0.0</td><td>false</td><td>false</td><td>false</td><td>false</td><td>false</td><td>false</td><td>false</td><td>false</td><td>false</td><td>false</td><td>false</td><td>false</td><td>Night</td><td>Night</td><td>Day</td><td>Day</td></tr><tr><td>2</td><td>0.0</td><td>58.0</td><td>58.0</td><td>78.0</td><td>29.93</td><td>7.0</td><td>3.0</td><td>0.0</td><td>false</td><td>false</td><td>false</td><td>false</td><td>false</td><td>false</td><td>false</td><td>false</td><td>false</td><td>false</td><td>false</td><td>false</td><td>Day</td><td>Day</td><td>Day</td><td>Day</td></tr><tr><td>3</td><td>0.0</td><td>42.1</td><td>34.5</td><td>82.0</td><td>30.6</td><td>10.0</td><td>15.0</td><td>null</td><td>false</td><td>false</td><td>false</td><td>false</td><td>false</td><td>false</td><td>false</td><td>false</td><td>false</td><td>false</td><td>false</td><td>false</td><td>Day</td><td>Day</td><td>Day</td><td>Day</td></tr><tr><td>2</td><td>5.34</td><td>42.0</td><td>38.0</td><td>96.0</td><td>27.32</td><td>7.0</td><td>6.0</td><td>0.0</td><td>false</td><td>false</td><td>false</td><td>false</td><td>false</td><td>false</td><td>false</td><td>false</td><td>false</td><td>false</td><td>false</td><td>false</td><td>Night</td><td>Night</td><td>Night</td><td>Night</td></tr><tr><td>2</td><td>0.0</td><td>19.0</td><td>12.3</td><td>81.0</td><td>30.19</td><td>10.0</td><td>4.6</td><td>null</td><td>false</td><td>false</td><td>false</td><td>false</td><td>false</td><td>false</td><td>false</td><td>false</td><td>false</td><td>false</td><td>false</td><td>false</td><td>Day</td><td>Day</td><td>Day</td><td>Day</td></tr><tr><td>2</td><td>0.0</td><td>63.0</td><td>63.0</td><td>42.0</td><td>28.91</td><td>7.0</td><td>0.0</td><td>0.0</td><td>false</td><td>false</td><td>false</td><td>false</td><td>false</td><td>false</td><td>false</td><td>false</td><td>false</td><td>false</td><td>false</td><td>false</td><td>Night</td><td>Night</td><td>Day</td><td>Day</td></tr></tbody></table></div>"
      ]
     },
     "metadata": {
      "application/vnd.databricks.v1+output": {
       "addedWidgets": {},
       "aggData": [],
       "aggError": "",
       "aggOverflow": false,
       "aggSchema": [],
       "aggSeriesLimitReached": false,
       "aggType": "",
       "arguments": {},
       "columnCustomDisplayInfos": {},
       "data": [
        [
         2,
         1.52,
         79.0,
         79.0,
         84.0,
         29.88,
         8.0,
         25.0,
         0.0,
         false,
         false,
         false,
         false,
         false,
         false,
         false,
         false,
         false,
         false,
         false,
         false,
         "Night",
         "Night",
         "Night",
         "Night"
        ],
        [
         2,
         0.421,
         95.0,
         95.0,
         47.0,
         29.8,
         10.0,
         10.0,
         0.0,
         false,
         false,
         false,
         false,
         false,
         false,
         false,
         false,
         false,
         false,
         false,
         false,
         "Day",
         "Day",
         "Day",
         "Day"
        ],
        [
         2,
         12.51,
         null,
         null,
         null,
         null,
         null,
         null,
         null,
         false,
         false,
         false,
         false,
         false,
         false,
         false,
         false,
         false,
         false,
         false,
         false,
         "Day",
         "Day",
         "Day",
         "Day"
        ],
        [
         2,
         0.0,
         81.0,
         81.0,
         56.0,
         29.46,
         10.0,
         7.0,
         0.0,
         false,
         false,
         false,
         false,
         false,
         false,
         false,
         false,
         false,
         false,
         false,
         true,
         "Day",
         "Day",
         "Day",
         "Day"
        ],
        [
         2,
         0.213,
         72.0,
         72.0,
         59.0,
         29.52,
         10.0,
         7.0,
         0.0,
         false,
         false,
         false,
         false,
         false,
         false,
         false,
         false,
         false,
         false,
         false,
         false,
         "Night",
         "Night",
         "Day",
         "Day"
        ],
        [
         2,
         0.0,
         58.0,
         58.0,
         78.0,
         29.93,
         7.0,
         3.0,
         0.0,
         false,
         false,
         false,
         false,
         false,
         false,
         false,
         false,
         false,
         false,
         false,
         false,
         "Day",
         "Day",
         "Day",
         "Day"
        ],
        [
         3,
         0.0,
         42.1,
         34.5,
         82.0,
         30.6,
         10.0,
         15.0,
         null,
         false,
         false,
         false,
         false,
         false,
         false,
         false,
         false,
         false,
         false,
         false,
         false,
         "Day",
         "Day",
         "Day",
         "Day"
        ],
        [
         2,
         5.34,
         42.0,
         38.0,
         96.0,
         27.32,
         7.0,
         6.0,
         0.0,
         false,
         false,
         false,
         false,
         false,
         false,
         false,
         false,
         false,
         false,
         false,
         false,
         "Night",
         "Night",
         "Night",
         "Night"
        ],
        [
         2,
         0.0,
         19.0,
         12.3,
         81.0,
         30.19,
         10.0,
         4.6,
         null,
         false,
         false,
         false,
         false,
         false,
         false,
         false,
         false,
         false,
         false,
         false,
         false,
         "Day",
         "Day",
         "Day",
         "Day"
        ],
        [
         2,
         0.0,
         63.0,
         63.0,
         42.0,
         28.91,
         7.0,
         0.0,
         0.0,
         false,
         false,
         false,
         false,
         false,
         false,
         false,
         false,
         false,
         false,
         false,
         false,
         "Night",
         "Night",
         "Day",
         "Day"
        ]
       ],
       "datasetInfos": [],
       "dbfsResultPath": null,
       "isJsonSchema": true,
       "metadata": {},
       "overflow": false,
       "plotOptions": {
        "customPlotOptions": {},
        "displayType": "table",
        "pivotAggregation": null,
        "pivotColumns": null,
        "xColumns": null,
        "yColumns": null
       },
       "removedWidgets": [],
       "schema": [
        {
         "metadata": "{}",
         "name": "Severity",
         "type": "\"integer\""
        },
        {
         "metadata": "{}",
         "name": "Distance(mi)",
         "type": "\"double\""
        },
        {
         "metadata": "{}",
         "name": "Temperature(F)",
         "type": "\"double\""
        },
        {
         "metadata": "{}",
         "name": "Wind_Chill(F)",
         "type": "\"double\""
        },
        {
         "metadata": "{}",
         "name": "Humidity(%)",
         "type": "\"double\""
        },
        {
         "metadata": "{}",
         "name": "Pressure(in)",
         "type": "\"double\""
        },
        {
         "metadata": "{}",
         "name": "Visibility(mi)",
         "type": "\"double\""
        },
        {
         "metadata": "{}",
         "name": "Wind_Speed(mph)",
         "type": "\"double\""
        },
        {
         "metadata": "{}",
         "name": "Precipitation(in)",
         "type": "\"double\""
        },
        {
         "metadata": "{}",
         "name": "Amenity",
         "type": "\"boolean\""
        },
        {
         "metadata": "{}",
         "name": "Bump",
         "type": "\"boolean\""
        },
        {
         "metadata": "{}",
         "name": "Crossing",
         "type": "\"boolean\""
        },
        {
         "metadata": "{}",
         "name": "Give_Way",
         "type": "\"boolean\""
        },
        {
         "metadata": "{}",
         "name": "Junction",
         "type": "\"boolean\""
        },
        {
         "metadata": "{}",
         "name": "No_Exit",
         "type": "\"boolean\""
        },
        {
         "metadata": "{}",
         "name": "Railway",
         "type": "\"boolean\""
        },
        {
         "metadata": "{}",
         "name": "Roundabout",
         "type": "\"boolean\""
        },
        {
         "metadata": "{}",
         "name": "Station",
         "type": "\"boolean\""
        },
        {
         "metadata": "{}",
         "name": "Stop",
         "type": "\"boolean\""
        },
        {
         "metadata": "{}",
         "name": "Traffic_Calming",
         "type": "\"boolean\""
        },
        {
         "metadata": "{}",
         "name": "Traffic_Signal",
         "type": "\"boolean\""
        },
        {
         "metadata": "{}",
         "name": "Sunrise_Sunset",
         "type": "\"string\""
        },
        {
         "metadata": "{}",
         "name": "Civil_Twilight",
         "type": "\"string\""
        },
        {
         "metadata": "{}",
         "name": "Nautical_Twilight",
         "type": "\"string\""
        },
        {
         "metadata": "{}",
         "name": "Astronomical_Twilight",
         "type": "\"string\""
        }
       ],
       "type": "table"
      }
     },
     "output_type": "display_data"
    }
   ],
   "source": [
    "us_acc_train.limit(10).display()"
   ]
  },
  {
   "cell_type": "markdown",
   "metadata": {
    "application/vnd.databricks.v1+cell": {
     "cellMetadata": {},
     "inputWidgets": {},
     "nuid": "cfc1b126-fc7b-480a-91ec-a801a89fea32",
     "showTitle": false,
     "title": ""
    }
   },
   "source": [
    "## Change column type from integer to double, and boolean to string(later we will apply StringIndexer)"
   ]
  },
  {
   "cell_type": "code",
   "execution_count": 0,
   "metadata": {
    "application/vnd.databricks.v1+cell": {
     "cellMetadata": {
      "byteLimit": 2048000,
      "rowLimit": 10000
     },
     "inputWidgets": {},
     "nuid": "c750905d-0607-4fa9-a637-5d4998de9aff",
     "showTitle": false,
     "title": ""
    }
   },
   "outputs": [],
   "source": [
    "from pyspark.sql.functions import col\n",
    "double_columns = ['Severity', 'Distance(mi)', 'Temperature(F)', 'Wind_Chill(F)', 'Humidity(%)', 'Pressure(in)', 'Visibility(mi)', 'Wind_Speed(mph)', 'Precipitation(in)']\n",
    "for column in double_columns:\n",
    "    us_acc_train = us_acc_train.withColumn(column, col(column).cast(\"double\"))"
   ]
  },
  {
   "cell_type": "code",
   "execution_count": 0,
   "metadata": {
    "application/vnd.databricks.v1+cell": {
     "cellMetadata": {
      "byteLimit": 2048000,
      "rowLimit": 10000
     },
     "inputWidgets": {},
     "nuid": "1d2f4539-2519-478a-aa7e-2bb11450784a",
     "showTitle": false,
     "title": ""
    }
   },
   "outputs": [],
   "source": [
    "boolean_columns = ['Amenity', 'Bump', 'Crossing', 'Give_Way', 'Junction', 'No_Exit', 'Railway', 'Roundabout', 'Station', 'Stop', 'Traffic_Calming', 'Traffic_Signal']\n",
    "for column in boolean_columns:\n",
    "    us_acc_train = us_acc_train.withColumn(column, col(column).cast(\"string\"))"
   ]
  },
  {
   "cell_type": "code",
   "execution_count": 0,
   "metadata": {
    "application/vnd.databricks.v1+cell": {
     "cellMetadata": {
      "byteLimit": 2048000,
      "rowLimit": 10000
     },
     "inputWidgets": {},
     "nuid": "51b0a197-6126-4698-ad00-0a59867a6ce9",
     "showTitle": false,
     "title": ""
    }
   },
   "outputs": [
    {
     "output_type": "stream",
     "name": "stdout",
     "output_type": "stream",
     "text": [
      "root\n |-- Severity: double (nullable = true)\n |-- Distance(mi): double (nullable = true)\n |-- Temperature(F): double (nullable = true)\n |-- Wind_Chill(F): double (nullable = true)\n |-- Humidity(%): double (nullable = true)\n |-- Pressure(in): double (nullable = true)\n |-- Visibility(mi): double (nullable = true)\n |-- Wind_Speed(mph): double (nullable = true)\n |-- Precipitation(in): double (nullable = true)\n |-- Amenity: string (nullable = true)\n |-- Bump: string (nullable = true)\n |-- Crossing: string (nullable = true)\n |-- Give_Way: string (nullable = true)\n |-- Junction: string (nullable = true)\n |-- No_Exit: string (nullable = true)\n |-- Railway: string (nullable = true)\n |-- Roundabout: string (nullable = true)\n |-- Station: string (nullable = true)\n |-- Stop: string (nullable = true)\n |-- Traffic_Calming: string (nullable = true)\n |-- Traffic_Signal: string (nullable = true)\n |-- Sunrise_Sunset: string (nullable = true)\n |-- Civil_Twilight: string (nullable = true)\n |-- Nautical_Twilight: string (nullable = true)\n |-- Astronomical_Twilight: string (nullable = true)\n\n"
     ]
    }
   ],
   "source": [
    "us_acc_train.printSchema()"
   ]
  },
  {
   "cell_type": "markdown",
   "metadata": {
    "application/vnd.databricks.v1+cell": {
     "cellMetadata": {},
     "inputWidgets": {},
     "nuid": "8279ee7f-ff10-4070-bec9-c44a3a836a5d",
     "showTitle": false,
     "title": ""
    }
   },
   "source": [
    "## Drop null values in categorical data and numerical data"
   ]
  },
  {
   "cell_type": "code",
   "execution_count": 0,
   "metadata": {
    "application/vnd.databricks.v1+cell": {
     "cellMetadata": {
      "byteLimit": 2048000,
      "rowLimit": 10000
     },
     "inputWidgets": {},
     "nuid": "ac7e8652-97da-48f4-b88d-adf24973e3da",
     "showTitle": false,
     "title": ""
    }
   },
   "outputs": [
    {
     "output_type": "stream",
     "name": "stdout",
     "output_type": "stream",
     "text": [
      "Null count for column 'Severity': 0\nNull count for column 'Distance(mi)': 0\nNull count for column 'Temperature(F)': 10466\nNull count for column 'Wind_Chill(F)': 129017\nNull count for column 'Humidity(%)': 11130\nNull count for column 'Pressure(in)': 8928\nNull count for column 'Visibility(mi)': 11291\nNull count for column 'Wind_Speed(mph)': 36987\nNull count for column 'Precipitation(in)': 142616\nNull count for column 'Amenity': 0\nNull count for column 'Bump': 0\nNull count for column 'Crossing': 0\nNull count for column 'Give_Way': 0\nNull count for column 'Junction': 0\nNull count for column 'No_Exit': 0\nNull count for column 'Railway': 0\nNull count for column 'Roundabout': 0\nNull count for column 'Station': 0\nNull count for column 'Stop': 0\nNull count for column 'Traffic_Calming': 0\nNull count for column 'Traffic_Signal': 0\nNull count for column 'Sunrise_Sunset': 1483\nNull count for column 'Civil_Twilight': 1483\nNull count for column 'Nautical_Twilight': 1483\nNull count for column 'Astronomical_Twilight': 1483\n"
     ]
    }
   ],
   "source": [
    "for column in us_acc_train.columns:\n",
    "    null_count = us_acc_train.filter(col(column).isNull()).count()\n",
    "    print(f\"Null count for column '{column}': {null_count}\")"
   ]
  },
  {
   "cell_type": "code",
   "execution_count": 0,
   "metadata": {
    "application/vnd.databricks.v1+cell": {
     "cellMetadata": {
      "byteLimit": 2048000,
      "rowLimit": 10000
     },
     "inputWidgets": {},
     "nuid": "2a33e9d3-2f1e-4249-b9fa-b711b42b12f7",
     "showTitle": false,
     "title": ""
    }
   },
   "outputs": [],
   "source": [
    "numerical_cols = ['Distance(mi)', 'Temperature(F)', 'Wind_Chill(F)', 'Humidity(%)', 'Pressure(in)', 'Visibility(mi)', 'Wind_Speed(mph)', 'Precipitation(in)']\n",
    "us_acc_train = us_acc_train.dropna(subset=numerical_cols)"
   ]
  },
  {
   "cell_type": "code",
   "execution_count": 0,
   "metadata": {
    "application/vnd.databricks.v1+cell": {
     "cellMetadata": {
      "byteLimit": 2048000,
      "rowLimit": 10000
     },
     "inputWidgets": {},
     "nuid": "881f0a03-cc6a-4116-b229-8511dc83c00f",
     "showTitle": false,
     "title": ""
    }
   },
   "outputs": [],
   "source": [
    "categorical_col = ['Sunrise_Sunset', 'Civil_Twilight', 'Nautical_Twilight', 'Astronomical_Twilight']\n",
    "us_acc_train = us_acc_train.dropna(subset=categorical_col)"
   ]
  },
  {
   "cell_type": "code",
   "execution_count": 0,
   "metadata": {
    "application/vnd.databricks.v1+cell": {
     "cellMetadata": {
      "byteLimit": 2048000,
      "rowLimit": 10000
     },
     "inputWidgets": {},
     "nuid": "1132dd19-af10-404b-991b-704a666dc35a",
     "showTitle": false,
     "title": ""
    }
   },
   "outputs": [
    {
     "output_type": "stream",
     "name": "stdout",
     "output_type": "stream",
     "text": [
      "Null count for column 'Severity': 0\nNull count for column 'Distance(mi)': 0\nNull count for column 'Temperature(F)': 0\nNull count for column 'Wind_Chill(F)': 0\nNull count for column 'Humidity(%)': 0\nNull count for column 'Pressure(in)': 0\nNull count for column 'Visibility(mi)': 0\nNull count for column 'Wind_Speed(mph)': 0\nNull count for column 'Precipitation(in)': 0\nNull count for column 'Amenity': 0\nNull count for column 'Bump': 0\nNull count for column 'Crossing': 0\nNull count for column 'Give_Way': 0\nNull count for column 'Junction': 0\nNull count for column 'No_Exit': 0\nNull count for column 'Railway': 0\nNull count for column 'Roundabout': 0\nNull count for column 'Station': 0\nNull count for column 'Stop': 0\nNull count for column 'Traffic_Calming': 0\nNull count for column 'Traffic_Signal': 0\nNull count for column 'Sunrise_Sunset': 0\nNull count for column 'Civil_Twilight': 0\nNull count for column 'Nautical_Twilight': 0\nNull count for column 'Astronomical_Twilight': 0\n"
     ]
    }
   ],
   "source": [
    "for column in us_acc_train.columns:\n",
    "    null_count = us_acc_train.filter(col(column).isNull()).count()\n",
    "    print(f\"Null count for column '{column}': {null_count}\")"
   ]
  },
  {
   "cell_type": "markdown",
   "metadata": {
    "application/vnd.databricks.v1+cell": {
     "cellMetadata": {},
     "inputWidgets": {},
     "nuid": "2b916e4b-b0be-408d-9e57-86b3e4fe2e36",
     "showTitle": false,
     "title": ""
    }
   },
   "source": [
    "## Filter out the extreme value( like Temperature is 207F...)"
   ]
  },
  {
   "cell_type": "code",
   "execution_count": 0,
   "metadata": {
    "application/vnd.databricks.v1+cell": {
     "cellMetadata": {
      "byteLimit": 2048000,
      "rowLimit": 10000
     },
     "inputWidgets": {},
     "nuid": "cbbaccb6-85e1-42cc-ad4d-49049c23de65",
     "showTitle": false,
     "title": ""
    }
   },
   "outputs": [
    {
     "output_type": "stream",
     "name": "stdout",
     "output_type": "stream",
     "text": [
      "Distance(mi)\nOriginal Max Value:  149.69\nNew Max Value:  1.979\nTemperature(F)\nOriginal Max Value:  196.0\nNew Max Value:  140.0\nWind_Chill(F)\nOriginal Max Value:  140.0\nNew Max Value:  140.0\nHumidity(%)\nOriginal Max Value:  100.0\nNew Max Value:  100.0\nPressure(in)\nOriginal Max Value:  31.08\nNew Max Value:  31.08\nVisibility(mi)\nOriginal Max Value:  100.0\nNew Max Value:  10.0\nWind_Speed(mph)\nOriginal Max Value:  243.0\nNew Max Value:  30.0\n"
     ]
    }
   ],
   "source": [
    "from pyspark.sql import functions as F\n",
    "## outlier detection\n",
    "## I don't include precipitation becuase i think precipitation might be extreme when there is really flooding happening\n",
    "numerical_columns = ['Distance(mi)', 'Temperature(F)', 'Wind_Chill(F)', 'Humidity(%)', 'Pressure(in)', 'Visibility(mi)', 'Wind_Speed(mph)']\n",
    "for column in numerical_columns:\n",
    "    print(column)\n",
    "    quantiles = us_acc_train.approxQuantile(column, [0.25, 0.75], 0.05)\n",
    "    q1 = quantiles[0]\n",
    "    q3 = quantiles[1]\n",
    "    epsilon = 1e-4\n",
    "    iqr = max(q3 - q1, epsilon)\n",
    "    # Define a multiplier for identifying potential outliers (adjust as needed)\n",
    "    outlier_multiplier = 3\n",
    "\n",
    "    # Define lower and upper bounds for potential outliers\n",
    "    lower_bound = q1 - outlier_multiplier * iqr\n",
    "    upper_bound = q3 + outlier_multiplier * iqr\n",
    "    min_max_values = us_acc_train.agg(F.min(column).alias('min_value'), F.max(column).alias('max_value')).collect()[0]\n",
    "    print('Original Max Value: ', min_max_values['max_value'])\n",
    "\n",
    "    us_acc_train = us_acc_train.filter(F.col(column) < upper_bound)\n",
    "    min_max_values = us_acc_train.agg(F.min(column).alias('min_value'), F.max(column).alias('max_value')).collect()[0]\n",
    "    print('New Max Value: ', min_max_values['max_value'])\n"
   ]
  },
  {
   "cell_type": "code",
   "execution_count": 0,
   "metadata": {
    "application/vnd.databricks.v1+cell": {
     "cellMetadata": {
      "byteLimit": 2048000,
      "rowLimit": 10000
     },
     "inputWidgets": {},
     "nuid": "99cce983-cd59-4243-8545-b2762d26c92c",
     "showTitle": false,
     "title": ""
    }
   },
   "outputs": [
    {
     "output_type": "stream",
     "name": "stdout",
     "output_type": "stream",
     "text": [
      "Out[21]: 306849"
     ]
    }
   ],
   "source": [
    "us_acc_train.count()"
   ]
  },
  {
   "cell_type": "markdown",
   "metadata": {
    "application/vnd.databricks.v1+cell": {
     "cellMetadata": {},
     "inputWidgets": {},
     "nuid": "063cbee8-6563-47a6-9242-158438d368a2",
     "showTitle": false,
     "title": ""
    }
   },
   "source": [
    "## Fill the 0 value with its own second minimal value in some columns which having 0 value does not make sense "
   ]
  },
  {
   "cell_type": "code",
   "execution_count": 0,
   "metadata": {
    "application/vnd.databricks.v1+cell": {
     "cellMetadata": {
      "byteLimit": 2048000,
      "rowLimit": 10000
     },
     "inputWidgets": {},
     "nuid": "77723150-dcce-40a1-afaa-2737719d4156",
     "showTitle": false,
     "title": ""
    }
   },
   "outputs": [
    {
     "output_type": "display_data",
     "data": {
      "image/png": "[encoded data removed]"
     },
     "metadata": {
      "application/vnd.databricks.v1+output": {
       "addedWidgets": {},
       "arguments": {},
       "data": "data:image/png;base64,iVBORw0KGgoAAAANSUhEUgAAAZcAAAEICAYAAACTVrmbAAAAOXRFWHRTb2Z0d2FyZQBNYXRwbG90bGliIHZlcnNpb24zLjUuMSwgaHR0cHM6Ly9tYXRwbG90bGliLm9yZy/YYfK9AAAACXBIWXMAAAsTAAALEwEAmpwYAAAnqklEQVR4nO3de7xVdZ3/8debgwImIIoaggkGaXhDBLIYy7t4CysnMVN0UMe8NGk3rH5Z5sxg44iZ5kTCCM4kGpZS6RDeqslBAVEUNTki6kEUAwQUL0Cf3x/re2h5OOewD2ftvc+B9/Px2I+z1md911qftc6Gz/mu79p7KSIwMzMrUodqJ2BmZlsfFxczMyuci4uZmRXOxcXMzArn4mJmZoVzcTEzs8K5uFhVSfoPSf+voG19SNKbkmrS/EOSzi1i22l790oaXdT2WrDfqyT9RdKrrdjGm5L2LjKvcpI0UNIcSdqCdRu+D+6UdHzxWVpz5M+5WLlIWgzsDqwHNgBPA1OACRHx1y3Y1rkRcV8L1nkI+K+IuLkl+0rrfg/oHxFfbOm6RZL0IeDPwF4RsayR5YcDDwBrU+gN4GHg3yJidgv3dTjZ+eqzxQkXRNKdwC8iYmoB2xoG3BQRh7Q+MyuVey5WbidHRFdgL2Ac8E1gYtE7kdSx6G22ER8CljdWWHJeiYgdga7AocCzwB8lHVWJBIsmqRdwBHBXEduLiEeBbpKGFLE9K42Li1VERKyKiOnAacBoSfsDSLpF0lVpuqek30h6Q9IKSX+U1EHSrWT/yf46Xe74hqS+kkLSGEkvAQ/kYvlC82FJj0paLeluSTunfR0uqS6fo6TFko6WNAL4FnBa2t8TafnGy2wpr+9IelHSMklTJHVPy+rzGC3ppXRJ69tNnRtJ3dP6r6ftfSdt/2hgJrBHyuOWzZzjiIi6iPgucDNwdW4fIal/mj5B0tOS1khaIulrkj4A3Jvb15uS9pA0TNL/pd/JUkk3SNq+wXYvkLQwtbkxfylL0nmSnkn7elrS4BTfI12uel3SC5K+nDuUY4DHIuKdBr+br0uaL+ktSRMl7Z4uVa6RdJ+kHg3Of/598BBwYnPnz4rl4mIVlf6KrAMOa2TxV9OyXckup30rWyXOBF4i6wXtGBE/zK3zKeCjwHFN7PIs4B+AXmSX564vIcf/Af4FuD3t76BGmp2dXkcAewM7Ajc0aPN3wD7AUcB3JX20iV3+GOietvOplPM56RLg8aSeSUScvbncc34JDE5Fo6GJwD+mHuX+wAMR8VaDfe0YEa+QXc68FOgJfDwdy4UNtncSMBQ4EPg86Xch6e+B76Xj6QZ8GlguqQPwa+AJoHfa5lck1f8ODyC7FNjQ58gKz0eAk8mK4bfI3i8dgC83sk69Z4DGfo9WJi4uVg2vADs3El9HVgT2ioh1EfHH2Pyg4Pci4q2IeLuJ5bdGxFPpP8//B3y+fqC3lc4Aro2IRRHxJnA5MKrBX8vfj4i3I+IJsv9IN/nPLeUyCrg8ItZExGLg34EzW5nfK4CAnRpZtg4YKKlbRKyMiMea2khEzI2IWRGxPuX2U7ICmDcuIt6IiJeAB4FBKX4u8MOImJ16VbUR8SJZIdo1Iq6MiPciYhHwM7LzQMp5TSPp/DgiXouIJcAfgUciYl7q4fwKOLiZ87GmiXNhZeLiYtXQG1jRSPzfgFrgd5IWSRpbwrZebsHyF4HtyP4Kb6090vby2+5I1uOql7+7ay1Z76ahnimnhtvq3cr8egNBNsDf0OeAE4AXJf1e0seb2oikj6RLla9KWk3Wo2t4/po6zj2B5xvZ7F5kl9/eqH+R9UDqz91KsvGjhl7LTb/dyHxj57deVxo/F1YmLi5WUZKGkv3H978Nl6W/3L8aEXuTXUK5TH8blG6qB7O5ns2euekPkf3V/hfgLWCHXF41ZJdXSt3uK2T/Sea3vZ73/4dXir+knBpua0kLt9PQZ8jGLd5quCD1JEYCu5ENmt9Rv6iR7dxEdoPAgIjoRlYESr09+GXgw03EX4iInXKvrhFxQlo+n+zSV5E+StZ7tApxcbGKkNRN0knAVLLbXZ9spM1JkvqnAeFVZNf7629Zfo1sTKKlvqjsMxM7AFcC0yJiA/Ac0FnSiZK2A74DdMqt9xrQN40PNOY24FJJ/STtyN/GaNa3JLmUyx3AP0vqKmkv4DLgv1qyHQBleku6guyS1LcaabO9pDMkdY+IdcBq3n+Od6m/MSHpmtq8KWlf4EstSOlm4GuSDkm59U/H9yiwRtI3JXWRVCNp//SHB2Q3MQyW1Lklx78ZnyIbo7EKcXGxcvu1pDVkf61+G7gWOKeJtgOA+4A3gf8DfhIRD6Zl/wp8J11G+VoL9n8rcAvZpZvOpEHfiFhFNjB9M1kv4S2ymwnq/SL9XC6psTGJSWnbfwBeAN4BLmlBXnmXpP0vIuvR/Txtv1R7SHqT7LzNJhsQPzwiftdE+zOBxeky1wVk40dExLNkRXNROs97AF8DvkA2ZvEz4PZSk4qIXwD/nI5nDVkvaedUUE8iG5t5gaz3djPZTQ1ExGtkn90ZWeq+mpOK1pvpZhKrEH+I0szaHEkDgcnAsBJu6tjctu4EJkbEPYUkZyVxcTEzs8L5spiZmRXOxcXMzArn4mJmZoXbWr/sr8V69uwZffv2rXYaZmbtyty5c/8SEbs2jLu4JH379mXOnDnVTsPMrF2R9GJjcV8WMzOzwrm4mJlZ4VxczMyscB5zMbM2a926ddTV1fHOO+9svrGVVefOnenTpw/bbbddSe1dXMyszaqrq6Nr16707duX3AMurcIiguXLl1NXV0e/fv1KWseXxcyszXrnnXfYZZddXFiqTBK77LJLi3qQLi5m1qa5sLQNLf09uLiYmVnhPOZiZu1G37G/LXR7i8edWOj27G9cXJInl6xq9RvXb1SzrU9NTQ0HHHAA69ato2PHjpx11llceumldOjQgTlz5jBlyhSuv/76RtddvHgxDz/8MF/4whcqlu/SpUs577zz+M1vflPyOt/97nf55Cc/ydFHH82oUaP4wQ9+wIABA1qVhy+LmZk1o0uXLjz++OMsWLCAmTNncu+99/L9738fgCFDhjRZWCArLj//+c8rlSoA1157Leedd16L1rnyyis5+uijAfjSl77ED3/4w1bn4eJiZlai3XbbjQkTJnDDDTcQETz00EOcdNJJAPz+979n0KBBDBo0iIMPPpg1a9YwduxY/vjHPzJo0CDGjx/P4sWLOeywwxg8eDCDBw/m4YcfBuChhx7i8MMP59RTT2XffffljDPOoP5BjrNnz+YTn/gEBx10EMOGDWPNmjVs2LCBr3/96wwdOpQDDzyQn/70pxtzvPPOOxkxYgQAt9xyC6eccgrHHHMMffv25YYbbuDaa6/l4IMP5tBDD2XFihUAnH322UybNg2Aww47jPvuu4/169e36lz5spiZWQvsvffebNiwgWXLlr0vfs0113DjjTcyfPhw3nzzTTp37sy4ceO45pprNl6iWrt2LTNnzqRz584sXLiQ008/feMX5s6bN48FCxawxx57MHz4cP70pz8xbNgwTjvtNG6//XaGDh3K6tWr6dKlCxMnTqR79+7Mnj2bd999l+HDh3PssccC0KNHDzp16rQxr6eeeop58+bxzjvv0L9/f66++mrmzZvHpZdeypQpU/jKV77yvuPo0KED/fv354knnuCQQw7Z4vPk4mJmVoDhw4dz2WWXccYZZ/DZz36WPn36bNJm3bp1XHzxxTz++OPU1NTw3HPPbVw2bNiwjesMGjSIxYsX0717d3r16sXQoUMB6NatGwC/+93vmD9//sbexqpVq1i4cCE77rgju+76/m+/P+KII+jatStdu3ale/funHzyyQAccMABzJ8/v9Fj2W233XjllVdcXMzMKmXRokXU1NSw22678cwzz2yMjx07lhNPPJF77rmH4cOHM2PGjE3WHT9+PLvvvjtPPPEEf/3rX+ncufPGZfneRk1NTbOXpSKCH//4xxx33HHvi9f3UPLy2+3QocPG+Q4dOjS5j3feeYcuXbo0uf9SuLiYWbtR7TsyX3/9dS644AIuvvjiTT5U+Pzzz3PAAQdwwAEHMHv2bJ599ln23HNP1qxZs7HNqlWr6NOnDx06dGDy5Mls2LCh2f3ts88+LF26lNmzZzN06FDWrFlDly5dOO6447jppps48sgj2W677Xjuuefo3bs3H/nIR1i8eHGrj/O5555j//33b9U2XFzMzJrx9ttvM2jQoI23Ip955plcdtllm7S77rrrePDBB+nQoQP77bcfxx9/PB06dKCmpoaDDjqIs88+mwsvvJDPfe5zTJkyhREjRvCBD3yg2X1vv/323H777VxyySW8/fbbdOnShfvuu49zzz2XxYsXM3jwYCKCXXfdlbvuuovu3bvz4Q9/mNraWvr3779Fx/vaa6/RpUsXPvjBD27R+vVUf0dC0SRNAk4ClkXE/rn4JcBFwAbgtxHxjRS/HBiT4l+OiBkpPgL4EVAD3BwR41K8HzAV2AWYC5wZEe9J6gRMAQ4BlgOnRcTizeXbqdeA6DX6ulYdc7X/qjLb2jzzzDN89KMfrXYa7cqvfvUr5s6dy1VXXbVF648fP55u3boxZsyYTZY19vuQNDcihjRsW85bkW8BRjRI4ghgJHBQROwHXJPiA4FRwH5pnZ9IqpFUA9wIHA8MBE5PbQGuBsZHRH9gJVlhIv1cmeLjUzszs23CZz7zGfr27bvF6++0006MHj261XmUrbhExB+AFQ3CXwLGRcS7qU39vXwjgakR8W5EvADUAsPSqzYiFkXEe2Q9lZHKLnYeCUxL608GTslta3KangYcJX/znVm7Va6rK1uzc889d4vXPeecc+jYcdMRk5b+Hir9IcqPAIdJekTS7yUNTfHewMu5dnUp1lR8F+CNiFjfIP6+baXlq1L7TUg6X9IcSXM2rF3V6oMzs2J17tyZ5cuXu8BUWf3zXPJ3t21OpQf0OwI7A4cCQ4E7JO1d4Rw2iogJwATIxlyqlYeZNa5Pnz7U1dXx+uuvVzuVbV79kyhLVeniUgf8MrI/Qx6V9FegJ7AE2DPXrk+K0UR8ObCTpI6pd5JvX7+tOkkdge6pvZm1M9ttt13JTz60tqXSl8XuAo4AkPQRYHvgL8B0YJSkTukusAHAo8BsYICkfpK2Jxv0n56K04PAqWm7o4G70/T0NE9a/kC4T21mVlFl67lIug04HOgpqQ64ApgETJL0FPAeMDr9x79A0h3A08B64KKI2JC2czEwg+xW5EkRsSDt4pvAVElXAfOAiSk+EbhVUi3ZDQWjynWMZmbWuLJ9zqW98edczMxarhqfczEzs22Ui4uZmRXOxcXMzArn4mJmZoVzcTEzs8K5uJiZWeFcXMzMrHAuLmZmVjgXFzMzK5yLi5mZFc7FxczMCufiYmZmhXNxMTOzwrm4mJlZ4VxczMyscGUrLpImSVqWHgzWcNlXJYWknmlekq6XVCtpvqTBubajJS1Mr9G5+CGSnkzrXC9JKb6zpJmp/UxJPcp1jGZm1rhy9lxuAUY0DEraEzgWeCkXPp7s0cYDgPOBm1LbncmeYPkxYBhwRa5Y3AScl1uvfl9jgfsjYgBwf5o3M7MKKltxiYg/kD1muKHxwDeA/CMwRwJTIjML2ElSL+A4YGZErIiIlcBMYERa1i0iZqXHJE8BTslta3KanpyLm5lZhVR0zEXSSGBJRDzRYFFv4OXcfF2KNRevayQOsHtELE3TrwK7F5O9mZmVqmOldiRpB+BbZJfEKiIiQlI0tVzS+WSX4ajptmul0jIz2+pVsufyYaAf8ISkxUAf4DFJHwSWAHvm2vZJsebifRqJA7yWLpuRfi5rKqGImBARQyJiSM0O3VtxaGZmllex4hIRT0bEbhHRNyL6kl3KGhwRrwLTgbPSXWOHAqvSpa0ZwLGSeqSB/GOBGWnZakmHprvEzgLuTruaDtTfVTY6Fzczswop563ItwH/B+wjqU7SmGaa3wMsAmqBnwEXAkTECuAHwOz0ujLFSG1uTus8D9yb4uOAYyQtBI5O82ZmVkFlG3OJiNM3s7xvbjqAi5poNwmY1Eh8DrB/I/HlwFEtTNfMzArkT+ibmVnhXFzMzKxwLi5mZlY4FxczMyuci4uZmRXOxcXMzArn4mJmZoVzcTEzs8K5uJiZWeFcXMzMrHAuLmZmVjgXFzMzK5yLi5mZFc7FxczMCufiYmZmhXNxMTOzwpXzSZSTJC2T9FQu9m+SnpU0X9KvJO2UW3a5pFpJf5Z0XC4+IsVqJY3NxftJeiTFb5e0fYp3SvO1aXnfch2jmZk1rpw9l1uAEQ1iM4H9I+JA4DngcgBJA4FRwH5pnZ9IqpFUA9wIHA8MBE5PbQGuBsZHRH9gJVD/GOUxwMoUH5/amZlZBZWtuETEH4AVDWK/i4j1aXYW0CdNjwSmRsS7EfECUAsMS6/aiFgUEe8BU4GRkgQcCUxL608GTslta3KangYcldqbmVmFVHPM5R+Ae9N0b+Dl3LK6FGsqvgvwRq5Q1cfft620fFVqvwlJ50uaI2nOhrWrWn1AZmaWqUpxkfRtYD3w39XYf72ImBARQyJiSM0O3auZipnZVqVjpXco6WzgJOCoiIgUXgLsmWvWJ8VoIr4c2ElSx9Q7ybev31adpI5A99TezMwqpKI9F0kjgG8An46ItblF04FR6U6vfsAA4FFgNjAg3Rm2Pdmg//RUlB4ETk3rjwbuzm1rdJo+FXggV8TMzKwCytZzkXQbcDjQU1IdcAXZ3WGdgJlpjH1WRFwQEQsk3QE8TXa57KKI2JC2czEwA6gBJkXEgrSLbwJTJV0FzAMmpvhE4FZJtWQ3FIwq1zGamVnj5D/qM516DYheo69r1TYWjzuxmGTMzNoJSXMjYkjDuD+hb2ZmhXNxMTOzwrm4mJlZ4VxczMyscC4uZmZWOBcXMzMrnIuLmZkVzsXFzMwK5+JiZmaFK6m4SDqg3ImYmdnWo9Sey08kPSrpQkn+bnozM2tWScUlIg4DziD7Kvu5kn4u6ZiyZmZmZu1WyWMuEbEQ+A7ZtxF/Crhe0rOSPluu5MzMrH0qdczlQEnjgWfInl1/ckR8NE2PL2N+ZmbWDpX6PJcfAzcD34qIt+uDEfGKpO+UJTMzM2u3Sr0sdiLw8/rCIqmDpB0AIuLWxlaQNEnSMklP5WI7S5opaWH62SPFJel6SbWS5ksanFtndGq/UNLoXPwQSU+mda5XevpYU/swM7PKKbW43Ad0yc3vkGLNuQUY0SA2Frg/IgYA96d5gOPJHm08ADgfuAmyQkH2BMuPAcOAK3LF4ibgvNx6IzazDzMzq5BSi0vniHizfiZN79DcChHxB7LHDOeNBCan6cnAKbn4lMjMAnaS1As4DpgZESsiYiUwExiRlnWLiFmRPUpzSoNtNbYPMzOrkFKLy1sNLlUdArzdTPum7B4RS9P0q8Duabo38HKuXV2KNRevayTe3D42Iel8SXMkzdmwdtUWHI6ZmTWm1AH9rwC/kPQKIOCDwGmt2XFEhKRozTZau4+ImABMAOjUa0BZczEz25aUVFwiYrakfYF9UujPEbFuC/b3mqReEbE0XdpaluJLyD6gWa9Pii0BDm8QfyjF+zTSvrl9mJlZhbTkiyuHAgcCg4HTJZ21BfubDtTf8TUauDsXPyvdNXYosCpd2poBHCupRxrIPxaYkZatlnRoukvsrAbbamwfZmZWISX1XCTdCnwYeBzYkML1A+lNrXMbWa+jp6Q6sru+xgF3SBoDvAh8PjW/BzgBqAXWAucARMQKST8AZqd2V0ZE/U0CF5LdkdYFuDe9aGYfZmZWIcputtpMI+kZYGCU0rid6tRrQPQafV2rtrF43InFJGNm1k5ImhsRQxrGS70s9hTZIL6ZmdlmlXq3WE/gaUmPAu/WByPi02XJyszM2rVSi8v3ypmEmZltXUq9Ffn3kvYCBkTEfel7xWrKm5qZmbVXpX7l/nnANOCnKdQbuKtMOZmZWTtX6oD+RcBwYDVsfHDYbuVKyszM2rdSi8u7EfFe/YykjmSfczEzM9tEqcXl95K+BXSRdAzwC+DX5UvLzMzas1KLy1jgdeBJ4B/JPlHvJ1CamVmjSr1b7K/Az9LLzMysWaV+t9gLNDLGEhF7F56RmZm1e6V+iDL/vTGdgb8Hdi4+HTMz2xqUNOYSEctzryURcR3gb2k0M7NGlXpZbHButgNZT6bUXo+ZmW1jSi0Q/56bXg8sxs9JMTOzJpR6t9gR5U7EzMy2HqVeFrusueURcW1LdirpUuBcsjvQniR78mQvYCqwCzAXODMi3pPUieyJl4cAy4HTImJx2s7lwBiyp2N+OSJmpPgI4EdkX655c0SMa0l+ZmbWOqV+iHII8CWyL6zsDVwADAa6plfJJPUGvgwMiYj9yQrAKOBqYHxE9AdWkhUN0s+VKT4+tUPSwLTefsAI4CeSaiTVADcCxwMDgdNTWzMzq5BSx1z6AIMjYg2ApO8Bv42IL7Ziv10krQN2AJYCRwJfSMsnkz1D5iZgJH97nsw04AZJSvGpEfEu8IKkWmBYalcbEYtSrlNT26e3MFczM2uhUnsuuwPv5ebfS7EWi4glwDXAS2RFZRXZZbA3ImJ9alZH1kMi/Xw5rbs+td8lH2+wTlPxTUg6X9IcSXM2rF21JYdjZmaNKLXnMgV4VNKv0vwpZL2LFpPUg6wn0Q94g+xLMEdsybZaKyImABMAOvUa4G95NjMrSKl3i/2zpHuBw1LonIiYt4X7PBp4ISJeB5D0S7JnxewkqWPqnfQBlqT2S4A9gbr0Vf/dyQb26+P18us0FTczswoo9bIYZGMjqyPiR2T/0ffbwn2+BBwqaYc0dnIU2XjIg8Cpqc1o4O40PT3Nk5Y/EBGR4qMkdUq5DAAeBWYDAyT1k7Q92aD/9C3M1czMtkCptyJfQXbH2D7AfwLbAf9F1uNokYh4RNI04DGyD2TOI7s09VtgqqSrUmxiWmUicGsasF9BViyIiAWS7iArTOuBiyJiQ8r3YmAG2Z1okyJiQUvzNDOzLaesE7CZRtLjwMHAYxFxcIrNj4gDy5te5XTqNSB6jb6uVdtYPM5ft2Zm2xZJcyNiSMN4qZfF3kuXoiJt7ANFJmdmZluXUovLHZJ+Sjbofh5wH35wmJmZNWGzYy5p0P12YF9gNdm4y3cjYmaZczMzs3Zqs8UlIkLSPRFxAOCCYmZmm1XqZbHHJA0tayZmZrbVKPUT+h8DvihpMfAWILJOzVZzt5iZmRWn2eIi6UMR8RJwXIXyMTOzrcDmei53kX0b8ouS7oyIz1UgJzMza+c2N+ai3PTe5UzEzMy2HpsrLtHEtJmZWZM2d1nsIEmryXowXdI0/G1Av1tZszMzs3ap2eISETWVSsTMzLYeLfnKfTMzs5K4uJiZWeFcXMzMrHBVKS6SdpI0TdKzkp6R9HFJO0uaKWlh+tkjtZWk6yXVSpovaXBuO6NT+4WSRufih0h6Mq1zffryTTMzq5Bq9Vx+BPxPROwLHAQ8A4wF7o+IAcD9aR7geLJHGA8AzgduApC0M3AF2VfTDAOuqC9Iqc15ufVGVOCYzMwsqXhxkdQd+CTpMcYR8V5EvAGMBCanZpOBU9L0SGBKZGaRPVOmF9lX0syMiBURsZLsG5tHpGXdImJWesDZlNy2zMysAqrRc+kHvA78p6R5km5OT7bcPSKWpjavArun6d7Ay7n161KsuXhdI/FNSDpf0hxJczasXdXKwzIzs3rVKC4dgcHATRFxMNm3LI/NN8g/UrmcImJCRAyJiCE1O3Qv9+7MzLYZ1SgudUBdRDyS5qeRFZvX0iUt0s9lafkSYM/c+n1SrLl4n0biZmZWIRUvLhHxKvCypH1S6CjgaWA6UH/H12jg7jQ9HTgr3TV2KLAqXT6bARwrqUcayD8WmJGWrZZ0aLpL7KzctszMrAJKfVhY0S4B/lvS9sAi4ByyQneHpDHAi8DnU9t7gBOAWmBtaktErJD0A2B2andlRKxI0xcCtwBdgHvTy8zMKqQqxSUiHgeGNLLoqEbaBnBRE9uZBExqJD4H2L91WZqZ2ZbyJ/TNzKxwLi5mZlY4FxczMyuci4uZmRXOxcXMzArn4mJmZoVzcTEzs8K5uJiZWeFcXMzMrHAuLmZmVjgXFzMzK5yLi5mZFc7FxczMCufiYmZmhXNxMTOzwrm4mJlZ4apWXCTVSJon6Tdpvp+kRyTVSro9PaUSSZ3SfG1a3je3jctT/M+SjsvFR6RYraSxFT84M7NtXDV7Lv8EPJObvxoYHxH9gZXAmBQfA6xM8fGpHZIGAqOA/YARwE9SwaoBbgSOBwYCp6e2ZmZWIVUpLpL6ACcCN6d5AUcC01KTycApaXpkmictPyq1HwlMjYh3I+IFoBYYll61EbEoIt4Dpqa2ZmZWIdXquVwHfAP4a5rfBXgjItan+Tqgd5ruDbwMkJavSu03xhus01R8E5LOlzRH0pwNa1e18pDMzKxexYuLpJOAZRExt9L7bigiJkTEkIgYUrND92qnY2a21ehYhX0OBz4t6QSgM9AN+BGwk6SOqXfSB1iS2i8B9gTqJHUEugPLc/F6+XWaipuZWQVUvOcSEZdHRJ+I6Es2IP9ARJwBPAicmpqNBu5O09PTPGn5AxERKT4q3U3WDxgAPArMBgaku8+2T/uYXoFDMzOzpBo9l6Z8E5gq6SpgHjAxxScCt0qqBVaQFQsiYoGkO4CngfXARRGxAUDSxcAMoAaYFBELKnokZmbbOGWdAOvUa0D0Gn1dq7axeNyJxSRjZtZOSJobEUMaxv0JfTMzK5yLi5mZFc7FxczMCufiYmZmhXNxMTOzwrWlW5Hbvb5jf9uq9X23mZltLdxzMTOzwrm4mJlZ4VxczMyscC4uZmZWOBcXMzMrnIuLmZkVzsXFzMwK5+JiZmaFc3ExM7PCVby4SNpT0oOSnpa0QNI/pfjOkmZKWph+9khxSbpeUq2k+ZIG57Y1OrVfKGl0Ln6IpCfTOtdLUqWP08xsW1aNnst64KsRMRA4FLhI0kBgLHB/RAwA7k/zAMeTPcJ4AHA+cBNkxQi4AvgYMAy4or4gpTbn5dYbUYHjMjOzpOLFJSKWRsRjaXoN8AzQGxgJTE7NJgOnpOmRwJTIzAJ2ktQLOA6YGRErImIlMBMYkZZ1i4hZkT1mc0puW2ZmVgFVHXOR1Bc4GHgE2D0ilqZFrwK7p+newMu51epSrLl4XSPxxvZ/vqQ5kuZsWLuqdQdjZmYbVa24SNoRuBP4SkSszi9LPY4odw4RMSEihkTEkJodupd7d2Zm24yqFBdJ25EVlv+OiF+m8Gvpkhbp57IUXwLsmVu9T4o1F+/TSNzMzCqk4s9zSXduTQSeiYhrc4umA6OBcenn3bn4xZKmkg3er4qIpZJmAP+SG8Q/Frg8IlZIWi3pULLLbWcBPy77gRWgtc+DAT8Txszahmo8LGw4cCbwpKTHU+xbZEXlDkljgBeBz6dl9wAnALXAWuAcgFREfgDMTu2ujIgVafpC4BagC3BvepmZWYVUvLhExP8CTX3u5KhG2gdwURPbmgRMaiQ+B9i/FWmamVkr+BP6ZmZWOBcXMzMrnIuLmZkVzsXFzMwKV427xayMfDuzmbUF7rmYmVnh3HOxTbj3Y2at5Z6LmZkVzj0XK4vW9n7c8zFr39xzMTOzwrnnYm1SEeM+bYV7YbYtcnExKzNfIrRtkYuLWRvnu/esPfKYi5mZFc49F7NtQFsZw3IPatvh4mJmFdMWipwLXGVstcVF0gjgR0ANcHNEjKtySmbWBrSFAtdWlLPQbpXFRVINcCNwDFAHzJY0PSKerm5mZmZtRzkL7dY6oD8MqI2IRRHxHjAVGFnlnMzMthlbZc8F6A28nJuvAz7WsJGk84Hz0+y7L1590lMVyK21egJ/qXYSJWovuTrPYrWXPKH95NqW89yrseDWWlxKEhETgAkAkuZExJAqp7RZ7SVPaD+5Os9itZc8of3k2l7yzNtaL4stAfbMzfdJMTMzq4CttbjMBgZI6idpe2AUML3KOZmZbTO2ystiEbFe0sXADLJbkSdFxILNrDah/JkVor3kCe0nV+dZrPaSJ7SfXNtLnhspIqqdg5mZbWW21stiZmZWRS4uZmZWuG2iuEgaIenPkmoljW1keSdJt6flj0jqm1t2eYr/WdJxVc7zMklPS5ov6X5Je+WWbZD0eHqV9eaFEvI8W9LruXzOzS0bLWlheo2ucp7jczk+J+mN3LJKns9JkpZJavRzVspcn45jvqTBuWWVPJ+by/OMlN+Tkh6WdFBu2eIUf1zSnHLmWWKuh0talfsdfze3rNn3TYXz/Houx6fS+3LntKyi57TFImKrfpEN6D8P7A1sDzwBDGzQ5kLgP9L0KOD2ND0wte8E9EvbqalinkcAO6TpL9XnmebfbEPn82zghkbW3RlYlH72SNM9qpVng/aXkN34UdHzmfb1SWAw8FQTy08A7gUEHAo8UunzWWKen6jfP3B8fZ5pfjHQsw2d08OB37T2fVPuPBu0PRl4oFrntKWvbaHnUspXwYwEJqfpacBRkpTiUyPi3Yh4AahN26tKnhHxYESsTbOzyD6/U2mt+Wqd44CZEbEiIlYCM4ERbSTP04HbypRLsyLiD8CKZpqMBKZEZhawk6ReVPZ8bjbPiHg45QHVe3/W57K5c9qUin51VAvzrNp7dEtsC8Wlsa+C6d1Um4hYD6wCdilx3UrmmTeG7K/Zep0lzZE0S9IpZcivXql5fi5dIpkmqf4DrW3yfKbLi/2AB3LhSp3PUjR1LJU8ny3V8P0ZwO8kzVX2tUttwcclPSHpXkn7pVibPKeSdiD7w+HOXLgtntONtsrPuWztJH0RGAJ8KhfeKyKWSNobeEDSkxHxfHUy5NfAbRHxrqR/JOsVHlmlXEoxCpgWERtysbZ0PtsVSUeQFZe/y4X/Lp3P3YCZkp5Nf7VXy2Nkv+M3JZ0A3AUMqGI+m3My8KeIyPdy2to5fZ9toedSylfBbGwjqSPQHVhe4rqVzBNJRwPfBj4dEe/WxyNiSfq5CHgIOLhaeUbE8lxuNwOHlLpuJfPMGUWDyw0VPJ+laOpY2tzXHEk6kOx3PjIiltfHc+dzGfArynd5uSQRsToi3kzT9wDbSepJGzynSXPv0TZxTjdR7UGfcr/IemeLyC571A/Q7degzUW8f0D/jjS9H+8f0F9E+Qb0S8nzYLLBxgEN4j2ATmm6J7CQMg1Clphnr9z0Z4BZaXpn4IWUb480vXO18kzt9iUbGFU1zmdun31pevD5RN4/oP9opc9niXl+iGxc8hMN4h8AuuamHwZGlDPPEnL9YP3vnOw/5ZfS+S3pfVOpPNPy7mTjMh+o9jlt0XFVO4GKHGR2t81z6T/mb6fYlWR//QN0Bn6R/mE8CuydW/fbab0/A8dXOc/7gNeAx9Nreop/Angy/UN4EhhT5Tz/FViQ8nkQ2De37j+k81wLnFPNPNP894BxDdar9Pm8DVgKrCO7xj8GuAC4IC0X2cPvnk/5DKnS+dxcnjcDK3Pvzzkpvnc6l0+k98W3y5lniblenHuPziJXEBt731Qrz9TmbLIbi/LrVfyctvTlr38xM7PCbQtjLmZmVmEuLmZmVjgXFzMzK5yLi5mZFc7FxczMCufiYmZmhXNxMTOzwv1/zswtwqdqiXoAAAAASUVORK5CYII=\n",
       "datasetInfos": [],
       "metadata": {},
       "removedWidgets": [],
       "type": "image"
      }
     },
     "output_type": "display_data"
    },
    {
     "output_type": "display_data",
     "data": {
      "image/png": "[encoded data removed]"
     },
     "metadata": {
      "application/vnd.databricks.v1+output": {
       "addedWidgets": {},
       "arguments": {},
       "data": "data:image/png;base64,iVBORw0KGgoAAAANSUhEUgAAAZsAAAEICAYAAACJalkVAAAAOXRFWHRTb2Z0d2FyZQBNYXRwbG90bGliIHZlcnNpb24zLjUuMSwgaHR0cHM6Ly9tYXRwbG90bGliLm9yZy/YYfK9AAAACXBIWXMAAAsTAAALEwEAmpwYAAAhwUlEQVR4nO3de5gV1Z3u8e8roIAQ8UIcA5pG5SQQEcT2MokXYkZFwUA8xniJIFEZTzQTE+dJ0DHeIonJiZfxfomoMCZIMAmEYBzjwERzjiCoIErUFhEbCSIIiqBy+c0ftRo3zW56N3R1N7vfz/PsZ1etWrVq7aLYv16r1l6liMDMzCxPOzV3BczMrPw52JiZWe4cbMzMLHcONmZmljsHGzMzy52DjZmZ5c7BxpqMpLsk/aiRytpP0mpJbdL6dEnnN0bZqbxHJQ1vrPIacNzrJL0j6e9NfexiJL0oaUAd2wZIqi4lb4nHOlHS77dx3xsk/Z9tPbblz8HGGoWkhZLWSnpf0kpJ/0/ShZI2XWMRcWFE/LjEsv5pa3kiYlFEdIqIDY1Q96sl/Uet8k+KiAe3t+wG1mM/4FKgd0T8Q5Htm325F6Q3aqAtFBFfiIjpDc1b7JyWYDRwfdq/raTx6Vr6k6RP1WSSdLmk79fa9xfA5ZJ2buAxrYk42FhjOiUiOgOfJfvS+CFwX2MfRFLbxi6zhdgPWB4Rbzd3RZqapMOA3SLi6ZR0KhDAXsAqYGTK1wP4KnBL4f4RsQT4W9pmLZCDjTW6iFgVEZOBbwDDJR0EIOkBSdel5b0kTUl/ua6Q9KSknSSNI/vS/UPqJvuBpApJIek8SYuA/ypIKww8B0iaKek9SZMk7ZGOtUWLoKb1JGkgcDnwjXS8OWn7ptZCqtcVkt6Q9LaksZJ2S9tq6jFc0qLUBfZvdZ0bSbul/Zel8q5I5f8T8DjwmVSPB7bl3Es6V9JTtdJC0oEF/wZ3pG7C1ZL+KukfJN0s6V1Jf5N0SO3zlJY7pP3flfQScFip51TS1yXNrpX/+5ImpdWTgP8u2NwDmB4R64FpwP4p/Rbg0pRe23RgUEPOlzUdBxvLTUTMBKqBo4tsvjRt6wrsTfblFBFxDrCIrJXUKSJ+XrDPsUAv4MQ6DjkM+BawD7CeWn/91lHHPwE/AR5Ox+tbJNu56fVlsi+9TsBttfIcBXwO+ApwpaRedRzyVmC3VM6xqc4jIuLPZF+4b6V6nFtf3bfD6cAVZK2Gj4D/Dzyb1icCN9ax31XAAel1IlD0nlYd53Qy0KPWeTkHGJuW+wAvF2ybBxwnaRey8/6ipK8B70TEX+uo33yg2L+ftQAONpa3t4A9iqSvIwsKn42IdRHxZNQ/Ud/VEfFBRKytY/u4iJgXER8APwJOVxpAsJ3OBm6MiAURsRq4DDijVqvqmohYGxFzgDkU+dJLdTkDuCwi3o+IhcANZF+6pfpMag1uepEFuob4XUTMjogPgd8BH0bE2HT/62HgkDr2Ox0YHRErIuJNSgjmNSLio1T2NwEkfQGoAKakLF2A9wt2mQq8DjxD1o02nizY/UDSaEl/SS20wns076dyrAVysLG8dQNWFEn/v0AV8J+SFkgaVUJZbzZg+xtAO7K/1rfXZ1J5hWW3JWuR1SgcPbaGrPVT216pTrXL6taAurwVEV0KX8BT9e1Uy9KC5bVF1ovVHbLzUPscN8SDwFmSRBZgJ6QgBPAu0LkmY2RGRcTBETESGAXcRdZ1V0nWKtyZrCVbozOwsoF1sibiYGO5STd9u1HkyzD9ZX9pROxPdlP3+5K+UrO5jiLra/nsW7C8H1nr6R3gA6BjQb3akHXflVruW2SDHgrLXs/mX9KleCfVqXZZixtYztbU/qxbjGrbDkvY8hzXZYtzmm7+f0zWrXoWMK5g81zgfxUrSFIf4IvAPWTdbbNTK/gZ4OCCrL3IWpXWAjnYWKOT9ClJg8m6Pv4jIl4okmewpAPTX7mrgA3AxrR5KZ/cEG6Ib0rqLakjcC0wMXUNvQK0lzRIUjuy+xW7FOy3FKhQwTDtWn4NfE9SD0md+OR+RLGb1HVKdZkAjJbUWdJnge8DDR0ivDVzgC9I6iepPXB1I5Y9AbhM0u6SugPf2Ureus7pWLL7XesiovCPkKlkrZXNpOvjNuBfImIjWdfaUan77FhgQUH2Y4FHG/iZrIk42Fhj+oOk98m6Wv6N7EbziDry9gT+DKwmu0F9R0RMS9t+ClyR7kn8awOOPw54gKxLqz3wL5CNjgO+DfySrBXxAdnghBq/Se/LJT1bpNwxqey/kH3ZfcjWv2i35jvp+AvIWny/SuU3ioh4hSzQ/hl4lYZ3sW3NNWRdZ68D/8nmLZPa6jqn44CDqBVgI+JZYJWkI2qVMwKYFxE1I9l+S9bSXAbsSdbaQdI+QG/g9w37SNZU5IenmVlTkdQBeBvoHxGv1tp2AvDtiBi6DeXeALwWEXc0SkWt0TnYmFmTUfbL/8ERcVxz18WaVrn+EtvMWhhJCwEBQ5u3JtYc3LIxM7PceYCAmZnlrtV1o+21115RUVHR3NUwM9uhzJ49+52I6Fp/zuJaXbCpqKhg1qxZzV0NM7MdiqSGzhixGXejmZlZ7nILNpLaK5vufY6yJ/hdk9J7SJohqUrSwzUT6UnaJa1Xpe0VBWVdltJflnRiQfrAlFZV4txaZmbWDPJs2XwEHJemF+8HDJR0JPAz4KaIOJBs8r3zUv7zgHdT+k0pH5J6k82U+wVgIHCHpDZpfqvbyaZl7w2cmfKamVkLk9s9mzRR3uq02i69AjiObBI+yGaBvRq4ExjCJ/M4TQRuS/MiDQHGp9lhX5dUBRye8lVFxAIASeNT3pcaWtd169ZRXV3Nhx9+2NBdrZG0b9+e7t27065du+auipnlINcBAqn1MRs4kKwV8hqwsmACw2o+mV69G2n68ohYL2kV2dxH3YCnC4ot3OfNWum151UqSXV1NZ07d6aiooIsvllTigiWL19OdXU1PXr0aO7qmFkOch0gEBEbIqIf0J2sNfL5PI9XF0kjJc2SNGvZsmVbbP/www/Zc889HWiaiST23HNPtyzNyliTjEaLiJVkzxH/R6BLwRMOu/PJszwWk56VkbbvBiwvTK+1T13pxY5/T0RURkRl167Fh4k70DQvn3+z8pbnaLSukrqk5Q7A8WTPCJ8GnJayDQcmpeXJfPJM89OA/0r3fSaTPYJ3F0k9yKamn0n24KSeaXTbzmSDCCbn9XnMzGzb5XnPZh/gwXTfZieyR8BOkfQSMF7SdcBzwH0p/33AuDQAYAVZ8CAiXpQ0gezG/3rgovQQKiRdDDwGtAHGRMSLjVHxilF/bIxiNll4/aB683Tq1InVq1dvWn/ggQeYNWsWt91223Yf/6677qJjx44MGzZs83otXMjgwYOZN28es2bNYuzYsdxyyy1Mnz6dnXfemS9+8Yv1ln3JJZdw6qmncswxx3D22WfzwgsvMHjwYH7yk58AcN1113HQQQcxdOhQAKZMmcLMmTO59tprt/tzmdmOI8/RaHOBQ4qkL+CT0WSF6R8CX6+jrNHA6CLpU8me8GdbceGFF9abp7KyksrKSgCmT59Op06d6g02y5cv5+mnn+bmm29m7ty5dOjQgblz53L88cezatUq1qxZw4wZM7jiiis27TNo0CB+9KMfMWrUKDp27LiV0s12fI3xh2spf6zuCDyDwA7g3HPPZeLEiZvWO3XqBGRB4dhjj2XIkCHsv//+jBo1ioceeojDDz+cPn368NprrwFw9dVX84tf/AKA2bNn07dvX/r27cvtt9++qczp06czePBgFi5cyF133cVNN91Ev379ePLJJ+nRowfr1q0D4L333tu0/sgjjzBw4EAA2rVrx9q1a9m4cSPr1q2jTZs2XHnllVxzzTWbfRZJDBgwgClTpuR3wsysxXGwaSHWrl1Lv379Nr2uvPLKkvabM2cOd911F/Pnz2fcuHG88sorzJw5k/PPP59bb711i/wjRozg1ltvZc6cOUXLq6io4MILL+R73/sezz//PEcffTQDBgzgj3/M/kIbP348p556Ku3ateOvf/0rhx56KAC9evWia9eu9O/fn1NOOYWqqio2btxI//79tzhGZWUlTz75ZKmnxszKQKubiLOl6tChA88///ym9Zp7NvU57LDD2GeffQA44IADOOGEEwDo06cP06ZN2yzvypUrWblyJccccwwA55xzDo8++mi9xzj//PP5+c9/ztChQ7n//vu59957AViyZAmFo/tuvvnmTcunnHIKd999N6NHj2bOnDkcf/zxXHDBBQB8+tOf5q233qr3uGZWPtyy2QG0bduWjRs3ArBx40Y+/vjjTdt22WWXTcs77bTTpvWddtqJ9evX0xi+9KUvsXDhQqZPn86GDRs46KCDgCxAFvttzKRJkzj00ENZvXo1r732GhMmTGDixImsWbMGyH7X1KFDh0apm5ntGBxsdgAVFRXMnj0bgMmTJ2+6f9JQXbp0oUuXLjz11FMAPPTQQ0Xzde7cmffff3+ztGHDhnHWWWcxYsSITWm9evWiqqpqs3zr1q3j5ptv5gc/+AFr167d9PuZDRs2bAqSr7zyyqaAZWatg7vRimhpoz8uuOAChgwZQt++fRk4cCC77rrrNpd1//33861vfQtJm7rcajvllFM47bTTmDRpErfeeitHH300Z599NldccQVnnnnmpnyDBg3i7rvv5vzzz9+UdvvttzN8+HA6duzIwQcfzJo1a+jTpw8nn3wyXbp0AWDatGn89Kc/3ebPYGY7HmW/m2w9Kisro/a9kPnz59OrV69mqtGOYeLEiUyaNIlx48Ztln7UUUcxZcqUTYGkPkuXLuWss87iiSee2GKb/x2s3JTT0GdJsyOiclv3d8vG6vWd73yHRx99lKlTt/xJ0w033MCiRYtKDjaLFi3ihhtuaOQamllL52Bj9So2hLrGEUc0bKLtww47bHurY2Y7IA8QSFpbd2JL4/NvVt4cbMge3LV8+XJ/4TWTmufZtG/fvrmrYmY5cTca0L17d6qrqyn2rBtrGjVP6jSz8uRgQzavl58QaWaWH3ejmZlZ7hxszMwsdw42ZmaWOwcbMzPLnYONmZnlzsHGzMxy52BjZma5c7AxM7PcOdiYmVnuHGzMzCx3DjZmZpY7BxszM8udg42ZmeXOwcbMzHKXW7CRtK+kaZJekvSipO+m9KslLZb0fHqdXLDPZZKqJL0s6cSC9IEprUrSqIL0HpJmpPSHJe2c1+cxM7Ntl2fLZj1waUT0Bo4ELpLUO227KSL6pddUgLTtDOALwEDgDkltJLUBbgdOAnoDZxaU87NU1oHAu8B5OX4eMzPbRrkFm4hYEhHPpuX3gflAt63sMgQYHxEfRcTrQBVweHpVRcSCiPgYGA8MkSTgOGBi2v9BYGguH8bMzLZLk9yzkVQBHALMSEkXS5oraYyk3VNaN+DNgt2qU1pd6XsCKyNifa30YscfKWmWpFl+9LOZWdPLPdhI6gQ8AlwSEe8BdwIHAP2AJcANedchIu6JiMqIqOzatWvehzMzs1ra5lm4pHZkgeahiPgtQEQsLdh+LzAlrS4G9i3YvXtKo4705UAXSW1T66Ywv5mZtSB5jkYTcB8wPyJuLEjfpyDb14B5aXkycIakXST1AHoCM4FngJ5p5NnOZIMIJkdEANOA09L+w4FJeX0eMzPbdnm2bL4EnAO8IOn5lHY52WiyfkAAC4F/BoiIFyVNAF4iG8l2UURsAJB0MfAY0AYYExEvpvJ+CIyXdB3wHFlwMzNrFBWj/tjcVSgbuQWbiHgKUJFNU7eyz2hgdJH0qcX2i4gFZKPVzMysBfMMAmZmljsHGzMzy52DjZmZ5c7BxszMcudgY2ZmuXOwMTOz3DnYmJlZ7hxszMwsdw42ZmaWOwcbMzPLnYONmZnlzsHGzMxyl+vzbMzMmotnbG5Z3LIxM7PcOdiYmVnu3I1mZi2Ou8DKj1s2ZmaWO7dszMxasMZo5S28flAj1GT7ONiY2WbchWV5cDeamZnlzsHGzMxy52BjZma5c7AxM7PcOdiYmVnuHGzMzCx3DjZmZpa73IKNpH0lTZP0kqQXJX03pe8h6XFJr6b33VO6JN0iqUrSXEn9C8oanvK/Kml4Qfqhkl5I+9wiSXl9HjMz23Z5/qhzPXBpRDwrqTMwW9LjwLnAExFxvaRRwCjgh8BJQM/0OgK4EzhC0h7AVUAlEKmcyRHxbspzATADmAoMBB7N8TOZme1wtveHuo0xA0FuwSYilgBL0vL7kuYD3YAhwICU7UFgOlmwGQKMjYgAnpbURdI+Ke/jEbECIAWsgZKmA5+KiKdT+lhgKA421or51//WUjXJPRtJFcAhZC2QvVMgAvg7sHda7ga8WbBbdUrbWnp1kfRixx8paZakWcuWLdu+D2NmZg2We7CR1Al4BLgkIt4r3JZaMZF3HSLinoiojIjKrl275n04MzOrJddgI6kdWaB5KCJ+m5KXpu4x0vvbKX0xsG/B7t1T2tbSuxdJNzOzFibP0WgC7gPmR8SNBZsmAzUjyoYDkwrSh6VRaUcCq1J322PACZJ2TyPXTgAeS9vek3RkOtawgrLMzKwFyXM02peAc4AXJD2f0i4HrgcmSDoPeAM4PW2bCpwMVAFrgBEAEbFC0o+BZ1K+a2sGCwDfBh4AOpANDPDgADOzFijP0WhPAXX97uUrRfIHcFEdZY0BxhRJnwUctB3VNGsxPJLMyplnEDAzs9w52JiZWe4cbMzMLHclBRtJffKuiJmZla9SWzZ3SJop6duSdsu1RmZmVnZKCjYRcTRwNtmPK2dL+pWk43OtmZmZlY2S79lExKvAFWSTZh4L3CLpb5JOzatyZmZWHkq9Z3OwpJuA+cBxwCkR0Sst35Rj/czMrAyU+qPOW4FfApdHxNqaxIh4S9IVudTMzMzKRqnBZhCwNiI2AEjaCWgfEWsiYlxutTMzs7JQ6j2bP5PNP1ajY0ozMzOrV6nBpn1ErK5ZScsd86mSmZmVm1KDzQeS+tesSDoUWLuV/GZmZpuUes/mEuA3kt4im8n5H4Bv5FUpMzMrLyUFm4h4RtLngc+lpJcjYl1+1TIzs3LSkOfZHAZUpH36SyIixuZSKzMzKyslBRtJ44ADgOeBDSk5AAcbMzOrV6ktm0qgd3qappmZWYOUOhptHtmgADMzswYrtWWzF/CSpJnARzWJEfHVXGplZmZlpdRgc3WelTAzs/JW6tDn/5b0WaBnRPxZUkegTb5VMzOzclHqIwYuACYCd6ekbsDvc6qTmZmVmVK70S4CDgdmQPYgNUmfzq1WZk2sYtQft2v/hdcPaqSamJWnUkejfRQRH9esSGpL9jsbMzOzepUabP5b0uVAB0nHA78B/pBftczMrJyUGmxGAcuAF4B/BqYCW31Cp6Qxkt6WNK8g7WpJiyU9n14nF2y7TFKVpJclnViQPjClVUkaVZDeQ9KMlP6wpJ1L/CxmZtbESgo2EbExIu6NiK9HxGlpub5utAeAgUXSb4qIfuk1FUBSb+AM4AtpnzsktZHUBrgdOAnoDZyZ8gL8LJV1IPAucF4pn8XMzJpeqaPRXpe0oPZra/tExF+AFSXWYwgwPiI+iojXgSqyAQmHA1URsSDdMxoPDJEk4DiyEXIADwJDSzyWmZk1sYbMjVajPfB1YI9tPObFkoYBs4BLI+JdsqHUTxfkqU5pAG/WSj8C2BNYGRHri+TfgqSRwEiA/fbbbxurbWZm26rUbrTlBa/FEXEzsC1jPe8kmz26H7AEuGEbymiwiLgnIiojorJr165NcUgzMytQ6iMG+hes7kTW0mnIs3AAiIilBWXeC0xJq4uBfQuydk9p1JG+HOgiqW1q3RTmNzOzFqbUgFHYAlkPLAROb+jBJO0TEUvS6tfIZpMGmAz8StKNwGeAnsBMskdQ95TUgyyYnAGcFREhaRpwGtl9nOHApIbWx8zMmkapc6N9uaEFS/o1MADYS1I1cBUwQFI/sh+ELiQbRk1EvChpAvASWTC7KCI2pHIuBh4jm4ttTES8mA7xQ2C8pOuA54D7GlpHMzNrGqV2o31/a9sj4sYiaWcWyVpnQIiI0cDoIulTyX7XUzt9AdloNTMza+EaMhrtMLLuLoBTyLq5Xs2jUmZmVl5KDTbdgf4R8T5kMwEAf4yIb+ZVMbMdyfZO5GlW7kqdrmZv4OOC9Y9TmpmZWb1KbdmMBWZK+l1aH0r2q32zZudWhVnLV+potNGSHgWOTkkjIuK5/KplZmblpNRuNICOwHsR8e9Adfrti5mZWb1KnYjzKrLftVyWktoB/5FXpczMrLyU2rL5GvBV4AOAiHgL6JxXpczMrLyUGmw+Ts+vCQBJu+ZXJTMzKzelBpsJku4mm/zyAuDPwL35VcvMzMpJvaPR0oPKHgY+D7wHfA64MiIez7luZmZWJuoNNmmG5akR0QdwgDEzswYrtRvtWUmH5VoTMzMrW6XOIHAE8E1JC8lGpIms0XNwXhUzM7PysdVgI2m/iFgEnNhE9TEzszJUX8vm92SzPb8h6ZGI+N9NUCczMysz9d2zUcHy/nlWxMzMyld9wSbqWDYzMytZfd1ofSW9R9bC6ZCW4ZMBAp/KtXZmZlYWthpsIqJNU1XEzMzKV6lDn81y4QefmbUODXmejZmZ2TZxsDEzs9w52JiZWe4cbMzMLHcONmZmlrvcgo2kMZLeljSvIG0PSY9LejW9757SJekWSVWS5krqX7DP8JT/VUnDC9IPlfRC2ueW9NwdMzNrgfJs2TwADKyVNgp4IiJ6Ak+kdYCTgJ7pNRK4E7LgBFxFNuv04cBVNQEq5bmgYL/axzIzsxYit2ATEX8BVtRKHgI8mJYfBIYWpI+NzNNkj5/eh2y26ccjYkVEvEv28LaBadunIuLpiAhgbEFZZmbWwjT1PZu9I2JJWv47sHda7ga8WZCvOqVtLb26SHpRkkZKmiVp1rJly7bvE5iZWYM12wCB1CJpksk9I+KeiKiMiMquXbs2xSHNzKxAUwebpakLjPT+dkpfDOxbkK97Sttaevci6WZm1gI19dxok4HhwPXpfVJB+sWSxpMNBlgVEUskPQb8pGBQwAnAZRGxQtJ7ko4EZgDDgFub8oOY5zUzs9LlFmwk/RoYAOwlqZpsVNn1wARJ5wFvAKen7FOBk4EqYA0wAiAFlR8Dz6R810ZEzaCDb5ONeOsAPJpeZmbWAuUWbCLizDo2faVI3gAuqqOcMcCYIumzgIO2p45mZtY0PIOAmZnlzsHGzMxy52BjZma5c7AxM7PcOdiYmVnuHGzMzCx3DjZmZpY7BxszM8udg42ZmeXOwcbMzHLnYGNmZrlzsDEzs9w52JiZWe6a+nk21oL4eTRm1lTcsjEzs9w52JiZWe4cbMzMLHcONmZmljsHGzMzy52DjZmZ5c7BxszMcudgY2ZmuXOwMTOz3DnYmJlZ7hxszMwsdw42ZmaWu2YJNpIWSnpB0vOSZqW0PSQ9LunV9L57SpekWyRVSZorqX9BOcNT/lclDW+Oz2JmZvVrzlmfvxwR7xSsjwKeiIjrJY1K6z8ETgJ6ptcRwJ3AEZL2AK4CKoEAZkuaHBHvNuWHaC6esdnMdiQtqRttCPBgWn4QGFqQPjYyTwNdJO0DnAg8HhErUoB5HBjYxHU2M7MSNFewCeA/Jc2WNDKl7R0RS9Ly34G903I34M2CfatTWl3pZmbWwjRXN9pREbFY0qeBxyX9rXBjRISkaKyDpYA2EmC//fZrrGLNzKxEzdKyiYjF6f1t4HfA4cDS1D1Gen87ZV8M7Fuwe/eUVld6sePdExGVEVHZtWvXxvwoZmZWgiYPNpJ2ldS5Zhk4AZgHTAZqRpQNByal5cnAsDQq7UhgVepueww4QdLuaeTaCSnNzMxamOboRtsb+J2kmuP/KiL+JOkZYIKk84A3gNNT/qnAyUAVsAYYARARKyT9GHgm5bs2IlY03ccwM7NSNXmwiYgFQN8i6cuBrxRJD+CiOsoaA4xp7DqamVnjaklDn83MrEw52JiZWe6acwaBVsu//jez1sYtGzMzy52DjZmZ5c7BxszMcudgY2ZmuXOwMTOz3DnYmJlZ7hxszMwsdw42ZmaWOwcbMzPLnYONmZnlztPVNJCnmjEzazi3bMzMLHcONmZmljsHGzMzy52DjZmZ5c7BxszMcudgY2ZmuXOwMTOz3DnYmJlZ7hxszMwsdw42ZmaWOwcbMzPLnYONmZnlrtVNxPnC4lWeTNPMrInt8C0bSQMlvSypStKo5q6PmZltaYcONpLaALcDJwG9gTMl9W7eWpmZWW07dLABDgeqImJBRHwMjAeGNHOdzMyslh39nk034M2C9WrgiNqZJI0ERqbV1W/8bPDLTVC3lmQv4J3mrkQL43OyOZ+Pzfl8FNDPAPjc9pSxowebkkTEPcA9zV2P5iJpVkRUNnc9WhKfk835fGzO52NLkmZtz/47ejfaYmDfgvXuKc3MzFqQHT3YPAP0lNRD0s7AGcDkZq6TmZnVskN3o0XEekkXA48BbYAxEfFiM1erJWq1XYhb4XOyOZ+Pzfl8bGm7zokiorEqYmZmVtSO3o1mZmY7AAcbMzPLnYNNmZG0r6Rpkl6S9KKk76b0PSQ9LunV9L57c9e1KUlqI+k5SVPSeg9JM9I0Rw+nASatgqQukiZK+puk+ZL+0deHvpf+v8yT9GtJ7VvTNSJpjKS3Jc0rSCt6TShzSzovcyX1L+UYDjblZz1waUT0Bo4ELkpT+IwCnoiInsATab01+S4wv2D9Z8BNEXEg8C5wXrPUqnn8O/CniPg80JfsvLTa60NSN+BfgMqIOIhssNEZtK5r5AFgYK20uq6Jk4Ce6TUSuLOUAzjYlJmIWBIRz6bl98m+SLqRTePzYMr2IDC0WSrYDCR1BwYBv0zrAo4DJqYsreZ8SNoNOAa4DyAiPo6IlbTi6yNpC3SQ1BboCCyhFV0jEfEXYEWt5LquiSHA2Mg8DXSRtE99x3CwKWOSKoBDgBnA3hGxJG36O7B3c9WrGdwM/ADYmNb3BFZGxPq0Xk0WkFuDHsAy4P7UrfhLSbvSiq+PiFgM/AJYRBZkVgGzab3XSI26roli04TVe24cbMqUpE7AI8AlEfFe4bbIxru3ijHvkgYDb0fE7OauSwvRFugP3BkRhwAfUKvLrDVdHwDpXsQQskD8GWBXtuxSatUa45pwsClDktqRBZqHIuK3KXlpTVM3vb/dXPVrYl8CvippIdms4MeR3bPokrpMoHVNc1QNVEfEjLQ+kSz4tNbrA+CfgNcjYllErAN+S3bdtNZrpEZd18Q2TRPmYFNm0v2I+4D5EXFjwabJwPC0PByY1NR1aw4RcVlEdI+ICrKbvv8VEWcD04DTUrbWdD7+DrwpqWYG368AL9FKr49kEXCkpI7p/0/NOWmV10iBuq6JycCwNCrtSGBVQXdbnTyDQJmRdBTwJPACn9yjuJzsvs0EYD/gDeD0iKh9Q7CsSRoA/GtEDJa0P1lLZw/gOeCbEfFRM1avyUjqRzZYYmdgATCC7A/PVnt9SLoG+AbZaM7ngPPJ7kO0imtE0q+BAWSPVlgKXAX8niLXRArIt5F1Na4BRkREvTNCO9iYmVnu3I1mZma5c7AxM7PcOdiYmVnuHGzMzCx3DjZmZpY7BxszM8udg42ZmeXufwBNmtIeoPUxGAAAAABJRU5ErkJggg==\n",
       "datasetInfos": [],
       "metadata": {},
       "removedWidgets": [],
       "type": "image"
      }
     },
     "output_type": "display_data"
    },
    {
     "output_type": "display_data",
     "data": {
      "image/png": "[encoded data removed]"
     },
     "metadata": {
      "application/vnd.databricks.v1+output": {
       "addedWidgets": {},
       "arguments": {},
       "data": "data:image/png;base64,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\n",
       "datasetInfos": [],
       "metadata": {},
       "removedWidgets": [],
       "type": "image"
      }
     },
     "output_type": "display_data"
    },
    {
     "output_type": "display_data",
     "data": {
      "image/png": "[encoded data removed]"
     },
     "metadata": {
      "application/vnd.databricks.v1+output": {
       "addedWidgets": {},
       "arguments": {},
       "data": "data:image/png;base64,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\n",
       "datasetInfos": [],
       "metadata": {},
       "removedWidgets": [],
       "type": "image"
      }
     },
     "output_type": "display_data"
    },
    {
     "output_type": "display_data",
     "data": {
      "image/png": "[encoded data removed]"
     },
     "metadata": {
      "application/vnd.databricks.v1+output": {
       "addedWidgets": {},
       "arguments": {},
       "data": "data:image/png;base64,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\n",
       "datasetInfos": [],
       "metadata": {},
       "removedWidgets": [],
       "type": "image"
      }
     },
     "output_type": "display_data"
    },
    {
     "output_type": "display_data",
     "data": {
      "image/png": "[encoded data removed]"
     },
     "metadata": {
      "application/vnd.databricks.v1+output": {
       "addedWidgets": {},
       "arguments": {},
       "data": "data:image/png;base64,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\n",
       "datasetInfos": [],
       "metadata": {},
       "removedWidgets": [],
       "type": "image"
      }
     },
     "output_type": "display_data"
    }
   ],
   "source": [
    "## observe the distribution before filling\n",
    "import matplotlib.pyplot as plt\n",
    "zero_cols = ['Distance(mi)', 'Humidity(%)', 'Pressure(in)', 'Visibility(mi)', 'Wind_Speed(mph)', 'Precipitation(in)']\n",
    "for column in zero_cols:\n",
    "    histogram = us_acc_train.select(column).toPandas().plot(kind='hist', title=f'Distribution of {column}', bins=20)\n",
    "    min_max_values = us_acc_train.agg(F.min(column).alias('min_value'), F.max(column).alias('max_value')).collect()[0]\n",
    "    min_value = min_max_values['min_value']\n",
    "    max_value = min_max_values['max_value']\n",
    "    min_value = min_value  # Replace with your desired minimum value\n",
    "    max_value = max_value  # Replace with your desired maximum value\n",
    "    histogram.set_xlim(min_value, max_value)\n",
    "    plt.show()"
   ]
  },
  {
   "cell_type": "code",
   "execution_count": 0,
   "metadata": {
    "application/vnd.databricks.v1+cell": {
     "cellMetadata": {
      "byteLimit": 2048000,
      "rowLimit": 10000
     },
     "inputWidgets": {},
     "nuid": "91904c81-a0f0-4ca4-a0e7-cda832af6bd8",
     "showTitle": false,
     "title": ""
    }
   },
   "outputs": [
    {
     "output_type": "stream",
     "name": "stdout",
     "output_type": "stream",
     "text": [
      "0 value count for column 'Distance(mi)': 117767\n0 value count for column 'Humidity(%)': 0\n0 value count for column 'Pressure(in)': 0\n0 value count for column 'Visibility(mi)': 398\n0 value count for column 'Wind_Speed(mph)': 53417\n0 value count for column 'Precipitation(in)': 282929\n"
     ]
    }
   ],
   "source": [
    "for column in zero_cols:\n",
    "    null_count = us_acc_train.filter(col(column)==0).count()\n",
    "    print(f\"0 value count for column '{column}': {null_count}\")"
   ]
  },
  {
   "cell_type": "code",
   "execution_count": 0,
   "metadata": {
    "application/vnd.databricks.v1+cell": {
     "cellMetadata": {
      "byteLimit": 2048000,
      "rowLimit": 10000
     },
     "inputWidgets": {},
     "nuid": "b1610aa0-755d-473f-89eb-bfbb775537a2",
     "showTitle": false,
     "title": ""
    }
   },
   "outputs": [],
   "source": [
    "from pyspark.sql.window import Window\n",
    "for column in zero_cols:\n",
    "    window_spec = Window.orderBy(F.col(column))\n",
    "    df_ranked = us_acc_train.withColumn('rank', F.dense_rank().over(window_spec))\n",
    "    # Find the second minimum value (excluding zeros)\n",
    "    second_min = df_ranked.filter(F.col('rank') == 2).select(column).collect()[0][0]\n",
    "    # Replace zero values with the second minimum value in the column\n",
    "    us_acc_train = us_acc_train.withColumn(column, F.when(us_acc_train[column] == 0, second_min).otherwise(us_acc_train[column]))"
   ]
  },
  {
   "cell_type": "code",
   "execution_count": 0,
   "metadata": {
    "application/vnd.databricks.v1+cell": {
     "cellMetadata": {
      "byteLimit": 2048000,
      "rowLimit": 10000
     },
     "inputWidgets": {},
     "nuid": "11f43da4-ba70-4550-99e1-f4162646ac07",
     "showTitle": false,
     "title": ""
    }
   },
   "outputs": [
    {
     "output_type": "stream",
     "name": "stdout",
     "output_type": "stream",
     "text": [
      "0 value count for column 'Distance(mi)': 0\n0 value count for column 'Humidity(%)': 0\n0 value count for column 'Pressure(in)': 0\n0 value count for column 'Visibility(mi)': 0\n0 value count for column 'Wind_Speed(mph)': 0\n0 value count for column 'Precipitation(in)': 0\n"
     ]
    }
   ],
   "source": [
    "for column in zero_cols:\n",
    "    null_count = us_acc_train.filter(col(column)==0).count()\n",
    "    print(f\"0 value count for column '{column}': {null_count}\")"
   ]
  },
  {
   "cell_type": "code",
   "execution_count": 0,
   "metadata": {
    "application/vnd.databricks.v1+cell": {
     "cellMetadata": {
      "byteLimit": 2048000,
      "rowLimit": 10000
     },
     "inputWidgets": {},
     "nuid": "b6792467-2030-4271-a4c2-5385f862aef5",
     "showTitle": false,
     "title": ""
    }
   },
   "outputs": [
    {
     "output_type": "display_data",
     "data": {
      "image/png": "[encoded data removed]"
     },
     "metadata": {
      "application/vnd.databricks.v1+output": {
       "addedWidgets": {},
       "arguments": {},
       "data": "data:image/png;base64,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\n",
       "datasetInfos": [],
       "metadata": {},
       "removedWidgets": [],
       "type": "image"
      }
     },
     "output_type": "display_data"
    },
    {
     "output_type": "display_data",
     "data": {
      "image/png": "[encoded data removed]"
     },
     "metadata": {
      "application/vnd.databricks.v1+output": {
       "addedWidgets": {},
       "arguments": {},
       "data": "data:image/png;base64,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\n",
       "datasetInfos": [],
       "metadata": {},
       "removedWidgets": [],
       "type": "image"
      }
     },
     "output_type": "display_data"
    },
    {
     "output_type": "display_data",
     "data": {
      "image/png": "[encoded data removed]"
     },
     "metadata": {
      "application/vnd.databricks.v1+output": {
       "addedWidgets": {},
       "arguments": {},
       "data": "data:image/png;base64,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\n",
       "datasetInfos": [],
       "metadata": {},
       "removedWidgets": [],
       "type": "image"
      }
     },
     "output_type": "display_data"
    },
    {
     "output_type": "display_data",
     "data": {
      "image/png": "[encoded data removed]"
     },
     "metadata": {
      "application/vnd.databricks.v1+output": {
       "addedWidgets": {},
       "arguments": {},
       "data": "data:image/png;base64,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\n",
       "datasetInfos": [],
       "metadata": {},
       "removedWidgets": [],
       "type": "image"
      }
     },
     "output_type": "display_data"
    },
    {
     "output_type": "display_data",
     "data": {
      "image/png": "[encoded data removed]"
     },
     "metadata": {
      "application/vnd.databricks.v1+output": {
       "addedWidgets": {},
       "arguments": {},
       "data": "data:image/png;base64,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\n",
       "datasetInfos": [],
       "metadata": {},
       "removedWidgets": [],
       "type": "image"
      }
     },
     "output_type": "display_data"
    },
    {
     "output_type": "display_data",
     "data": {
      "image/png": "[encoded data removed]"
     },
     "metadata": {
      "application/vnd.databricks.v1+output": {
       "addedWidgets": {},
       "arguments": {},
       "data": "data:image/png;base64,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\n",
       "datasetInfos": [],
       "metadata": {},
       "removedWidgets": [],
       "type": "image"
      }
     },
     "output_type": "display_data"
    }
   ],
   "source": [
    "## observe the distribution before filling\n",
    "zero_cols = ['Distance(mi)', 'Humidity(%)', 'Pressure(in)', 'Visibility(mi)', 'Wind_Speed(mph)', 'Precipitation(in)']\n",
    "for column in zero_cols:\n",
    "    histogram = us_acc_train.select(column).toPandas().plot(kind='hist', title=f'Distribution of {column}', bins=20)\n",
    "    min_max_values = us_acc_train.agg(F.min(column).alias('min_value'), F.max(column).alias('max_value')).collect()[0]\n",
    "    min_value = min_max_values['min_value']\n",
    "    max_value = min_max_values['max_value']\n",
    "    min_value = min_value  # Replace with your desired minimum value\n",
    "    max_value = max_value  # Replace with your desired maximum value\n",
    "    histogram.set_xlim(min_value, max_value)\n",
    "    plt.show()"
   ]
  },
  {
   "cell_type": "markdown",
   "metadata": {
    "application/vnd.databricks.v1+cell": {
     "cellMetadata": {},
     "inputWidgets": {},
     "nuid": "a1ea824d-bf6e-4c0c-9202-df0c405f187d",
     "showTitle": false,
     "title": ""
    }
   },
   "source": [
    "## Convert Target Variable to Binary"
   ]
  },
  {
   "cell_type": "code",
   "execution_count": 0,
   "metadata": {
    "application/vnd.databricks.v1+cell": {
     "cellMetadata": {
      "byteLimit": 2048000,
      "rowLimit": 10000
     },
     "inputWidgets": {},
     "nuid": "0ebf3128-0c5c-4736-8e46-f1402594fc18",
     "showTitle": false,
     "title": ""
    }
   },
   "outputs": [
    {
     "output_type": "stream",
     "name": "stdout",
     "output_type": "stream",
     "text": [
      "Out[27]: [Row(Severity=1.0), Row(Severity=4.0), Row(Severity=3.0), Row(Severity=2.0)]"
     ]
    }
   ],
   "source": [
    "us_acc_train.select('Severity').distinct().collect()"
   ]
  },
  {
   "cell_type": "code",
   "execution_count": 0,
   "metadata": {
    "application/vnd.databricks.v1+cell": {
     "cellMetadata": {
      "byteLimit": 2048000,
      "rowLimit": 10000
     },
     "inputWidgets": {},
     "nuid": "f9ed9277-61f7-4c69-9839-c8a4ea779453",
     "showTitle": false,
     "title": ""
    }
   },
   "outputs": [],
   "source": [
    "from pyspark.sql.functions import when\n",
    "condition_set1 = (col(\"Severity\") == 1) | (col(\"Severity\") == 2)\n",
    "condition_set2 = (col(\"Severity\") == 3) | (col(\"Severity\") == 4)\n",
    "\n",
    "us_acc_train = us_acc_train.withColumn(\n",
    "    \"Severity\",\n",
    "    when(condition_set1, 0)\n",
    "    .when(condition_set2, 1)\n",
    ")"
   ]
  },
  {
   "cell_type": "code",
   "execution_count": 0,
   "metadata": {
    "application/vnd.databricks.v1+cell": {
     "cellMetadata": {
      "byteLimit": 2048000,
      "rowLimit": 10000
     },
     "inputWidgets": {},
     "nuid": "6294937c-017f-4301-a8f9-ceb1a34e494f",
     "showTitle": false,
     "title": ""
    }
   },
   "outputs": [
    {
     "output_type": "stream",
     "name": "stdout",
     "output_type": "stream",
     "text": [
      "Out[29]: [Row(Severity=1), Row(Severity=0)]"
     ]
    }
   ],
   "source": [
    "us_acc_train.select('Severity').distinct().collect()"
   ]
  },
  {
   "cell_type": "markdown",
   "metadata": {
    "application/vnd.databricks.v1+cell": {
     "cellMetadata": {},
     "inputWidgets": {},
     "nuid": "6c9778ff-b265-4cef-a79d-57c8b255ff7e",
     "showTitle": false,
     "title": ""
    }
   },
   "source": [
    "## Make Target Variable balanced"
   ]
  },
  {
   "cell_type": "code",
   "execution_count": 0,
   "metadata": {
    "application/vnd.databricks.v1+cell": {
     "cellMetadata": {
      "byteLimit": 2048000,
      "rowLimit": 10000
     },
     "inputWidgets": {},
     "nuid": "1049699c-9c2b-42c2-8d62-d2b21c426b9a",
     "showTitle": false,
     "title": ""
    }
   },
   "outputs": [
    {
     "output_type": "stream",
     "name": "stdout",
     "output_type": "stream",
     "text": [
      "+--------+------+\n|Severity| count|\n+--------+------+\n|       1| 42143|\n|       0|264706|\n+--------+------+\n\n"
     ]
    }
   ],
   "source": [
    "severity_counts = us_acc_train.groupBy(\"Severity\").count()\n",
    "severity_counts.show()"
   ]
  },
  {
   "cell_type": "code",
   "execution_count": 0,
   "metadata": {
    "application/vnd.databricks.v1+cell": {
     "cellMetadata": {
      "byteLimit": 2048000,
      "rowLimit": 10000
     },
     "inputWidgets": {},
     "nuid": "5dbe2697-f63b-4e7e-b8b9-2f417f0035e9",
     "showTitle": false,
     "title": ""
    }
   },
   "outputs": [],
   "source": [
    "from pyspark.sql.functions import col\n",
    "\n",
    "# Assuming 'train_data' is your training DataFrame\n",
    "majority_class = us_acc_train.filter(col(\"Severity\") == 0)\n",
    "minority_class = us_acc_train.filter(col(\"Severity\") == 1)\n",
    "\n",
    "oversampled_minority = minority_class.sample(True, 6.0, seed=42)  # Adjust fraction as needed\n",
    "us_acc_train = majority_class.union(oversampled_minority)"
   ]
  },
  {
   "cell_type": "code",
   "execution_count": 0,
   "metadata": {
    "application/vnd.databricks.v1+cell": {
     "cellMetadata": {
      "byteLimit": 2048000,
      "rowLimit": 10000
     },
     "inputWidgets": {},
     "nuid": "ab6ab20c-c63b-4b2b-bf19-82423a8e9de3",
     "showTitle": false,
     "title": ""
    }
   },
   "outputs": [
    {
     "output_type": "stream",
     "name": "stdout",
     "output_type": "stream",
     "text": [
      "+--------+------+\n|Severity| count|\n+--------+------+\n|       0|264706|\n|       1|252071|\n+--------+------+\n\n"
     ]
    }
   ],
   "source": [
    "severity_counts = us_acc_train.groupBy(\"Severity\").count()\n",
    "severity_counts.show()"
   ]
  },
  {
   "cell_type": "markdown",
   "metadata": {
    "application/vnd.databricks.v1+cell": {
     "cellMetadata": {},
     "inputWidgets": {},
     "nuid": "5a29e076-b4dd-43d7-a11f-2baf37bc601c",
     "showTitle": false,
     "title": ""
    }
   },
   "source": [
    "## Construct a pipeline"
   ]
  },
  {
   "cell_type": "markdown",
   "metadata": {
    "application/vnd.databricks.v1+cell": {
     "cellMetadata": {},
     "inputWidgets": {},
     "nuid": "ebdaf8b1-5e36-4bfc-932d-4d3234995238",
     "showTitle": false,
     "title": ""
    }
   },
   "source": [
    "#### Apply StringIndexer"
   ]
  },
  {
   "cell_type": "code",
   "execution_count": 0,
   "metadata": {
    "application/vnd.databricks.v1+cell": {
     "cellMetadata": {
      "byteLimit": 2048000,
      "rowLimit": 10000
     },
     "inputWidgets": {},
     "nuid": "88cb7322-dd4d-43f9-b414-e77d6d539fdc",
     "showTitle": false,
     "title": ""
    }
   },
   "outputs": [],
   "source": [
    "from pyspark.ml.feature import StringIndexer\n",
    "categorical_col = ['Amenity', 'Bump', 'Crossing', 'Give_Way', 'Junction', 'No_Exit', 'Railway', 'Roundabout', 'Station', 'Stop', 'Traffic_Calming', 'Traffic_Signal', 'Sunrise_Sunset', 'Civil_Twilight', 'Nautical_Twilight', 'Astronomical_Twilight']\n",
    "si = StringIndexer(inputCols = categorical_col, outputCols = [c + \"_idx\" for c in categorical_col])\n",
    "us_acc_train_si = si.fit(us_acc_train).transform(us_acc_train)"
   ]
  },
  {
   "cell_type": "code",
   "execution_count": 0,
   "metadata": {
    "application/vnd.databricks.v1+cell": {
     "cellMetadata": {
      "byteLimit": 2048000,
      "rowLimit": 10000
     },
     "inputWidgets": {},
     "nuid": "83517cdc-122f-471d-81c3-995ab3818255",
     "showTitle": false,
     "title": ""
    }
   },
   "outputs": [
    {
     "output_type": "display_data",
     "data": {
      "text/html": [
       "<style scoped>\n",
       "  .table-result-container {\n",
       "    max-height: 300px;\n",
       "    overflow: auto;\n",
       "  }\n",
       "  table, th, td {\n",
       "    border: 1px solid black;\n",
       "    border-collapse: collapse;\n",
       "  }\n",
       "  th, td {\n",
       "    padding: 5px;\n",
       "  }\n",
       "  th {\n",
       "    text-align: left;\n",
       "  }\n",
       "</style><div class='table-result-container'><table class='table-result'><thead style='background-color: white'><tr><th>Severity</th><th>Distance(mi)</th><th>Temperature(F)</th><th>Wind_Chill(F)</th><th>Humidity(%)</th><th>Pressure(in)</th><th>Visibility(mi)</th><th>Wind_Speed(mph)</th><th>Precipitation(in)</th><th>Amenity</th><th>Bump</th><th>Crossing</th><th>Give_Way</th><th>Junction</th><th>No_Exit</th><th>Railway</th><th>Roundabout</th><th>Station</th><th>Stop</th><th>Traffic_Calming</th><th>Traffic_Signal</th><th>Sunrise_Sunset</th><th>Civil_Twilight</th><th>Nautical_Twilight</th><th>Astronomical_Twilight</th><th>Amenity_idx</th><th>Bump_idx</th><th>Crossing_idx</th><th>Give_Way_idx</th><th>Junction_idx</th><th>No_Exit_idx</th><th>Railway_idx</th><th>Roundabout_idx</th><th>Station_idx</th><th>Stop_idx</th><th>Traffic_Calming_idx</th><th>Traffic_Signal_idx</th><th>Sunrise_Sunset_idx</th><th>Civil_Twilight_idx</th><th>Nautical_Twilight_idx</th><th>Astronomical_Twilight_idx</th></tr></thead><tbody><tr><td>0</td><td>1.52</td><td>79.0</td><td>79.0</td><td>84.0</td><td>29.88</td><td>8.0</td><td>25.0</td><td>0.01</td><td>false</td><td>false</td><td>false</td><td>false</td><td>false</td><td>false</td><td>false</td><td>false</td><td>false</td><td>false</td><td>false</td><td>false</td><td>Night</td><td>Night</td><td>Night</td><td>Night</td><td>0.0</td><td>0.0</td><td>0.0</td><td>0.0</td><td>0.0</td><td>0.0</td><td>0.0</td><td>0.0</td><td>0.0</td><td>0.0</td><td>0.0</td><td>0.0</td><td>1.0</td><td>1.0</td><td>1.0</td><td>1.0</td></tr><tr><td>0</td><td>0.421</td><td>95.0</td><td>95.0</td><td>47.0</td><td>29.8</td><td>10.0</td><td>10.0</td><td>0.01</td><td>false</td><td>false</td><td>false</td><td>false</td><td>false</td><td>false</td><td>false</td><td>false</td><td>false</td><td>false</td><td>false</td><td>false</td><td>Day</td><td>Day</td><td>Day</td><td>Day</td><td>0.0</td><td>0.0</td><td>0.0</td><td>0.0</td><td>0.0</td><td>0.0</td><td>0.0</td><td>0.0</td><td>0.0</td><td>0.0</td><td>0.0</td><td>0.0</td><td>0.0</td><td>0.0</td><td>0.0</td><td>0.0</td></tr><tr><td>0</td><td>0.001</td><td>81.0</td><td>81.0</td><td>56.0</td><td>29.46</td><td>10.0</td><td>7.0</td><td>0.01</td><td>false</td><td>false</td><td>false</td><td>false</td><td>false</td><td>false</td><td>false</td><td>false</td><td>false</td><td>false</td><td>false</td><td>true</td><td>Day</td><td>Day</td><td>Day</td><td>Day</td><td>0.0</td><td>0.0</td><td>0.0</td><td>0.0</td><td>0.0</td><td>0.0</td><td>0.0</td><td>0.0</td><td>0.0</td><td>0.0</td><td>0.0</td><td>1.0</td><td>0.0</td><td>0.0</td><td>0.0</td><td>0.0</td></tr><tr><td>0</td><td>0.213</td><td>72.0</td><td>72.0</td><td>59.0</td><td>29.52</td><td>10.0</td><td>7.0</td><td>0.01</td><td>false</td><td>false</td><td>false</td><td>false</td><td>false</td><td>false</td><td>false</td><td>false</td><td>false</td><td>false</td><td>false</td><td>false</td><td>Night</td><td>Night</td><td>Day</td><td>Day</td><td>0.0</td><td>0.0</td><td>0.0</td><td>0.0</td><td>0.0</td><td>0.0</td><td>0.0</td><td>0.0</td><td>0.0</td><td>0.0</td><td>0.0</td><td>0.0</td><td>1.0</td><td>1.0</td><td>0.0</td><td>0.0</td></tr><tr><td>0</td><td>0.001</td><td>58.0</td><td>58.0</td><td>78.0</td><td>29.93</td><td>7.0</td><td>3.0</td><td>0.01</td><td>false</td><td>false</td><td>false</td><td>false</td><td>false</td><td>false</td><td>false</td><td>false</td><td>false</td><td>false</td><td>false</td><td>false</td><td>Day</td><td>Day</td><td>Day</td><td>Day</td><td>0.0</td><td>0.0</td><td>0.0</td><td>0.0</td><td>0.0</td><td>0.0</td><td>0.0</td><td>0.0</td><td>0.0</td><td>0.0</td><td>0.0</td><td>0.0</td><td>0.0</td><td>0.0</td><td>0.0</td><td>0.0</td></tr><tr><td>0</td><td>0.001</td><td>63.0</td><td>63.0</td><td>42.0</td><td>28.91</td><td>7.0</td><td>1.0</td><td>0.01</td><td>false</td><td>false</td><td>false</td><td>false</td><td>false</td><td>false</td><td>false</td><td>false</td><td>false</td><td>false</td><td>false</td><td>false</td><td>Night</td><td>Night</td><td>Day</td><td>Day</td><td>0.0</td><td>0.0</td><td>0.0</td><td>0.0</td><td>0.0</td><td>0.0</td><td>0.0</td><td>0.0</td><td>0.0</td><td>0.0</td><td>0.0</td><td>0.0</td><td>1.0</td><td>1.0</td><td>0.0</td><td>0.0</td></tr><tr><td>0</td><td>1.521</td><td>70.0</td><td>70.0</td><td>47.0</td><td>30.11</td><td>10.0</td><td>13.0</td><td>0.01</td><td>false</td><td>false</td><td>false</td><td>false</td><td>false</td><td>false</td><td>false</td><td>false</td><td>false</td><td>false</td><td>false</td><td>false</td><td>Day</td><td>Day</td><td>Day</td><td>Day</td><td>0.0</td><td>0.0</td><td>0.0</td><td>0.0</td><td>0.0</td><td>0.0</td><td>0.0</td><td>0.0</td><td>0.0</td><td>0.0</td><td>0.0</td><td>0.0</td><td>0.0</td><td>0.0</td><td>0.0</td><td>0.0</td></tr><tr><td>0</td><td>0.214</td><td>74.0</td><td>74.0</td><td>55.0</td><td>30.05</td><td>10.0</td><td>15.0</td><td>0.01</td><td>false</td><td>false</td><td>true</td><td>false</td><td>false</td><td>false</td><td>false</td><td>false</td><td>false</td><td>false</td><td>false</td><td>false</td><td>Day</td><td>Day</td><td>Day</td><td>Day</td><td>0.0</td><td>0.0</td><td>1.0</td><td>0.0</td><td>0.0</td><td>0.0</td><td>0.0</td><td>0.0</td><td>0.0</td><td>0.0</td><td>0.0</td><td>0.0</td><td>0.0</td><td>0.0</td><td>0.0</td><td>0.0</td></tr><tr><td>0</td><td>0.001</td><td>72.0</td><td>72.0</td><td>88.0</td><td>30.02</td><td>10.0</td><td>3.0</td><td>0.01</td><td>false</td><td>false</td><td>false</td><td>false</td><td>false</td><td>false</td><td>false</td><td>false</td><td>false</td><td>false</td><td>false</td><td>true</td><td>Day</td><td>Day</td><td>Day</td><td>Day</td><td>0.0</td><td>0.0</td><td>0.0</td><td>0.0</td><td>0.0</td><td>0.0</td><td>0.0</td><td>0.0</td><td>0.0</td><td>0.0</td><td>0.0</td><td>1.0</td><td>0.0</td><td>0.0</td><td>0.0</td><td>0.0</td></tr><tr><td>0</td><td>1.557</td><td>88.0</td><td>88.0</td><td>55.0</td><td>29.99</td><td>10.0</td><td>10.0</td><td>0.01</td><td>false</td><td>false</td><td>false</td><td>false</td><td>false</td><td>false</td><td>false</td><td>false</td><td>false</td><td>false</td><td>false</td><td>false</td><td>Day</td><td>Day</td><td>Day</td><td>Day</td><td>0.0</td><td>0.0</td><td>0.0</td><td>0.0</td><td>0.0</td><td>0.0</td><td>0.0</td><td>0.0</td><td>0.0</td><td>0.0</td><td>0.0</td><td>0.0</td><td>0.0</td><td>0.0</td><td>0.0</td><td>0.0</td></tr></tbody></table></div>"
      ]
     },
     "metadata": {
      "application/vnd.databricks.v1+output": {
       "addedWidgets": {},
       "aggData": [],
       "aggError": "",
       "aggOverflow": false,
       "aggSchema": [],
       "aggSeriesLimitReached": false,
       "aggType": "",
       "arguments": {},
       "columnCustomDisplayInfos": {},
       "data": [
        [
         0,
         1.52,
         79.0,
         79.0,
         84.0,
         29.88,
         8.0,
         25.0,
         0.01,
         "false",
         "false",
         "false",
         "false",
         "false",
         "false",
         "false",
         "false",
         "false",
         "false",
         "false",
         "false",
         "Night",
         "Night",
         "Night",
         "Night",
         0.0,
         0.0,
         0.0,
         0.0,
         0.0,
         0.0,
         0.0,
         0.0,
         0.0,
         0.0,
         0.0,
         0.0,
         1.0,
         1.0,
         1.0,
         1.0
        ],
        [
         0,
         0.421,
         95.0,
         95.0,
         47.0,
         29.8,
         10.0,
         10.0,
         0.01,
         "false",
         "false",
         "false",
         "false",
         "false",
         "false",
         "false",
         "false",
         "false",
         "false",
         "false",
         "false",
         "Day",
         "Day",
         "Day",
         "Day",
         0.0,
         0.0,
         0.0,
         0.0,
         0.0,
         0.0,
         0.0,
         0.0,
         0.0,
         0.0,
         0.0,
         0.0,
         0.0,
         0.0,
         0.0,
         0.0
        ],
        [
         0,
         0.001,
         81.0,
         81.0,
         56.0,
         29.46,
         10.0,
         7.0,
         0.01,
         "false",
         "false",
         "false",
         "false",
         "false",
         "false",
         "false",
         "false",
         "false",
         "false",
         "false",
         "true",
         "Day",
         "Day",
         "Day",
         "Day",
         0.0,
         0.0,
         0.0,
         0.0,
         0.0,
         0.0,
         0.0,
         0.0,
         0.0,
         0.0,
         0.0,
         1.0,
         0.0,
         0.0,
         0.0,
         0.0
        ],
        [
         0,
         0.213,
         72.0,
         72.0,
         59.0,
         29.52,
         10.0,
         7.0,
         0.01,
         "false",
         "false",
         "false",
         "false",
         "false",
         "false",
         "false",
         "false",
         "false",
         "false",
         "false",
         "false",
         "Night",
         "Night",
         "Day",
         "Day",
         0.0,
         0.0,
         0.0,
         0.0,
         0.0,
         0.0,
         0.0,
         0.0,
         0.0,
         0.0,
         0.0,
         0.0,
         1.0,
         1.0,
         0.0,
         0.0
        ],
        [
         0,
         0.001,
         58.0,
         58.0,
         78.0,
         29.93,
         7.0,
         3.0,
         0.01,
         "false",
         "false",
         "false",
         "false",
         "false",
         "false",
         "false",
         "false",
         "false",
         "false",
         "false",
         "false",
         "Day",
         "Day",
         "Day",
         "Day",
         0.0,
         0.0,
         0.0,
         0.0,
         0.0,
         0.0,
         0.0,
         0.0,
         0.0,
         0.0,
         0.0,
         0.0,
         0.0,
         0.0,
         0.0,
         0.0
        ],
        [
         0,
         0.001,
         63.0,
         63.0,
         42.0,
         28.91,
         7.0,
         1.0,
         0.01,
         "false",
         "false",
         "false",
         "false",
         "false",
         "false",
         "false",
         "false",
         "false",
         "false",
         "false",
         "false",
         "Night",
         "Night",
         "Day",
         "Day",
         0.0,
         0.0,
         0.0,
         0.0,
         0.0,
         0.0,
         0.0,
         0.0,
         0.0,
         0.0,
         0.0,
         0.0,
         1.0,
         1.0,
         0.0,
         0.0
        ],
        [
         0,
         1.521,
         70.0,
         70.0,
         47.0,
         30.11,
         10.0,
         13.0,
         0.01,
         "false",
         "false",
         "false",
         "false",
         "false",
         "false",
         "false",
         "false",
         "false",
         "false",
         "false",
         "false",
         "Day",
         "Day",
         "Day",
         "Day",
         0.0,
         0.0,
         0.0,
         0.0,
         0.0,
         0.0,
         0.0,
         0.0,
         0.0,
         0.0,
         0.0,
         0.0,
         0.0,
         0.0,
         0.0,
         0.0
        ],
        [
         0,
         0.214,
         74.0,
         74.0,
         55.0,
         30.05,
         10.0,
         15.0,
         0.01,
         "false",
         "false",
         "true",
         "false",
         "false",
         "false",
         "false",
         "false",
         "false",
         "false",
         "false",
         "false",
         "Day",
         "Day",
         "Day",
         "Day",
         0.0,
         0.0,
         1.0,
         0.0,
         0.0,
         0.0,
         0.0,
         0.0,
         0.0,
         0.0,
         0.0,
         0.0,
         0.0,
         0.0,
         0.0,
         0.0
        ],
        [
         0,
         0.001,
         72.0,
         72.0,
         88.0,
         30.02,
         10.0,
         3.0,
         0.01,
         "false",
         "false",
         "false",
         "false",
         "false",
         "false",
         "false",
         "false",
         "false",
         "false",
         "false",
         "true",
         "Day",
         "Day",
         "Day",
         "Day",
         0.0,
         0.0,
         0.0,
         0.0,
         0.0,
         0.0,
         0.0,
         0.0,
         0.0,
         0.0,
         0.0,
         1.0,
         0.0,
         0.0,
         0.0,
         0.0
        ],
        [
         0,
         1.557,
         88.0,
         88.0,
         55.0,
         29.99,
         10.0,
         10.0,
         0.01,
         "false",
         "false",
         "false",
         "false",
         "false",
         "false",
         "false",
         "false",
         "false",
         "false",
         "false",
         "false",
         "Day",
         "Day",
         "Day",
         "Day",
         0.0,
         0.0,
         0.0,
         0.0,
         0.0,
         0.0,
         0.0,
         0.0,
         0.0,
         0.0,
         0.0,
         0.0,
         0.0,
         0.0,
         0.0,
         0.0
        ]
       ],
       "datasetInfos": [],
       "dbfsResultPath": null,
       "isJsonSchema": true,
       "metadata": {},
       "overflow": false,
       "plotOptions": {
        "customPlotOptions": {},
        "displayType": "table",
        "pivotAggregation": null,
        "pivotColumns": null,
        "xColumns": null,
        "yColumns": null
       },
       "removedWidgets": [],
       "schema": [
        {
         "metadata": "{}",
         "name": "Severity",
         "type": "\"integer\""
        },
        {
         "metadata": "{}",
         "name": "Distance(mi)",
         "type": "\"double\""
        },
        {
         "metadata": "{}",
         "name": "Temperature(F)",
         "type": "\"double\""
        },
        {
         "metadata": "{}",
         "name": "Wind_Chill(F)",
         "type": "\"double\""
        },
        {
         "metadata": "{}",
         "name": "Humidity(%)",
         "type": "\"double\""
        },
        {
         "metadata": "{}",
         "name": "Pressure(in)",
         "type": "\"double\""
        },
        {
         "metadata": "{}",
         "name": "Visibility(mi)",
         "type": "\"double\""
        },
        {
         "metadata": "{}",
         "name": "Wind_Speed(mph)",
         "type": "\"double\""
        },
        {
         "metadata": "{}",
         "name": "Precipitation(in)",
         "type": "\"double\""
        },
        {
         "metadata": "{}",
         "name": "Amenity",
         "type": "\"string\""
        },
        {
         "metadata": "{}",
         "name": "Bump",
         "type": "\"string\""
        },
        {
         "metadata": "{}",
         "name": "Crossing",
         "type": "\"string\""
        },
        {
         "metadata": "{}",
         "name": "Give_Way",
         "type": "\"string\""
        },
        {
         "metadata": "{}",
         "name": "Junction",
         "type": "\"string\""
        },
        {
         "metadata": "{}",
         "name": "No_Exit",
         "type": "\"string\""
        },
        {
         "metadata": "{}",
         "name": "Railway",
         "type": "\"string\""
        },
        {
         "metadata": "{}",
         "name": "Roundabout",
         "type": "\"string\""
        },
        {
         "metadata": "{}",
         "name": "Station",
         "type": "\"string\""
        },
        {
         "metadata": "{}",
         "name": "Stop",
         "type": "\"string\""
        },
        {
         "metadata": "{}",
         "name": "Traffic_Calming",
         "type": "\"string\""
        },
        {
         "metadata": "{}",
         "name": "Traffic_Signal",
         "type": "\"string\""
        },
        {
         "metadata": "{}",
         "name": "Sunrise_Sunset",
         "type": "\"string\""
        },
        {
         "metadata": "{}",
         "name": "Civil_Twilight",
         "type": "\"string\""
        },
        {
         "metadata": "{}",
         "name": "Nautical_Twilight",
         "type": "\"string\""
        },
        {
         "metadata": "{}",
         "name": "Astronomical_Twilight",
         "type": "\"string\""
        },
        {
         "metadata": "{\"ml_attr\":{\"vals\":[\"false\",\"true\"],\"type\":\"nominal\",\"name\":\"Amenity_idx\"}}",
         "name": "Amenity_idx",
         "type": "\"double\""
        },
        {
         "metadata": "{\"ml_attr\":{\"vals\":[\"false\",\"true\"],\"type\":\"nominal\",\"name\":\"Bump_idx\"}}",
         "name": "Bump_idx",
         "type": "\"double\""
        },
        {
         "metadata": "{\"ml_attr\":{\"vals\":[\"false\",\"true\"],\"type\":\"nominal\",\"name\":\"Crossing_idx\"}}",
         "name": "Crossing_idx",
         "type": "\"double\""
        },
        {
         "metadata": "{\"ml_attr\":{\"vals\":[\"false\",\"true\"],\"type\":\"nominal\",\"name\":\"Give_Way_idx\"}}",
         "name": "Give_Way_idx",
         "type": "\"double\""
        },
        {
         "metadata": "{\"ml_attr\":{\"vals\":[\"false\",\"true\"],\"type\":\"nominal\",\"name\":\"Junction_idx\"}}",
         "name": "Junction_idx",
         "type": "\"double\""
        },
        {
         "metadata": "{\"ml_attr\":{\"vals\":[\"false\",\"true\"],\"type\":\"nominal\",\"name\":\"No_Exit_idx\"}}",
         "name": "No_Exit_idx",
         "type": "\"double\""
        },
        {
         "metadata": "{\"ml_attr\":{\"vals\":[\"false\",\"true\"],\"type\":\"nominal\",\"name\":\"Railway_idx\"}}",
         "name": "Railway_idx",
         "type": "\"double\""
        },
        {
         "metadata": "{\"ml_attr\":{\"vals\":[\"false\",\"true\"],\"type\":\"nominal\",\"name\":\"Roundabout_idx\"}}",
         "name": "Roundabout_idx",
         "type": "\"double\""
        },
        {
         "metadata": "{\"ml_attr\":{\"vals\":[\"false\",\"true\"],\"type\":\"nominal\",\"name\":\"Station_idx\"}}",
         "name": "Station_idx",
         "type": "\"double\""
        },
        {
         "metadata": "{\"ml_attr\":{\"vals\":[\"false\",\"true\"],\"type\":\"nominal\",\"name\":\"Stop_idx\"}}",
         "name": "Stop_idx",
         "type": "\"double\""
        },
        {
         "metadata": "{\"ml_attr\":{\"vals\":[\"false\",\"true\"],\"type\":\"nominal\",\"name\":\"Traffic_Calming_idx\"}}",
         "name": "Traffic_Calming_idx",
         "type": "\"double\""
        },
        {
         "metadata": "{\"ml_attr\":{\"vals\":[\"false\",\"true\"],\"type\":\"nominal\",\"name\":\"Traffic_Signal_idx\"}}",
         "name": "Traffic_Signal_idx",
         "type": "\"double\""
        },
        {
         "metadata": "{\"ml_attr\":{\"vals\":[\"Day\",\"Night\"],\"type\":\"nominal\",\"name\":\"Sunrise_Sunset_idx\"}}",
         "name": "Sunrise_Sunset_idx",
         "type": "\"double\""
        },
        {
         "metadata": "{\"ml_attr\":{\"vals\":[\"Day\",\"Night\"],\"type\":\"nominal\",\"name\":\"Civil_Twilight_idx\"}}",
         "name": "Civil_Twilight_idx",
         "type": "\"double\""
        },
        {
         "metadata": "{\"ml_attr\":{\"vals\":[\"Day\",\"Night\"],\"type\":\"nominal\",\"name\":\"Nautical_Twilight_idx\"}}",
         "name": "Nautical_Twilight_idx",
         "type": "\"double\""
        },
        {
         "metadata": "{\"ml_attr\":{\"vals\":[\"Day\",\"Night\"],\"type\":\"nominal\",\"name\":\"Astronomical_Twilight_idx\"}}",
         "name": "Astronomical_Twilight_idx",
         "type": "\"double\""
        }
       ],
       "type": "table"
      }
     },
     "output_type": "display_data"
    }
   ],
   "source": [
    "us_acc_train_si.limit(10).display()"
   ]
  },
  {
   "cell_type": "markdown",
   "metadata": {
    "application/vnd.databricks.v1+cell": {
     "cellMetadata": {},
     "inputWidgets": {},
     "nuid": "7f72e14b-0136-48e9-8211-b627a764130c",
     "showTitle": false,
     "title": ""
    }
   },
   "source": [
    "#### Apply One Hot Encoder"
   ]
  },
  {
   "cell_type": "code",
   "execution_count": 0,
   "metadata": {
    "application/vnd.databricks.v1+cell": {
     "cellMetadata": {
      "byteLimit": 2048000,
      "rowLimit": 10000
     },
     "inputWidgets": {},
     "nuid": "ba2b9e6e-95d6-4682-ae76-62b83c6e4683",
     "showTitle": false,
     "title": ""
    }
   },
   "outputs": [],
   "source": [
    "from pyspark.ml.feature import OneHotEncoder\n",
    "ohe = OneHotEncoder(inputCols = [c + \"_idx\" for c in categorical_col], outputCols = [c + \"_ohe\" for c in categorical_col])\n",
    "us_acc_train_ohe = ohe.fit(us_acc_train_si).transform(us_acc_train_si)"
   ]
  },
  {
   "cell_type": "code",
   "execution_count": 0,
   "metadata": {
    "application/vnd.databricks.v1+cell": {
     "cellMetadata": {
      "byteLimit": 2048000,
      "rowLimit": 10000
     },
     "inputWidgets": {},
     "nuid": "9765361b-8854-46eb-b8f0-b7243720e770",
     "showTitle": false,
     "title": ""
    }
   },
   "outputs": [
    {
     "output_type": "display_data",
     "data": {
      "text/html": [
       "<style scoped>\n",
       "  .table-result-container {\n",
       "    max-height: 300px;\n",
       "    overflow: auto;\n",
       "  }\n",
       "  table, th, td {\n",
       "    border: 1px solid black;\n",
       "    border-collapse: collapse;\n",
       "  }\n",
       "  th, td {\n",
       "    padding: 5px;\n",
       "  }\n",
       "  th {\n",
       "    text-align: left;\n",
       "  }\n",
       "</style><div class='table-result-container'><table class='table-result'><thead style='background-color: white'><tr><th>Severity</th><th>Distance(mi)</th><th>Temperature(F)</th><th>Wind_Chill(F)</th><th>Humidity(%)</th><th>Pressure(in)</th><th>Visibility(mi)</th><th>Wind_Speed(mph)</th><th>Precipitation(in)</th><th>Amenity</th><th>Bump</th><th>Crossing</th><th>Give_Way</th><th>Junction</th><th>No_Exit</th><th>Railway</th><th>Roundabout</th><th>Station</th><th>Stop</th><th>Traffic_Calming</th><th>Traffic_Signal</th><th>Sunrise_Sunset</th><th>Civil_Twilight</th><th>Nautical_Twilight</th><th>Astronomical_Twilight</th><th>Amenity_idx</th><th>Bump_idx</th><th>Crossing_idx</th><th>Give_Way_idx</th><th>Junction_idx</th><th>No_Exit_idx</th><th>Railway_idx</th><th>Roundabout_idx</th><th>Station_idx</th><th>Stop_idx</th><th>Traffic_Calming_idx</th><th>Traffic_Signal_idx</th><th>Sunrise_Sunset_idx</th><th>Civil_Twilight_idx</th><th>Nautical_Twilight_idx</th><th>Astronomical_Twilight_idx</th><th>Amenity_ohe</th><th>Bump_ohe</th><th>Crossing_ohe</th><th>Give_Way_ohe</th><th>Junction_ohe</th><th>No_Exit_ohe</th><th>Railway_ohe</th><th>Roundabout_ohe</th><th>Station_ohe</th><th>Stop_ohe</th><th>Traffic_Calming_ohe</th><th>Traffic_Signal_ohe</th><th>Sunrise_Sunset_ohe</th><th>Civil_Twilight_ohe</th><th>Nautical_Twilight_ohe</th><th>Astronomical_Twilight_ohe</th></tr></thead><tbody><tr><td>0</td><td>1.52</td><td>79.0</td><td>79.0</td><td>84.0</td><td>29.88</td><td>8.0</td><td>25.0</td><td>0.01</td><td>false</td><td>false</td><td>false</td><td>false</td><td>false</td><td>false</td><td>false</td><td>false</td><td>false</td><td>false</td><td>false</td><td>false</td><td>Night</td><td>Night</td><td>Night</td><td>Night</td><td>0.0</td><td>0.0</td><td>0.0</td><td>0.0</td><td>0.0</td><td>0.0</td><td>0.0</td><td>0.0</td><td>0.0</td><td>0.0</td><td>0.0</td><td>0.0</td><td>1.0</td><td>1.0</td><td>1.0</td><td>1.0</td><td>Map(vectorType -> sparse, length -> 1, indices -> List(0), values -> List(1.0))</td><td>Map(vectorType -> sparse, length -> 1, indices -> List(0), values -> List(1.0))</td><td>Map(vectorType -> sparse, length -> 1, indices -> List(0), values -> List(1.0))</td><td>Map(vectorType -> sparse, length -> 1, indices -> List(0), values -> List(1.0))</td><td>Map(vectorType -> sparse, length -> 1, indices -> List(0), values -> List(1.0))</td><td>Map(vectorType -> sparse, length -> 1, indices -> List(0), values -> List(1.0))</td><td>Map(vectorType -> sparse, length -> 1, indices -> List(0), values -> List(1.0))</td><td>Map(vectorType -> sparse, length -> 1, indices -> List(0), values -> List(1.0))</td><td>Map(vectorType -> sparse, length -> 1, indices -> List(0), values -> List(1.0))</td><td>Map(vectorType -> sparse, length -> 1, indices -> List(0), values -> List(1.0))</td><td>Map(vectorType -> sparse, length -> 1, indices -> List(0), values -> List(1.0))</td><td>Map(vectorType -> sparse, length -> 1, indices -> List(0), values -> List(1.0))</td><td>Map(vectorType -> sparse, length -> 1, indices -> List(), values -> List())</td><td>Map(vectorType -> sparse, length -> 1, indices -> List(), values -> List())</td><td>Map(vectorType -> sparse, length -> 1, indices -> List(), values -> List())</td><td>Map(vectorType -> sparse, length -> 1, indices -> List(), values -> List())</td></tr><tr><td>0</td><td>0.421</td><td>95.0</td><td>95.0</td><td>47.0</td><td>29.8</td><td>10.0</td><td>10.0</td><td>0.01</td><td>false</td><td>false</td><td>false</td><td>false</td><td>false</td><td>false</td><td>false</td><td>false</td><td>false</td><td>false</td><td>false</td><td>false</td><td>Day</td><td>Day</td><td>Day</td><td>Day</td><td>0.0</td><td>0.0</td><td>0.0</td><td>0.0</td><td>0.0</td><td>0.0</td><td>0.0</td><td>0.0</td><td>0.0</td><td>0.0</td><td>0.0</td><td>0.0</td><td>0.0</td><td>0.0</td><td>0.0</td><td>0.0</td><td>Map(vectorType -> sparse, length -> 1, indices -> List(0), values -> List(1.0))</td><td>Map(vectorType -> sparse, length -> 1, indices -> List(0), values -> List(1.0))</td><td>Map(vectorType -> sparse, length -> 1, indices -> List(0), values -> List(1.0))</td><td>Map(vectorType -> sparse, length -> 1, indices -> List(0), values -> List(1.0))</td><td>Map(vectorType -> sparse, length -> 1, indices -> List(0), values -> List(1.0))</td><td>Map(vectorType -> sparse, length -> 1, indices -> List(0), values -> List(1.0))</td><td>Map(vectorType -> sparse, length -> 1, indices -> List(0), values -> List(1.0))</td><td>Map(vectorType -> sparse, length -> 1, indices -> List(0), values -> List(1.0))</td><td>Map(vectorType -> sparse, length -> 1, indices -> List(0), values -> List(1.0))</td><td>Map(vectorType -> sparse, length -> 1, indices -> List(0), values -> List(1.0))</td><td>Map(vectorType -> sparse, length -> 1, indices -> List(0), values -> List(1.0))</td><td>Map(vectorType -> sparse, length -> 1, indices -> List(0), values -> List(1.0))</td><td>Map(vectorType -> sparse, length -> 1, indices -> List(0), values -> List(1.0))</td><td>Map(vectorType -> sparse, length -> 1, indices -> List(0), values -> List(1.0))</td><td>Map(vectorType -> sparse, length -> 1, indices -> List(0), values -> List(1.0))</td><td>Map(vectorType -> sparse, length -> 1, indices -> List(0), values -> List(1.0))</td></tr><tr><td>0</td><td>0.001</td><td>81.0</td><td>81.0</td><td>56.0</td><td>29.46</td><td>10.0</td><td>7.0</td><td>0.01</td><td>false</td><td>false</td><td>false</td><td>false</td><td>false</td><td>false</td><td>false</td><td>false</td><td>false</td><td>false</td><td>false</td><td>true</td><td>Day</td><td>Day</td><td>Day</td><td>Day</td><td>0.0</td><td>0.0</td><td>0.0</td><td>0.0</td><td>0.0</td><td>0.0</td><td>0.0</td><td>0.0</td><td>0.0</td><td>0.0</td><td>0.0</td><td>1.0</td><td>0.0</td><td>0.0</td><td>0.0</td><td>0.0</td><td>Map(vectorType -> sparse, length -> 1, indices -> List(0), values -> List(1.0))</td><td>Map(vectorType -> sparse, length -> 1, indices -> List(0), values -> List(1.0))</td><td>Map(vectorType -> sparse, length -> 1, indices -> List(0), values -> List(1.0))</td><td>Map(vectorType -> sparse, length -> 1, indices -> List(0), values -> List(1.0))</td><td>Map(vectorType -> sparse, length -> 1, indices -> List(0), values -> List(1.0))</td><td>Map(vectorType -> sparse, length -> 1, indices -> List(0), values -> List(1.0))</td><td>Map(vectorType -> sparse, length -> 1, indices -> List(0), values -> List(1.0))</td><td>Map(vectorType -> sparse, length -> 1, indices -> List(0), values -> List(1.0))</td><td>Map(vectorType -> sparse, length -> 1, indices -> List(0), values -> List(1.0))</td><td>Map(vectorType -> sparse, length -> 1, indices -> List(0), values -> List(1.0))</td><td>Map(vectorType -> sparse, length -> 1, indices -> List(0), values -> List(1.0))</td><td>Map(vectorType -> sparse, length -> 1, indices -> List(), values -> List())</td><td>Map(vectorType -> sparse, length -> 1, indices -> List(0), values -> List(1.0))</td><td>Map(vectorType -> sparse, length -> 1, indices -> List(0), values -> List(1.0))</td><td>Map(vectorType -> sparse, length -> 1, indices -> List(0), values -> List(1.0))</td><td>Map(vectorType -> sparse, length -> 1, indices -> List(0), values -> List(1.0))</td></tr><tr><td>0</td><td>0.213</td><td>72.0</td><td>72.0</td><td>59.0</td><td>29.52</td><td>10.0</td><td>7.0</td><td>0.01</td><td>false</td><td>false</td><td>false</td><td>false</td><td>false</td><td>false</td><td>false</td><td>false</td><td>false</td><td>false</td><td>false</td><td>false</td><td>Night</td><td>Night</td><td>Day</td><td>Day</td><td>0.0</td><td>0.0</td><td>0.0</td><td>0.0</td><td>0.0</td><td>0.0</td><td>0.0</td><td>0.0</td><td>0.0</td><td>0.0</td><td>0.0</td><td>0.0</td><td>1.0</td><td>1.0</td><td>0.0</td><td>0.0</td><td>Map(vectorType -> sparse, length -> 1, indices -> List(0), values -> List(1.0))</td><td>Map(vectorType -> sparse, length -> 1, indices -> List(0), values -> List(1.0))</td><td>Map(vectorType -> sparse, length -> 1, indices -> List(0), values -> List(1.0))</td><td>Map(vectorType -> sparse, length -> 1, indices -> List(0), values -> List(1.0))</td><td>Map(vectorType -> sparse, length -> 1, indices -> List(0), values -> List(1.0))</td><td>Map(vectorType -> sparse, length -> 1, indices -> List(0), values -> List(1.0))</td><td>Map(vectorType -> sparse, length -> 1, indices -> List(0), values -> List(1.0))</td><td>Map(vectorType -> sparse, length -> 1, indices -> List(0), values -> List(1.0))</td><td>Map(vectorType -> sparse, length -> 1, indices -> List(0), values -> List(1.0))</td><td>Map(vectorType -> sparse, length -> 1, indices -> List(0), values -> List(1.0))</td><td>Map(vectorType -> sparse, length -> 1, indices -> List(0), values -> List(1.0))</td><td>Map(vectorType -> sparse, length -> 1, indices -> List(0), values -> List(1.0))</td><td>Map(vectorType -> sparse, length -> 1, indices -> List(), values -> List())</td><td>Map(vectorType -> sparse, length -> 1, indices -> List(), values -> List())</td><td>Map(vectorType -> sparse, length -> 1, indices -> List(0), values -> List(1.0))</td><td>Map(vectorType -> sparse, length -> 1, indices -> List(0), values -> List(1.0))</td></tr><tr><td>0</td><td>0.001</td><td>58.0</td><td>58.0</td><td>78.0</td><td>29.93</td><td>7.0</td><td>3.0</td><td>0.01</td><td>false</td><td>false</td><td>false</td><td>false</td><td>false</td><td>false</td><td>false</td><td>false</td><td>false</td><td>false</td><td>false</td><td>false</td><td>Day</td><td>Day</td><td>Day</td><td>Day</td><td>0.0</td><td>0.0</td><td>0.0</td><td>0.0</td><td>0.0</td><td>0.0</td><td>0.0</td><td>0.0</td><td>0.0</td><td>0.0</td><td>0.0</td><td>0.0</td><td>0.0</td><td>0.0</td><td>0.0</td><td>0.0</td><td>Map(vectorType -> sparse, length -> 1, indices -> List(0), values -> List(1.0))</td><td>Map(vectorType -> sparse, length -> 1, indices -> List(0), values -> List(1.0))</td><td>Map(vectorType -> sparse, length -> 1, indices -> List(0), values -> List(1.0))</td><td>Map(vectorType -> sparse, length -> 1, indices -> List(0), values -> List(1.0))</td><td>Map(vectorType -> sparse, length -> 1, indices -> List(0), values -> List(1.0))</td><td>Map(vectorType -> sparse, length -> 1, indices -> List(0), values -> List(1.0))</td><td>Map(vectorType -> sparse, length -> 1, indices -> List(0), values -> List(1.0))</td><td>Map(vectorType -> sparse, length -> 1, indices -> List(0), values -> List(1.0))</td><td>Map(vectorType -> sparse, length -> 1, indices -> List(0), values -> List(1.0))</td><td>Map(vectorType -> sparse, length -> 1, indices -> List(0), values -> List(1.0))</td><td>Map(vectorType -> sparse, length -> 1, indices -> List(0), values -> List(1.0))</td><td>Map(vectorType -> sparse, length -> 1, indices -> List(0), values -> List(1.0))</td><td>Map(vectorType -> sparse, length -> 1, indices -> List(0), values -> List(1.0))</td><td>Map(vectorType -> sparse, length -> 1, indices -> List(0), values -> List(1.0))</td><td>Map(vectorType -> sparse, length -> 1, indices -> List(0), values -> List(1.0))</td><td>Map(vectorType -> sparse, length -> 1, indices -> List(0), values -> List(1.0))</td></tr></tbody></table></div>"
      ]
     },
     "metadata": {
      "application/vnd.databricks.v1+output": {
       "addedWidgets": {},
       "aggData": [],
       "aggError": "",
       "aggOverflow": false,
       "aggSchema": [],
       "aggSeriesLimitReached": false,
       "aggType": "",
       "arguments": {},
       "columnCustomDisplayInfos": {},
       "data": [
        [
         0,
         1.52,
         79.0,
         79.0,
         84.0,
         29.88,
         8.0,
         25.0,
         0.01,
         "false",
         "false",
         "false",
         "false",
         "false",
         "false",
         "false",
         "false",
         "false",
         "false",
         "false",
         "false",
         "Night",
         "Night",
         "Night",
         "Night",
         0.0,
         0.0,
         0.0,
         0.0,
         0.0,
         0.0,
         0.0,
         0.0,
         0.0,
         0.0,
         0.0,
         0.0,
         1.0,
         1.0,
         1.0,
         1.0,
         {
          "indices": [
           0
          ],
          "length": 1,
          "values": [
           1.0
          ],
          "vectorType": "sparse"
         },
         {
          "indices": [
           0
          ],
          "length": 1,
          "values": [
           1.0
          ],
          "vectorType": "sparse"
         },
         {
          "indices": [
           0
          ],
          "length": 1,
          "values": [
           1.0
          ],
          "vectorType": "sparse"
         },
         {
          "indices": [
           0
          ],
          "length": 1,
          "values": [
           1.0
          ],
          "vectorType": "sparse"
         },
         {
          "indices": [
           0
          ],
          "length": 1,
          "values": [
           1.0
          ],
          "vectorType": "sparse"
         },
         {
          "indices": [
           0
          ],
          "length": 1,
          "values": [
           1.0
          ],
          "vectorType": "sparse"
         },
         {
          "indices": [
           0
          ],
          "length": 1,
          "values": [
           1.0
          ],
          "vectorType": "sparse"
         },
         {
          "indices": [
           0
          ],
          "length": 1,
          "values": [
           1.0
          ],
          "vectorType": "sparse"
         },
         {
          "indices": [
           0
          ],
          "length": 1,
          "values": [
           1.0
          ],
          "vectorType": "sparse"
         },
         {
          "indices": [
           0
          ],
          "length": 1,
          "values": [
           1.0
          ],
          "vectorType": "sparse"
         },
         {
          "indices": [
           0
          ],
          "length": 1,
          "values": [
           1.0
          ],
          "vectorType": "sparse"
         },
         {
          "indices": [
           0
          ],
          "length": 1,
          "values": [
           1.0
          ],
          "vectorType": "sparse"
         },
         {
          "indices": [],
          "length": 1,
          "values": [],
          "vectorType": "sparse"
         },
         {
          "indices": [],
          "length": 1,
          "values": [],
          "vectorType": "sparse"
         },
         {
          "indices": [],
          "length": 1,
          "values": [],
          "vectorType": "sparse"
         },
         {
          "indices": [],
          "length": 1,
          "values": [],
          "vectorType": "sparse"
         }
        ],
        [
         0,
         0.421,
         95.0,
         95.0,
         47.0,
         29.8,
         10.0,
         10.0,
         0.01,
         "false",
         "false",
         "false",
         "false",
         "false",
         "false",
         "false",
         "false",
         "false",
         "false",
         "false",
         "false",
         "Day",
         "Day",
         "Day",
         "Day",
         0.0,
         0.0,
         0.0,
         0.0,
         0.0,
         0.0,
         0.0,
         0.0,
         0.0,
         0.0,
         0.0,
         0.0,
         0.0,
         0.0,
         0.0,
         0.0,
         {
          "indices": [
           0
          ],
          "length": 1,
          "values": [
           1.0
          ],
          "vectorType": "sparse"
         },
         {
          "indices": [
           0
          ],
          "length": 1,
          "values": [
           1.0
          ],
          "vectorType": "sparse"
         },
         {
          "indices": [
           0
          ],
          "length": 1,
          "values": [
           1.0
          ],
          "vectorType": "sparse"
         },
         {
          "indices": [
           0
          ],
          "length": 1,
          "values": [
           1.0
          ],
          "vectorType": "sparse"
         },
         {
          "indices": [
           0
          ],
          "length": 1,
          "values": [
           1.0
          ],
          "vectorType": "sparse"
         },
         {
          "indices": [
           0
          ],
          "length": 1,
          "values": [
           1.0
          ],
          "vectorType": "sparse"
         },
         {
          "indices": [
           0
          ],
          "length": 1,
          "values": [
           1.0
          ],
          "vectorType": "sparse"
         },
         {
          "indices": [
           0
          ],
          "length": 1,
          "values": [
           1.0
          ],
          "vectorType": "sparse"
         },
         {
          "indices": [
           0
          ],
          "length": 1,
          "values": [
           1.0
          ],
          "vectorType": "sparse"
         },
         {
          "indices": [
           0
          ],
          "length": 1,
          "values": [
           1.0
          ],
          "vectorType": "sparse"
         },
         {
          "indices": [
           0
          ],
          "length": 1,
          "values": [
           1.0
          ],
          "vectorType": "sparse"
         },
         {
          "indices": [
           0
          ],
          "length": 1,
          "values": [
           1.0
          ],
          "vectorType": "sparse"
         },
         {
          "indices": [
           0
          ],
          "length": 1,
          "values": [
           1.0
          ],
          "vectorType": "sparse"
         },
         {
          "indices": [
           0
          ],
          "length": 1,
          "values": [
           1.0
          ],
          "vectorType": "sparse"
         },
         {
          "indices": [
           0
          ],
          "length": 1,
          "values": [
           1.0
          ],
          "vectorType": "sparse"
         },
         {
          "indices": [
           0
          ],
          "length": 1,
          "values": [
           1.0
          ],
          "vectorType": "sparse"
         }
        ],
        [
         0,
         0.001,
         81.0,
         81.0,
         56.0,
         29.46,
         10.0,
         7.0,
         0.01,
         "false",
         "false",
         "false",
         "false",
         "false",
         "false",
         "false",
         "false",
         "false",
         "false",
         "false",
         "true",
         "Day",
         "Day",
         "Day",
         "Day",
         0.0,
         0.0,
         0.0,
         0.0,
         0.0,
         0.0,
         0.0,
         0.0,
         0.0,
         0.0,
         0.0,
         1.0,
         0.0,
         0.0,
         0.0,
         0.0,
         {
          "indices": [
           0
          ],
          "length": 1,
          "values": [
           1.0
          ],
          "vectorType": "sparse"
         },
         {
          "indices": [
           0
          ],
          "length": 1,
          "values": [
           1.0
          ],
          "vectorType": "sparse"
         },
         {
          "indices": [
           0
          ],
          "length": 1,
          "values": [
           1.0
          ],
          "vectorType": "sparse"
         },
         {
          "indices": [
           0
          ],
          "length": 1,
          "values": [
           1.0
          ],
          "vectorType": "sparse"
         },
         {
          "indices": [
           0
          ],
          "length": 1,
          "values": [
           1.0
          ],
          "vectorType": "sparse"
         },
         {
          "indices": [
           0
          ],
          "length": 1,
          "values": [
           1.0
          ],
          "vectorType": "sparse"
         },
         {
          "indices": [
           0
          ],
          "length": 1,
          "values": [
           1.0
          ],
          "vectorType": "sparse"
         },
         {
          "indices": [
           0
          ],
          "length": 1,
          "values": [
           1.0
          ],
          "vectorType": "sparse"
         },
         {
          "indices": [
           0
          ],
          "length": 1,
          "values": [
           1.0
          ],
          "vectorType": "sparse"
         },
         {
          "indices": [
           0
          ],
          "length": 1,
          "values": [
           1.0
          ],
          "vectorType": "sparse"
         },
         {
          "indices": [
           0
          ],
          "length": 1,
          "values": [
           1.0
          ],
          "vectorType": "sparse"
         },
         {
          "indices": [],
          "length": 1,
          "values": [],
          "vectorType": "sparse"
         },
         {
          "indices": [
           0
          ],
          "length": 1,
          "values": [
           1.0
          ],
          "vectorType": "sparse"
         },
         {
          "indices": [
           0
          ],
          "length": 1,
          "values": [
           1.0
          ],
          "vectorType": "sparse"
         },
         {
          "indices": [
           0
          ],
          "length": 1,
          "values": [
           1.0
          ],
          "vectorType": "sparse"
         },
         {
          "indices": [
           0
          ],
          "length": 1,
          "values": [
           1.0
          ],
          "vectorType": "sparse"
         }
        ],
        [
         0,
         0.213,
         72.0,
         72.0,
         59.0,
         29.52,
         10.0,
         7.0,
         0.01,
         "false",
         "false",
         "false",
         "false",
         "false",
         "false",
         "false",
         "false",
         "false",
         "false",
         "false",
         "false",
         "Night",
         "Night",
         "Day",
         "Day",
         0.0,
         0.0,
         0.0,
         0.0,
         0.0,
         0.0,
         0.0,
         0.0,
         0.0,
         0.0,
         0.0,
         0.0,
         1.0,
         1.0,
         0.0,
         0.0,
         {
          "indices": [
           0
          ],
          "length": 1,
          "values": [
           1.0
          ],
          "vectorType": "sparse"
         },
         {
          "indices": [
           0
          ],
          "length": 1,
          "values": [
           1.0
          ],
          "vectorType": "sparse"
         },
         {
          "indices": [
           0
          ],
          "length": 1,
          "values": [
           1.0
          ],
          "vectorType": "sparse"
         },
         {
          "indices": [
           0
          ],
          "length": 1,
          "values": [
           1.0
          ],
          "vectorType": "sparse"
         },
         {
          "indices": [
           0
          ],
          "length": 1,
          "values": [
           1.0
          ],
          "vectorType": "sparse"
         },
         {
          "indices": [
           0
          ],
          "length": 1,
          "values": [
           1.0
          ],
          "vectorType": "sparse"
         },
         {
          "indices": [
           0
          ],
          "length": 1,
          "values": [
           1.0
          ],
          "vectorType": "sparse"
         },
         {
          "indices": [
           0
          ],
          "length": 1,
          "values": [
           1.0
          ],
          "vectorType": "sparse"
         },
         {
          "indices": [
           0
          ],
          "length": 1,
          "values": [
           1.0
          ],
          "vectorType": "sparse"
         },
         {
          "indices": [
           0
          ],
          "length": 1,
          "values": [
           1.0
          ],
          "vectorType": "sparse"
         },
         {
          "indices": [
           0
          ],
          "length": 1,
          "values": [
           1.0
          ],
          "vectorType": "sparse"
         },
         {
          "indices": [
           0
          ],
          "length": 1,
          "values": [
           1.0
          ],
          "vectorType": "sparse"
         },
         {
          "indices": [],
          "length": 1,
          "values": [],
          "vectorType": "sparse"
         },
         {
          "indices": [],
          "length": 1,
          "values": [],
          "vectorType": "sparse"
         },
         {
          "indices": [
           0
          ],
          "length": 1,
          "values": [
           1.0
          ],
          "vectorType": "sparse"
         },
         {
          "indices": [
           0
          ],
          "length": 1,
          "values": [
           1.0
          ],
          "vectorType": "sparse"
         }
        ],
        [
         0,
         0.001,
         58.0,
         58.0,
         78.0,
         29.93,
         7.0,
         3.0,
         0.01,
         "false",
         "false",
         "false",
         "false",
         "false",
         "false",
         "false",
         "false",
         "false",
         "false",
         "false",
         "false",
         "Day",
         "Day",
         "Day",
         "Day",
         0.0,
         0.0,
         0.0,
         0.0,
         0.0,
         0.0,
         0.0,
         0.0,
         0.0,
         0.0,
         0.0,
         0.0,
         0.0,
         0.0,
         0.0,
         0.0,
         {
          "indices": [
           0
          ],
          "length": 1,
          "values": [
           1.0
          ],
          "vectorType": "sparse"
         },
         {
          "indices": [
           0
          ],
          "length": 1,
          "values": [
           1.0
          ],
          "vectorType": "sparse"
         },
         {
          "indices": [
           0
          ],
          "length": 1,
          "values": [
           1.0
          ],
          "vectorType": "sparse"
         },
         {
          "indices": [
           0
          ],
          "length": 1,
          "values": [
           1.0
          ],
          "vectorType": "sparse"
         },
         {
          "indices": [
           0
          ],
          "length": 1,
          "values": [
           1.0
          ],
          "vectorType": "sparse"
         },
         {
          "indices": [
           0
          ],
          "length": 1,
          "values": [
           1.0
          ],
          "vectorType": "sparse"
         },
         {
          "indices": [
           0
          ],
          "length": 1,
          "values": [
           1.0
          ],
          "vectorType": "sparse"
         },
         {
          "indices": [
           0
          ],
          "length": 1,
          "values": [
           1.0
          ],
          "vectorType": "sparse"
         },
         {
          "indices": [
           0
          ],
          "length": 1,
          "values": [
           1.0
          ],
          "vectorType": "sparse"
         },
         {
          "indices": [
           0
          ],
          "length": 1,
          "values": [
           1.0
          ],
          "vectorType": "sparse"
         },
         {
          "indices": [
           0
          ],
          "length": 1,
          "values": [
           1.0
          ],
          "vectorType": "sparse"
         },
         {
          "indices": [
           0
          ],
          "length": 1,
          "values": [
           1.0
          ],
          "vectorType": "sparse"
         },
         {
          "indices": [
           0
          ],
          "length": 1,
          "values": [
           1.0
          ],
          "vectorType": "sparse"
         },
         {
          "indices": [
           0
          ],
          "length": 1,
          "values": [
           1.0
          ],
          "vectorType": "sparse"
         },
         {
          "indices": [
           0
          ],
          "length": 1,
          "values": [
           1.0
          ],
          "vectorType": "sparse"
         },
         {
          "indices": [
           0
          ],
          "length": 1,
          "values": [
           1.0
          ],
          "vectorType": "sparse"
         }
        ]
       ],
       "datasetInfos": [],
       "dbfsResultPath": null,
       "isJsonSchema": true,
       "metadata": {},
       "overflow": false,
       "plotOptions": {
        "customPlotOptions": {},
        "displayType": "table",
        "pivotAggregation": null,
        "pivotColumns": null,
        "xColumns": null,
        "yColumns": null
       },
       "removedWidgets": [],
       "schema": [
        {
         "metadata": "{}",
         "name": "Severity",
         "type": "\"integer\""
        },
        {
         "metadata": "{}",
         "name": "Distance(mi)",
         "type": "\"double\""
        },
        {
         "metadata": "{}",
         "name": "Temperature(F)",
         "type": "\"double\""
        },
        {
         "metadata": "{}",
         "name": "Wind_Chill(F)",
         "type": "\"double\""
        },
        {
         "metadata": "{}",
         "name": "Humidity(%)",
         "type": "\"double\""
        },
        {
         "metadata": "{}",
         "name": "Pressure(in)",
         "type": "\"double\""
        },
        {
         "metadata": "{}",
         "name": "Visibility(mi)",
         "type": "\"double\""
        },
        {
         "metadata": "{}",
         "name": "Wind_Speed(mph)",
         "type": "\"double\""
        },
        {
         "metadata": "{}",
         "name": "Precipitation(in)",
         "type": "\"double\""
        },
        {
         "metadata": "{}",
         "name": "Amenity",
         "type": "\"string\""
        },
        {
         "metadata": "{}",
         "name": "Bump",
         "type": "\"string\""
        },
        {
         "metadata": "{}",
         "name": "Crossing",
         "type": "\"string\""
        },
        {
         "metadata": "{}",
         "name": "Give_Way",
         "type": "\"string\""
        },
        {
         "metadata": "{}",
         "name": "Junction",
         "type": "\"string\""
        },
        {
         "metadata": "{}",
         "name": "No_Exit",
         "type": "\"string\""
        },
        {
         "metadata": "{}",
         "name": "Railway",
         "type": "\"string\""
        },
        {
         "metadata": "{}",
         "name": "Roundabout",
         "type": "\"string\""
        },
        {
         "metadata": "{}",
         "name": "Station",
         "type": "\"string\""
        },
        {
         "metadata": "{}",
         "name": "Stop",
         "type": "\"string\""
        },
        {
         "metadata": "{}",
         "name": "Traffic_Calming",
         "type": "\"string\""
        },
        {
         "metadata": "{}",
         "name": "Traffic_Signal",
         "type": "\"string\""
        },
        {
         "metadata": "{}",
         "name": "Sunrise_Sunset",
         "type": "\"string\""
        },
        {
         "metadata": "{}",
         "name": "Civil_Twilight",
         "type": "\"string\""
        },
        {
         "metadata": "{}",
         "name": "Nautical_Twilight",
         "type": "\"string\""
        },
        {
         "metadata": "{}",
         "name": "Astronomical_Twilight",
         "type": "\"string\""
        },
        {
         "metadata": "{\"ml_attr\":{\"vals\":[\"false\",\"true\"],\"type\":\"nominal\",\"name\":\"Amenity_idx\"}}",
         "name": "Amenity_idx",
         "type": "\"double\""
        },
        {
         "metadata": "{\"ml_attr\":{\"vals\":[\"false\",\"true\"],\"type\":\"nominal\",\"name\":\"Bump_idx\"}}",
         "name": "Bump_idx",
         "type": "\"double\""
        },
        {
         "metadata": "{\"ml_attr\":{\"vals\":[\"false\",\"true\"],\"type\":\"nominal\",\"name\":\"Crossing_idx\"}}",
         "name": "Crossing_idx",
         "type": "\"double\""
        },
        {
         "metadata": "{\"ml_attr\":{\"vals\":[\"false\",\"true\"],\"type\":\"nominal\",\"name\":\"Give_Way_idx\"}}",
         "name": "Give_Way_idx",
         "type": "\"double\""
        },
        {
         "metadata": "{\"ml_attr\":{\"vals\":[\"false\",\"true\"],\"type\":\"nominal\",\"name\":\"Junction_idx\"}}",
         "name": "Junction_idx",
         "type": "\"double\""
        },
        {
         "metadata": "{\"ml_attr\":{\"vals\":[\"false\",\"true\"],\"type\":\"nominal\",\"name\":\"No_Exit_idx\"}}",
         "name": "No_Exit_idx",
         "type": "\"double\""
        },
        {
         "metadata": "{\"ml_attr\":{\"vals\":[\"false\",\"true\"],\"type\":\"nominal\",\"name\":\"Railway_idx\"}}",
         "name": "Railway_idx",
         "type": "\"double\""
        },
        {
         "metadata": "{\"ml_attr\":{\"vals\":[\"false\",\"true\"],\"type\":\"nominal\",\"name\":\"Roundabout_idx\"}}",
         "name": "Roundabout_idx",
         "type": "\"double\""
        },
        {
         "metadata": "{\"ml_attr\":{\"vals\":[\"false\",\"true\"],\"type\":\"nominal\",\"name\":\"Station_idx\"}}",
         "name": "Station_idx",
         "type": "\"double\""
        },
        {
         "metadata": "{\"ml_attr\":{\"vals\":[\"false\",\"true\"],\"type\":\"nominal\",\"name\":\"Stop_idx\"}}",
         "name": "Stop_idx",
         "type": "\"double\""
        },
        {
         "metadata": "{\"ml_attr\":{\"vals\":[\"false\",\"true\"],\"type\":\"nominal\",\"name\":\"Traffic_Calming_idx\"}}",
         "name": "Traffic_Calming_idx",
         "type": "\"double\""
        },
        {
         "metadata": "{\"ml_attr\":{\"vals\":[\"false\",\"true\"],\"type\":\"nominal\",\"name\":\"Traffic_Signal_idx\"}}",
         "name": "Traffic_Signal_idx",
         "type": "\"double\""
        },
        {
         "metadata": "{\"ml_attr\":{\"vals\":[\"Day\",\"Night\"],\"type\":\"nominal\",\"name\":\"Sunrise_Sunset_idx\"}}",
         "name": "Sunrise_Sunset_idx",
         "type": "\"double\""
        },
        {
         "metadata": "{\"ml_attr\":{\"vals\":[\"Day\",\"Night\"],\"type\":\"nominal\",\"name\":\"Civil_Twilight_idx\"}}",
         "name": "Civil_Twilight_idx",
         "type": "\"double\""
        },
        {
         "metadata": "{\"ml_attr\":{\"vals\":[\"Day\",\"Night\"],\"type\":\"nominal\",\"name\":\"Nautical_Twilight_idx\"}}",
         "name": "Nautical_Twilight_idx",
         "type": "\"double\""
        },
        {
         "metadata": "{\"ml_attr\":{\"vals\":[\"Day\",\"Night\"],\"type\":\"nominal\",\"name\":\"Astronomical_Twilight_idx\"}}",
         "name": "Astronomical_Twilight_idx",
         "type": "\"double\""
        },
        {
         "metadata": "{\"ml_attr\":{\"attrs\":{\"binary\":[{\"idx\":0,\"name\":\"false\"}]},\"num_attrs\":1}}",
         "name": "Amenity_ohe",
         "type": "{\"type\":\"udt\",\"class\":\"org.apache.spark.ml.linalg.VectorUDT\",\"pyClass\":\"pyspark.ml.linalg.VectorUDT\",\"sqlType\":{\"type\":\"struct\",\"fields\":[{\"name\":\"type\",\"type\":\"byte\",\"nullable\":false,\"metadata\":{}},{\"name\":\"size\",\"type\":\"integer\",\"nullable\":true,\"metadata\":{}},{\"name\":\"indices\",\"type\":{\"type\":\"array\",\"elementType\":\"integer\",\"containsNull\":false},\"nullable\":true,\"metadata\":{}},{\"name\":\"values\",\"type\":{\"type\":\"array\",\"elementType\":\"double\",\"containsNull\":false},\"nullable\":true,\"metadata\":{}}]}}"
        },
        {
         "metadata": "{\"ml_attr\":{\"attrs\":{\"binary\":[{\"idx\":0,\"name\":\"false\"}]},\"num_attrs\":1}}",
         "name": "Bump_ohe",
         "type": "{\"type\":\"udt\",\"class\":\"org.apache.spark.ml.linalg.VectorUDT\",\"pyClass\":\"pyspark.ml.linalg.VectorUDT\",\"sqlType\":{\"type\":\"struct\",\"fields\":[{\"name\":\"type\",\"type\":\"byte\",\"nullable\":false,\"metadata\":{}},{\"name\":\"size\",\"type\":\"integer\",\"nullable\":true,\"metadata\":{}},{\"name\":\"indices\",\"type\":{\"type\":\"array\",\"elementType\":\"integer\",\"containsNull\":false},\"nullable\":true,\"metadata\":{}},{\"name\":\"values\",\"type\":{\"type\":\"array\",\"elementType\":\"double\",\"containsNull\":false},\"nullable\":true,\"metadata\":{}}]}}"
        },
        {
         "metadata": "{\"ml_attr\":{\"attrs\":{\"binary\":[{\"idx\":0,\"name\":\"false\"}]},\"num_attrs\":1}}",
         "name": "Crossing_ohe",
         "type": "{\"type\":\"udt\",\"class\":\"org.apache.spark.ml.linalg.VectorUDT\",\"pyClass\":\"pyspark.ml.linalg.VectorUDT\",\"sqlType\":{\"type\":\"struct\",\"fields\":[{\"name\":\"type\",\"type\":\"byte\",\"nullable\":false,\"metadata\":{}},{\"name\":\"size\",\"type\":\"integer\",\"nullable\":true,\"metadata\":{}},{\"name\":\"indices\",\"type\":{\"type\":\"array\",\"elementType\":\"integer\",\"containsNull\":false},\"nullable\":true,\"metadata\":{}},{\"name\":\"values\",\"type\":{\"type\":\"array\",\"elementType\":\"double\",\"containsNull\":false},\"nullable\":true,\"metadata\":{}}]}}"
        },
        {
         "metadata": "{\"ml_attr\":{\"attrs\":{\"binary\":[{\"idx\":0,\"name\":\"false\"}]},\"num_attrs\":1}}",
         "name": "Give_Way_ohe",
         "type": "{\"type\":\"udt\",\"class\":\"org.apache.spark.ml.linalg.VectorUDT\",\"pyClass\":\"pyspark.ml.linalg.VectorUDT\",\"sqlType\":{\"type\":\"struct\",\"fields\":[{\"name\":\"type\",\"type\":\"byte\",\"nullable\":false,\"metadata\":{}},{\"name\":\"size\",\"type\":\"integer\",\"nullable\":true,\"metadata\":{}},{\"name\":\"indices\",\"type\":{\"type\":\"array\",\"elementType\":\"integer\",\"containsNull\":false},\"nullable\":true,\"metadata\":{}},{\"name\":\"values\",\"type\":{\"type\":\"array\",\"elementType\":\"double\",\"containsNull\":false},\"nullable\":true,\"metadata\":{}}]}}"
        },
        {
         "metadata": "{\"ml_attr\":{\"attrs\":{\"binary\":[{\"idx\":0,\"name\":\"false\"}]},\"num_attrs\":1}}",
         "name": "Junction_ohe",
         "type": "{\"type\":\"udt\",\"class\":\"org.apache.spark.ml.linalg.VectorUDT\",\"pyClass\":\"pyspark.ml.linalg.VectorUDT\",\"sqlType\":{\"type\":\"struct\",\"fields\":[{\"name\":\"type\",\"type\":\"byte\",\"nullable\":false,\"metadata\":{}},{\"name\":\"size\",\"type\":\"integer\",\"nullable\":true,\"metadata\":{}},{\"name\":\"indices\",\"type\":{\"type\":\"array\",\"elementType\":\"integer\",\"containsNull\":false},\"nullable\":true,\"metadata\":{}},{\"name\":\"values\",\"type\":{\"type\":\"array\",\"elementType\":\"double\",\"containsNull\":false},\"nullable\":true,\"metadata\":{}}]}}"
        },
        {
         "metadata": "{\"ml_attr\":{\"attrs\":{\"binary\":[{\"idx\":0,\"name\":\"false\"}]},\"num_attrs\":1}}",
         "name": "No_Exit_ohe",
         "type": "{\"type\":\"udt\",\"class\":\"org.apache.spark.ml.linalg.VectorUDT\",\"pyClass\":\"pyspark.ml.linalg.VectorUDT\",\"sqlType\":{\"type\":\"struct\",\"fields\":[{\"name\":\"type\",\"type\":\"byte\",\"nullable\":false,\"metadata\":{}},{\"name\":\"size\",\"type\":\"integer\",\"nullable\":true,\"metadata\":{}},{\"name\":\"indices\",\"type\":{\"type\":\"array\",\"elementType\":\"integer\",\"containsNull\":false},\"nullable\":true,\"metadata\":{}},{\"name\":\"values\",\"type\":{\"type\":\"array\",\"elementType\":\"double\",\"containsNull\":false},\"nullable\":true,\"metadata\":{}}]}}"
        },
        {
         "metadata": "{\"ml_attr\":{\"attrs\":{\"binary\":[{\"idx\":0,\"name\":\"false\"}]},\"num_attrs\":1}}",
         "name": "Railway_ohe",
         "type": "{\"type\":\"udt\",\"class\":\"org.apache.spark.ml.linalg.VectorUDT\",\"pyClass\":\"pyspark.ml.linalg.VectorUDT\",\"sqlType\":{\"type\":\"struct\",\"fields\":[{\"name\":\"type\",\"type\":\"byte\",\"nullable\":false,\"metadata\":{}},{\"name\":\"size\",\"type\":\"integer\",\"nullable\":true,\"metadata\":{}},{\"name\":\"indices\",\"type\":{\"type\":\"array\",\"elementType\":\"integer\",\"containsNull\":false},\"nullable\":true,\"metadata\":{}},{\"name\":\"values\",\"type\":{\"type\":\"array\",\"elementType\":\"double\",\"containsNull\":false},\"nullable\":true,\"metadata\":{}}]}}"
        },
        {
         "metadata": "{\"ml_attr\":{\"attrs\":{\"binary\":[{\"idx\":0,\"name\":\"false\"}]},\"num_attrs\":1}}",
         "name": "Roundabout_ohe",
         "type": "{\"type\":\"udt\",\"class\":\"org.apache.spark.ml.linalg.VectorUDT\",\"pyClass\":\"pyspark.ml.linalg.VectorUDT\",\"sqlType\":{\"type\":\"struct\",\"fields\":[{\"name\":\"type\",\"type\":\"byte\",\"nullable\":false,\"metadata\":{}},{\"name\":\"size\",\"type\":\"integer\",\"nullable\":true,\"metadata\":{}},{\"name\":\"indices\",\"type\":{\"type\":\"array\",\"elementType\":\"integer\",\"containsNull\":false},\"nullable\":true,\"metadata\":{}},{\"name\":\"values\",\"type\":{\"type\":\"array\",\"elementType\":\"double\",\"containsNull\":false},\"nullable\":true,\"metadata\":{}}]}}"
        },
        {
         "metadata": "{\"ml_attr\":{\"attrs\":{\"binary\":[{\"idx\":0,\"name\":\"false\"}]},\"num_attrs\":1}}",
         "name": "Station_ohe",
         "type": "{\"type\":\"udt\",\"class\":\"org.apache.spark.ml.linalg.VectorUDT\",\"pyClass\":\"pyspark.ml.linalg.VectorUDT\",\"sqlType\":{\"type\":\"struct\",\"fields\":[{\"name\":\"type\",\"type\":\"byte\",\"nullable\":false,\"metadata\":{}},{\"name\":\"size\",\"type\":\"integer\",\"nullable\":true,\"metadata\":{}},{\"name\":\"indices\",\"type\":{\"type\":\"array\",\"elementType\":\"integer\",\"containsNull\":false},\"nullable\":true,\"metadata\":{}},{\"name\":\"values\",\"type\":{\"type\":\"array\",\"elementType\":\"double\",\"containsNull\":false},\"nullable\":true,\"metadata\":{}}]}}"
        },
        {
         "metadata": "{\"ml_attr\":{\"attrs\":{\"binary\":[{\"idx\":0,\"name\":\"false\"}]},\"num_attrs\":1}}",
         "name": "Stop_ohe",
         "type": "{\"type\":\"udt\",\"class\":\"org.apache.spark.ml.linalg.VectorUDT\",\"pyClass\":\"pyspark.ml.linalg.VectorUDT\",\"sqlType\":{\"type\":\"struct\",\"fields\":[{\"name\":\"type\",\"type\":\"byte\",\"nullable\":false,\"metadata\":{}},{\"name\":\"size\",\"type\":\"integer\",\"nullable\":true,\"metadata\":{}},{\"name\":\"indices\",\"type\":{\"type\":\"array\",\"elementType\":\"integer\",\"containsNull\":false},\"nullable\":true,\"metadata\":{}},{\"name\":\"values\",\"type\":{\"type\":\"array\",\"elementType\":\"double\",\"containsNull\":false},\"nullable\":true,\"metadata\":{}}]}}"
        },
        {
         "metadata": "{\"ml_attr\":{\"attrs\":{\"binary\":[{\"idx\":0,\"name\":\"false\"}]},\"num_attrs\":1}}",
         "name": "Traffic_Calming_ohe",
         "type": "{\"type\":\"udt\",\"class\":\"org.apache.spark.ml.linalg.VectorUDT\",\"pyClass\":\"pyspark.ml.linalg.VectorUDT\",\"sqlType\":{\"type\":\"struct\",\"fields\":[{\"name\":\"type\",\"type\":\"byte\",\"nullable\":false,\"metadata\":{}},{\"name\":\"size\",\"type\":\"integer\",\"nullable\":true,\"metadata\":{}},{\"name\":\"indices\",\"type\":{\"type\":\"array\",\"elementType\":\"integer\",\"containsNull\":false},\"nullable\":true,\"metadata\":{}},{\"name\":\"values\",\"type\":{\"type\":\"array\",\"elementType\":\"double\",\"containsNull\":false},\"nullable\":true,\"metadata\":{}}]}}"
        },
        {
         "metadata": "{\"ml_attr\":{\"attrs\":{\"binary\":[{\"idx\":0,\"name\":\"false\"}]},\"num_attrs\":1}}",
         "name": "Traffic_Signal_ohe",
         "type": "{\"type\":\"udt\",\"class\":\"org.apache.spark.ml.linalg.VectorUDT\",\"pyClass\":\"pyspark.ml.linalg.VectorUDT\",\"sqlType\":{\"type\":\"struct\",\"fields\":[{\"name\":\"type\",\"type\":\"byte\",\"nullable\":false,\"metadata\":{}},{\"name\":\"size\",\"type\":\"integer\",\"nullable\":true,\"metadata\":{}},{\"name\":\"indices\",\"type\":{\"type\":\"array\",\"elementType\":\"integer\",\"containsNull\":false},\"nullable\":true,\"metadata\":{}},{\"name\":\"values\",\"type\":{\"type\":\"array\",\"elementType\":\"double\",\"containsNull\":false},\"nullable\":true,\"metadata\":{}}]}}"
        },
        {
         "metadata": "{\"ml_attr\":{\"attrs\":{\"binary\":[{\"idx\":0,\"name\":\"Day\"}]},\"num_attrs\":1}}",
         "name": "Sunrise_Sunset_ohe",
         "type": "{\"type\":\"udt\",\"class\":\"org.apache.spark.ml.linalg.VectorUDT\",\"pyClass\":\"pyspark.ml.linalg.VectorUDT\",\"sqlType\":{\"type\":\"struct\",\"fields\":[{\"name\":\"type\",\"type\":\"byte\",\"nullable\":false,\"metadata\":{}},{\"name\":\"size\",\"type\":\"integer\",\"nullable\":true,\"metadata\":{}},{\"name\":\"indices\",\"type\":{\"type\":\"array\",\"elementType\":\"integer\",\"containsNull\":false},\"nullable\":true,\"metadata\":{}},{\"name\":\"values\",\"type\":{\"type\":\"array\",\"elementType\":\"double\",\"containsNull\":false},\"nullable\":true,\"metadata\":{}}]}}"
        },
        {
         "metadata": "{\"ml_attr\":{\"attrs\":{\"binary\":[{\"idx\":0,\"name\":\"Day\"}]},\"num_attrs\":1}}",
         "name": "Civil_Twilight_ohe",
         "type": "{\"type\":\"udt\",\"class\":\"org.apache.spark.ml.linalg.VectorUDT\",\"pyClass\":\"pyspark.ml.linalg.VectorUDT\",\"sqlType\":{\"type\":\"struct\",\"fields\":[{\"name\":\"type\",\"type\":\"byte\",\"nullable\":false,\"metadata\":{}},{\"name\":\"size\",\"type\":\"integer\",\"nullable\":true,\"metadata\":{}},{\"name\":\"indices\",\"type\":{\"type\":\"array\",\"elementType\":\"integer\",\"containsNull\":false},\"nullable\":true,\"metadata\":{}},{\"name\":\"values\",\"type\":{\"type\":\"array\",\"elementType\":\"double\",\"containsNull\":false},\"nullable\":true,\"metadata\":{}}]}}"
        },
        {
         "metadata": "{\"ml_attr\":{\"attrs\":{\"binary\":[{\"idx\":0,\"name\":\"Day\"}]},\"num_attrs\":1}}",
         "name": "Nautical_Twilight_ohe",
         "type": "{\"type\":\"udt\",\"class\":\"org.apache.spark.ml.linalg.VectorUDT\",\"pyClass\":\"pyspark.ml.linalg.VectorUDT\",\"sqlType\":{\"type\":\"struct\",\"fields\":[{\"name\":\"type\",\"type\":\"byte\",\"nullable\":false,\"metadata\":{}},{\"name\":\"size\",\"type\":\"integer\",\"nullable\":true,\"metadata\":{}},{\"name\":\"indices\",\"type\":{\"type\":\"array\",\"elementType\":\"integer\",\"containsNull\":false},\"nullable\":true,\"metadata\":{}},{\"name\":\"values\",\"type\":{\"type\":\"array\",\"elementType\":\"double\",\"containsNull\":false},\"nullable\":true,\"metadata\":{}}]}}"
        },
        {
         "metadata": "{\"ml_attr\":{\"attrs\":{\"binary\":[{\"idx\":0,\"name\":\"Day\"}]},\"num_attrs\":1}}",
         "name": "Astronomical_Twilight_ohe",
         "type": "{\"type\":\"udt\",\"class\":\"org.apache.spark.ml.linalg.VectorUDT\",\"pyClass\":\"pyspark.ml.linalg.VectorUDT\",\"sqlType\":{\"type\":\"struct\",\"fields\":[{\"name\":\"type\",\"type\":\"byte\",\"nullable\":false,\"metadata\":{}},{\"name\":\"size\",\"type\":\"integer\",\"nullable\":true,\"metadata\":{}},{\"name\":\"indices\",\"type\":{\"type\":\"array\",\"elementType\":\"integer\",\"containsNull\":false},\"nullable\":true,\"metadata\":{}},{\"name\":\"values\",\"type\":{\"type\":\"array\",\"elementType\":\"double\",\"containsNull\":false},\"nullable\":true,\"metadata\":{}}]}}"
        }
       ],
       "type": "table"
      }
     },
     "output_type": "display_data"
    }
   ],
   "source": [
    "us_acc_train_ohe.limit(5).display()"
   ]
  },
  {
   "cell_type": "markdown",
   "metadata": {
    "application/vnd.databricks.v1+cell": {
     "cellMetadata": {},
     "inputWidgets": {},
     "nuid": "2a75da0e-4bdd-4555-952c-dbd319ec3a11",
     "showTitle": false,
     "title": ""
    }
   },
   "source": [
    "#### Apply Normalizer"
   ]
  },
  {
   "cell_type": "code",
   "execution_count": 0,
   "metadata": {
    "application/vnd.databricks.v1+cell": {
     "cellMetadata": {
      "byteLimit": 2048000,
      "rowLimit": 10000
     },
     "inputWidgets": {},
     "nuid": "94841514-25d5-4a64-bf1e-c97a624cc14f",
     "showTitle": false,
     "title": ""
    }
   },
   "outputs": [],
   "source": [
    "from pyspark.ml.feature import VectorAssembler, StandardScaler\n",
    "nva = VectorAssembler(inputCols=numerical_cols, outputCol=\"numerical_features\")\n",
    "us_acc_train_nva = nva.transform(us_acc_train_ohe)\n",
    "\n",
    "scaler = StandardScaler(inputCol = \"numerical_features\", outputCol = \"scaled_features\")\n",
    "us_acc_train_scaled = scaler.fit(us_acc_train_nva).transform(us_acc_train_nva)\n"
   ]
  },
  {
   "cell_type": "code",
   "execution_count": 0,
   "metadata": {
    "application/vnd.databricks.v1+cell": {
     "cellMetadata": {
      "byteLimit": 2048000,
      "rowLimit": 10000
     },
     "inputWidgets": {},
     "nuid": "f49d6bd8-17fe-4c98-849c-0587fda26477",
     "showTitle": false,
     "title": ""
    }
   },
   "outputs": [
    {
     "output_type": "display_data",
     "data": {
      "text/html": [
       "<style scoped>\n",
       "  .table-result-container {\n",
       "    max-height: 300px;\n",
       "    overflow: auto;\n",
       "  }\n",
       "  table, th, td {\n",
       "    border: 1px solid black;\n",
       "    border-collapse: collapse;\n",
       "  }\n",
       "  th, td {\n",
       "    padding: 5px;\n",
       "  }\n",
       "  th {\n",
       "    text-align: left;\n",
       "  }\n",
       "</style><div class='table-result-container'><table class='table-result'><thead style='background-color: white'><tr><th>Severity</th><th>Distance(mi)</th><th>Temperature(F)</th><th>Wind_Chill(F)</th><th>Humidity(%)</th><th>Pressure(in)</th><th>Visibility(mi)</th><th>Wind_Speed(mph)</th><th>Precipitation(in)</th><th>Amenity</th><th>Bump</th><th>Crossing</th><th>Give_Way</th><th>Junction</th><th>No_Exit</th><th>Railway</th><th>Roundabout</th><th>Station</th><th>Stop</th><th>Traffic_Calming</th><th>Traffic_Signal</th><th>Sunrise_Sunset</th><th>Civil_Twilight</th><th>Nautical_Twilight</th><th>Astronomical_Twilight</th><th>Amenity_idx</th><th>Bump_idx</th><th>Crossing_idx</th><th>Give_Way_idx</th><th>Junction_idx</th><th>No_Exit_idx</th><th>Railway_idx</th><th>Roundabout_idx</th><th>Station_idx</th><th>Stop_idx</th><th>Traffic_Calming_idx</th><th>Traffic_Signal_idx</th><th>Sunrise_Sunset_idx</th><th>Civil_Twilight_idx</th><th>Nautical_Twilight_idx</th><th>Astronomical_Twilight_idx</th><th>Amenity_ohe</th><th>Bump_ohe</th><th>Crossing_ohe</th><th>Give_Way_ohe</th><th>Junction_ohe</th><th>No_Exit_ohe</th><th>Railway_ohe</th><th>Roundabout_ohe</th><th>Station_ohe</th><th>Stop_ohe</th><th>Traffic_Calming_ohe</th><th>Traffic_Signal_ohe</th><th>Sunrise_Sunset_ohe</th><th>Civil_Twilight_ohe</th><th>Nautical_Twilight_ohe</th><th>Astronomical_Twilight_ohe</th><th>numerical_features</th><th>scaled_features</th></tr></thead><tbody><tr><td>0</td><td>1.52</td><td>79.0</td><td>79.0</td><td>84.0</td><td>29.88</td><td>8.0</td><td>25.0</td><td>0.01</td><td>false</td><td>false</td><td>false</td><td>false</td><td>false</td><td>false</td><td>false</td><td>false</td><td>false</td><td>false</td><td>false</td><td>false</td><td>Night</td><td>Night</td><td>Night</td><td>Night</td><td>0.0</td><td>0.0</td><td>0.0</td><td>0.0</td><td>0.0</td><td>0.0</td><td>0.0</td><td>0.0</td><td>0.0</td><td>0.0</td><td>0.0</td><td>0.0</td><td>1.0</td><td>1.0</td><td>1.0</td><td>1.0</td><td>Map(vectorType -> sparse, length -> 1, indices -> List(0), values -> List(1.0))</td><td>Map(vectorType -> sparse, length -> 1, indices -> List(0), values -> List(1.0))</td><td>Map(vectorType -> sparse, length -> 1, indices -> List(0), values -> List(1.0))</td><td>Map(vectorType -> sparse, length -> 1, indices -> List(0), values -> List(1.0))</td><td>Map(vectorType -> sparse, length -> 1, indices -> List(0), values -> List(1.0))</td><td>Map(vectorType -> sparse, length -> 1, indices -> List(0), values -> List(1.0))</td><td>Map(vectorType -> sparse, length -> 1, indices -> List(0), values -> List(1.0))</td><td>Map(vectorType -> sparse, length -> 1, indices -> List(0), values -> List(1.0))</td><td>Map(vectorType -> sparse, length -> 1, indices -> List(0), values -> List(1.0))</td><td>Map(vectorType -> sparse, length -> 1, indices -> List(0), values -> List(1.0))</td><td>Map(vectorType -> sparse, length -> 1, indices -> List(0), values -> List(1.0))</td><td>Map(vectorType -> sparse, length -> 1, indices -> List(0), values -> List(1.0))</td><td>Map(vectorType -> sparse, length -> 1, indices -> List(), values -> List())</td><td>Map(vectorType -> sparse, length -> 1, indices -> List(), values -> List())</td><td>Map(vectorType -> sparse, length -> 1, indices -> List(), values -> List())</td><td>Map(vectorType -> sparse, length -> 1, indices -> List(), values -> List())</td><td>Map(vectorType -> dense, length -> 8, values -> List(1.52, 79.0, 79.0, 84.0, 29.88, 8.0, 25.0, 0.01))</td><td>Map(vectorType -> dense, length -> 8, values -> List(3.601591167282833, 4.148296255774492, 3.705873133716913, 3.72072065684743, 26.85269760650326, 3.2925392690280164, 4.895616396653085, 0.21781494942566842))</td></tr><tr><td>0</td><td>0.421</td><td>95.0</td><td>95.0</td><td>47.0</td><td>29.8</td><td>10.0</td><td>10.0</td><td>0.01</td><td>false</td><td>false</td><td>false</td><td>false</td><td>false</td><td>false</td><td>false</td><td>false</td><td>false</td><td>false</td><td>false</td><td>false</td><td>Day</td><td>Day</td><td>Day</td><td>Day</td><td>0.0</td><td>0.0</td><td>0.0</td><td>0.0</td><td>0.0</td><td>0.0</td><td>0.0</td><td>0.0</td><td>0.0</td><td>0.0</td><td>0.0</td><td>0.0</td><td>0.0</td><td>0.0</td><td>0.0</td><td>0.0</td><td>Map(vectorType -> sparse, length -> 1, indices -> List(0), values -> List(1.0))</td><td>Map(vectorType -> sparse, length -> 1, indices -> List(0), values -> List(1.0))</td><td>Map(vectorType -> sparse, length -> 1, indices -> List(0), values -> List(1.0))</td><td>Map(vectorType -> sparse, length -> 1, indices -> List(0), values -> List(1.0))</td><td>Map(vectorType -> sparse, length -> 1, indices -> List(0), values -> List(1.0))</td><td>Map(vectorType -> sparse, length -> 1, indices -> List(0), values -> List(1.0))</td><td>Map(vectorType -> sparse, length -> 1, indices -> List(0), values -> List(1.0))</td><td>Map(vectorType -> sparse, length -> 1, indices -> List(0), values -> List(1.0))</td><td>Map(vectorType -> sparse, length -> 1, indices -> List(0), values -> List(1.0))</td><td>Map(vectorType -> sparse, length -> 1, indices -> List(0), values -> List(1.0))</td><td>Map(vectorType -> sparse, length -> 1, indices -> List(0), values -> List(1.0))</td><td>Map(vectorType -> sparse, length -> 1, indices -> List(0), values -> List(1.0))</td><td>Map(vectorType -> sparse, length -> 1, indices -> List(0), values -> List(1.0))</td><td>Map(vectorType -> sparse, length -> 1, indices -> List(0), values -> List(1.0))</td><td>Map(vectorType -> sparse, length -> 1, indices -> List(0), values -> List(1.0))</td><td>Map(vectorType -> sparse, length -> 1, indices -> List(0), values -> List(1.0))</td><td>Map(vectorType -> dense, length -> 8, values -> List(0.421, 95.0, 95.0, 47.0, 29.8, 10.0, 10.0, 0.01))</td><td>Map(vectorType -> dense, length -> 8, values -> List(0.9975459746224162, 4.988457522766794, 4.4564297177608445, 2.081831796093205, 26.780802833795086, 4.11567408628502, 1.958246558661234, 0.21781494942566842))</td></tr><tr><td>0</td><td>0.001</td><td>81.0</td><td>81.0</td><td>56.0</td><td>29.46</td><td>10.0</td><td>7.0</td><td>0.01</td><td>false</td><td>false</td><td>false</td><td>false</td><td>false</td><td>false</td><td>false</td><td>false</td><td>false</td><td>false</td><td>false</td><td>true</td><td>Day</td><td>Day</td><td>Day</td><td>Day</td><td>0.0</td><td>0.0</td><td>0.0</td><td>0.0</td><td>0.0</td><td>0.0</td><td>0.0</td><td>0.0</td><td>0.0</td><td>0.0</td><td>0.0</td><td>1.0</td><td>0.0</td><td>0.0</td><td>0.0</td><td>0.0</td><td>Map(vectorType -> sparse, length -> 1, indices -> List(0), values -> List(1.0))</td><td>Map(vectorType -> sparse, length -> 1, indices -> List(0), values -> List(1.0))</td><td>Map(vectorType -> sparse, length -> 1, indices -> List(0), values -> List(1.0))</td><td>Map(vectorType -> sparse, length -> 1, indices -> List(0), values -> List(1.0))</td><td>Map(vectorType -> sparse, length -> 1, indices -> List(0), values -> List(1.0))</td><td>Map(vectorType -> sparse, length -> 1, indices -> List(0), values -> List(1.0))</td><td>Map(vectorType -> sparse, length -> 1, indices -> List(0), values -> List(1.0))</td><td>Map(vectorType -> sparse, length -> 1, indices -> List(0), values -> List(1.0))</td><td>Map(vectorType -> sparse, length -> 1, indices -> List(0), values -> List(1.0))</td><td>Map(vectorType -> sparse, length -> 1, indices -> List(0), values -> List(1.0))</td><td>Map(vectorType -> sparse, length -> 1, indices -> List(0), values -> List(1.0))</td><td>Map(vectorType -> sparse, length -> 1, indices -> List(), values -> List())</td><td>Map(vectorType -> sparse, length -> 1, indices -> List(0), values -> List(1.0))</td><td>Map(vectorType -> sparse, length -> 1, indices -> List(0), values -> List(1.0))</td><td>Map(vectorType -> sparse, length -> 1, indices -> List(0), values -> List(1.0))</td><td>Map(vectorType -> sparse, length -> 1, indices -> List(0), values -> List(1.0))</td><td>Map(vectorType -> dense, length -> 8, values -> List(0.001, 81.0, 81.0, 56.0, 29.46, 10.0, 7.0, 0.01))</td><td>Map(vectorType -> dense, length -> 8, values -> List(0.00236946787321239, 4.25331641414853, 3.7996927067224044, 2.4804804378982865, 26.475250049785345, 4.11567408628502, 1.3707725910628639, 0.21781494942566842))</td></tr><tr><td>0</td><td>0.213</td><td>72.0</td><td>72.0</td><td>59.0</td><td>29.52</td><td>10.0</td><td>7.0</td><td>0.01</td><td>false</td><td>false</td><td>false</td><td>false</td><td>false</td><td>false</td><td>false</td><td>false</td><td>false</td><td>false</td><td>false</td><td>false</td><td>Night</td><td>Night</td><td>Day</td><td>Day</td><td>0.0</td><td>0.0</td><td>0.0</td><td>0.0</td><td>0.0</td><td>0.0</td><td>0.0</td><td>0.0</td><td>0.0</td><td>0.0</td><td>0.0</td><td>0.0</td><td>1.0</td><td>1.0</td><td>0.0</td><td>0.0</td><td>Map(vectorType -> sparse, length -> 1, indices -> List(0), values -> List(1.0))</td><td>Map(vectorType -> sparse, length -> 1, indices -> List(0), values -> List(1.0))</td><td>Map(vectorType -> sparse, length -> 1, indices -> List(0), values -> List(1.0))</td><td>Map(vectorType -> sparse, length -> 1, indices -> List(0), values -> List(1.0))</td><td>Map(vectorType -> sparse, length -> 1, indices -> List(0), values -> List(1.0))</td><td>Map(vectorType -> sparse, length -> 1, indices -> List(0), values -> List(1.0))</td><td>Map(vectorType -> sparse, length -> 1, indices -> List(0), values -> List(1.0))</td><td>Map(vectorType -> sparse, length -> 1, indices -> List(0), values -> List(1.0))</td><td>Map(vectorType -> sparse, length -> 1, indices -> List(0), values -> List(1.0))</td><td>Map(vectorType -> sparse, length -> 1, indices -> List(0), values -> List(1.0))</td><td>Map(vectorType -> sparse, length -> 1, indices -> List(0), values -> List(1.0))</td><td>Map(vectorType -> sparse, length -> 1, indices -> List(0), values -> List(1.0))</td><td>Map(vectorType -> sparse, length -> 1, indices -> List(), values -> List())</td><td>Map(vectorType -> sparse, length -> 1, indices -> List(), values -> List())</td><td>Map(vectorType -> sparse, length -> 1, indices -> List(0), values -> List(1.0))</td><td>Map(vectorType -> sparse, length -> 1, indices -> List(0), values -> List(1.0))</td><td>Map(vectorType -> dense, length -> 8, values -> List(0.213, 72.0, 72.0, 59.0, 29.52, 10.0, 7.0, 0.01))</td><td>Map(vectorType -> dense, length -> 8, values -> List(0.504696656994239, 3.7807257014653595, 3.377504628197693, 2.6133633184999803, 26.529171129316474, 4.11567408628502, 1.3707725910628639, 0.21781494942566842))</td></tr><tr><td>0</td><td>0.001</td><td>58.0</td><td>58.0</td><td>78.0</td><td>29.93</td><td>7.0</td><td>3.0</td><td>0.01</td><td>false</td><td>false</td><td>false</td><td>false</td><td>false</td><td>false</td><td>false</td><td>false</td><td>false</td><td>false</td><td>false</td><td>false</td><td>Day</td><td>Day</td><td>Day</td><td>Day</td><td>0.0</td><td>0.0</td><td>0.0</td><td>0.0</td><td>0.0</td><td>0.0</td><td>0.0</td><td>0.0</td><td>0.0</td><td>0.0</td><td>0.0</td><td>0.0</td><td>0.0</td><td>0.0</td><td>0.0</td><td>0.0</td><td>Map(vectorType -> sparse, length -> 1, indices -> List(0), values -> List(1.0))</td><td>Map(vectorType -> sparse, length -> 1, indices -> List(0), values -> List(1.0))</td><td>Map(vectorType -> sparse, length -> 1, indices -> List(0), values -> List(1.0))</td><td>Map(vectorType -> sparse, length -> 1, indices -> List(0), values -> List(1.0))</td><td>Map(vectorType -> sparse, length -> 1, indices -> List(0), values -> List(1.0))</td><td>Map(vectorType -> sparse, length -> 1, indices -> List(0), values -> List(1.0))</td><td>Map(vectorType -> sparse, length -> 1, indices -> List(0), values -> List(1.0))</td><td>Map(vectorType -> sparse, length -> 1, indices -> List(0), values -> List(1.0))</td><td>Map(vectorType -> sparse, length -> 1, indices -> List(0), values -> List(1.0))</td><td>Map(vectorType -> sparse, length -> 1, indices -> List(0), values -> List(1.0))</td><td>Map(vectorType -> sparse, length -> 1, indices -> List(0), values -> List(1.0))</td><td>Map(vectorType -> sparse, length -> 1, indices -> List(0), values -> List(1.0))</td><td>Map(vectorType -> sparse, length -> 1, indices -> List(0), values -> List(1.0))</td><td>Map(vectorType -> sparse, length -> 1, indices -> List(0), values -> List(1.0))</td><td>Map(vectorType -> sparse, length -> 1, indices -> List(0), values -> List(1.0))</td><td>Map(vectorType -> sparse, length -> 1, indices -> List(0), values -> List(1.0))</td><td>Map(vectorType -> dense, length -> 8, values -> List(0.001, 58.0, 58.0, 78.0, 29.93, 7.0, 3.0, 0.01))</td><td>Map(vectorType -> dense, length -> 8, values -> List(0.00236946787321239, 3.0455845928470953, 2.7207676171592525, 3.454954895644042, 26.897631839445868, 2.8809718603995145, 0.5874739675983702, 0.21781494942566842))</td></tr><tr><td>0</td><td>0.001</td><td>63.0</td><td>63.0</td><td>42.0</td><td>28.91</td><td>7.0</td><td>1.0</td><td>0.01</td><td>false</td><td>false</td><td>false</td><td>false</td><td>false</td><td>false</td><td>false</td><td>false</td><td>false</td><td>false</td><td>false</td><td>false</td><td>Night</td><td>Night</td><td>Day</td><td>Day</td><td>0.0</td><td>0.0</td><td>0.0</td><td>0.0</td><td>0.0</td><td>0.0</td><td>0.0</td><td>0.0</td><td>0.0</td><td>0.0</td><td>0.0</td><td>0.0</td><td>1.0</td><td>1.0</td><td>0.0</td><td>0.0</td><td>Map(vectorType -> sparse, length -> 1, indices -> List(0), values -> List(1.0))</td><td>Map(vectorType -> sparse, length -> 1, indices -> List(0), values -> List(1.0))</td><td>Map(vectorType -> sparse, length -> 1, indices -> List(0), values -> List(1.0))</td><td>Map(vectorType -> sparse, length -> 1, indices -> List(0), values -> List(1.0))</td><td>Map(vectorType -> sparse, length -> 1, indices -> List(0), values -> List(1.0))</td><td>Map(vectorType -> sparse, length -> 1, indices -> List(0), values -> List(1.0))</td><td>Map(vectorType -> sparse, length -> 1, indices -> List(0), values -> List(1.0))</td><td>Map(vectorType -> sparse, length -> 1, indices -> List(0), values -> List(1.0))</td><td>Map(vectorType -> sparse, length -> 1, indices -> List(0), values -> List(1.0))</td><td>Map(vectorType -> sparse, length -> 1, indices -> List(0), values -> List(1.0))</td><td>Map(vectorType -> sparse, length -> 1, indices -> List(0), values -> List(1.0))</td><td>Map(vectorType -> sparse, length -> 1, indices -> List(0), values -> List(1.0))</td><td>Map(vectorType -> sparse, length -> 1, indices -> List(), values -> List())</td><td>Map(vectorType -> sparse, length -> 1, indices -> List(), values -> List())</td><td>Map(vectorType -> sparse, length -> 1, indices -> List(0), values -> List(1.0))</td><td>Map(vectorType -> sparse, length -> 1, indices -> List(0), values -> List(1.0))</td><td>Map(vectorType -> dense, length -> 8, values -> List(0.001, 63.0, 63.0, 42.0, 28.91, 7.0, 1.0, 0.01))</td><td>Map(vectorType -> dense, length -> 8, values -> List(0.00236946787321239, 3.3081349887821894, 2.955316549672981, 1.860360328423715, 25.98097348741664, 2.8809718603995145, 0.1958246558661234, 0.21781494942566842))</td></tr><tr><td>0</td><td>1.521</td><td>70.0</td><td>70.0</td><td>47.0</td><td>30.11</td><td>10.0</td><td>13.0</td><td>0.01</td><td>false</td><td>false</td><td>false</td><td>false</td><td>false</td><td>false</td><td>false</td><td>false</td><td>false</td><td>false</td><td>false</td><td>false</td><td>Day</td><td>Day</td><td>Day</td><td>Day</td><td>0.0</td><td>0.0</td><td>0.0</td><td>0.0</td><td>0.0</td><td>0.0</td><td>0.0</td><td>0.0</td><td>0.0</td><td>0.0</td><td>0.0</td><td>0.0</td><td>0.0</td><td>0.0</td><td>0.0</td><td>0.0</td><td>Map(vectorType -> sparse, length -> 1, indices -> List(0), values -> List(1.0))</td><td>Map(vectorType -> sparse, length -> 1, indices -> List(0), values -> List(1.0))</td><td>Map(vectorType -> sparse, length -> 1, indices -> List(0), values -> List(1.0))</td><td>Map(vectorType -> sparse, length -> 1, indices -> List(0), values -> List(1.0))</td><td>Map(vectorType -> sparse, length -> 1, indices -> List(0), values -> List(1.0))</td><td>Map(vectorType -> sparse, length -> 1, indices -> List(0), values -> List(1.0))</td><td>Map(vectorType -> sparse, length -> 1, indices -> List(0), values -> List(1.0))</td><td>Map(vectorType -> sparse, length -> 1, indices -> List(0), values -> List(1.0))</td><td>Map(vectorType -> sparse, length -> 1, indices -> List(0), values -> List(1.0))</td><td>Map(vectorType -> sparse, length -> 1, indices -> List(0), values -> List(1.0))</td><td>Map(vectorType -> sparse, length -> 1, indices -> List(0), values -> List(1.0))</td><td>Map(vectorType -> sparse, length -> 1, indices -> List(0), values -> List(1.0))</td><td>Map(vectorType -> sparse, length -> 1, indices -> List(0), values -> List(1.0))</td><td>Map(vectorType -> sparse, length -> 1, indices -> List(0), values -> List(1.0))</td><td>Map(vectorType -> sparse, length -> 1, indices -> List(0), values -> List(1.0))</td><td>Map(vectorType -> sparse, length -> 1, indices -> List(0), values -> List(1.0))</td><td>Map(vectorType -> dense, length -> 8, values -> List(1.521, 70.0, 70.0, 47.0, 30.11, 10.0, 13.0, 0.01))</td><td>Map(vectorType -> dense, length -> 8, values -> List(3.6039606351560454, 3.6757055430913215, 3.2836850551922017, 2.081831796093205, 27.059395078039262, 4.11567408628502, 2.545720526259604, 0.21781494942566842))</td></tr><tr><td>0</td><td>0.214</td><td>74.0</td><td>74.0</td><td>55.0</td><td>30.05</td><td>10.0</td><td>15.0</td><td>0.01</td><td>false</td><td>false</td><td>true</td><td>false</td><td>false</td><td>false</td><td>false</td><td>false</td><td>false</td><td>false</td><td>false</td><td>false</td><td>Day</td><td>Day</td><td>Day</td><td>Day</td><td>0.0</td><td>0.0</td><td>1.0</td><td>0.0</td><td>0.0</td><td>0.0</td><td>0.0</td><td>0.0</td><td>0.0</td><td>0.0</td><td>0.0</td><td>0.0</td><td>0.0</td><td>0.0</td><td>0.0</td><td>0.0</td><td>Map(vectorType -> sparse, length -> 1, indices -> List(0), values -> List(1.0))</td><td>Map(vectorType -> sparse, length -> 1, indices -> List(0), values -> List(1.0))</td><td>Map(vectorType -> sparse, length -> 1, indices -> List(), values -> List())</td><td>Map(vectorType -> sparse, length -> 1, indices -> List(0), values -> List(1.0))</td><td>Map(vectorType -> sparse, length -> 1, indices -> List(0), values -> List(1.0))</td><td>Map(vectorType -> sparse, length -> 1, indices -> List(0), values -> List(1.0))</td><td>Map(vectorType -> sparse, length -> 1, indices -> List(0), values -> List(1.0))</td><td>Map(vectorType -> sparse, length -> 1, indices -> List(0), values -> List(1.0))</td><td>Map(vectorType -> sparse, length -> 1, indices -> List(0), values -> List(1.0))</td><td>Map(vectorType -> sparse, length -> 1, indices -> List(0), values -> List(1.0))</td><td>Map(vectorType -> sparse, length -> 1, indices -> List(0), values -> List(1.0))</td><td>Map(vectorType -> sparse, length -> 1, indices -> List(0), values -> List(1.0))</td><td>Map(vectorType -> sparse, length -> 1, indices -> List(0), values -> List(1.0))</td><td>Map(vectorType -> sparse, length -> 1, indices -> List(0), values -> List(1.0))</td><td>Map(vectorType -> sparse, length -> 1, indices -> List(0), values -> List(1.0))</td><td>Map(vectorType -> sparse, length -> 1, indices -> List(0), values -> List(1.0))</td><td>Map(vectorType -> dense, length -> 8, values -> List(0.214, 74.0, 74.0, 55.0, 30.05, 10.0, 15.0, 0.01))</td><td>Map(vectorType -> dense, length -> 8, values -> List(0.5070661248674515, 3.885745859839397, 3.4713242012031844, 2.4361861443643886, 27.005473998508133, 4.11567408628502, 2.9373698379918514, 0.21781494942566842))</td></tr><tr><td>0</td><td>0.001</td><td>72.0</td><td>72.0</td><td>88.0</td><td>30.02</td><td>10.0</td><td>3.0</td><td>0.01</td><td>false</td><td>false</td><td>false</td><td>false</td><td>false</td><td>false</td><td>false</td><td>false</td><td>false</td><td>false</td><td>false</td><td>true</td><td>Day</td><td>Day</td><td>Day</td><td>Day</td><td>0.0</td><td>0.0</td><td>0.0</td><td>0.0</td><td>0.0</td><td>0.0</td><td>0.0</td><td>0.0</td><td>0.0</td><td>0.0</td><td>0.0</td><td>1.0</td><td>0.0</td><td>0.0</td><td>0.0</td><td>0.0</td><td>Map(vectorType -> sparse, length -> 1, indices -> List(0), values -> List(1.0))</td><td>Map(vectorType -> sparse, length -> 1, indices -> List(0), values -> List(1.0))</td><td>Map(vectorType -> sparse, length -> 1, indices -> List(0), values -> List(1.0))</td><td>Map(vectorType -> sparse, length -> 1, indices -> List(0), values -> List(1.0))</td><td>Map(vectorType -> sparse, length -> 1, indices -> List(0), values -> List(1.0))</td><td>Map(vectorType -> sparse, length -> 1, indices -> List(0), values -> List(1.0))</td><td>Map(vectorType -> sparse, length -> 1, indices -> List(0), values -> List(1.0))</td><td>Map(vectorType -> sparse, length -> 1, indices -> List(0), values -> List(1.0))</td><td>Map(vectorType -> sparse, length -> 1, indices -> List(0), values -> List(1.0))</td><td>Map(vectorType -> sparse, length -> 1, indices -> List(0), values -> List(1.0))</td><td>Map(vectorType -> sparse, length -> 1, indices -> List(0), values -> List(1.0))</td><td>Map(vectorType -> sparse, length -> 1, indices -> List(), values -> List())</td><td>Map(vectorType -> sparse, length -> 1, indices -> List(0), values -> List(1.0))</td><td>Map(vectorType -> sparse, length -> 1, indices -> List(0), values -> List(1.0))</td><td>Map(vectorType -> sparse, length -> 1, indices -> List(0), values -> List(1.0))</td><td>Map(vectorType -> sparse, length -> 1, indices -> List(0), values -> List(1.0))</td><td>Map(vectorType -> dense, length -> 8, values -> List(0.001, 72.0, 72.0, 88.0, 30.02, 10.0, 3.0, 0.01))</td><td>Map(vectorType -> dense, length -> 8, values -> List(0.00236946787321239, 3.7807257014653595, 3.377504628197693, 3.8978978309830214, 26.978513458742565, 4.11567408628502, 0.5874739675983702, 0.21781494942566842))</td></tr><tr><td>0</td><td>1.557</td><td>88.0</td><td>88.0</td><td>55.0</td><td>29.99</td><td>10.0</td><td>10.0</td><td>0.01</td><td>false</td><td>false</td><td>false</td><td>false</td><td>false</td><td>false</td><td>false</td><td>false</td><td>false</td><td>false</td><td>false</td><td>false</td><td>Day</td><td>Day</td><td>Day</td><td>Day</td><td>0.0</td><td>0.0</td><td>0.0</td><td>0.0</td><td>0.0</td><td>0.0</td><td>0.0</td><td>0.0</td><td>0.0</td><td>0.0</td><td>0.0</td><td>0.0</td><td>0.0</td><td>0.0</td><td>0.0</td><td>0.0</td><td>Map(vectorType -> sparse, length -> 1, indices -> List(0), values -> List(1.0))</td><td>Map(vectorType -> sparse, length -> 1, indices -> List(0), values -> List(1.0))</td><td>Map(vectorType -> sparse, length -> 1, indices -> List(0), values -> List(1.0))</td><td>Map(vectorType -> sparse, length -> 1, indices -> List(0), values -> List(1.0))</td><td>Map(vectorType -> sparse, length -> 1, indices -> List(0), values -> List(1.0))</td><td>Map(vectorType -> sparse, length -> 1, indices -> List(0), values -> List(1.0))</td><td>Map(vectorType -> sparse, length -> 1, indices -> List(0), values -> List(1.0))</td><td>Map(vectorType -> sparse, length -> 1, indices -> List(0), values -> List(1.0))</td><td>Map(vectorType -> sparse, length -> 1, indices -> List(0), values -> List(1.0))</td><td>Map(vectorType -> sparse, length -> 1, indices -> List(0), values -> List(1.0))</td><td>Map(vectorType -> sparse, length -> 1, indices -> List(0), values -> List(1.0))</td><td>Map(vectorType -> sparse, length -> 1, indices -> List(0), values -> List(1.0))</td><td>Map(vectorType -> sparse, length -> 1, indices -> List(0), values -> List(1.0))</td><td>Map(vectorType -> sparse, length -> 1, indices -> List(0), values -> List(1.0))</td><td>Map(vectorType -> sparse, length -> 1, indices -> List(0), values -> List(1.0))</td><td>Map(vectorType -> sparse, length -> 1, indices -> List(0), values -> List(1.0))</td><td>Map(vectorType -> dense, length -> 8, values -> List(1.557, 88.0, 88.0, 55.0, 29.99, 10.0, 10.0, 0.01))</td><td>Map(vectorType -> dense, length -> 8, values -> List(3.6892614785916913, 4.620886968457661, 4.128061212241625, 2.4361861443643886, 26.951552918976997, 4.11567408628502, 1.958246558661234, 0.21781494942566842))</td></tr></tbody></table></div>"
      ]
     },
     "metadata": {
      "application/vnd.databricks.v1+output": {
       "addedWidgets": {},
       "aggData": [],
       "aggError": "",
       "aggOverflow": false,
       "aggSchema": [],
       "aggSeriesLimitReached": false,
       "aggType": "",
       "arguments": {},
       "columnCustomDisplayInfos": {},
       "data": [
        [
         0,
         1.52,
         79.0,
         79.0,
         84.0,
         29.88,
         8.0,
         25.0,
         0.01,
         "false",
         "false",
         "false",
         "false",
         "false",
         "false",
         "false",
         "false",
         "false",
         "false",
         "false",
         "false",
         "Night",
         "Night",
         "Night",
         "Night",
         0.0,
         0.0,
         0.0,
         0.0,
         0.0,
         0.0,
         0.0,
         0.0,
         0.0,
         0.0,
         0.0,
         0.0,
         1.0,
         1.0,
         1.0,
         1.0,
         {
          "indices": [
           0
          ],
          "length": 1,
          "values": [
           1.0
          ],
          "vectorType": "sparse"
         },
         {
          "indices": [
           0
          ],
          "length": 1,
          "values": [
           1.0
          ],
          "vectorType": "sparse"
         },
         {
          "indices": [
           0
          ],
          "length": 1,
          "values": [
           1.0
          ],
          "vectorType": "sparse"
         },
         {
          "indices": [
           0
          ],
          "length": 1,
          "values": [
           1.0
          ],
          "vectorType": "sparse"
         },
         {
          "indices": [
           0
          ],
          "length": 1,
          "values": [
           1.0
          ],
          "vectorType": "sparse"
         },
         {
          "indices": [
           0
          ],
          "length": 1,
          "values": [
           1.0
          ],
          "vectorType": "sparse"
         },
         {
          "indices": [
           0
          ],
          "length": 1,
          "values": [
           1.0
          ],
          "vectorType": "sparse"
         },
         {
          "indices": [
           0
          ],
          "length": 1,
          "values": [
           1.0
          ],
          "vectorType": "sparse"
         },
         {
          "indices": [
           0
          ],
          "length": 1,
          "values": [
           1.0
          ],
          "vectorType": "sparse"
         },
         {
          "indices": [
           0
          ],
          "length": 1,
          "values": [
           1.0
          ],
          "vectorType": "sparse"
         },
         {
          "indices": [
           0
          ],
          "length": 1,
          "values": [
           1.0
          ],
          "vectorType": "sparse"
         },
         {
          "indices": [
           0
          ],
          "length": 1,
          "values": [
           1.0
          ],
          "vectorType": "sparse"
         },
         {
          "indices": [],
          "length": 1,
          "values": [],
          "vectorType": "sparse"
         },
         {
          "indices": [],
          "length": 1,
          "values": [],
          "vectorType": "sparse"
         },
         {
          "indices": [],
          "length": 1,
          "values": [],
          "vectorType": "sparse"
         },
         {
          "indices": [],
          "length": 1,
          "values": [],
          "vectorType": "sparse"
         },
         {
          "length": 8,
          "values": [
           1.52,
           79.0,
           79.0,
           84.0,
           29.88,
           8.0,
           25.0,
           0.01
          ],
          "vectorType": "dense"
         },
         {
          "length": 8,
          "values": [
           3.601591167282833,
           4.148296255774492,
           3.705873133716913,
           3.72072065684743,
           26.85269760650326,
           3.2925392690280164,
           4.895616396653085,
           0.21781494942566842
          ],
          "vectorType": "dense"
         }
        ],
        [
         0,
         0.421,
         95.0,
         95.0,
         47.0,
         29.8,
         10.0,
         10.0,
         0.01,
         "false",
         "false",
         "false",
         "false",
         "false",
         "false",
         "false",
         "false",
         "false",
         "false",
         "false",
         "false",
         "Day",
         "Day",
         "Day",
         "Day",
         0.0,
         0.0,
         0.0,
         0.0,
         0.0,
         0.0,
         0.0,
         0.0,
         0.0,
         0.0,
         0.0,
         0.0,
         0.0,
         0.0,
         0.0,
         0.0,
         {
          "indices": [
           0
          ],
          "length": 1,
          "values": [
           1.0
          ],
          "vectorType": "sparse"
         },
         {
          "indices": [
           0
          ],
          "length": 1,
          "values": [
           1.0
          ],
          "vectorType": "sparse"
         },
         {
          "indices": [
           0
          ],
          "length": 1,
          "values": [
           1.0
          ],
          "vectorType": "sparse"
         },
         {
          "indices": [
           0
          ],
          "length": 1,
          "values": [
           1.0
          ],
          "vectorType": "sparse"
         },
         {
          "indices": [
           0
          ],
          "length": 1,
          "values": [
           1.0
          ],
          "vectorType": "sparse"
         },
         {
          "indices": [
           0
          ],
          "length": 1,
          "values": [
           1.0
          ],
          "vectorType": "sparse"
         },
         {
          "indices": [
           0
          ],
          "length": 1,
          "values": [
           1.0
          ],
          "vectorType": "sparse"
         },
         {
          "indices": [
           0
          ],
          "length": 1,
          "values": [
           1.0
          ],
          "vectorType": "sparse"
         },
         {
          "indices": [
           0
          ],
          "length": 1,
          "values": [
           1.0
          ],
          "vectorType": "sparse"
         },
         {
          "indices": [
           0
          ],
          "length": 1,
          "values": [
           1.0
          ],
          "vectorType": "sparse"
         },
         {
          "indices": [
           0
          ],
          "length": 1,
          "values": [
           1.0
          ],
          "vectorType": "sparse"
         },
         {
          "indices": [
           0
          ],
          "length": 1,
          "values": [
           1.0
          ],
          "vectorType": "sparse"
         },
         {
          "indices": [
           0
          ],
          "length": 1,
          "values": [
           1.0
          ],
          "vectorType": "sparse"
         },
         {
          "indices": [
           0
          ],
          "length": 1,
          "values": [
           1.0
          ],
          "vectorType": "sparse"
         },
         {
          "indices": [
           0
          ],
          "length": 1,
          "values": [
           1.0
          ],
          "vectorType": "sparse"
         },
         {
          "indices": [
           0
          ],
          "length": 1,
          "values": [
           1.0
          ],
          "vectorType": "sparse"
         },
         {
          "length": 8,
          "values": [
           0.421,
           95.0,
           95.0,
           47.0,
           29.8,
           10.0,
           10.0,
           0.01
          ],
          "vectorType": "dense"
         },
         {
          "length": 8,
          "values": [
           0.9975459746224162,
           4.988457522766794,
           4.4564297177608445,
           2.081831796093205,
           26.780802833795086,
           4.11567408628502,
           1.958246558661234,
           0.21781494942566842
          ],
          "vectorType": "dense"
         }
        ],
        [
         0,
         0.001,
         81.0,
         81.0,
         56.0,
         29.46,
         10.0,
         7.0,
         0.01,
         "false",
         "false",
         "false",
         "false",
         "false",
         "false",
         "false",
         "false",
         "false",
         "false",
         "false",
         "true",
         "Day",
         "Day",
         "Day",
         "Day",
         0.0,
         0.0,
         0.0,
         0.0,
         0.0,
         0.0,
         0.0,
         0.0,
         0.0,
         0.0,
         0.0,
         1.0,
         0.0,
         0.0,
         0.0,
         0.0,
         {
          "indices": [
           0
          ],
          "length": 1,
          "values": [
           1.0
          ],
          "vectorType": "sparse"
         },
         {
          "indices": [
           0
          ],
          "length": 1,
          "values": [
           1.0
          ],
          "vectorType": "sparse"
         },
         {
          "indices": [
           0
          ],
          "length": 1,
          "values": [
           1.0
          ],
          "vectorType": "sparse"
         },
         {
          "indices": [
           0
          ],
          "length": 1,
          "values": [
           1.0
          ],
          "vectorType": "sparse"
         },
         {
          "indices": [
           0
          ],
          "length": 1,
          "values": [
           1.0
          ],
          "vectorType": "sparse"
         },
         {
          "indices": [
           0
          ],
          "length": 1,
          "values": [
           1.0
          ],
          "vectorType": "sparse"
         },
         {
          "indices": [
           0
          ],
          "length": 1,
          "values": [
           1.0
          ],
          "vectorType": "sparse"
         },
         {
          "indices": [
           0
          ],
          "length": 1,
          "values": [
           1.0
          ],
          "vectorType": "sparse"
         },
         {
          "indices": [
           0
          ],
          "length": 1,
          "values": [
           1.0
          ],
          "vectorType": "sparse"
         },
         {
          "indices": [
           0
          ],
          "length": 1,
          "values": [
           1.0
          ],
          "vectorType": "sparse"
         },
         {
          "indices": [
           0
          ],
          "length": 1,
          "values": [
           1.0
          ],
          "vectorType": "sparse"
         },
         {
          "indices": [],
          "length": 1,
          "values": [],
          "vectorType": "sparse"
         },
         {
          "indices": [
           0
          ],
          "length": 1,
          "values": [
           1.0
          ],
          "vectorType": "sparse"
         },
         {
          "indices": [
           0
          ],
          "length": 1,
          "values": [
           1.0
          ],
          "vectorType": "sparse"
         },
         {
          "indices": [
           0
          ],
          "length": 1,
          "values": [
           1.0
          ],
          "vectorType": "sparse"
         },
         {
          "indices": [
           0
          ],
          "length": 1,
          "values": [
           1.0
          ],
          "vectorType": "sparse"
         },
         {
          "length": 8,
          "values": [
           0.001,
           81.0,
           81.0,
           56.0,
           29.46,
           10.0,
           7.0,
           0.01
          ],
          "vectorType": "dense"
         },
         {
          "length": 8,
          "values": [
           0.00236946787321239,
           4.25331641414853,
           3.7996927067224044,
           2.4804804378982865,
           26.475250049785345,
           4.11567408628502,
           1.3707725910628639,
           0.21781494942566842
          ],
          "vectorType": "dense"
         }
        ],
        [
         0,
         0.213,
         72.0,
         72.0,
         59.0,
         29.52,
         10.0,
         7.0,
         0.01,
         "false",
         "false",
         "false",
         "false",
         "false",
         "false",
         "false",
         "false",
         "false",
         "false",
         "false",
         "false",
         "Night",
         "Night",
         "Day",
         "Day",
         0.0,
         0.0,
         0.0,
         0.0,
         0.0,
         0.0,
         0.0,
         0.0,
         0.0,
         0.0,
         0.0,
         0.0,
         1.0,
         1.0,
         0.0,
         0.0,
         {
          "indices": [
           0
          ],
          "length": 1,
          "values": [
           1.0
          ],
          "vectorType": "sparse"
         },
         {
          "indices": [
           0
          ],
          "length": 1,
          "values": [
           1.0
          ],
          "vectorType": "sparse"
         },
         {
          "indices": [
           0
          ],
          "length": 1,
          "values": [
           1.0
          ],
          "vectorType": "sparse"
         },
         {
          "indices": [
           0
          ],
          "length": 1,
          "values": [
           1.0
          ],
          "vectorType": "sparse"
         },
         {
          "indices": [
           0
          ],
          "length": 1,
          "values": [
           1.0
          ],
          "vectorType": "sparse"
         },
         {
          "indices": [
           0
          ],
          "length": 1,
          "values": [
           1.0
          ],
          "vectorType": "sparse"
         },
         {
          "indices": [
           0
          ],
          "length": 1,
          "values": [
           1.0
          ],
          "vectorType": "sparse"
         },
         {
          "indices": [
           0
          ],
          "length": 1,
          "values": [
           1.0
          ],
          "vectorType": "sparse"
         },
         {
          "indices": [
           0
          ],
          "length": 1,
          "values": [
           1.0
          ],
          "vectorType": "sparse"
         },
         {
          "indices": [
           0
          ],
          "length": 1,
          "values": [
           1.0
          ],
          "vectorType": "sparse"
         },
         {
          "indices": [
           0
          ],
          "length": 1,
          "values": [
           1.0
          ],
          "vectorType": "sparse"
         },
         {
          "indices": [
           0
          ],
          "length": 1,
          "values": [
           1.0
          ],
          "vectorType": "sparse"
         },
         {
          "indices": [],
          "length": 1,
          "values": [],
          "vectorType": "sparse"
         },
         {
          "indices": [],
          "length": 1,
          "values": [],
          "vectorType": "sparse"
         },
         {
          "indices": [
           0
          ],
          "length": 1,
          "values": [
           1.0
          ],
          "vectorType": "sparse"
         },
         {
          "indices": [
           0
          ],
          "length": 1,
          "values": [
           1.0
          ],
          "vectorType": "sparse"
         },
         {
          "length": 8,
          "values": [
           0.213,
           72.0,
           72.0,
           59.0,
           29.52,
           10.0,
           7.0,
           0.01
          ],
          "vectorType": "dense"
         },
         {
          "length": 8,
          "values": [
           0.504696656994239,
           3.7807257014653595,
           3.377504628197693,
           2.6133633184999803,
           26.529171129316474,
           4.11567408628502,
           1.3707725910628639,
           0.21781494942566842
          ],
          "vectorType": "dense"
         }
        ],
        [
         0,
         0.001,
         58.0,
         58.0,
         78.0,
         29.93,
         7.0,
         3.0,
         0.01,
         "false",
         "false",
         "false",
         "false",
         "false",
         "false",
         "false",
         "false",
         "false",
         "false",
         "false",
         "false",
         "Day",
         "Day",
         "Day",
         "Day",
         0.0,
         0.0,
         0.0,
         0.0,
         0.0,
         0.0,
         0.0,
         0.0,
         0.0,
         0.0,
         0.0,
         0.0,
         0.0,
         0.0,
         0.0,
         0.0,
         {
          "indices": [
           0
          ],
          "length": 1,
          "values": [
           1.0
          ],
          "vectorType": "sparse"
         },
         {
          "indices": [
           0
          ],
          "length": 1,
          "values": [
           1.0
          ],
          "vectorType": "sparse"
         },
         {
          "indices": [
           0
          ],
          "length": 1,
          "values": [
           1.0
          ],
          "vectorType": "sparse"
         },
         {
          "indices": [
           0
          ],
          "length": 1,
          "values": [
           1.0
          ],
          "vectorType": "sparse"
         },
         {
          "indices": [
           0
          ],
          "length": 1,
          "values": [
           1.0
          ],
          "vectorType": "sparse"
         },
         {
          "indices": [
           0
          ],
          "length": 1,
          "values": [
           1.0
          ],
          "vectorType": "sparse"
         },
         {
          "indices": [
           0
          ],
          "length": 1,
          "values": [
           1.0
          ],
          "vectorType": "sparse"
         },
         {
          "indices": [
           0
          ],
          "length": 1,
          "values": [
           1.0
          ],
          "vectorType": "sparse"
         },
         {
          "indices": [
           0
          ],
          "length": 1,
          "values": [
           1.0
          ],
          "vectorType": "sparse"
         },
         {
          "indices": [
           0
          ],
          "length": 1,
          "values": [
           1.0
          ],
          "vectorType": "sparse"
         },
         {
          "indices": [
           0
          ],
          "length": 1,
          "values": [
           1.0
          ],
          "vectorType": "sparse"
         },
         {
          "indices": [
           0
          ],
          "length": 1,
          "values": [
           1.0
          ],
          "vectorType": "sparse"
         },
         {
          "indices": [
           0
          ],
          "length": 1,
          "values": [
           1.0
          ],
          "vectorType": "sparse"
         },
         {
          "indices": [
           0
          ],
          "length": 1,
          "values": [
           1.0
          ],
          "vectorType": "sparse"
         },
         {
          "indices": [
           0
          ],
          "length": 1,
          "values": [
           1.0
          ],
          "vectorType": "sparse"
         },
         {
          "indices": [
           0
          ],
          "length": 1,
          "values": [
           1.0
          ],
          "vectorType": "sparse"
         },
         {
          "length": 8,
          "values": [
           0.001,
           58.0,
           58.0,
           78.0,
           29.93,
           7.0,
           3.0,
           0.01
          ],
          "vectorType": "dense"
         },
         {
          "length": 8,
          "values": [
           0.00236946787321239,
           3.0455845928470953,
           2.7207676171592525,
           3.454954895644042,
           26.897631839445868,
           2.8809718603995145,
           0.5874739675983702,
           0.21781494942566842
          ],
          "vectorType": "dense"
         }
        ],
        [
         0,
         0.001,
         63.0,
         63.0,
         42.0,
         28.91,
         7.0,
         1.0,
         0.01,
         "false",
         "false",
         "false",
         "false",
         "false",
         "false",
         "false",
         "false",
         "false",
         "false",
         "false",
         "false",
         "Night",
         "Night",
         "Day",
         "Day",
         0.0,
         0.0,
         0.0,
         0.0,
         0.0,
         0.0,
         0.0,
         0.0,
         0.0,
         0.0,
         0.0,
         0.0,
         1.0,
         1.0,
         0.0,
         0.0,
         {
          "indices": [
           0
          ],
          "length": 1,
          "values": [
           1.0
          ],
          "vectorType": "sparse"
         },
         {
          "indices": [
           0
          ],
          "length": 1,
          "values": [
           1.0
          ],
          "vectorType": "sparse"
         },
         {
          "indices": [
           0
          ],
          "length": 1,
          "values": [
           1.0
          ],
          "vectorType": "sparse"
         },
         {
          "indices": [
           0
          ],
          "length": 1,
          "values": [
           1.0
          ],
          "vectorType": "sparse"
         },
         {
          "indices": [
           0
          ],
          "length": 1,
          "values": [
           1.0
          ],
          "vectorType": "sparse"
         },
         {
          "indices": [
           0
          ],
          "length": 1,
          "values": [
           1.0
          ],
          "vectorType": "sparse"
         },
         {
          "indices": [
           0
          ],
          "length": 1,
          "values": [
           1.0
          ],
          "vectorType": "sparse"
         },
         {
          "indices": [
           0
          ],
          "length": 1,
          "values": [
           1.0
          ],
          "vectorType": "sparse"
         },
         {
          "indices": [
           0
          ],
          "length": 1,
          "values": [
           1.0
          ],
          "vectorType": "sparse"
         },
         {
          "indices": [
           0
          ],
          "length": 1,
          "values": [
           1.0
          ],
          "vectorType": "sparse"
         },
         {
          "indices": [
           0
          ],
          "length": 1,
          "values": [
           1.0
          ],
          "vectorType": "sparse"
         },
         {
          "indices": [
           0
          ],
          "length": 1,
          "values": [
           1.0
          ],
          "vectorType": "sparse"
         },
         {
          "indices": [],
          "length": 1,
          "values": [],
          "vectorType": "sparse"
         },
         {
          "indices": [],
          "length": 1,
          "values": [],
          "vectorType": "sparse"
         },
         {
          "indices": [
           0
          ],
          "length": 1,
          "values": [
           1.0
          ],
          "vectorType": "sparse"
         },
         {
          "indices": [
           0
          ],
          "length": 1,
          "values": [
           1.0
          ],
          "vectorType": "sparse"
         },
         {
          "length": 8,
          "values": [
           0.001,
           63.0,
           63.0,
           42.0,
           28.91,
           7.0,
           1.0,
           0.01
          ],
          "vectorType": "dense"
         },
         {
          "length": 8,
          "values": [
           0.00236946787321239,
           3.3081349887821894,
           2.955316549672981,
           1.860360328423715,
           25.98097348741664,
           2.8809718603995145,
           0.1958246558661234,
           0.21781494942566842
          ],
          "vectorType": "dense"
         }
        ],
        [
         0,
         1.521,
         70.0,
         70.0,
         47.0,
         30.11,
         10.0,
         13.0,
         0.01,
         "false",
         "false",
         "false",
         "false",
         "false",
         "false",
         "false",
         "false",
         "false",
         "false",
         "false",
         "false",
         "Day",
         "Day",
         "Day",
         "Day",
         0.0,
         0.0,
         0.0,
         0.0,
         0.0,
         0.0,
         0.0,
         0.0,
         0.0,
         0.0,
         0.0,
         0.0,
         0.0,
         0.0,
         0.0,
         0.0,
         {
          "indices": [
           0
          ],
          "length": 1,
          "values": [
           1.0
          ],
          "vectorType": "sparse"
         },
         {
          "indices": [
           0
          ],
          "length": 1,
          "values": [
           1.0
          ],
          "vectorType": "sparse"
         },
         {
          "indices": [
           0
          ],
          "length": 1,
          "values": [
           1.0
          ],
          "vectorType": "sparse"
         },
         {
          "indices": [
           0
          ],
          "length": 1,
          "values": [
           1.0
          ],
          "vectorType": "sparse"
         },
         {
          "indices": [
           0
          ],
          "length": 1,
          "values": [
           1.0
          ],
          "vectorType": "sparse"
         },
         {
          "indices": [
           0
          ],
          "length": 1,
          "values": [
           1.0
          ],
          "vectorType": "sparse"
         },
         {
          "indices": [
           0
          ],
          "length": 1,
          "values": [
           1.0
          ],
          "vectorType": "sparse"
         },
         {
          "indices": [
           0
          ],
          "length": 1,
          "values": [
           1.0
          ],
          "vectorType": "sparse"
         },
         {
          "indices": [
           0
          ],
          "length": 1,
          "values": [
           1.0
          ],
          "vectorType": "sparse"
         },
         {
          "indices": [
           0
          ],
          "length": 1,
          "values": [
           1.0
          ],
          "vectorType": "sparse"
         },
         {
          "indices": [
           0
          ],
          "length": 1,
          "values": [
           1.0
          ],
          "vectorType": "sparse"
         },
         {
          "indices": [
           0
          ],
          "length": 1,
          "values": [
           1.0
          ],
          "vectorType": "sparse"
         },
         {
          "indices": [
           0
          ],
          "length": 1,
          "values": [
           1.0
          ],
          "vectorType": "sparse"
         },
         {
          "indices": [
           0
          ],
          "length": 1,
          "values": [
           1.0
          ],
          "vectorType": "sparse"
         },
         {
          "indices": [
           0
          ],
          "length": 1,
          "values": [
           1.0
          ],
          "vectorType": "sparse"
         },
         {
          "indices": [
           0
          ],
          "length": 1,
          "values": [
           1.0
          ],
          "vectorType": "sparse"
         },
         {
          "length": 8,
          "values": [
           1.521,
           70.0,
           70.0,
           47.0,
           30.11,
           10.0,
           13.0,
           0.01
          ],
          "vectorType": "dense"
         },
         {
          "length": 8,
          "values": [
           3.6039606351560454,
           3.6757055430913215,
           3.2836850551922017,
           2.081831796093205,
           27.059395078039262,
           4.11567408628502,
           2.545720526259604,
           0.21781494942566842
          ],
          "vectorType": "dense"
         }
        ],
        [
         0,
         0.214,
         74.0,
         74.0,
         55.0,
         30.05,
         10.0,
         15.0,
         0.01,
         "false",
         "false",
         "true",
         "false",
         "false",
         "false",
         "false",
         "false",
         "false",
         "false",
         "false",
         "false",
         "Day",
         "Day",
         "Day",
         "Day",
         0.0,
         0.0,
         1.0,
         0.0,
         0.0,
         0.0,
         0.0,
         0.0,
         0.0,
         0.0,
         0.0,
         0.0,
         0.0,
         0.0,
         0.0,
         0.0,
         {
          "indices": [
           0
          ],
          "length": 1,
          "values": [
           1.0
          ],
          "vectorType": "sparse"
         },
         {
          "indices": [
           0
          ],
          "length": 1,
          "values": [
           1.0
          ],
          "vectorType": "sparse"
         },
         {
          "indices": [],
          "length": 1,
          "values": [],
          "vectorType": "sparse"
         },
         {
          "indices": [
           0
          ],
          "length": 1,
          "values": [
           1.0
          ],
          "vectorType": "sparse"
         },
         {
          "indices": [
           0
          ],
          "length": 1,
          "values": [
           1.0
          ],
          "vectorType": "sparse"
         },
         {
          "indices": [
           0
          ],
          "length": 1,
          "values": [
           1.0
          ],
          "vectorType": "sparse"
         },
         {
          "indices": [
           0
          ],
          "length": 1,
          "values": [
           1.0
          ],
          "vectorType": "sparse"
         },
         {
          "indices": [
           0
          ],
          "length": 1,
          "values": [
           1.0
          ],
          "vectorType": "sparse"
         },
         {
          "indices": [
           0
          ],
          "length": 1,
          "values": [
           1.0
          ],
          "vectorType": "sparse"
         },
         {
          "indices": [
           0
          ],
          "length": 1,
          "values": [
           1.0
          ],
          "vectorType": "sparse"
         },
         {
          "indices": [
           0
          ],
          "length": 1,
          "values": [
           1.0
          ],
          "vectorType": "sparse"
         },
         {
          "indices": [
           0
          ],
          "length": 1,
          "values": [
           1.0
          ],
          "vectorType": "sparse"
         },
         {
          "indices": [
           0
          ],
          "length": 1,
          "values": [
           1.0
          ],
          "vectorType": "sparse"
         },
         {
          "indices": [
           0
          ],
          "length": 1,
          "values": [
           1.0
          ],
          "vectorType": "sparse"
         },
         {
          "indices": [
           0
          ],
          "length": 1,
          "values": [
           1.0
          ],
          "vectorType": "sparse"
         },
         {
          "indices": [
           0
          ],
          "length": 1,
          "values": [
           1.0
          ],
          "vectorType": "sparse"
         },
         {
          "length": 8,
          "values": [
           0.214,
           74.0,
           74.0,
           55.0,
           30.05,
           10.0,
           15.0,
           0.01
          ],
          "vectorType": "dense"
         },
         {
          "length": 8,
          "values": [
           0.5070661248674515,
           3.885745859839397,
           3.4713242012031844,
           2.4361861443643886,
           27.005473998508133,
           4.11567408628502,
           2.9373698379918514,
           0.21781494942566842
          ],
          "vectorType": "dense"
         }
        ],
        [
         0,
         0.001,
         72.0,
         72.0,
         88.0,
         30.02,
         10.0,
         3.0,
         0.01,
         "false",
         "false",
         "false",
         "false",
         "false",
         "false",
         "false",
         "false",
         "false",
         "false",
         "false",
         "true",
         "Day",
         "Day",
         "Day",
         "Day",
         0.0,
         0.0,
         0.0,
         0.0,
         0.0,
         0.0,
         0.0,
         0.0,
         0.0,
         0.0,
         0.0,
         1.0,
         0.0,
         0.0,
         0.0,
         0.0,
         {
          "indices": [
           0
          ],
          "length": 1,
          "values": [
           1.0
          ],
          "vectorType": "sparse"
         },
         {
          "indices": [
           0
          ],
          "length": 1,
          "values": [
           1.0
          ],
          "vectorType": "sparse"
         },
         {
          "indices": [
           0
          ],
          "length": 1,
          "values": [
           1.0
          ],
          "vectorType": "sparse"
         },
         {
          "indices": [
           0
          ],
          "length": 1,
          "values": [
           1.0
          ],
          "vectorType": "sparse"
         },
         {
          "indices": [
           0
          ],
          "length": 1,
          "values": [
           1.0
          ],
          "vectorType": "sparse"
         },
         {
          "indices": [
           0
          ],
          "length": 1,
          "values": [
           1.0
          ],
          "vectorType": "sparse"
         },
         {
          "indices": [
           0
          ],
          "length": 1,
          "values": [
           1.0
          ],
          "vectorType": "sparse"
         },
         {
          "indices": [
           0
          ],
          "length": 1,
          "values": [
           1.0
          ],
          "vectorType": "sparse"
         },
         {
          "indices": [
           0
          ],
          "length": 1,
          "values": [
           1.0
          ],
          "vectorType": "sparse"
         },
         {
          "indices": [
           0
          ],
          "length": 1,
          "values": [
           1.0
          ],
          "vectorType": "sparse"
         },
         {
          "indices": [
           0
          ],
          "length": 1,
          "values": [
           1.0
          ],
          "vectorType": "sparse"
         },
         {
          "indices": [],
          "length": 1,
          "values": [],
          "vectorType": "sparse"
         },
         {
          "indices": [
           0
          ],
          "length": 1,
          "values": [
           1.0
          ],
          "vectorType": "sparse"
         },
         {
          "indices": [
           0
          ],
          "length": 1,
          "values": [
           1.0
          ],
          "vectorType": "sparse"
         },
         {
          "indices": [
           0
          ],
          "length": 1,
          "values": [
           1.0
          ],
          "vectorType": "sparse"
         },
         {
          "indices": [
           0
          ],
          "length": 1,
          "values": [
           1.0
          ],
          "vectorType": "sparse"
         },
         {
          "length": 8,
          "values": [
           0.001,
           72.0,
           72.0,
           88.0,
           30.02,
           10.0,
           3.0,
           0.01
          ],
          "vectorType": "dense"
         },
         {
          "length": 8,
          "values": [
           0.00236946787321239,
           3.7807257014653595,
           3.377504628197693,
           3.8978978309830214,
           26.978513458742565,
           4.11567408628502,
           0.5874739675983702,
           0.21781494942566842
          ],
          "vectorType": "dense"
         }
        ],
        [
         0,
         1.557,
         88.0,
         88.0,
         55.0,
         29.99,
         10.0,
         10.0,
         0.01,
         "false",
         "false",
         "false",
         "false",
         "false",
         "false",
         "false",
         "false",
         "false",
         "false",
         "false",
         "false",
         "Day",
         "Day",
         "Day",
         "Day",
         0.0,
         0.0,
         0.0,
         0.0,
         0.0,
         0.0,
         0.0,
         0.0,
         0.0,
         0.0,
         0.0,
         0.0,
         0.0,
         0.0,
         0.0,
         0.0,
         {
          "indices": [
           0
          ],
          "length": 1,
          "values": [
           1.0
          ],
          "vectorType": "sparse"
         },
         {
          "indices": [
           0
          ],
          "length": 1,
          "values": [
           1.0
          ],
          "vectorType": "sparse"
         },
         {
          "indices": [
           0
          ],
          "length": 1,
          "values": [
           1.0
          ],
          "vectorType": "sparse"
         },
         {
          "indices": [
           0
          ],
          "length": 1,
          "values": [
           1.0
          ],
          "vectorType": "sparse"
         },
         {
          "indices": [
           0
          ],
          "length": 1,
          "values": [
           1.0
          ],
          "vectorType": "sparse"
         },
         {
          "indices": [
           0
          ],
          "length": 1,
          "values": [
           1.0
          ],
          "vectorType": "sparse"
         },
         {
          "indices": [
           0
          ],
          "length": 1,
          "values": [
           1.0
          ],
          "vectorType": "sparse"
         },
         {
          "indices": [
           0
          ],
          "length": 1,
          "values": [
           1.0
          ],
          "vectorType": "sparse"
         },
         {
          "indices": [
           0
          ],
          "length": 1,
          "values": [
           1.0
          ],
          "vectorType": "sparse"
         },
         {
          "indices": [
           0
          ],
          "length": 1,
          "values": [
           1.0
          ],
          "vectorType": "sparse"
         },
         {
          "indices": [
           0
          ],
          "length": 1,
          "values": [
           1.0
          ],
          "vectorType": "sparse"
         },
         {
          "indices": [
           0
          ],
          "length": 1,
          "values": [
           1.0
          ],
          "vectorType": "sparse"
         },
         {
          "indices": [
           0
          ],
          "length": 1,
          "values": [
           1.0
          ],
          "vectorType": "sparse"
         },
         {
          "indices": [
           0
          ],
          "length": 1,
          "values": [
           1.0
          ],
          "vectorType": "sparse"
         },
         {
          "indices": [
           0
          ],
          "length": 1,
          "values": [
           1.0
          ],
          "vectorType": "sparse"
         },
         {
          "indices": [
           0
          ],
          "length": 1,
          "values": [
           1.0
          ],
          "vectorType": "sparse"
         },
         {
          "length": 8,
          "values": [
           1.557,
           88.0,
           88.0,
           55.0,
           29.99,
           10.0,
           10.0,
           0.01
          ],
          "vectorType": "dense"
         },
         {
          "length": 8,
          "values": [
           3.6892614785916913,
           4.620886968457661,
           4.128061212241625,
           2.4361861443643886,
           26.951552918976997,
           4.11567408628502,
           1.958246558661234,
           0.21781494942566842
          ],
          "vectorType": "dense"
         }
        ]
       ],
       "datasetInfos": [],
       "dbfsResultPath": null,
       "isJsonSchema": true,
       "metadata": {},
       "overflow": false,
       "plotOptions": {
        "customPlotOptions": {},
        "displayType": "table",
        "pivotAggregation": null,
        "pivotColumns": null,
        "xColumns": null,
        "yColumns": null
       },
       "removedWidgets": [],
       "schema": [
        {
         "metadata": "{}",
         "name": "Severity",
         "type": "\"integer\""
        },
        {
         "metadata": "{}",
         "name": "Distance(mi)",
         "type": "\"double\""
        },
        {
         "metadata": "{}",
         "name": "Temperature(F)",
         "type": "\"double\""
        },
        {
         "metadata": "{}",
         "name": "Wind_Chill(F)",
         "type": "\"double\""
        },
        {
         "metadata": "{}",
         "name": "Humidity(%)",
         "type": "\"double\""
        },
        {
         "metadata": "{}",
         "name": "Pressure(in)",
         "type": "\"double\""
        },
        {
         "metadata": "{}",
         "name": "Visibility(mi)",
         "type": "\"double\""
        },
        {
         "metadata": "{}",
         "name": "Wind_Speed(mph)",
         "type": "\"double\""
        },
        {
         "metadata": "{}",
         "name": "Precipitation(in)",
         "type": "\"double\""
        },
        {
         "metadata": "{}",
         "name": "Amenity",
         "type": "\"string\""
        },
        {
         "metadata": "{}",
         "name": "Bump",
         "type": "\"string\""
        },
        {
         "metadata": "{}",
         "name": "Crossing",
         "type": "\"string\""
        },
        {
         "metadata": "{}",
         "name": "Give_Way",
         "type": "\"string\""
        },
        {
         "metadata": "{}",
         "name": "Junction",
         "type": "\"string\""
        },
        {
         "metadata": "{}",
         "name": "No_Exit",
         "type": "\"string\""
        },
        {
         "metadata": "{}",
         "name": "Railway",
         "type": "\"string\""
        },
        {
         "metadata": "{}",
         "name": "Roundabout",
         "type": "\"string\""
        },
        {
         "metadata": "{}",
         "name": "Station",
         "type": "\"string\""
        },
        {
         "metadata": "{}",
         "name": "Stop",
         "type": "\"string\""
        },
        {
         "metadata": "{}",
         "name": "Traffic_Calming",
         "type": "\"string\""
        },
        {
         "metadata": "{}",
         "name": "Traffic_Signal",
         "type": "\"string\""
        },
        {
         "metadata": "{}",
         "name": "Sunrise_Sunset",
         "type": "\"string\""
        },
        {
         "metadata": "{}",
         "name": "Civil_Twilight",
         "type": "\"string\""
        },
        {
         "metadata": "{}",
         "name": "Nautical_Twilight",
         "type": "\"string\""
        },
        {
         "metadata": "{}",
         "name": "Astronomical_Twilight",
         "type": "\"string\""
        },
        {
         "metadata": "{\"ml_attr\":{\"vals\":[\"false\",\"true\"],\"type\":\"nominal\",\"name\":\"Amenity_idx\"}}",
         "name": "Amenity_idx",
         "type": "\"double\""
        },
        {
         "metadata": "{\"ml_attr\":{\"vals\":[\"false\",\"true\"],\"type\":\"nominal\",\"name\":\"Bump_idx\"}}",
         "name": "Bump_idx",
         "type": "\"double\""
        },
        {
         "metadata": "{\"ml_attr\":{\"vals\":[\"false\",\"true\"],\"type\":\"nominal\",\"name\":\"Crossing_idx\"}}",
         "name": "Crossing_idx",
         "type": "\"double\""
        },
        {
         "metadata": "{\"ml_attr\":{\"vals\":[\"false\",\"true\"],\"type\":\"nominal\",\"name\":\"Give_Way_idx\"}}",
         "name": "Give_Way_idx",
         "type": "\"double\""
        },
        {
         "metadata": "{\"ml_attr\":{\"vals\":[\"false\",\"true\"],\"type\":\"nominal\",\"name\":\"Junction_idx\"}}",
         "name": "Junction_idx",
         "type": "\"double\""
        },
        {
         "metadata": "{\"ml_attr\":{\"vals\":[\"false\",\"true\"],\"type\":\"nominal\",\"name\":\"No_Exit_idx\"}}",
         "name": "No_Exit_idx",
         "type": "\"double\""
        },
        {
         "metadata": "{\"ml_attr\":{\"vals\":[\"false\",\"true\"],\"type\":\"nominal\",\"name\":\"Railway_idx\"}}",
         "name": "Railway_idx",
         "type": "\"double\""
        },
        {
         "metadata": "{\"ml_attr\":{\"vals\":[\"false\",\"true\"],\"type\":\"nominal\",\"name\":\"Roundabout_idx\"}}",
         "name": "Roundabout_idx",
         "type": "\"double\""
        },
        {
         "metadata": "{\"ml_attr\":{\"vals\":[\"false\",\"true\"],\"type\":\"nominal\",\"name\":\"Station_idx\"}}",
         "name": "Station_idx",
         "type": "\"double\""
        },
        {
         "metadata": "{\"ml_attr\":{\"vals\":[\"false\",\"true\"],\"type\":\"nominal\",\"name\":\"Stop_idx\"}}",
         "name": "Stop_idx",
         "type": "\"double\""
        },
        {
         "metadata": "{\"ml_attr\":{\"vals\":[\"false\",\"true\"],\"type\":\"nominal\",\"name\":\"Traffic_Calming_idx\"}}",
         "name": "Traffic_Calming_idx",
         "type": "\"double\""
        },
        {
         "metadata": "{\"ml_attr\":{\"vals\":[\"false\",\"true\"],\"type\":\"nominal\",\"name\":\"Traffic_Signal_idx\"}}",
         "name": "Traffic_Signal_idx",
         "type": "\"double\""
        },
        {
         "metadata": "{\"ml_attr\":{\"vals\":[\"Day\",\"Night\"],\"type\":\"nominal\",\"name\":\"Sunrise_Sunset_idx\"}}",
         "name": "Sunrise_Sunset_idx",
         "type": "\"double\""
        },
        {
         "metadata": "{\"ml_attr\":{\"vals\":[\"Day\",\"Night\"],\"type\":\"nominal\",\"name\":\"Civil_Twilight_idx\"}}",
         "name": "Civil_Twilight_idx",
         "type": "\"double\""
        },
        {
         "metadata": "{\"ml_attr\":{\"vals\":[\"Day\",\"Night\"],\"type\":\"nominal\",\"name\":\"Nautical_Twilight_idx\"}}",
         "name": "Nautical_Twilight_idx",
         "type": "\"double\""
        },
        {
         "metadata": "{\"ml_attr\":{\"vals\":[\"Day\",\"Night\"],\"type\":\"nominal\",\"name\":\"Astronomical_Twilight_idx\"}}",
         "name": "Astronomical_Twilight_idx",
         "type": "\"double\""
        },
        {
         "metadata": "{\"ml_attr\":{\"attrs\":{\"binary\":[{\"idx\":0,\"name\":\"false\"}]},\"num_attrs\":1}}",
         "name": "Amenity_ohe",
         "type": "{\"type\":\"udt\",\"class\":\"org.apache.spark.ml.linalg.VectorUDT\",\"pyClass\":\"pyspark.ml.linalg.VectorUDT\",\"sqlType\":{\"type\":\"struct\",\"fields\":[{\"name\":\"type\",\"type\":\"byte\",\"nullable\":false,\"metadata\":{}},{\"name\":\"size\",\"type\":\"integer\",\"nullable\":true,\"metadata\":{}},{\"name\":\"indices\",\"type\":{\"type\":\"array\",\"elementType\":\"integer\",\"containsNull\":false},\"nullable\":true,\"metadata\":{}},{\"name\":\"values\",\"type\":{\"type\":\"array\",\"elementType\":\"double\",\"containsNull\":false},\"nullable\":true,\"metadata\":{}}]}}"
        },
        {
         "metadata": "{\"ml_attr\":{\"attrs\":{\"binary\":[{\"idx\":0,\"name\":\"false\"}]},\"num_attrs\":1}}",
         "name": "Bump_ohe",
         "type": "{\"type\":\"udt\",\"class\":\"org.apache.spark.ml.linalg.VectorUDT\",\"pyClass\":\"pyspark.ml.linalg.VectorUDT\",\"sqlType\":{\"type\":\"struct\",\"fields\":[{\"name\":\"type\",\"type\":\"byte\",\"nullable\":false,\"metadata\":{}},{\"name\":\"size\",\"type\":\"integer\",\"nullable\":true,\"metadata\":{}},{\"name\":\"indices\",\"type\":{\"type\":\"array\",\"elementType\":\"integer\",\"containsNull\":false},\"nullable\":true,\"metadata\":{}},{\"name\":\"values\",\"type\":{\"type\":\"array\",\"elementType\":\"double\",\"containsNull\":false},\"nullable\":true,\"metadata\":{}}]}}"
        },
        {
         "metadata": "{\"ml_attr\":{\"attrs\":{\"binary\":[{\"idx\":0,\"name\":\"false\"}]},\"num_attrs\":1}}",
         "name": "Crossing_ohe",
         "type": "{\"type\":\"udt\",\"class\":\"org.apache.spark.ml.linalg.VectorUDT\",\"pyClass\":\"pyspark.ml.linalg.VectorUDT\",\"sqlType\":{\"type\":\"struct\",\"fields\":[{\"name\":\"type\",\"type\":\"byte\",\"nullable\":false,\"metadata\":{}},{\"name\":\"size\",\"type\":\"integer\",\"nullable\":true,\"metadata\":{}},{\"name\":\"indices\",\"type\":{\"type\":\"array\",\"elementType\":\"integer\",\"containsNull\":false},\"nullable\":true,\"metadata\":{}},{\"name\":\"values\",\"type\":{\"type\":\"array\",\"elementType\":\"double\",\"containsNull\":false},\"nullable\":true,\"metadata\":{}}]}}"
        },
        {
         "metadata": "{\"ml_attr\":{\"attrs\":{\"binary\":[{\"idx\":0,\"name\":\"false\"}]},\"num_attrs\":1}}",
         "name": "Give_Way_ohe",
         "type": "{\"type\":\"udt\",\"class\":\"org.apache.spark.ml.linalg.VectorUDT\",\"pyClass\":\"pyspark.ml.linalg.VectorUDT\",\"sqlType\":{\"type\":\"struct\",\"fields\":[{\"name\":\"type\",\"type\":\"byte\",\"nullable\":false,\"metadata\":{}},{\"name\":\"size\",\"type\":\"integer\",\"nullable\":true,\"metadata\":{}},{\"name\":\"indices\",\"type\":{\"type\":\"array\",\"elementType\":\"integer\",\"containsNull\":false},\"nullable\":true,\"metadata\":{}},{\"name\":\"values\",\"type\":{\"type\":\"array\",\"elementType\":\"double\",\"containsNull\":false},\"nullable\":true,\"metadata\":{}}]}}"
        },
        {
         "metadata": "{\"ml_attr\":{\"attrs\":{\"binary\":[{\"idx\":0,\"name\":\"false\"}]},\"num_attrs\":1}}",
         "name": "Junction_ohe",
         "type": "{\"type\":\"udt\",\"class\":\"org.apache.spark.ml.linalg.VectorUDT\",\"pyClass\":\"pyspark.ml.linalg.VectorUDT\",\"sqlType\":{\"type\":\"struct\",\"fields\":[{\"name\":\"type\",\"type\":\"byte\",\"nullable\":false,\"metadata\":{}},{\"name\":\"size\",\"type\":\"integer\",\"nullable\":true,\"metadata\":{}},{\"name\":\"indices\",\"type\":{\"type\":\"array\",\"elementType\":\"integer\",\"containsNull\":false},\"nullable\":true,\"metadata\":{}},{\"name\":\"values\",\"type\":{\"type\":\"array\",\"elementType\":\"double\",\"containsNull\":false},\"nullable\":true,\"metadata\":{}}]}}"
        },
        {
         "metadata": "{\"ml_attr\":{\"attrs\":{\"binary\":[{\"idx\":0,\"name\":\"false\"}]},\"num_attrs\":1}}",
         "name": "No_Exit_ohe",
         "type": "{\"type\":\"udt\",\"class\":\"org.apache.spark.ml.linalg.VectorUDT\",\"pyClass\":\"pyspark.ml.linalg.VectorUDT\",\"sqlType\":{\"type\":\"struct\",\"fields\":[{\"name\":\"type\",\"type\":\"byte\",\"nullable\":false,\"metadata\":{}},{\"name\":\"size\",\"type\":\"integer\",\"nullable\":true,\"metadata\":{}},{\"name\":\"indices\",\"type\":{\"type\":\"array\",\"elementType\":\"integer\",\"containsNull\":false},\"nullable\":true,\"metadata\":{}},{\"name\":\"values\",\"type\":{\"type\":\"array\",\"elementType\":\"double\",\"containsNull\":false},\"nullable\":true,\"metadata\":{}}]}}"
        },
        {
         "metadata": "{\"ml_attr\":{\"attrs\":{\"binary\":[{\"idx\":0,\"name\":\"false\"}]},\"num_attrs\":1}}",
         "name": "Railway_ohe",
         "type": "{\"type\":\"udt\",\"class\":\"org.apache.spark.ml.linalg.VectorUDT\",\"pyClass\":\"pyspark.ml.linalg.VectorUDT\",\"sqlType\":{\"type\":\"struct\",\"fields\":[{\"name\":\"type\",\"type\":\"byte\",\"nullable\":false,\"metadata\":{}},{\"name\":\"size\",\"type\":\"integer\",\"nullable\":true,\"metadata\":{}},{\"name\":\"indices\",\"type\":{\"type\":\"array\",\"elementType\":\"integer\",\"containsNull\":false},\"nullable\":true,\"metadata\":{}},{\"name\":\"values\",\"type\":{\"type\":\"array\",\"elementType\":\"double\",\"containsNull\":false},\"nullable\":true,\"metadata\":{}}]}}"
        },
        {
         "metadata": "{\"ml_attr\":{\"attrs\":{\"binary\":[{\"idx\":0,\"name\":\"false\"}]},\"num_attrs\":1}}",
         "name": "Roundabout_ohe",
         "type": "{\"type\":\"udt\",\"class\":\"org.apache.spark.ml.linalg.VectorUDT\",\"pyClass\":\"pyspark.ml.linalg.VectorUDT\",\"sqlType\":{\"type\":\"struct\",\"fields\":[{\"name\":\"type\",\"type\":\"byte\",\"nullable\":false,\"metadata\":{}},{\"name\":\"size\",\"type\":\"integer\",\"nullable\":true,\"metadata\":{}},{\"name\":\"indices\",\"type\":{\"type\":\"array\",\"elementType\":\"integer\",\"containsNull\":false},\"nullable\":true,\"metadata\":{}},{\"name\":\"values\",\"type\":{\"type\":\"array\",\"elementType\":\"double\",\"containsNull\":false},\"nullable\":true,\"metadata\":{}}]}}"
        },
        {
         "metadata": "{\"ml_attr\":{\"attrs\":{\"binary\":[{\"idx\":0,\"name\":\"false\"}]},\"num_attrs\":1}}",
         "name": "Station_ohe",
         "type": "{\"type\":\"udt\",\"class\":\"org.apache.spark.ml.linalg.VectorUDT\",\"pyClass\":\"pyspark.ml.linalg.VectorUDT\",\"sqlType\":{\"type\":\"struct\",\"fields\":[{\"name\":\"type\",\"type\":\"byte\",\"nullable\":false,\"metadata\":{}},{\"name\":\"size\",\"type\":\"integer\",\"nullable\":true,\"metadata\":{}},{\"name\":\"indices\",\"type\":{\"type\":\"array\",\"elementType\":\"integer\",\"containsNull\":false},\"nullable\":true,\"metadata\":{}},{\"name\":\"values\",\"type\":{\"type\":\"array\",\"elementType\":\"double\",\"containsNull\":false},\"nullable\":true,\"metadata\":{}}]}}"
        },
        {
         "metadata": "{\"ml_attr\":{\"attrs\":{\"binary\":[{\"idx\":0,\"name\":\"false\"}]},\"num_attrs\":1}}",
         "name": "Stop_ohe",
         "type": "{\"type\":\"udt\",\"class\":\"org.apache.spark.ml.linalg.VectorUDT\",\"pyClass\":\"pyspark.ml.linalg.VectorUDT\",\"sqlType\":{\"type\":\"struct\",\"fields\":[{\"name\":\"type\",\"type\":\"byte\",\"nullable\":false,\"metadata\":{}},{\"name\":\"size\",\"type\":\"integer\",\"nullable\":true,\"metadata\":{}},{\"name\":\"indices\",\"type\":{\"type\":\"array\",\"elementType\":\"integer\",\"containsNull\":false},\"nullable\":true,\"metadata\":{}},{\"name\":\"values\",\"type\":{\"type\":\"array\",\"elementType\":\"double\",\"containsNull\":false},\"nullable\":true,\"metadata\":{}}]}}"
        },
        {
         "metadata": "{\"ml_attr\":{\"attrs\":{\"binary\":[{\"idx\":0,\"name\":\"false\"}]},\"num_attrs\":1}}",
         "name": "Traffic_Calming_ohe",
         "type": "{\"type\":\"udt\",\"class\":\"org.apache.spark.ml.linalg.VectorUDT\",\"pyClass\":\"pyspark.ml.linalg.VectorUDT\",\"sqlType\":{\"type\":\"struct\",\"fields\":[{\"name\":\"type\",\"type\":\"byte\",\"nullable\":false,\"metadata\":{}},{\"name\":\"size\",\"type\":\"integer\",\"nullable\":true,\"metadata\":{}},{\"name\":\"indices\",\"type\":{\"type\":\"array\",\"elementType\":\"integer\",\"containsNull\":false},\"nullable\":true,\"metadata\":{}},{\"name\":\"values\",\"type\":{\"type\":\"array\",\"elementType\":\"double\",\"containsNull\":false},\"nullable\":true,\"metadata\":{}}]}}"
        },
        {
         "metadata": "{\"ml_attr\":{\"attrs\":{\"binary\":[{\"idx\":0,\"name\":\"false\"}]},\"num_attrs\":1}}",
         "name": "Traffic_Signal_ohe",
         "type": "{\"type\":\"udt\",\"class\":\"org.apache.spark.ml.linalg.VectorUDT\",\"pyClass\":\"pyspark.ml.linalg.VectorUDT\",\"sqlType\":{\"type\":\"struct\",\"fields\":[{\"name\":\"type\",\"type\":\"byte\",\"nullable\":false,\"metadata\":{}},{\"name\":\"size\",\"type\":\"integer\",\"nullable\":true,\"metadata\":{}},{\"name\":\"indices\",\"type\":{\"type\":\"array\",\"elementType\":\"integer\",\"containsNull\":false},\"nullable\":true,\"metadata\":{}},{\"name\":\"values\",\"type\":{\"type\":\"array\",\"elementType\":\"double\",\"containsNull\":false},\"nullable\":true,\"metadata\":{}}]}}"
        },
        {
         "metadata": "{\"ml_attr\":{\"attrs\":{\"binary\":[{\"idx\":0,\"name\":\"Day\"}]},\"num_attrs\":1}}",
         "name": "Sunrise_Sunset_ohe",
         "type": "{\"type\":\"udt\",\"class\":\"org.apache.spark.ml.linalg.VectorUDT\",\"pyClass\":\"pyspark.ml.linalg.VectorUDT\",\"sqlType\":{\"type\":\"struct\",\"fields\":[{\"name\":\"type\",\"type\":\"byte\",\"nullable\":false,\"metadata\":{}},{\"name\":\"size\",\"type\":\"integer\",\"nullable\":true,\"metadata\":{}},{\"name\":\"indices\",\"type\":{\"type\":\"array\",\"elementType\":\"integer\",\"containsNull\":false},\"nullable\":true,\"metadata\":{}},{\"name\":\"values\",\"type\":{\"type\":\"array\",\"elementType\":\"double\",\"containsNull\":false},\"nullable\":true,\"metadata\":{}}]}}"
        },
        {
         "metadata": "{\"ml_attr\":{\"attrs\":{\"binary\":[{\"idx\":0,\"name\":\"Day\"}]},\"num_attrs\":1}}",
         "name": "Civil_Twilight_ohe",
         "type": "{\"type\":\"udt\",\"class\":\"org.apache.spark.ml.linalg.VectorUDT\",\"pyClass\":\"pyspark.ml.linalg.VectorUDT\",\"sqlType\":{\"type\":\"struct\",\"fields\":[{\"name\":\"type\",\"type\":\"byte\",\"nullable\":false,\"metadata\":{}},{\"name\":\"size\",\"type\":\"integer\",\"nullable\":true,\"metadata\":{}},{\"name\":\"indices\",\"type\":{\"type\":\"array\",\"elementType\":\"integer\",\"containsNull\":false},\"nullable\":true,\"metadata\":{}},{\"name\":\"values\",\"type\":{\"type\":\"array\",\"elementType\":\"double\",\"containsNull\":false},\"nullable\":true,\"metadata\":{}}]}}"
        },
        {
         "metadata": "{\"ml_attr\":{\"attrs\":{\"binary\":[{\"idx\":0,\"name\":\"Day\"}]},\"num_attrs\":1}}",
         "name": "Nautical_Twilight_ohe",
         "type": "{\"type\":\"udt\",\"class\":\"org.apache.spark.ml.linalg.VectorUDT\",\"pyClass\":\"pyspark.ml.linalg.VectorUDT\",\"sqlType\":{\"type\":\"struct\",\"fields\":[{\"name\":\"type\",\"type\":\"byte\",\"nullable\":false,\"metadata\":{}},{\"name\":\"size\",\"type\":\"integer\",\"nullable\":true,\"metadata\":{}},{\"name\":\"indices\",\"type\":{\"type\":\"array\",\"elementType\":\"integer\",\"containsNull\":false},\"nullable\":true,\"metadata\":{}},{\"name\":\"values\",\"type\":{\"type\":\"array\",\"elementType\":\"double\",\"containsNull\":false},\"nullable\":true,\"metadata\":{}}]}}"
        },
        {
         "metadata": "{\"ml_attr\":{\"attrs\":{\"binary\":[{\"idx\":0,\"name\":\"Day\"}]},\"num_attrs\":1}}",
         "name": "Astronomical_Twilight_ohe",
         "type": "{\"type\":\"udt\",\"class\":\"org.apache.spark.ml.linalg.VectorUDT\",\"pyClass\":\"pyspark.ml.linalg.VectorUDT\",\"sqlType\":{\"type\":\"struct\",\"fields\":[{\"name\":\"type\",\"type\":\"byte\",\"nullable\":false,\"metadata\":{}},{\"name\":\"size\",\"type\":\"integer\",\"nullable\":true,\"metadata\":{}},{\"name\":\"indices\",\"type\":{\"type\":\"array\",\"elementType\":\"integer\",\"containsNull\":false},\"nullable\":true,\"metadata\":{}},{\"name\":\"values\",\"type\":{\"type\":\"array\",\"elementType\":\"double\",\"containsNull\":false},\"nullable\":true,\"metadata\":{}}]}}"
        },
        {
         "metadata": "{\"ml_attr\":{\"attrs\":{\"numeric\":[{\"idx\":0,\"name\":\"Distance(mi)\"},{\"idx\":1,\"name\":\"Temperature(F)\"},{\"idx\":2,\"name\":\"Wind_Chill(F)\"},{\"idx\":3,\"name\":\"Humidity(%)\"},{\"idx\":4,\"name\":\"Pressure(in)\"},{\"idx\":5,\"name\":\"Visibility(mi)\"},{\"idx\":6,\"name\":\"Wind_Speed(mph)\"},{\"idx\":7,\"name\":\"Precipitation(in)\"}]},\"num_attrs\":8}}",
         "name": "numerical_features",
         "type": "{\"type\":\"udt\",\"class\":\"org.apache.spark.ml.linalg.VectorUDT\",\"pyClass\":\"pyspark.ml.linalg.VectorUDT\",\"sqlType\":{\"type\":\"struct\",\"fields\":[{\"name\":\"type\",\"type\":\"byte\",\"nullable\":false,\"metadata\":{}},{\"name\":\"size\",\"type\":\"integer\",\"nullable\":true,\"metadata\":{}},{\"name\":\"indices\",\"type\":{\"type\":\"array\",\"elementType\":\"integer\",\"containsNull\":false},\"nullable\":true,\"metadata\":{}},{\"name\":\"values\",\"type\":{\"type\":\"array\",\"elementType\":\"double\",\"containsNull\":false},\"nullable\":true,\"metadata\":{}}]}}"
        },
        {
         "metadata": "{\"ml_attr\":{\"num_attrs\":8}}",
         "name": "scaled_features",
         "type": "{\"type\":\"udt\",\"class\":\"org.apache.spark.ml.linalg.VectorUDT\",\"pyClass\":\"pyspark.ml.linalg.VectorUDT\",\"sqlType\":{\"type\":\"struct\",\"fields\":[{\"name\":\"type\",\"type\":\"byte\",\"nullable\":false,\"metadata\":{}},{\"name\":\"size\",\"type\":\"integer\",\"nullable\":true,\"metadata\":{}},{\"name\":\"indices\",\"type\":{\"type\":\"array\",\"elementType\":\"integer\",\"containsNull\":false},\"nullable\":true,\"metadata\":{}},{\"name\":\"values\",\"type\":{\"type\":\"array\",\"elementType\":\"double\",\"containsNull\":false},\"nullable\":true,\"metadata\":{}}]}}"
        }
       ],
       "type": "table"
      }
     },
     "output_type": "display_data"
    }
   ],
   "source": [
    "us_acc_train_scaled.limit(10).display()"
   ]
  },
  {
   "cell_type": "markdown",
   "metadata": {
    "application/vnd.databricks.v1+cell": {
     "cellMetadata": {},
     "inputWidgets": {},
     "nuid": "c40c8f59-2565-449c-83ef-0fa4ced37a4c",
     "showTitle": false,
     "title": ""
    }
   },
   "source": [
    "#### Apply Vector Assembler"
   ]
  },
  {
   "cell_type": "code",
   "execution_count": 0,
   "metadata": {
    "application/vnd.databricks.v1+cell": {
     "cellMetadata": {
      "byteLimit": 2048000,
      "rowLimit": 10000
     },
     "inputWidgets": {},
     "nuid": "517e01ef-ceb6-4d0a-927d-6f51dc83499e",
     "showTitle": false,
     "title": ""
    }
   },
   "outputs": [],
   "source": [
    "va = VectorAssembler(inputCols=[\"scaled_features\"] + [c + \"_ohe\" for c in categorical_col], outputCol=\"features\")\n",
    "us_acc_train_va = va.transform(us_acc_train_scaled)\n"
   ]
  },
  {
   "cell_type": "code",
   "execution_count": 0,
   "metadata": {
    "application/vnd.databricks.v1+cell": {
     "cellMetadata": {
      "byteLimit": 2048000,
      "rowLimit": 10000
     },
     "inputWidgets": {},
     "nuid": "6b93852f-ffcd-4b43-9e21-f8aab4dddaec",
     "showTitle": false,
     "title": ""
    }
   },
   "outputs": [
    {
     "output_type": "display_data",
     "data": {
      "text/html": [
       "<style scoped>\n",
       "  .table-result-container {\n",
       "    max-height: 300px;\n",
       "    overflow: auto;\n",
       "  }\n",
       "  table, th, td {\n",
       "    border: 1px solid black;\n",
       "    border-collapse: collapse;\n",
       "  }\n",
       "  th, td {\n",
       "    padding: 5px;\n",
       "  }\n",
       "  th {\n",
       "    text-align: left;\n",
       "  }\n",
       "</style><div class='table-result-container'><table class='table-result'><thead style='background-color: white'><tr><th>Severity</th><th>Distance(mi)</th><th>Temperature(F)</th><th>Wind_Chill(F)</th><th>Humidity(%)</th><th>Pressure(in)</th><th>Visibility(mi)</th><th>Wind_Speed(mph)</th><th>Precipitation(in)</th><th>Amenity</th><th>Bump</th><th>Crossing</th><th>Give_Way</th><th>Junction</th><th>No_Exit</th><th>Railway</th><th>Roundabout</th><th>Station</th><th>Stop</th><th>Traffic_Calming</th><th>Traffic_Signal</th><th>Sunrise_Sunset</th><th>Civil_Twilight</th><th>Nautical_Twilight</th><th>Astronomical_Twilight</th><th>Amenity_idx</th><th>Bump_idx</th><th>Crossing_idx</th><th>Give_Way_idx</th><th>Junction_idx</th><th>No_Exit_idx</th><th>Railway_idx</th><th>Roundabout_idx</th><th>Station_idx</th><th>Stop_idx</th><th>Traffic_Calming_idx</th><th>Traffic_Signal_idx</th><th>Sunrise_Sunset_idx</th><th>Civil_Twilight_idx</th><th>Nautical_Twilight_idx</th><th>Astronomical_Twilight_idx</th><th>Amenity_ohe</th><th>Bump_ohe</th><th>Crossing_ohe</th><th>Give_Way_ohe</th><th>Junction_ohe</th><th>No_Exit_ohe</th><th>Railway_ohe</th><th>Roundabout_ohe</th><th>Station_ohe</th><th>Stop_ohe</th><th>Traffic_Calming_ohe</th><th>Traffic_Signal_ohe</th><th>Sunrise_Sunset_ohe</th><th>Civil_Twilight_ohe</th><th>Nautical_Twilight_ohe</th><th>Astronomical_Twilight_ohe</th><th>numerical_features</th><th>scaled_features</th><th>features</th></tr></thead><tbody><tr><td>0</td><td>1.52</td><td>79.0</td><td>79.0</td><td>84.0</td><td>29.88</td><td>8.0</td><td>25.0</td><td>0.01</td><td>false</td><td>false</td><td>false</td><td>false</td><td>false</td><td>false</td><td>false</td><td>false</td><td>false</td><td>false</td><td>false</td><td>false</td><td>Night</td><td>Night</td><td>Night</td><td>Night</td><td>0.0</td><td>0.0</td><td>0.0</td><td>0.0</td><td>0.0</td><td>0.0</td><td>0.0</td><td>0.0</td><td>0.0</td><td>0.0</td><td>0.0</td><td>0.0</td><td>1.0</td><td>1.0</td><td>1.0</td><td>1.0</td><td>Map(vectorType -> sparse, length -> 1, indices -> List(0), values -> List(1.0))</td><td>Map(vectorType -> sparse, length -> 1, indices -> List(0), values -> List(1.0))</td><td>Map(vectorType -> sparse, length -> 1, indices -> List(0), values -> List(1.0))</td><td>Map(vectorType -> sparse, length -> 1, indices -> List(0), values -> List(1.0))</td><td>Map(vectorType -> sparse, length -> 1, indices -> List(0), values -> List(1.0))</td><td>Map(vectorType -> sparse, length -> 1, indices -> List(0), values -> List(1.0))</td><td>Map(vectorType -> sparse, length -> 1, indices -> List(0), values -> List(1.0))</td><td>Map(vectorType -> sparse, length -> 1, indices -> List(0), values -> List(1.0))</td><td>Map(vectorType -> sparse, length -> 1, indices -> List(0), values -> List(1.0))</td><td>Map(vectorType -> sparse, length -> 1, indices -> List(0), values -> List(1.0))</td><td>Map(vectorType -> sparse, length -> 1, indices -> List(0), values -> List(1.0))</td><td>Map(vectorType -> sparse, length -> 1, indices -> List(0), values -> List(1.0))</td><td>Map(vectorType -> sparse, length -> 1, indices -> List(), values -> List())</td><td>Map(vectorType -> sparse, length -> 1, indices -> List(), values -> List())</td><td>Map(vectorType -> sparse, length -> 1, indices -> List(), values -> List())</td><td>Map(vectorType -> sparse, length -> 1, indices -> List(), values -> List())</td><td>Map(vectorType -> dense, length -> 8, values -> List(1.52, 79.0, 79.0, 84.0, 29.88, 8.0, 25.0, 0.01))</td><td>Map(vectorType -> dense, length -> 8, values -> List(3.601591167282833, 4.148296255774492, 3.705873133716913, 3.72072065684743, 26.85269760650326, 3.2925392690280164, 4.895616396653085, 0.21781494942566842))</td><td>Map(vectorType -> dense, length -> 24, values -> List(3.601591167282833, 4.148296255774492, 3.705873133716913, 3.72072065684743, 26.85269760650326, 3.2925392690280164, 4.895616396653085, 0.21781494942566842, 1.0, 1.0, 1.0, 1.0, 1.0, 1.0, 1.0, 1.0, 1.0, 1.0, 1.0, 1.0, 0.0, 0.0, 0.0, 0.0))</td></tr><tr><td>0</td><td>0.421</td><td>95.0</td><td>95.0</td><td>47.0</td><td>29.8</td><td>10.0</td><td>10.0</td><td>0.01</td><td>false</td><td>false</td><td>false</td><td>false</td><td>false</td><td>false</td><td>false</td><td>false</td><td>false</td><td>false</td><td>false</td><td>false</td><td>Day</td><td>Day</td><td>Day</td><td>Day</td><td>0.0</td><td>0.0</td><td>0.0</td><td>0.0</td><td>0.0</td><td>0.0</td><td>0.0</td><td>0.0</td><td>0.0</td><td>0.0</td><td>0.0</td><td>0.0</td><td>0.0</td><td>0.0</td><td>0.0</td><td>0.0</td><td>Map(vectorType -> sparse, length -> 1, indices -> List(0), values -> List(1.0))</td><td>Map(vectorType -> sparse, length -> 1, indices -> List(0), values -> List(1.0))</td><td>Map(vectorType -> sparse, length -> 1, indices -> List(0), values -> List(1.0))</td><td>Map(vectorType -> sparse, length -> 1, indices -> List(0), values -> List(1.0))</td><td>Map(vectorType -> sparse, length -> 1, indices -> List(0), values -> List(1.0))</td><td>Map(vectorType -> sparse, length -> 1, indices -> List(0), values -> List(1.0))</td><td>Map(vectorType -> sparse, length -> 1, indices -> List(0), values -> List(1.0))</td><td>Map(vectorType -> sparse, length -> 1, indices -> List(0), values -> List(1.0))</td><td>Map(vectorType -> sparse, length -> 1, indices -> List(0), values -> List(1.0))</td><td>Map(vectorType -> sparse, length -> 1, indices -> List(0), values -> List(1.0))</td><td>Map(vectorType -> sparse, length -> 1, indices -> List(0), values -> List(1.0))</td><td>Map(vectorType -> sparse, length -> 1, indices -> List(0), values -> List(1.0))</td><td>Map(vectorType -> sparse, length -> 1, indices -> List(0), values -> List(1.0))</td><td>Map(vectorType -> sparse, length -> 1, indices -> List(0), values -> List(1.0))</td><td>Map(vectorType -> sparse, length -> 1, indices -> List(0), values -> List(1.0))</td><td>Map(vectorType -> sparse, length -> 1, indices -> List(0), values -> List(1.0))</td><td>Map(vectorType -> dense, length -> 8, values -> List(0.421, 95.0, 95.0, 47.0, 29.8, 10.0, 10.0, 0.01))</td><td>Map(vectorType -> dense, length -> 8, values -> List(0.9975459746224162, 4.988457522766794, 4.4564297177608445, 2.081831796093205, 26.780802833795086, 4.11567408628502, 1.958246558661234, 0.21781494942566842))</td><td>Map(vectorType -> dense, length -> 24, values -> List(0.9975459746224162, 4.988457522766794, 4.4564297177608445, 2.081831796093205, 26.780802833795086, 4.11567408628502, 1.958246558661234, 0.21781494942566842, 1.0, 1.0, 1.0, 1.0, 1.0, 1.0, 1.0, 1.0, 1.0, 1.0, 1.0, 1.0, 1.0, 1.0, 1.0, 1.0))</td></tr><tr><td>0</td><td>0.001</td><td>81.0</td><td>81.0</td><td>56.0</td><td>29.46</td><td>10.0</td><td>7.0</td><td>0.01</td><td>false</td><td>false</td><td>false</td><td>false</td><td>false</td><td>false</td><td>false</td><td>false</td><td>false</td><td>false</td><td>false</td><td>true</td><td>Day</td><td>Day</td><td>Day</td><td>Day</td><td>0.0</td><td>0.0</td><td>0.0</td><td>0.0</td><td>0.0</td><td>0.0</td><td>0.0</td><td>0.0</td><td>0.0</td><td>0.0</td><td>0.0</td><td>1.0</td><td>0.0</td><td>0.0</td><td>0.0</td><td>0.0</td><td>Map(vectorType -> sparse, length -> 1, indices -> List(0), values -> List(1.0))</td><td>Map(vectorType -> sparse, length -> 1, indices -> List(0), values -> List(1.0))</td><td>Map(vectorType -> sparse, length -> 1, indices -> List(0), values -> List(1.0))</td><td>Map(vectorType -> sparse, length -> 1, indices -> List(0), values -> List(1.0))</td><td>Map(vectorType -> sparse, length -> 1, indices -> List(0), values -> List(1.0))</td><td>Map(vectorType -> sparse, length -> 1, indices -> List(0), values -> List(1.0))</td><td>Map(vectorType -> sparse, length -> 1, indices -> List(0), values -> List(1.0))</td><td>Map(vectorType -> sparse, length -> 1, indices -> List(0), values -> List(1.0))</td><td>Map(vectorType -> sparse, length -> 1, indices -> List(0), values -> List(1.0))</td><td>Map(vectorType -> sparse, length -> 1, indices -> List(0), values -> List(1.0))</td><td>Map(vectorType -> sparse, length -> 1, indices -> List(0), values -> List(1.0))</td><td>Map(vectorType -> sparse, length -> 1, indices -> List(), values -> List())</td><td>Map(vectorType -> sparse, length -> 1, indices -> List(0), values -> List(1.0))</td><td>Map(vectorType -> sparse, length -> 1, indices -> List(0), values -> List(1.0))</td><td>Map(vectorType -> sparse, length -> 1, indices -> List(0), values -> List(1.0))</td><td>Map(vectorType -> sparse, length -> 1, indices -> List(0), values -> List(1.0))</td><td>Map(vectorType -> dense, length -> 8, values -> List(0.001, 81.0, 81.0, 56.0, 29.46, 10.0, 7.0, 0.01))</td><td>Map(vectorType -> dense, length -> 8, values -> List(0.00236946787321239, 4.25331641414853, 3.7996927067224044, 2.4804804378982865, 26.475250049785345, 4.11567408628502, 1.3707725910628639, 0.21781494942566842))</td><td>Map(vectorType -> dense, length -> 24, values -> List(0.00236946787321239, 4.25331641414853, 3.7996927067224044, 2.4804804378982865, 26.475250049785345, 4.11567408628502, 1.3707725910628639, 0.21781494942566842, 1.0, 1.0, 1.0, 1.0, 1.0, 1.0, 1.0, 1.0, 1.0, 1.0, 1.0, 0.0, 1.0, 1.0, 1.0, 1.0))</td></tr><tr><td>0</td><td>0.213</td><td>72.0</td><td>72.0</td><td>59.0</td><td>29.52</td><td>10.0</td><td>7.0</td><td>0.01</td><td>false</td><td>false</td><td>false</td><td>false</td><td>false</td><td>false</td><td>false</td><td>false</td><td>false</td><td>false</td><td>false</td><td>false</td><td>Night</td><td>Night</td><td>Day</td><td>Day</td><td>0.0</td><td>0.0</td><td>0.0</td><td>0.0</td><td>0.0</td><td>0.0</td><td>0.0</td><td>0.0</td><td>0.0</td><td>0.0</td><td>0.0</td><td>0.0</td><td>1.0</td><td>1.0</td><td>0.0</td><td>0.0</td><td>Map(vectorType -> sparse, length -> 1, indices -> List(0), values -> List(1.0))</td><td>Map(vectorType -> sparse, length -> 1, indices -> List(0), values -> List(1.0))</td><td>Map(vectorType -> sparse, length -> 1, indices -> List(0), values -> List(1.0))</td><td>Map(vectorType -> sparse, length -> 1, indices -> List(0), values -> List(1.0))</td><td>Map(vectorType -> sparse, length -> 1, indices -> List(0), values -> List(1.0))</td><td>Map(vectorType -> sparse, length -> 1, indices -> List(0), values -> List(1.0))</td><td>Map(vectorType -> sparse, length -> 1, indices -> List(0), values -> List(1.0))</td><td>Map(vectorType -> sparse, length -> 1, indices -> List(0), values -> List(1.0))</td><td>Map(vectorType -> sparse, length -> 1, indices -> List(0), values -> List(1.0))</td><td>Map(vectorType -> sparse, length -> 1, indices -> List(0), values -> List(1.0))</td><td>Map(vectorType -> sparse, length -> 1, indices -> List(0), values -> List(1.0))</td><td>Map(vectorType -> sparse, length -> 1, indices -> List(0), values -> List(1.0))</td><td>Map(vectorType -> sparse, length -> 1, indices -> List(), values -> List())</td><td>Map(vectorType -> sparse, length -> 1, indices -> List(), values -> List())</td><td>Map(vectorType -> sparse, length -> 1, indices -> List(0), values -> List(1.0))</td><td>Map(vectorType -> sparse, length -> 1, indices -> List(0), values -> List(1.0))</td><td>Map(vectorType -> dense, length -> 8, values -> List(0.213, 72.0, 72.0, 59.0, 29.52, 10.0, 7.0, 0.01))</td><td>Map(vectorType -> dense, length -> 8, values -> List(0.504696656994239, 3.7807257014653595, 3.377504628197693, 2.6133633184999803, 26.529171129316474, 4.11567408628502, 1.3707725910628639, 0.21781494942566842))</td><td>Map(vectorType -> dense, length -> 24, values -> List(0.504696656994239, 3.7807257014653595, 3.377504628197693, 2.6133633184999803, 26.529171129316474, 4.11567408628502, 1.3707725910628639, 0.21781494942566842, 1.0, 1.0, 1.0, 1.0, 1.0, 1.0, 1.0, 1.0, 1.0, 1.0, 1.0, 1.0, 0.0, 0.0, 1.0, 1.0))</td></tr><tr><td>0</td><td>0.001</td><td>58.0</td><td>58.0</td><td>78.0</td><td>29.93</td><td>7.0</td><td>3.0</td><td>0.01</td><td>false</td><td>false</td><td>false</td><td>false</td><td>false</td><td>false</td><td>false</td><td>false</td><td>false</td><td>false</td><td>false</td><td>false</td><td>Day</td><td>Day</td><td>Day</td><td>Day</td><td>0.0</td><td>0.0</td><td>0.0</td><td>0.0</td><td>0.0</td><td>0.0</td><td>0.0</td><td>0.0</td><td>0.0</td><td>0.0</td><td>0.0</td><td>0.0</td><td>0.0</td><td>0.0</td><td>0.0</td><td>0.0</td><td>Map(vectorType -> sparse, length -> 1, indices -> List(0), values -> List(1.0))</td><td>Map(vectorType -> sparse, length -> 1, indices -> List(0), values -> List(1.0))</td><td>Map(vectorType -> sparse, length -> 1, indices -> List(0), values -> List(1.0))</td><td>Map(vectorType -> sparse, length -> 1, indices -> List(0), values -> List(1.0))</td><td>Map(vectorType -> sparse, length -> 1, indices -> List(0), values -> List(1.0))</td><td>Map(vectorType -> sparse, length -> 1, indices -> List(0), values -> List(1.0))</td><td>Map(vectorType -> sparse, length -> 1, indices -> List(0), values -> List(1.0))</td><td>Map(vectorType -> sparse, length -> 1, indices -> List(0), values -> List(1.0))</td><td>Map(vectorType -> sparse, length -> 1, indices -> List(0), values -> List(1.0))</td><td>Map(vectorType -> sparse, length -> 1, indices -> List(0), values -> List(1.0))</td><td>Map(vectorType -> sparse, length -> 1, indices -> List(0), values -> List(1.0))</td><td>Map(vectorType -> sparse, length -> 1, indices -> List(0), values -> List(1.0))</td><td>Map(vectorType -> sparse, length -> 1, indices -> List(0), values -> List(1.0))</td><td>Map(vectorType -> sparse, length -> 1, indices -> List(0), values -> List(1.0))</td><td>Map(vectorType -> sparse, length -> 1, indices -> List(0), values -> List(1.0))</td><td>Map(vectorType -> sparse, length -> 1, indices -> List(0), values -> List(1.0))</td><td>Map(vectorType -> dense, length -> 8, values -> List(0.001, 58.0, 58.0, 78.0, 29.93, 7.0, 3.0, 0.01))</td><td>Map(vectorType -> dense, length -> 8, values -> List(0.00236946787321239, 3.0455845928470953, 2.7207676171592525, 3.454954895644042, 26.897631839445868, 2.8809718603995145, 0.5874739675983702, 0.21781494942566842))</td><td>Map(vectorType -> dense, length -> 24, values -> List(0.00236946787321239, 3.0455845928470953, 2.7207676171592525, 3.454954895644042, 26.897631839445868, 2.8809718603995145, 0.5874739675983702, 0.21781494942566842, 1.0, 1.0, 1.0, 1.0, 1.0, 1.0, 1.0, 1.0, 1.0, 1.0, 1.0, 1.0, 1.0, 1.0, 1.0, 1.0))</td></tr><tr><td>0</td><td>0.001</td><td>63.0</td><td>63.0</td><td>42.0</td><td>28.91</td><td>7.0</td><td>1.0</td><td>0.01</td><td>false</td><td>false</td><td>false</td><td>false</td><td>false</td><td>false</td><td>false</td><td>false</td><td>false</td><td>false</td><td>false</td><td>false</td><td>Night</td><td>Night</td><td>Day</td><td>Day</td><td>0.0</td><td>0.0</td><td>0.0</td><td>0.0</td><td>0.0</td><td>0.0</td><td>0.0</td><td>0.0</td><td>0.0</td><td>0.0</td><td>0.0</td><td>0.0</td><td>1.0</td><td>1.0</td><td>0.0</td><td>0.0</td><td>Map(vectorType -> sparse, length -> 1, indices -> List(0), values -> List(1.0))</td><td>Map(vectorType -> sparse, length -> 1, indices -> List(0), values -> List(1.0))</td><td>Map(vectorType -> sparse, length -> 1, indices -> List(0), values -> List(1.0))</td><td>Map(vectorType -> sparse, length -> 1, indices -> List(0), values -> List(1.0))</td><td>Map(vectorType -> sparse, length -> 1, indices -> List(0), values -> List(1.0))</td><td>Map(vectorType -> sparse, length -> 1, indices -> List(0), values -> List(1.0))</td><td>Map(vectorType -> sparse, length -> 1, indices -> List(0), values -> List(1.0))</td><td>Map(vectorType -> sparse, length -> 1, indices -> List(0), values -> List(1.0))</td><td>Map(vectorType -> sparse, length -> 1, indices -> List(0), values -> List(1.0))</td><td>Map(vectorType -> sparse, length -> 1, indices -> List(0), values -> List(1.0))</td><td>Map(vectorType -> sparse, length -> 1, indices -> List(0), values -> List(1.0))</td><td>Map(vectorType -> sparse, length -> 1, indices -> List(0), values -> List(1.0))</td><td>Map(vectorType -> sparse, length -> 1, indices -> List(), values -> List())</td><td>Map(vectorType -> sparse, length -> 1, indices -> List(), values -> List())</td><td>Map(vectorType -> sparse, length -> 1, indices -> List(0), values -> List(1.0))</td><td>Map(vectorType -> sparse, length -> 1, indices -> List(0), values -> List(1.0))</td><td>Map(vectorType -> dense, length -> 8, values -> List(0.001, 63.0, 63.0, 42.0, 28.91, 7.0, 1.0, 0.01))</td><td>Map(vectorType -> dense, length -> 8, values -> List(0.00236946787321239, 3.3081349887821894, 2.955316549672981, 1.860360328423715, 25.98097348741664, 2.8809718603995145, 0.1958246558661234, 0.21781494942566842))</td><td>Map(vectorType -> dense, length -> 24, values -> List(0.00236946787321239, 3.3081349887821894, 2.955316549672981, 1.860360328423715, 25.98097348741664, 2.8809718603995145, 0.1958246558661234, 0.21781494942566842, 1.0, 1.0, 1.0, 1.0, 1.0, 1.0, 1.0, 1.0, 1.0, 1.0, 1.0, 1.0, 0.0, 0.0, 1.0, 1.0))</td></tr><tr><td>0</td><td>1.521</td><td>70.0</td><td>70.0</td><td>47.0</td><td>30.11</td><td>10.0</td><td>13.0</td><td>0.01</td><td>false</td><td>false</td><td>false</td><td>false</td><td>false</td><td>false</td><td>false</td><td>false</td><td>false</td><td>false</td><td>false</td><td>false</td><td>Day</td><td>Day</td><td>Day</td><td>Day</td><td>0.0</td><td>0.0</td><td>0.0</td><td>0.0</td><td>0.0</td><td>0.0</td><td>0.0</td><td>0.0</td><td>0.0</td><td>0.0</td><td>0.0</td><td>0.0</td><td>0.0</td><td>0.0</td><td>0.0</td><td>0.0</td><td>Map(vectorType -> sparse, length -> 1, indices -> List(0), values -> List(1.0))</td><td>Map(vectorType -> sparse, length -> 1, indices -> List(0), values -> List(1.0))</td><td>Map(vectorType -> sparse, length -> 1, indices -> List(0), values -> List(1.0))</td><td>Map(vectorType -> sparse, length -> 1, indices -> List(0), values -> List(1.0))</td><td>Map(vectorType -> sparse, length -> 1, indices -> List(0), values -> List(1.0))</td><td>Map(vectorType -> sparse, length -> 1, indices -> List(0), values -> List(1.0))</td><td>Map(vectorType -> sparse, length -> 1, indices -> List(0), values -> List(1.0))</td><td>Map(vectorType -> sparse, length -> 1, indices -> List(0), values -> List(1.0))</td><td>Map(vectorType -> sparse, length -> 1, indices -> List(0), values -> List(1.0))</td><td>Map(vectorType -> sparse, length -> 1, indices -> List(0), values -> List(1.0))</td><td>Map(vectorType -> sparse, length -> 1, indices -> List(0), values -> List(1.0))</td><td>Map(vectorType -> sparse, length -> 1, indices -> List(0), values -> List(1.0))</td><td>Map(vectorType -> sparse, length -> 1, indices -> List(0), values -> List(1.0))</td><td>Map(vectorType -> sparse, length -> 1, indices -> List(0), values -> List(1.0))</td><td>Map(vectorType -> sparse, length -> 1, indices -> List(0), values -> List(1.0))</td><td>Map(vectorType -> sparse, length -> 1, indices -> List(0), values -> List(1.0))</td><td>Map(vectorType -> dense, length -> 8, values -> List(1.521, 70.0, 70.0, 47.0, 30.11, 10.0, 13.0, 0.01))</td><td>Map(vectorType -> dense, length -> 8, values -> List(3.6039606351560454, 3.6757055430913215, 3.2836850551922017, 2.081831796093205, 27.059395078039262, 4.11567408628502, 2.545720526259604, 0.21781494942566842))</td><td>Map(vectorType -> dense, length -> 24, values -> List(3.6039606351560454, 3.6757055430913215, 3.2836850551922017, 2.081831796093205, 27.059395078039262, 4.11567408628502, 2.545720526259604, 0.21781494942566842, 1.0, 1.0, 1.0, 1.0, 1.0, 1.0, 1.0, 1.0, 1.0, 1.0, 1.0, 1.0, 1.0, 1.0, 1.0, 1.0))</td></tr><tr><td>0</td><td>0.214</td><td>74.0</td><td>74.0</td><td>55.0</td><td>30.05</td><td>10.0</td><td>15.0</td><td>0.01</td><td>false</td><td>false</td><td>true</td><td>false</td><td>false</td><td>false</td><td>false</td><td>false</td><td>false</td><td>false</td><td>false</td><td>false</td><td>Day</td><td>Day</td><td>Day</td><td>Day</td><td>0.0</td><td>0.0</td><td>1.0</td><td>0.0</td><td>0.0</td><td>0.0</td><td>0.0</td><td>0.0</td><td>0.0</td><td>0.0</td><td>0.0</td><td>0.0</td><td>0.0</td><td>0.0</td><td>0.0</td><td>0.0</td><td>Map(vectorType -> sparse, length -> 1, indices -> List(0), values -> List(1.0))</td><td>Map(vectorType -> sparse, length -> 1, indices -> List(0), values -> List(1.0))</td><td>Map(vectorType -> sparse, length -> 1, indices -> List(), values -> List())</td><td>Map(vectorType -> sparse, length -> 1, indices -> List(0), values -> List(1.0))</td><td>Map(vectorType -> sparse, length -> 1, indices -> List(0), values -> List(1.0))</td><td>Map(vectorType -> sparse, length -> 1, indices -> List(0), values -> List(1.0))</td><td>Map(vectorType -> sparse, length -> 1, indices -> List(0), values -> List(1.0))</td><td>Map(vectorType -> sparse, length -> 1, indices -> List(0), values -> List(1.0))</td><td>Map(vectorType -> sparse, length -> 1, indices -> List(0), values -> List(1.0))</td><td>Map(vectorType -> sparse, length -> 1, indices -> List(0), values -> List(1.0))</td><td>Map(vectorType -> sparse, length -> 1, indices -> List(0), values -> List(1.0))</td><td>Map(vectorType -> sparse, length -> 1, indices -> List(0), values -> List(1.0))</td><td>Map(vectorType -> sparse, length -> 1, indices -> List(0), values -> List(1.0))</td><td>Map(vectorType -> sparse, length -> 1, indices -> List(0), values -> List(1.0))</td><td>Map(vectorType -> sparse, length -> 1, indices -> List(0), values -> List(1.0))</td><td>Map(vectorType -> sparse, length -> 1, indices -> List(0), values -> List(1.0))</td><td>Map(vectorType -> dense, length -> 8, values -> List(0.214, 74.0, 74.0, 55.0, 30.05, 10.0, 15.0, 0.01))</td><td>Map(vectorType -> dense, length -> 8, values -> List(0.5070661248674515, 3.885745859839397, 3.4713242012031844, 2.4361861443643886, 27.005473998508133, 4.11567408628502, 2.9373698379918514, 0.21781494942566842))</td><td>Map(vectorType -> dense, length -> 24, values -> List(0.5070661248674515, 3.885745859839397, 3.4713242012031844, 2.4361861443643886, 27.005473998508133, 4.11567408628502, 2.9373698379918514, 0.21781494942566842, 1.0, 1.0, 0.0, 1.0, 1.0, 1.0, 1.0, 1.0, 1.0, 1.0, 1.0, 1.0, 1.0, 1.0, 1.0, 1.0))</td></tr><tr><td>0</td><td>0.001</td><td>72.0</td><td>72.0</td><td>88.0</td><td>30.02</td><td>10.0</td><td>3.0</td><td>0.01</td><td>false</td><td>false</td><td>false</td><td>false</td><td>false</td><td>false</td><td>false</td><td>false</td><td>false</td><td>false</td><td>false</td><td>true</td><td>Day</td><td>Day</td><td>Day</td><td>Day</td><td>0.0</td><td>0.0</td><td>0.0</td><td>0.0</td><td>0.0</td><td>0.0</td><td>0.0</td><td>0.0</td><td>0.0</td><td>0.0</td><td>0.0</td><td>1.0</td><td>0.0</td><td>0.0</td><td>0.0</td><td>0.0</td><td>Map(vectorType -> sparse, length -> 1, indices -> List(0), values -> List(1.0))</td><td>Map(vectorType -> sparse, length -> 1, indices -> List(0), values -> List(1.0))</td><td>Map(vectorType -> sparse, length -> 1, indices -> List(0), values -> List(1.0))</td><td>Map(vectorType -> sparse, length -> 1, indices -> List(0), values -> List(1.0))</td><td>Map(vectorType -> sparse, length -> 1, indices -> List(0), values -> List(1.0))</td><td>Map(vectorType -> sparse, length -> 1, indices -> List(0), values -> List(1.0))</td><td>Map(vectorType -> sparse, length -> 1, indices -> List(0), values -> List(1.0))</td><td>Map(vectorType -> sparse, length -> 1, indices -> List(0), values -> List(1.0))</td><td>Map(vectorType -> sparse, length -> 1, indices -> List(0), values -> List(1.0))</td><td>Map(vectorType -> sparse, length -> 1, indices -> List(0), values -> List(1.0))</td><td>Map(vectorType -> sparse, length -> 1, indices -> List(0), values -> List(1.0))</td><td>Map(vectorType -> sparse, length -> 1, indices -> List(), values -> List())</td><td>Map(vectorType -> sparse, length -> 1, indices -> List(0), values -> List(1.0))</td><td>Map(vectorType -> sparse, length -> 1, indices -> List(0), values -> List(1.0))</td><td>Map(vectorType -> sparse, length -> 1, indices -> List(0), values -> List(1.0))</td><td>Map(vectorType -> sparse, length -> 1, indices -> List(0), values -> List(1.0))</td><td>Map(vectorType -> dense, length -> 8, values -> List(0.001, 72.0, 72.0, 88.0, 30.02, 10.0, 3.0, 0.01))</td><td>Map(vectorType -> dense, length -> 8, values -> List(0.00236946787321239, 3.7807257014653595, 3.377504628197693, 3.8978978309830214, 26.978513458742565, 4.11567408628502, 0.5874739675983702, 0.21781494942566842))</td><td>Map(vectorType -> dense, length -> 24, values -> List(0.00236946787321239, 3.7807257014653595, 3.377504628197693, 3.8978978309830214, 26.978513458742565, 4.11567408628502, 0.5874739675983702, 0.21781494942566842, 1.0, 1.0, 1.0, 1.0, 1.0, 1.0, 1.0, 1.0, 1.0, 1.0, 1.0, 0.0, 1.0, 1.0, 1.0, 1.0))</td></tr><tr><td>0</td><td>1.557</td><td>88.0</td><td>88.0</td><td>55.0</td><td>29.99</td><td>10.0</td><td>10.0</td><td>0.01</td><td>false</td><td>false</td><td>false</td><td>false</td><td>false</td><td>false</td><td>false</td><td>false</td><td>false</td><td>false</td><td>false</td><td>false</td><td>Day</td><td>Day</td><td>Day</td><td>Day</td><td>0.0</td><td>0.0</td><td>0.0</td><td>0.0</td><td>0.0</td><td>0.0</td><td>0.0</td><td>0.0</td><td>0.0</td><td>0.0</td><td>0.0</td><td>0.0</td><td>0.0</td><td>0.0</td><td>0.0</td><td>0.0</td><td>Map(vectorType -> sparse, length -> 1, indices -> List(0), values -> List(1.0))</td><td>Map(vectorType -> sparse, length -> 1, indices -> List(0), values -> List(1.0))</td><td>Map(vectorType -> sparse, length -> 1, indices -> List(0), values -> List(1.0))</td><td>Map(vectorType -> sparse, length -> 1, indices -> List(0), values -> List(1.0))</td><td>Map(vectorType -> sparse, length -> 1, indices -> List(0), values -> List(1.0))</td><td>Map(vectorType -> sparse, length -> 1, indices -> List(0), values -> List(1.0))</td><td>Map(vectorType -> sparse, length -> 1, indices -> List(0), values -> List(1.0))</td><td>Map(vectorType -> sparse, length -> 1, indices -> List(0), values -> List(1.0))</td><td>Map(vectorType -> sparse, length -> 1, indices -> List(0), values -> List(1.0))</td><td>Map(vectorType -> sparse, length -> 1, indices -> List(0), values -> List(1.0))</td><td>Map(vectorType -> sparse, length -> 1, indices -> List(0), values -> List(1.0))</td><td>Map(vectorType -> sparse, length -> 1, indices -> List(0), values -> List(1.0))</td><td>Map(vectorType -> sparse, length -> 1, indices -> List(0), values -> List(1.0))</td><td>Map(vectorType -> sparse, length -> 1, indices -> List(0), values -> List(1.0))</td><td>Map(vectorType -> sparse, length -> 1, indices -> List(0), values -> List(1.0))</td><td>Map(vectorType -> sparse, length -> 1, indices -> List(0), values -> List(1.0))</td><td>Map(vectorType -> dense, length -> 8, values -> List(1.557, 88.0, 88.0, 55.0, 29.99, 10.0, 10.0, 0.01))</td><td>Map(vectorType -> dense, length -> 8, values -> List(3.6892614785916913, 4.620886968457661, 4.128061212241625, 2.4361861443643886, 26.951552918976997, 4.11567408628502, 1.958246558661234, 0.21781494942566842))</td><td>Map(vectorType -> dense, length -> 24, values -> List(3.6892614785916913, 4.620886968457661, 4.128061212241625, 2.4361861443643886, 26.951552918976997, 4.11567408628502, 1.958246558661234, 0.21781494942566842, 1.0, 1.0, 1.0, 1.0, 1.0, 1.0, 1.0, 1.0, 1.0, 1.0, 1.0, 1.0, 1.0, 1.0, 1.0, 1.0))</td></tr><tr><td>0</td><td>0.001</td><td>49.0</td><td>44.0</td><td>46.0</td><td>29.2</td><td>10.0</td><td>14.0</td><td>0.01</td><td>false</td><td>false</td><td>false</td><td>false</td><td>false</td><td>false</td><td>false</td><td>false</td><td>false</td><td>false</td><td>false</td><td>false</td><td>Day</td><td>Day</td><td>Day</td><td>Day</td><td>0.0</td><td>0.0</td><td>0.0</td><td>0.0</td><td>0.0</td><td>0.0</td><td>0.0</td><td>0.0</td><td>0.0</td><td>0.0</td><td>0.0</td><td>0.0</td><td>0.0</td><td>0.0</td><td>0.0</td><td>0.0</td><td>Map(vectorType -> sparse, length -> 1, indices -> List(0), values -> List(1.0))</td><td>Map(vectorType -> sparse, length -> 1, indices -> List(0), values -> List(1.0))</td><td>Map(vectorType -> sparse, length -> 1, indices -> List(0), values -> List(1.0))</td><td>Map(vectorType -> sparse, length -> 1, indices -> List(0), values -> List(1.0))</td><td>Map(vectorType -> sparse, length -> 1, indices -> List(0), values -> List(1.0))</td><td>Map(vectorType -> sparse, length -> 1, indices -> List(0), values -> List(1.0))</td><td>Map(vectorType -> sparse, length -> 1, indices -> List(0), values -> List(1.0))</td><td>Map(vectorType -> sparse, length -> 1, indices -> List(0), values -> List(1.0))</td><td>Map(vectorType -> sparse, length -> 1, indices -> List(0), values -> List(1.0))</td><td>Map(vectorType -> sparse, length -> 1, indices -> List(0), values -> List(1.0))</td><td>Map(vectorType -> sparse, length -> 1, indices -> List(0), values -> List(1.0))</td><td>Map(vectorType -> sparse, length -> 1, indices -> List(0), values -> List(1.0))</td><td>Map(vectorType -> sparse, length -> 1, indices -> List(0), values -> List(1.0))</td><td>Map(vectorType -> sparse, length -> 1, indices -> List(0), values -> List(1.0))</td><td>Map(vectorType -> sparse, length -> 1, indices -> List(0), values -> List(1.0))</td><td>Map(vectorType -> sparse, length -> 1, indices -> List(0), values -> List(1.0))</td><td>Map(vectorType -> dense, length -> 8, values -> List(0.001, 49.0, 44.0, 46.0, 29.2, 10.0, 14.0, 0.01))</td><td>Map(vectorType -> dense, length -> 8, values -> List(0.00236946787321239, 2.572993880163925, 2.0640306061208125, 2.0375375025593065, 26.241592038483773, 4.11567408628502, 2.7415451821257277, 0.21781494942566842))</td><td>Map(vectorType -> dense, length -> 24, values -> List(0.00236946787321239, 2.572993880163925, 2.0640306061208125, 2.0375375025593065, 26.241592038483773, 4.11567408628502, 2.7415451821257277, 0.21781494942566842, 1.0, 1.0, 1.0, 1.0, 1.0, 1.0, 1.0, 1.0, 1.0, 1.0, 1.0, 1.0, 1.0, 1.0, 1.0, 1.0))</td></tr><tr><td>0</td><td>0.001</td><td>80.0</td><td>80.0</td><td>10.0</td><td>29.71</td><td>10.0</td><td>3.0</td><td>0.01</td><td>false</td><td>false</td><td>false</td><td>false</td><td>false</td><td>false</td><td>false</td><td>false</td><td>false</td><td>false</td><td>false</td><td>false</td><td>Day</td><td>Day</td><td>Day</td><td>Day</td><td>0.0</td><td>0.0</td><td>0.0</td><td>0.0</td><td>0.0</td><td>0.0</td><td>0.0</td><td>0.0</td><td>0.0</td><td>0.0</td><td>0.0</td><td>0.0</td><td>0.0</td><td>0.0</td><td>0.0</td><td>0.0</td><td>Map(vectorType -> sparse, length -> 1, indices -> List(0), values -> List(1.0))</td><td>Map(vectorType -> sparse, length -> 1, indices -> List(0), values -> List(1.0))</td><td>Map(vectorType -> sparse, length -> 1, indices -> List(0), values -> List(1.0))</td><td>Map(vectorType -> sparse, length -> 1, indices -> List(0), values -> List(1.0))</td><td>Map(vectorType -> sparse, length -> 1, indices -> List(0), values -> List(1.0))</td><td>Map(vectorType -> sparse, length -> 1, indices -> List(0), values -> List(1.0))</td><td>Map(vectorType -> sparse, length -> 1, indices -> List(0), values -> List(1.0))</td><td>Map(vectorType -> sparse, length -> 1, indices -> List(0), values -> List(1.0))</td><td>Map(vectorType -> sparse, length -> 1, indices -> List(0), values -> List(1.0))</td><td>Map(vectorType -> sparse, length -> 1, indices -> List(0), values -> List(1.0))</td><td>Map(vectorType -> sparse, length -> 1, indices -> List(0), values -> List(1.0))</td><td>Map(vectorType -> sparse, length -> 1, indices -> List(0), values -> List(1.0))</td><td>Map(vectorType -> sparse, length -> 1, indices -> List(0), values -> List(1.0))</td><td>Map(vectorType -> sparse, length -> 1, indices -> List(0), values -> List(1.0))</td><td>Map(vectorType -> sparse, length -> 1, indices -> List(0), values -> List(1.0))</td><td>Map(vectorType -> sparse, length -> 1, indices -> List(0), values -> List(1.0))</td><td>Map(vectorType -> dense, length -> 8, values -> List(0.001, 80.0, 80.0, 10.0, 29.71, 10.0, 3.0, 0.01))</td><td>Map(vectorType -> dense, length -> 8, values -> List(0.00236946787321239, 4.20080633496151, 3.752782920219659, 0.4429429353389797, 26.69992121449839, 4.11567408628502, 0.5874739675983702, 0.21781494942566842))</td><td>Map(vectorType -> dense, length -> 24, values -> List(0.00236946787321239, 4.20080633496151, 3.752782920219659, 0.4429429353389797, 26.69992121449839, 4.11567408628502, 0.5874739675983702, 0.21781494942566842, 1.0, 1.0, 1.0, 1.0, 1.0, 1.0, 1.0, 1.0, 1.0, 1.0, 1.0, 1.0, 1.0, 1.0, 1.0, 1.0))</td></tr><tr><td>0</td><td>0.073</td><td>45.0</td><td>40.0</td><td>86.0</td><td>29.97</td><td>10.0</td><td>9.0</td><td>0.01</td><td>false</td><td>false</td><td>false</td><td>false</td><td>false</td><td>false</td><td>false</td><td>false</td><td>false</td><td>false</td><td>false</td><td>false</td><td>Night</td><td>Night</td><td>Night</td><td>Night</td><td>0.0</td><td>0.0</td><td>0.0</td><td>0.0</td><td>0.0</td><td>0.0</td><td>0.0</td><td>0.0</td><td>0.0</td><td>0.0</td><td>0.0</td><td>0.0</td><td>1.0</td><td>1.0</td><td>1.0</td><td>1.0</td><td>Map(vectorType -> sparse, length -> 1, indices -> List(0), values -> List(1.0))</td><td>Map(vectorType -> sparse, length -> 1, indices -> List(0), values -> List(1.0))</td><td>Map(vectorType -> sparse, length -> 1, indices -> List(0), values -> List(1.0))</td><td>Map(vectorType -> sparse, length -> 1, indices -> List(0), values -> List(1.0))</td><td>Map(vectorType -> sparse, length -> 1, indices -> List(0), values -> List(1.0))</td><td>Map(vectorType -> sparse, length -> 1, indices -> List(0), values -> List(1.0))</td><td>Map(vectorType -> sparse, length -> 1, indices -> List(0), values -> List(1.0))</td><td>Map(vectorType -> sparse, length -> 1, indices -> List(0), values -> List(1.0))</td><td>Map(vectorType -> sparse, length -> 1, indices -> List(0), values -> List(1.0))</td><td>Map(vectorType -> sparse, length -> 1, indices -> List(0), values -> List(1.0))</td><td>Map(vectorType -> sparse, length -> 1, indices -> List(0), values -> List(1.0))</td><td>Map(vectorType -> sparse, length -> 1, indices -> List(0), values -> List(1.0))</td><td>Map(vectorType -> sparse, length -> 1, indices -> List(), values -> List())</td><td>Map(vectorType -> sparse, length -> 1, indices -> List(), values -> List())</td><td>Map(vectorType -> sparse, length -> 1, indices -> List(), values -> List())</td><td>Map(vectorType -> sparse, length -> 1, indices -> List(), values -> List())</td><td>Map(vectorType -> dense, length -> 8, values -> List(0.073, 45.0, 40.0, 86.0, 29.97, 10.0, 9.0, 0.01))</td><td>Map(vectorType -> dense, length -> 8, values -> List(0.17297115474450447, 2.3629535634158496, 1.8763914601098295, 3.8093092439152256, 26.933579225799956, 4.11567408628502, 1.7624219027951107, 0.21781494942566842))</td><td>Map(vectorType -> dense, length -> 24, values -> List(0.17297115474450447, 2.3629535634158496, 1.8763914601098295, 3.8093092439152256, 26.933579225799956, 4.11567408628502, 1.7624219027951107, 0.21781494942566842, 1.0, 1.0, 1.0, 1.0, 1.0, 1.0, 1.0, 1.0, 1.0, 1.0, 1.0, 1.0, 0.0, 0.0, 0.0, 0.0))</td></tr><tr><td>0</td><td>0.035</td><td>86.0</td><td>86.0</td><td>19.0</td><td>27.24</td><td>10.0</td><td>8.0</td><td>0.01</td><td>false</td><td>false</td><td>false</td><td>false</td><td>false</td><td>false</td><td>false</td><td>false</td><td>false</td><td>false</td><td>false</td><td>false</td><td>Night</td><td>Night</td><td>Night</td><td>Night</td><td>0.0</td><td>0.0</td><td>0.0</td><td>0.0</td><td>0.0</td><td>0.0</td><td>0.0</td><td>0.0</td><td>0.0</td><td>0.0</td><td>0.0</td><td>0.0</td><td>1.0</td><td>1.0</td><td>1.0</td><td>1.0</td><td>Map(vectorType -> sparse, length -> 1, indices -> List(0), values -> List(1.0))</td><td>Map(vectorType -> sparse, length -> 1, indices -> List(0), values -> List(1.0))</td><td>Map(vectorType -> sparse, length -> 1, indices -> List(0), values -> List(1.0))</td><td>Map(vectorType -> sparse, length -> 1, indices -> List(0), values -> List(1.0))</td><td>Map(vectorType -> sparse, length -> 1, indices -> List(0), values -> List(1.0))</td><td>Map(vectorType -> sparse, length -> 1, indices -> List(0), values -> List(1.0))</td><td>Map(vectorType -> sparse, length -> 1, indices -> List(0), values -> List(1.0))</td><td>Map(vectorType -> sparse, length -> 1, indices -> List(0), values -> List(1.0))</td><td>Map(vectorType -> sparse, length -> 1, indices -> List(0), values -> List(1.0))</td><td>Map(vectorType -> sparse, length -> 1, indices -> List(0), values -> List(1.0))</td><td>Map(vectorType -> sparse, length -> 1, indices -> List(0), values -> List(1.0))</td><td>Map(vectorType -> sparse, length -> 1, indices -> List(0), values -> List(1.0))</td><td>Map(vectorType -> sparse, length -> 1, indices -> List(), values -> List())</td><td>Map(vectorType -> sparse, length -> 1, indices -> List(), values -> List())</td><td>Map(vectorType -> sparse, length -> 1, indices -> List(), values -> List())</td><td>Map(vectorType -> sparse, length -> 1, indices -> List(), values -> List())</td><td>Map(vectorType -> dense, length -> 8, values -> List(0.035, 86.0, 86.0, 19.0, 27.24, 10.0, 8.0, 0.01))</td><td>Map(vectorType -> dense, length -> 8, values -> List(0.08293137556243366, 4.515866810083624, 4.034241639236133, 0.8415915771440615, 24.480170107133493, 4.11567408628502, 1.5665972469289873, 0.21781494942566842))</td><td>Map(vectorType -> dense, length -> 24, values -> List(0.08293137556243366, 4.515866810083624, 4.034241639236133, 0.8415915771440615, 24.480170107133493, 4.11567408628502, 1.5665972469289873, 0.21781494942566842, 1.0, 1.0, 1.0, 1.0, 1.0, 1.0, 1.0, 1.0, 1.0, 1.0, 1.0, 1.0, 0.0, 0.0, 0.0, 0.0))</td></tr><tr><td>0</td><td>0.066</td><td>27.0</td><td>23.0</td><td>69.0</td><td>30.64</td><td>10.0</td><td>3.5</td><td>0.01</td><td>false</td><td>false</td><td>false</td><td>false</td><td>false</td><td>false</td><td>true</td><td>false</td><td>true</td><td>false</td><td>false</td><td>false</td><td>Day</td><td>Day</td><td>Day</td><td>Day</td><td>0.0</td><td>0.0</td><td>0.0</td><td>0.0</td><td>0.0</td><td>0.0</td><td>1.0</td><td>0.0</td><td>1.0</td><td>0.0</td><td>0.0</td><td>0.0</td><td>0.0</td><td>0.0</td><td>0.0</td><td>0.0</td><td>Map(vectorType -> sparse, length -> 1, indices -> List(0), values -> List(1.0))</td><td>Map(vectorType -> sparse, length -> 1, indices -> List(0), values -> List(1.0))</td><td>Map(vectorType -> sparse, length -> 1, indices -> List(0), values -> List(1.0))</td><td>Map(vectorType -> sparse, length -> 1, indices -> List(0), values -> List(1.0))</td><td>Map(vectorType -> sparse, length -> 1, indices -> List(0), values -> List(1.0))</td><td>Map(vectorType -> sparse, length -> 1, indices -> List(0), values -> List(1.0))</td><td>Map(vectorType -> sparse, length -> 1, indices -> List(), values -> List())</td><td>Map(vectorType -> sparse, length -> 1, indices -> List(0), values -> List(1.0))</td><td>Map(vectorType -> sparse, length -> 1, indices -> List(), values -> List())</td><td>Map(vectorType -> sparse, length -> 1, indices -> List(0), values -> List(1.0))</td><td>Map(vectorType -> sparse, length -> 1, indices -> List(0), values -> List(1.0))</td><td>Map(vectorType -> sparse, length -> 1, indices -> List(0), values -> List(1.0))</td><td>Map(vectorType -> sparse, length -> 1, indices -> List(0), values -> List(1.0))</td><td>Map(vectorType -> sparse, length -> 1, indices -> List(0), values -> List(1.0))</td><td>Map(vectorType -> sparse, length -> 1, indices -> List(0), values -> List(1.0))</td><td>Map(vectorType -> sparse, length -> 1, indices -> List(0), values -> List(1.0))</td><td>Map(vectorType -> dense, length -> 8, values -> List(0.066, 27.0, 23.0, 69.0, 30.64, 10.0, 3.5, 0.01))</td><td>Map(vectorType -> dense, length -> 8, values -> List(0.15638487963201775, 1.4177721380495099, 1.078925089563152, 3.0563062538389603, 27.535697947230922, 4.11567408628502, 0.6853862955314319, 0.21781494942566842))</td><td>Map(vectorType -> dense, length -> 24, values -> List(0.15638487963201775, 1.4177721380495099, 1.078925089563152, 3.0563062538389603, 27.535697947230922, 4.11567408628502, 0.6853862955314319, 0.21781494942566842, 1.0, 1.0, 1.0, 1.0, 1.0, 1.0, 0.0, 1.0, 0.0, 1.0, 1.0, 1.0, 1.0, 1.0, 1.0, 1.0))</td></tr><tr><td>0</td><td>0.001</td><td>37.0</td><td>31.0</td><td>54.0</td><td>29.78</td><td>10.0</td><td>8.0</td><td>0.01</td><td>true</td><td>false</td><td>false</td><td>false</td><td>false</td><td>false</td><td>false</td><td>false</td><td>false</td><td>false</td><td>false</td><td>true</td><td>Day</td><td>Day</td><td>Day</td><td>Day</td><td>1.0</td><td>0.0</td><td>0.0</td><td>0.0</td><td>0.0</td><td>0.0</td><td>0.0</td><td>0.0</td><td>0.0</td><td>0.0</td><td>0.0</td><td>1.0</td><td>0.0</td><td>0.0</td><td>0.0</td><td>0.0</td><td>Map(vectorType -> sparse, length -> 1, indices -> List(), values -> List())</td><td>Map(vectorType -> sparse, length -> 1, indices -> List(0), values -> List(1.0))</td><td>Map(vectorType -> sparse, length -> 1, indices -> List(0), values -> List(1.0))</td><td>Map(vectorType -> sparse, length -> 1, indices -> List(0), values -> List(1.0))</td><td>Map(vectorType -> sparse, length -> 1, indices -> List(0), values -> List(1.0))</td><td>Map(vectorType -> sparse, length -> 1, indices -> List(0), values -> List(1.0))</td><td>Map(vectorType -> sparse, length -> 1, indices -> List(0), values -> List(1.0))</td><td>Map(vectorType -> sparse, length -> 1, indices -> List(0), values -> List(1.0))</td><td>Map(vectorType -> sparse, length -> 1, indices -> List(0), values -> List(1.0))</td><td>Map(vectorType -> sparse, length -> 1, indices -> List(0), values -> List(1.0))</td><td>Map(vectorType -> sparse, length -> 1, indices -> List(0), values -> List(1.0))</td><td>Map(vectorType -> sparse, length -> 1, indices -> List(), values -> List())</td><td>Map(vectorType -> sparse, length -> 1, indices -> List(0), values -> List(1.0))</td><td>Map(vectorType -> sparse, length -> 1, indices -> List(0), values -> List(1.0))</td><td>Map(vectorType -> sparse, length -> 1, indices -> List(0), values -> List(1.0))</td><td>Map(vectorType -> sparse, length -> 1, indices -> List(0), values -> List(1.0))</td><td>Map(vectorType -> dense, length -> 8, values -> List(0.001, 37.0, 31.0, 54.0, 29.78, 10.0, 8.0, 0.01))</td><td>Map(vectorType -> dense, length -> 8, values -> List(0.00236946787321239, 1.9428729299196985, 1.4542033815851179, 2.3918918508304907, 26.76282914061804, 4.11567408628502, 1.5665972469289873, 0.21781494942566842))</td><td>Map(vectorType -> dense, length -> 24, values -> List(0.00236946787321239, 1.9428729299196985, 1.4542033815851179, 2.3918918508304907, 26.76282914061804, 4.11567408628502, 1.5665972469289873, 0.21781494942566842, 0.0, 1.0, 1.0, 1.0, 1.0, 1.0, 1.0, 1.0, 1.0, 1.0, 1.0, 0.0, 1.0, 1.0, 1.0, 1.0))</td></tr><tr><td>0</td><td>0.7559999999999999</td><td>67.0</td><td>67.0</td><td>70.0</td><td>29.51</td><td>9.0</td><td>5.0</td><td>0.01</td><td>false</td><td>false</td><td>false</td><td>false</td><td>false</td><td>false</td><td>false</td><td>false</td><td>false</td><td>false</td><td>false</td><td>false</td><td>Day</td><td>Day</td><td>Day</td><td>Day</td><td>0.0</td><td>0.0</td><td>0.0</td><td>0.0</td><td>0.0</td><td>0.0</td><td>0.0</td><td>0.0</td><td>0.0</td><td>0.0</td><td>0.0</td><td>0.0</td><td>0.0</td><td>0.0</td><td>0.0</td><td>0.0</td><td>Map(vectorType -> sparse, length -> 1, indices -> List(0), values -> List(1.0))</td><td>Map(vectorType -> sparse, length -> 1, indices -> List(0), values -> List(1.0))</td><td>Map(vectorType -> sparse, length -> 1, indices -> List(0), values -> List(1.0))</td><td>Map(vectorType -> sparse, length -> 1, indices -> List(0), values -> List(1.0))</td><td>Map(vectorType -> sparse, length -> 1, indices -> List(0), values -> List(1.0))</td><td>Map(vectorType -> sparse, length -> 1, indices -> List(0), values -> List(1.0))</td><td>Map(vectorType -> sparse, length -> 1, indices -> List(0), values -> List(1.0))</td><td>Map(vectorType -> sparse, length -> 1, indices -> List(0), values -> List(1.0))</td><td>Map(vectorType -> sparse, length -> 1, indices -> List(0), values -> List(1.0))</td><td>Map(vectorType -> sparse, length -> 1, indices -> List(0), values -> List(1.0))</td><td>Map(vectorType -> sparse, length -> 1, indices -> List(0), values -> List(1.0))</td><td>Map(vectorType -> sparse, length -> 1, indices -> List(0), values -> List(1.0))</td><td>Map(vectorType -> sparse, length -> 1, indices -> List(0), values -> List(1.0))</td><td>Map(vectorType -> sparse, length -> 1, indices -> List(0), values -> List(1.0))</td><td>Map(vectorType -> sparse, length -> 1, indices -> List(0), values -> List(1.0))</td><td>Map(vectorType -> sparse, length -> 1, indices -> List(0), values -> List(1.0))</td><td>Map(vectorType -> dense, length -> 8, values -> List(0.7559999999999999, 67.0, 67.0, 70.0, 29.51, 9.0, 5.0, 0.01))</td><td>Map(vectorType -> dense, length -> 8, values -> List(1.7913177121485666, 3.518175305530265, 3.1429556956839644, 3.100600547372858, 26.520184282727953, 3.7041066776565184, 0.979123279330617, 0.21781494942566842))</td><td>Map(vectorType -> dense, length -> 24, values -> List(1.7913177121485666, 3.518175305530265, 3.1429556956839644, 3.100600547372858, 26.520184282727953, 3.7041066776565184, 0.979123279330617, 0.21781494942566842, 1.0, 1.0, 1.0, 1.0, 1.0, 1.0, 1.0, 1.0, 1.0, 1.0, 1.0, 1.0, 1.0, 1.0, 1.0, 1.0))</td></tr><tr><td>0</td><td>0.032</td><td>73.0</td><td>73.0</td><td>27.0</td><td>29.23</td><td>10.0</td><td>9.0</td><td>0.01</td><td>false</td><td>false</td><td>false</td><td>false</td><td>false</td><td>false</td><td>false</td><td>false</td><td>false</td><td>false</td><td>false</td><td>false</td><td>Day</td><td>Day</td><td>Day</td><td>Day</td><td>0.0</td><td>0.0</td><td>0.0</td><td>0.0</td><td>0.0</td><td>0.0</td><td>0.0</td><td>0.0</td><td>0.0</td><td>0.0</td><td>0.0</td><td>0.0</td><td>0.0</td><td>0.0</td><td>0.0</td><td>0.0</td><td>Map(vectorType -> sparse, length -> 1, indices -> List(0), values -> List(1.0))</td><td>Map(vectorType -> sparse, length -> 1, indices -> List(0), values -> List(1.0))</td><td>Map(vectorType -> sparse, length -> 1, indices -> List(0), values -> List(1.0))</td><td>Map(vectorType -> sparse, length -> 1, indices -> List(0), values -> List(1.0))</td><td>Map(vectorType -> sparse, length -> 1, indices -> List(0), values -> List(1.0))</td><td>Map(vectorType -> sparse, length -> 1, indices -> List(0), values -> List(1.0))</td><td>Map(vectorType -> sparse, length -> 1, indices -> List(0), values -> List(1.0))</td><td>Map(vectorType -> sparse, length -> 1, indices -> List(0), values -> List(1.0))</td><td>Map(vectorType -> sparse, length -> 1, indices -> List(0), values -> List(1.0))</td><td>Map(vectorType -> sparse, length -> 1, indices -> List(0), values -> List(1.0))</td><td>Map(vectorType -> sparse, length -> 1, indices -> List(0), values -> List(1.0))</td><td>Map(vectorType -> sparse, length -> 1, indices -> List(0), values -> List(1.0))</td><td>Map(vectorType -> sparse, length -> 1, indices -> List(0), values -> List(1.0))</td><td>Map(vectorType -> sparse, length -> 1, indices -> List(0), values -> List(1.0))</td><td>Map(vectorType -> sparse, length -> 1, indices -> List(0), values -> List(1.0))</td><td>Map(vectorType -> sparse, length -> 1, indices -> List(0), values -> List(1.0))</td><td>Map(vectorType -> dense, length -> 8, values -> List(0.032, 73.0, 73.0, 27.0, 29.23, 10.0, 9.0, 0.01))</td><td>Map(vectorType -> dense, length -> 8, values -> List(0.07582297194279648, 3.8332357806523785, 3.4244144147004385, 1.1959459254152454, 26.26855257824934, 4.11567408628502, 1.7624219027951107, 0.21781494942566842))</td><td>Map(vectorType -> dense, length -> 24, values -> List(0.07582297194279648, 3.8332357806523785, 3.4244144147004385, 1.1959459254152454, 26.26855257824934, 4.11567408628502, 1.7624219027951107, 0.21781494942566842, 1.0, 1.0, 1.0, 1.0, 1.0, 1.0, 1.0, 1.0, 1.0, 1.0, 1.0, 1.0, 1.0, 1.0, 1.0, 1.0))</td></tr><tr><td>0</td><td>0.873</td><td>63.0</td><td>63.0</td><td>75.0</td><td>29.99</td><td>10.0</td><td>5.0</td><td>0.01</td><td>false</td><td>false</td><td>false</td><td>false</td><td>false</td><td>false</td><td>false</td><td>false</td><td>false</td><td>false</td><td>false</td><td>false</td><td>Night</td><td>Night</td><td>Night</td><td>Day</td><td>0.0</td><td>0.0</td><td>0.0</td><td>0.0</td><td>0.0</td><td>0.0</td><td>0.0</td><td>0.0</td><td>0.0</td><td>0.0</td><td>0.0</td><td>0.0</td><td>1.0</td><td>1.0</td><td>1.0</td><td>0.0</td><td>Map(vectorType -> sparse, length -> 1, indices -> List(0), values -> List(1.0))</td><td>Map(vectorType -> sparse, length -> 1, indices -> List(0), values -> List(1.0))</td><td>Map(vectorType -> sparse, length -> 1, indices -> List(0), values -> List(1.0))</td><td>Map(vectorType -> sparse, length -> 1, indices -> List(0), values -> List(1.0))</td><td>Map(vectorType -> sparse, length -> 1, indices -> List(0), values -> List(1.0))</td><td>Map(vectorType -> sparse, length -> 1, indices -> List(0), values -> List(1.0))</td><td>Map(vectorType -> sparse, length -> 1, indices -> List(0), values -> List(1.0))</td><td>Map(vectorType -> sparse, length -> 1, indices -> List(0), values -> List(1.0))</td><td>Map(vectorType -> sparse, length -> 1, indices -> List(0), values -> List(1.0))</td><td>Map(vectorType -> sparse, length -> 1, indices -> List(0), values -> List(1.0))</td><td>Map(vectorType -> sparse, length -> 1, indices -> List(0), values -> List(1.0))</td><td>Map(vectorType -> sparse, length -> 1, indices -> List(0), values -> List(1.0))</td><td>Map(vectorType -> sparse, length -> 1, indices -> List(), values -> List())</td><td>Map(vectorType -> sparse, length -> 1, indices -> List(), values -> List())</td><td>Map(vectorType -> sparse, length -> 1, indices -> List(), values -> List())</td><td>Map(vectorType -> sparse, length -> 1, indices -> List(0), values -> List(1.0))</td><td>Map(vectorType -> dense, length -> 8, values -> List(0.873, 63.0, 63.0, 75.0, 29.99, 10.0, 5.0, 0.01))</td><td>Map(vectorType -> dense, length -> 8, values -> List(2.0685454533144165, 3.3081349887821894, 2.955316549672981, 3.322072015042348, 26.951552918976997, 4.11567408628502, 0.979123279330617, 0.21781494942566842))</td><td>Map(vectorType -> dense, length -> 24, values -> List(2.0685454533144165, 3.3081349887821894, 2.955316549672981, 3.322072015042348, 26.951552918976997, 4.11567408628502, 0.979123279330617, 0.21781494942566842, 1.0, 1.0, 1.0, 1.0, 1.0, 1.0, 1.0, 1.0, 1.0, 1.0, 1.0, 1.0, 0.0, 0.0, 0.0, 1.0))</td></tr><tr><td>0</td><td>0.939</td><td>78.0</td><td>78.0</td><td>64.0</td><td>29.97</td><td>10.0</td><td>14.0</td><td>0.01</td><td>false</td><td>false</td><td>false</td><td>false</td><td>false</td><td>false</td><td>false</td><td>false</td><td>true</td><td>false</td><td>false</td><td>false</td><td>Day</td><td>Day</td><td>Day</td><td>Day</td><td>0.0</td><td>0.0</td><td>0.0</td><td>0.0</td><td>0.0</td><td>0.0</td><td>0.0</td><td>0.0</td><td>1.0</td><td>0.0</td><td>0.0</td><td>0.0</td><td>0.0</td><td>0.0</td><td>0.0</td><td>0.0</td><td>Map(vectorType -> sparse, length -> 1, indices -> List(0), values -> List(1.0))</td><td>Map(vectorType -> sparse, length -> 1, indices -> List(0), values -> List(1.0))</td><td>Map(vectorType -> sparse, length -> 1, indices -> List(0), values -> List(1.0))</td><td>Map(vectorType -> sparse, length -> 1, indices -> List(0), values -> List(1.0))</td><td>Map(vectorType -> sparse, length -> 1, indices -> List(0), values -> List(1.0))</td><td>Map(vectorType -> sparse, length -> 1, indices -> List(0), values -> List(1.0))</td><td>Map(vectorType -> sparse, length -> 1, indices -> List(0), values -> List(1.0))</td><td>Map(vectorType -> sparse, length -> 1, indices -> List(0), values -> List(1.0))</td><td>Map(vectorType -> sparse, length -> 1, indices -> List(), values -> List())</td><td>Map(vectorType -> sparse, length -> 1, indices -> List(0), values -> List(1.0))</td><td>Map(vectorType -> sparse, length -> 1, indices -> List(0), values -> List(1.0))</td><td>Map(vectorType -> sparse, length -> 1, indices -> List(0), values -> List(1.0))</td><td>Map(vectorType -> sparse, length -> 1, indices -> List(0), values -> List(1.0))</td><td>Map(vectorType -> sparse, length -> 1, indices -> List(0), values -> List(1.0))</td><td>Map(vectorType -> sparse, length -> 1, indices -> List(0), values -> List(1.0))</td><td>Map(vectorType -> sparse, length -> 1, indices -> List(0), values -> List(1.0))</td><td>Map(vectorType -> dense, length -> 8, values -> List(0.939, 78.0, 78.0, 64.0, 29.97, 10.0, 14.0, 0.01))</td><td>Map(vectorType -> dense, length -> 8, values -> List(2.224930332946434, 4.095786176587473, 3.6589633472141676, 2.8348347861694703, 26.933579225799956, 4.11567408628502, 2.7415451821257277, 0.21781494942566842))</td><td>Map(vectorType -> dense, length -> 24, values -> List(2.224930332946434, 4.095786176587473, 3.6589633472141676, 2.8348347861694703, 26.933579225799956, 4.11567408628502, 2.7415451821257277, 0.21781494942566842, 1.0, 1.0, 1.0, 1.0, 1.0, 1.0, 1.0, 1.0, 0.0, 1.0, 1.0, 1.0, 1.0, 1.0, 1.0, 1.0))</td></tr></tbody></table></div>"
      ]
     },
     "metadata": {
      "application/vnd.databricks.v1+output": {
       "addedWidgets": {},
       "aggData": [],
       "aggError": "",
       "aggOverflow": false,
       "aggSchema": [],
       "aggSeriesLimitReached": false,
       "aggType": "",
       "arguments": {},
       "columnCustomDisplayInfos": {},
       "data": [
        [
         0,
         1.52,
         79.0,
         79.0,
         84.0,
         29.88,
         8.0,
         25.0,
         0.01,
         "false",
         "false",
         "false",
         "false",
         "false",
         "false",
         "false",
         "false",
         "false",
         "false",
         "false",
         "false",
         "Night",
         "Night",
         "Night",
         "Night",
         0.0,
         0.0,
         0.0,
         0.0,
         0.0,
         0.0,
         0.0,
         0.0,
         0.0,
         0.0,
         0.0,
         0.0,
         1.0,
         1.0,
         1.0,
         1.0,
         {
          "indices": [
           0
          ],
          "length": 1,
          "values": [
           1.0
          ],
          "vectorType": "sparse"
         },
         {
          "indices": [
           0
          ],
          "length": 1,
          "values": [
           1.0
          ],
          "vectorType": "sparse"
         },
         {
          "indices": [
           0
          ],
          "length": 1,
          "values": [
           1.0
          ],
          "vectorType": "sparse"
         },
         {
          "indices": [
           0
          ],
          "length": 1,
          "values": [
           1.0
          ],
          "vectorType": "sparse"
         },
         {
          "indices": [
           0
          ],
          "length": 1,
          "values": [
           1.0
          ],
          "vectorType": "sparse"
         },
         {
          "indices": [
           0
          ],
          "length": 1,
          "values": [
           1.0
          ],
          "vectorType": "sparse"
         },
         {
          "indices": [
           0
          ],
          "length": 1,
          "values": [
           1.0
          ],
          "vectorType": "sparse"
         },
         {
          "indices": [
           0
          ],
          "length": 1,
          "values": [
           1.0
          ],
          "vectorType": "sparse"
         },
         {
          "indices": [
           0
          ],
          "length": 1,
          "values": [
           1.0
          ],
          "vectorType": "sparse"
         },
         {
          "indices": [
           0
          ],
          "length": 1,
          "values": [
           1.0
          ],
          "vectorType": "sparse"
         },
         {
          "indices": [
           0
          ],
          "length": 1,
          "values": [
           1.0
          ],
          "vectorType": "sparse"
         },
         {
          "indices": [
           0
          ],
          "length": 1,
          "values": [
           1.0
          ],
          "vectorType": "sparse"
         },
         {
          "indices": [],
          "length": 1,
          "values": [],
          "vectorType": "sparse"
         },
         {
          "indices": [],
          "length": 1,
          "values": [],
          "vectorType": "sparse"
         },
         {
          "indices": [],
          "length": 1,
          "values": [],
          "vectorType": "sparse"
         },
         {
          "indices": [],
          "length": 1,
          "values": [],
          "vectorType": "sparse"
         },
         {
          "length": 8,
          "values": [
           1.52,
           79.0,
           79.0,
           84.0,
           29.88,
           8.0,
           25.0,
           0.01
          ],
          "vectorType": "dense"
         },
         {
          "length": 8,
          "values": [
           3.601591167282833,
           4.148296255774492,
           3.705873133716913,
           3.72072065684743,
           26.85269760650326,
           3.2925392690280164,
           4.895616396653085,
           0.21781494942566842
          ],
          "vectorType": "dense"
         },
         {
          "length": 24,
          "values": [
           3.601591167282833,
           4.148296255774492,
           3.705873133716913,
           3.72072065684743,
           26.85269760650326,
           3.2925392690280164,
           4.895616396653085,
           0.21781494942566842,
           1.0,
           1.0,
           1.0,
           1.0,
           1.0,
           1.0,
           1.0,
           1.0,
           1.0,
           1.0,
           1.0,
           1.0,
           0.0,
           0.0,
           0.0,
           0.0
          ],
          "vectorType": "dense"
         }
        ],
        [
         0,
         0.421,
         95.0,
         95.0,
         47.0,
         29.8,
         10.0,
         10.0,
         0.01,
         "false",
         "false",
         "false",
         "false",
         "false",
         "false",
         "false",
         "false",
         "false",
         "false",
         "false",
         "false",
         "Day",
         "Day",
         "Day",
         "Day",
         0.0,
         0.0,
         0.0,
         0.0,
         0.0,
         0.0,
         0.0,
         0.0,
         0.0,
         0.0,
         0.0,
         0.0,
         0.0,
         0.0,
         0.0,
         0.0,
         {
          "indices": [
           0
          ],
          "length": 1,
          "values": [
           1.0
          ],
          "vectorType": "sparse"
         },
         {
          "indices": [
           0
          ],
          "length": 1,
          "values": [
           1.0
          ],
          "vectorType": "sparse"
         },
         {
          "indices": [
           0
          ],
          "length": 1,
          "values": [
           1.0
          ],
          "vectorType": "sparse"
         },
         {
          "indices": [
           0
          ],
          "length": 1,
          "values": [
           1.0
          ],
          "vectorType": "sparse"
         },
         {
          "indices": [
           0
          ],
          "length": 1,
          "values": [
           1.0
          ],
          "vectorType": "sparse"
         },
         {
          "indices": [
           0
          ],
          "length": 1,
          "values": [
           1.0
          ],
          "vectorType": "sparse"
         },
         {
          "indices": [
           0
          ],
          "length": 1,
          "values": [
           1.0
          ],
          "vectorType": "sparse"
         },
         {
          "indices": [
           0
          ],
          "length": 1,
          "values": [
           1.0
          ],
          "vectorType": "sparse"
         },
         {
          "indices": [
           0
          ],
          "length": 1,
          "values": [
           1.0
          ],
          "vectorType": "sparse"
         },
         {
          "indices": [
           0
          ],
          "length": 1,
          "values": [
           1.0
          ],
          "vectorType": "sparse"
         },
         {
          "indices": [
           0
          ],
          "length": 1,
          "values": [
           1.0
          ],
          "vectorType": "sparse"
         },
         {
          "indices": [
           0
          ],
          "length": 1,
          "values": [
           1.0
          ],
          "vectorType": "sparse"
         },
         {
          "indices": [
           0
          ],
          "length": 1,
          "values": [
           1.0
          ],
          "vectorType": "sparse"
         },
         {
          "indices": [
           0
          ],
          "length": 1,
          "values": [
           1.0
          ],
          "vectorType": "sparse"
         },
         {
          "indices": [
           0
          ],
          "length": 1,
          "values": [
           1.0
          ],
          "vectorType": "sparse"
         },
         {
          "indices": [
           0
          ],
          "length": 1,
          "values": [
           1.0
          ],
          "vectorType": "sparse"
         },
         {
          "length": 8,
          "values": [
           0.421,
           95.0,
           95.0,
           47.0,
           29.8,
           10.0,
           10.0,
           0.01
          ],
          "vectorType": "dense"
         },
         {
          "length": 8,
          "values": [
           0.9975459746224162,
           4.988457522766794,
           4.4564297177608445,
           2.081831796093205,
           26.780802833795086,
           4.11567408628502,
           1.958246558661234,
           0.21781494942566842
          ],
          "vectorType": "dense"
         },
         {
          "length": 24,
          "values": [
           0.9975459746224162,
           4.988457522766794,
           4.4564297177608445,
           2.081831796093205,
           26.780802833795086,
           4.11567408628502,
           1.958246558661234,
           0.21781494942566842,
           1.0,
           1.0,
           1.0,
           1.0,
           1.0,
           1.0,
           1.0,
           1.0,
           1.0,
           1.0,
           1.0,
           1.0,
           1.0,
           1.0,
           1.0,
           1.0
          ],
          "vectorType": "dense"
         }
        ],
        [
         0,
         0.001,
         81.0,
         81.0,
         56.0,
         29.46,
         10.0,
         7.0,
         0.01,
         "false",
         "false",
         "false",
         "false",
         "false",
         "false",
         "false",
         "false",
         "false",
         "false",
         "false",
         "true",
         "Day",
         "Day",
         "Day",
         "Day",
         0.0,
         0.0,
         0.0,
         0.0,
         0.0,
         0.0,
         0.0,
         0.0,
         0.0,
         0.0,
         0.0,
         1.0,
         0.0,
         0.0,
         0.0,
         0.0,
         {
          "indices": [
           0
          ],
          "length": 1,
          "values": [
           1.0
          ],
          "vectorType": "sparse"
         },
         {
          "indices": [
           0
          ],
          "length": 1,
          "values": [
           1.0
          ],
          "vectorType": "sparse"
         },
         {
          "indices": [
           0
          ],
          "length": 1,
          "values": [
           1.0
          ],
          "vectorType": "sparse"
         },
         {
          "indices": [
           0
          ],
          "length": 1,
          "values": [
           1.0
          ],
          "vectorType": "sparse"
         },
         {
          "indices": [
           0
          ],
          "length": 1,
          "values": [
           1.0
          ],
          "vectorType": "sparse"
         },
         {
          "indices": [
           0
          ],
          "length": 1,
          "values": [
           1.0
          ],
          "vectorType": "sparse"
         },
         {
          "indices": [
           0
          ],
          "length": 1,
          "values": [
           1.0
          ],
          "vectorType": "sparse"
         },
         {
          "indices": [
           0
          ],
          "length": 1,
          "values": [
           1.0
          ],
          "vectorType": "sparse"
         },
         {
          "indices": [
           0
          ],
          "length": 1,
          "values": [
           1.0
          ],
          "vectorType": "sparse"
         },
         {
          "indices": [
           0
          ],
          "length": 1,
          "values": [
           1.0
          ],
          "vectorType": "sparse"
         },
         {
          "indices": [
           0
          ],
          "length": 1,
          "values": [
           1.0
          ],
          "vectorType": "sparse"
         },
         {
          "indices": [],
          "length": 1,
          "values": [],
          "vectorType": "sparse"
         },
         {
          "indices": [
           0
          ],
          "length": 1,
          "values": [
           1.0
          ],
          "vectorType": "sparse"
         },
         {
          "indices": [
           0
          ],
          "length": 1,
          "values": [
           1.0
          ],
          "vectorType": "sparse"
         },
         {
          "indices": [
           0
          ],
          "length": 1,
          "values": [
           1.0
          ],
          "vectorType": "sparse"
         },
         {
          "indices": [
           0
          ],
          "length": 1,
          "values": [
           1.0
          ],
          "vectorType": "sparse"
         },
         {
          "length": 8,
          "values": [
           0.001,
           81.0,
           81.0,
           56.0,
           29.46,
           10.0,
           7.0,
           0.01
          ],
          "vectorType": "dense"
         },
         {
          "length": 8,
          "values": [
           0.00236946787321239,
           4.25331641414853,
           3.7996927067224044,
           2.4804804378982865,
           26.475250049785345,
           4.11567408628502,
           1.3707725910628639,
           0.21781494942566842
          ],
          "vectorType": "dense"
         },
         {
          "length": 24,
          "values": [
           0.00236946787321239,
           4.25331641414853,
           3.7996927067224044,
           2.4804804378982865,
           26.475250049785345,
           4.11567408628502,
           1.3707725910628639,
           0.21781494942566842,
           1.0,
           1.0,
           1.0,
           1.0,
           1.0,
           1.0,
           1.0,
           1.0,
           1.0,
           1.0,
           1.0,
           0.0,
           1.0,
           1.0,
           1.0,
           1.0
          ],
          "vectorType": "dense"
         }
        ],
        [
         0,
         0.213,
         72.0,
         72.0,
         59.0,
         29.52,
         10.0,
         7.0,
         0.01,
         "false",
         "false",
         "false",
         "false",
         "false",
         "false",
         "false",
         "false",
         "false",
         "false",
         "false",
         "false",
         "Night",
         "Night",
         "Day",
         "Day",
         0.0,
         0.0,
         0.0,
         0.0,
         0.0,
         0.0,
         0.0,
         0.0,
         0.0,
         0.0,
         0.0,
         0.0,
         1.0,
         1.0,
         0.0,
         0.0,
         {
          "indices": [
           0
          ],
          "length": 1,
          "values": [
           1.0
          ],
          "vectorType": "sparse"
         },
         {
          "indices": [
           0
          ],
          "length": 1,
          "values": [
           1.0
          ],
          "vectorType": "sparse"
         },
         {
          "indices": [
           0
          ],
          "length": 1,
          "values": [
           1.0
          ],
          "vectorType": "sparse"
         },
         {
          "indices": [
           0
          ],
          "length": 1,
          "values": [
           1.0
          ],
          "vectorType": "sparse"
         },
         {
          "indices": [
           0
          ],
          "length": 1,
          "values": [
           1.0
          ],
          "vectorType": "sparse"
         },
         {
          "indices": [
           0
          ],
          "length": 1,
          "values": [
           1.0
          ],
          "vectorType": "sparse"
         },
         {
          "indices": [
           0
          ],
          "length": 1,
          "values": [
           1.0
          ],
          "vectorType": "sparse"
         },
         {
          "indices": [
           0
          ],
          "length": 1,
          "values": [
           1.0
          ],
          "vectorType": "sparse"
         },
         {
          "indices": [
           0
          ],
          "length": 1,
          "values": [
           1.0
          ],
          "vectorType": "sparse"
         },
         {
          "indices": [
           0
          ],
          "length": 1,
          "values": [
           1.0
          ],
          "vectorType": "sparse"
         },
         {
          "indices": [
           0
          ],
          "length": 1,
          "values": [
           1.0
          ],
          "vectorType": "sparse"
         },
         {
          "indices": [
           0
          ],
          "length": 1,
          "values": [
           1.0
          ],
          "vectorType": "sparse"
         },
         {
          "indices": [],
          "length": 1,
          "values": [],
          "vectorType": "sparse"
         },
         {
          "indices": [],
          "length": 1,
          "values": [],
          "vectorType": "sparse"
         },
         {
          "indices": [
           0
          ],
          "length": 1,
          "values": [
           1.0
          ],
          "vectorType": "sparse"
         },
         {
          "indices": [
           0
          ],
          "length": 1,
          "values": [
           1.0
          ],
          "vectorType": "sparse"
         },
         {
          "length": 8,
          "values": [
           0.213,
           72.0,
           72.0,
           59.0,
           29.52,
           10.0,
           7.0,
           0.01
          ],
          "vectorType": "dense"
         },
         {
          "length": 8,
          "values": [
           0.504696656994239,
           3.7807257014653595,
           3.377504628197693,
           2.6133633184999803,
           26.529171129316474,
           4.11567408628502,
           1.3707725910628639,
           0.21781494942566842
          ],
          "vectorType": "dense"
         },
         {
          "length": 24,
          "values": [
           0.504696656994239,
           3.7807257014653595,
           3.377504628197693,
           2.6133633184999803,
           26.529171129316474,
           4.11567408628502,
           1.3707725910628639,
           0.21781494942566842,
           1.0,
           1.0,
           1.0,
           1.0,
           1.0,
           1.0,
           1.0,
           1.0,
           1.0,
           1.0,
           1.0,
           1.0,
           0.0,
           0.0,
           1.0,
           1.0
          ],
          "vectorType": "dense"
         }
        ],
        [
         0,
         0.001,
         58.0,
         58.0,
         78.0,
         29.93,
         7.0,
         3.0,
         0.01,
         "false",
         "false",
         "false",
         "false",
         "false",
         "false",
         "false",
         "false",
         "false",
         "false",
         "false",
         "false",
         "Day",
         "Day",
         "Day",
         "Day",
         0.0,
         0.0,
         0.0,
         0.0,
         0.0,
         0.0,
         0.0,
         0.0,
         0.0,
         0.0,
         0.0,
         0.0,
         0.0,
         0.0,
         0.0,
         0.0,
         {
          "indices": [
           0
          ],
          "length": 1,
          "values": [
           1.0
          ],
          "vectorType": "sparse"
         },
         {
          "indices": [
           0
          ],
          "length": 1,
          "values": [
           1.0
          ],
          "vectorType": "sparse"
         },
         {
          "indices": [
           0
          ],
          "length": 1,
          "values": [
           1.0
          ],
          "vectorType": "sparse"
         },
         {
          "indices": [
           0
          ],
          "length": 1,
          "values": [
           1.0
          ],
          "vectorType": "sparse"
         },
         {
          "indices": [
           0
          ],
          "length": 1,
          "values": [
           1.0
          ],
          "vectorType": "sparse"
         },
         {
          "indices": [
           0
          ],
          "length": 1,
          "values": [
           1.0
          ],
          "vectorType": "sparse"
         },
         {
          "indices": [
           0
          ],
          "length": 1,
          "values": [
           1.0
          ],
          "vectorType": "sparse"
         },
         {
          "indices": [
           0
          ],
          "length": 1,
          "values": [
           1.0
          ],
          "vectorType": "sparse"
         },
         {
          "indices": [
           0
          ],
          "length": 1,
          "values": [
           1.0
          ],
          "vectorType": "sparse"
         },
         {
          "indices": [
           0
          ],
          "length": 1,
          "values": [
           1.0
          ],
          "vectorType": "sparse"
         },
         {
          "indices": [
           0
          ],
          "length": 1,
          "values": [
           1.0
          ],
          "vectorType": "sparse"
         },
         {
          "indices": [
           0
          ],
          "length": 1,
          "values": [
           1.0
          ],
          "vectorType": "sparse"
         },
         {
          "indices": [
           0
          ],
          "length": 1,
          "values": [
           1.0
          ],
          "vectorType": "sparse"
         },
         {
          "indices": [
           0
          ],
          "length": 1,
          "values": [
           1.0
          ],
          "vectorType": "sparse"
         },
         {
          "indices": [
           0
          ],
          "length": 1,
          "values": [
           1.0
          ],
          "vectorType": "sparse"
         },
         {
          "indices": [
           0
          ],
          "length": 1,
          "values": [
           1.0
          ],
          "vectorType": "sparse"
         },
         {
          "length": 8,
          "values": [
           0.001,
           58.0,
           58.0,
           78.0,
           29.93,
           7.0,
           3.0,
           0.01
          ],
          "vectorType": "dense"
         },
         {
          "length": 8,
          "values": [
           0.00236946787321239,
           3.0455845928470953,
           2.7207676171592525,
           3.454954895644042,
           26.897631839445868,
           2.8809718603995145,
           0.5874739675983702,
           0.21781494942566842
          ],
          "vectorType": "dense"
         },
         {
          "length": 24,
          "values": [
           0.00236946787321239,
           3.0455845928470953,
           2.7207676171592525,
           3.454954895644042,
           26.897631839445868,
           2.8809718603995145,
           0.5874739675983702,
           0.21781494942566842,
           1.0,
           1.0,
           1.0,
           1.0,
           1.0,
           1.0,
           1.0,
           1.0,
           1.0,
           1.0,
           1.0,
           1.0,
           1.0,
           1.0,
           1.0,
           1.0
          ],
          "vectorType": "dense"
         }
        ],
        [
         0,
         0.001,
         63.0,
         63.0,
         42.0,
         28.91,
         7.0,
         1.0,
         0.01,
         "false",
         "false",
         "false",
         "false",
         "false",
         "false",
         "false",
         "false",
         "false",
         "false",
         "false",
         "false",
         "Night",
         "Night",
         "Day",
         "Day",
         0.0,
         0.0,
         0.0,
         0.0,
         0.0,
         0.0,
         0.0,
         0.0,
         0.0,
         0.0,
         0.0,
         0.0,
         1.0,
         1.0,
         0.0,
         0.0,
         {
          "indices": [
           0
          ],
          "length": 1,
          "values": [
           1.0
          ],
          "vectorType": "sparse"
         },
         {
          "indices": [
           0
          ],
          "length": 1,
          "values": [
           1.0
          ],
          "vectorType": "sparse"
         },
         {
          "indices": [
           0
          ],
          "length": 1,
          "values": [
           1.0
          ],
          "vectorType": "sparse"
         },
         {
          "indices": [
           0
          ],
          "length": 1,
          "values": [
           1.0
          ],
          "vectorType": "sparse"
         },
         {
          "indices": [
           0
          ],
          "length": 1,
          "values": [
           1.0
          ],
          "vectorType": "sparse"
         },
         {
          "indices": [
           0
          ],
          "length": 1,
          "values": [
           1.0
          ],
          "vectorType": "sparse"
         },
         {
          "indices": [
           0
          ],
          "length": 1,
          "values": [
           1.0
          ],
          "vectorType": "sparse"
         },
         {
          "indices": [
           0
          ],
          "length": 1,
          "values": [
           1.0
          ],
          "vectorType": "sparse"
         },
         {
          "indices": [
           0
          ],
          "length": 1,
          "values": [
           1.0
          ],
          "vectorType": "sparse"
         },
         {
          "indices": [
           0
          ],
          "length": 1,
          "values": [
           1.0
          ],
          "vectorType": "sparse"
         },
         {
          "indices": [
           0
          ],
          "length": 1,
          "values": [
           1.0
          ],
          "vectorType": "sparse"
         },
         {
          "indices": [
           0
          ],
          "length": 1,
          "values": [
           1.0
          ],
          "vectorType": "sparse"
         },
         {
          "indices": [],
          "length": 1,
          "values": [],
          "vectorType": "sparse"
         },
         {
          "indices": [],
          "length": 1,
          "values": [],
          "vectorType": "sparse"
         },
         {
          "indices": [
           0
          ],
          "length": 1,
          "values": [
           1.0
          ],
          "vectorType": "sparse"
         },
         {
          "indices": [
           0
          ],
          "length": 1,
          "values": [
           1.0
          ],
          "vectorType": "sparse"
         },
         {
          "length": 8,
          "values": [
           0.001,
           63.0,
           63.0,
           42.0,
           28.91,
           7.0,
           1.0,
           0.01
          ],
          "vectorType": "dense"
         },
         {
          "length": 8,
          "values": [
           0.00236946787321239,
           3.3081349887821894,
           2.955316549672981,
           1.860360328423715,
           25.98097348741664,
           2.8809718603995145,
           0.1958246558661234,
           0.21781494942566842
          ],
          "vectorType": "dense"
         },
         {
          "length": 24,
          "values": [
           0.00236946787321239,
           3.3081349887821894,
           2.955316549672981,
           1.860360328423715,
           25.98097348741664,
           2.8809718603995145,
           0.1958246558661234,
           0.21781494942566842,
           1.0,
           1.0,
           1.0,
           1.0,
           1.0,
           1.0,
           1.0,
           1.0,
           1.0,
           1.0,
           1.0,
           1.0,
           0.0,
           0.0,
           1.0,
           1.0
          ],
          "vectorType": "dense"
         }
        ],
        [
         0,
         1.521,
         70.0,
         70.0,
         47.0,
         30.11,
         10.0,
         13.0,
         0.01,
         "false",
         "false",
         "false",
         "false",
         "false",
         "false",
         "false",
         "false",
         "false",
         "false",
         "false",
         "false",
         "Day",
         "Day",
         "Day",
         "Day",
         0.0,
         0.0,
         0.0,
         0.0,
         0.0,
         0.0,
         0.0,
         0.0,
         0.0,
         0.0,
         0.0,
         0.0,
         0.0,
         0.0,
         0.0,
         0.0,
         {
          "indices": [
           0
          ],
          "length": 1,
          "values": [
           1.0
          ],
          "vectorType": "sparse"
         },
         {
          "indices": [
           0
          ],
          "length": 1,
          "values": [
           1.0
          ],
          "vectorType": "sparse"
         },
         {
          "indices": [
           0
          ],
          "length": 1,
          "values": [
           1.0
          ],
          "vectorType": "sparse"
         },
         {
          "indices": [
           0
          ],
          "length": 1,
          "values": [
           1.0
          ],
          "vectorType": "sparse"
         },
         {
          "indices": [
           0
          ],
          "length": 1,
          "values": [
           1.0
          ],
          "vectorType": "sparse"
         },
         {
          "indices": [
           0
          ],
          "length": 1,
          "values": [
           1.0
          ],
          "vectorType": "sparse"
         },
         {
          "indices": [
           0
          ],
          "length": 1,
          "values": [
           1.0
          ],
          "vectorType": "sparse"
         },
         {
          "indices": [
           0
          ],
          "length": 1,
          "values": [
           1.0
          ],
          "vectorType": "sparse"
         },
         {
          "indices": [
           0
          ],
          "length": 1,
          "values": [
           1.0
          ],
          "vectorType": "sparse"
         },
         {
          "indices": [
           0
          ],
          "length": 1,
          "values": [
           1.0
          ],
          "vectorType": "sparse"
         },
         {
          "indices": [
           0
          ],
          "length": 1,
          "values": [
           1.0
          ],
          "vectorType": "sparse"
         },
         {
          "indices": [
           0
          ],
          "length": 1,
          "values": [
           1.0
          ],
          "vectorType": "sparse"
         },
         {
          "indices": [
           0
          ],
          "length": 1,
          "values": [
           1.0
          ],
          "vectorType": "sparse"
         },
         {
          "indices": [
           0
          ],
          "length": 1,
          "values": [
           1.0
          ],
          "vectorType": "sparse"
         },
         {
          "indices": [
           0
          ],
          "length": 1,
          "values": [
           1.0
          ],
          "vectorType": "sparse"
         },
         {
          "indices": [
           0
          ],
          "length": 1,
          "values": [
           1.0
          ],
          "vectorType": "sparse"
         },
         {
          "length": 8,
          "values": [
           1.521,
           70.0,
           70.0,
           47.0,
           30.11,
           10.0,
           13.0,
           0.01
          ],
          "vectorType": "dense"
         },
         {
          "length": 8,
          "values": [
           3.6039606351560454,
           3.6757055430913215,
           3.2836850551922017,
           2.081831796093205,
           27.059395078039262,
           4.11567408628502,
           2.545720526259604,
           0.21781494942566842
          ],
          "vectorType": "dense"
         },
         {
          "length": 24,
          "values": [
           3.6039606351560454,
           3.6757055430913215,
           3.2836850551922017,
           2.081831796093205,
           27.059395078039262,
           4.11567408628502,
           2.545720526259604,
           0.21781494942566842,
           1.0,
           1.0,
           1.0,
           1.0,
           1.0,
           1.0,
           1.0,
           1.0,
           1.0,
           1.0,
           1.0,
           1.0,
           1.0,
           1.0,
           1.0,
           1.0
          ],
          "vectorType": "dense"
         }
        ],
        [
         0,
         0.214,
         74.0,
         74.0,
         55.0,
         30.05,
         10.0,
         15.0,
         0.01,
         "false",
         "false",
         "true",
         "false",
         "false",
         "false",
         "false",
         "false",
         "false",
         "false",
         "false",
         "false",
         "Day",
         "Day",
         "Day",
         "Day",
         0.0,
         0.0,
         1.0,
         0.0,
         0.0,
         0.0,
         0.0,
         0.0,
         0.0,
         0.0,
         0.0,
         0.0,
         0.0,
         0.0,
         0.0,
         0.0,
         {
          "indices": [
           0
          ],
          "length": 1,
          "values": [
           1.0
          ],
          "vectorType": "sparse"
         },
         {
          "indices": [
           0
          ],
          "length": 1,
          "values": [
           1.0
          ],
          "vectorType": "sparse"
         },
         {
          "indices": [],
          "length": 1,
          "values": [],
          "vectorType": "sparse"
         },
         {
          "indices": [
           0
          ],
          "length": 1,
          "values": [
           1.0
          ],
          "vectorType": "sparse"
         },
         {
          "indices": [
           0
          ],
          "length": 1,
          "values": [
           1.0
          ],
          "vectorType": "sparse"
         },
         {
          "indices": [
           0
          ],
          "length": 1,
          "values": [
           1.0
          ],
          "vectorType": "sparse"
         },
         {
          "indices": [
           0
          ],
          "length": 1,
          "values": [
           1.0
          ],
          "vectorType": "sparse"
         },
         {
          "indices": [
           0
          ],
          "length": 1,
          "values": [
           1.0
          ],
          "vectorType": "sparse"
         },
         {
          "indices": [
           0
          ],
          "length": 1,
          "values": [
           1.0
          ],
          "vectorType": "sparse"
         },
         {
          "indices": [
           0
          ],
          "length": 1,
          "values": [
           1.0
          ],
          "vectorType": "sparse"
         },
         {
          "indices": [
           0
          ],
          "length": 1,
          "values": [
           1.0
          ],
          "vectorType": "sparse"
         },
         {
          "indices": [
           0
          ],
          "length": 1,
          "values": [
           1.0
          ],
          "vectorType": "sparse"
         },
         {
          "indices": [
           0
          ],
          "length": 1,
          "values": [
           1.0
          ],
          "vectorType": "sparse"
         },
         {
          "indices": [
           0
          ],
          "length": 1,
          "values": [
           1.0
          ],
          "vectorType": "sparse"
         },
         {
          "indices": [
           0
          ],
          "length": 1,
          "values": [
           1.0
          ],
          "vectorType": "sparse"
         },
         {
          "indices": [
           0
          ],
          "length": 1,
          "values": [
           1.0
          ],
          "vectorType": "sparse"
         },
         {
          "length": 8,
          "values": [
           0.214,
           74.0,
           74.0,
           55.0,
           30.05,
           10.0,
           15.0,
           0.01
          ],
          "vectorType": "dense"
         },
         {
          "length": 8,
          "values": [
           0.5070661248674515,
           3.885745859839397,
           3.4713242012031844,
           2.4361861443643886,
           27.005473998508133,
           4.11567408628502,
           2.9373698379918514,
           0.21781494942566842
          ],
          "vectorType": "dense"
         },
         {
          "length": 24,
          "values": [
           0.5070661248674515,
           3.885745859839397,
           3.4713242012031844,
           2.4361861443643886,
           27.005473998508133,
           4.11567408628502,
           2.9373698379918514,
           0.21781494942566842,
           1.0,
           1.0,
           0.0,
           1.0,
           1.0,
           1.0,
           1.0,
           1.0,
           1.0,
           1.0,
           1.0,
           1.0,
           1.0,
           1.0,
           1.0,
           1.0
          ],
          "vectorType": "dense"
         }
        ],
        [
         0,
         0.001,
         72.0,
         72.0,
         88.0,
         30.02,
         10.0,
         3.0,
         0.01,
         "false",
         "false",
         "false",
         "false",
         "false",
         "false",
         "false",
         "false",
         "false",
         "false",
         "false",
         "true",
         "Day",
         "Day",
         "Day",
         "Day",
         0.0,
         0.0,
         0.0,
         0.0,
         0.0,
         0.0,
         0.0,
         0.0,
         0.0,
         0.0,
         0.0,
         1.0,
         0.0,
         0.0,
         0.0,
         0.0,
         {
          "indices": [
           0
          ],
          "length": 1,
          "values": [
           1.0
          ],
          "vectorType": "sparse"
         },
         {
          "indices": [
           0
          ],
          "length": 1,
          "values": [
           1.0
          ],
          "vectorType": "sparse"
         },
         {
          "indices": [
           0
          ],
          "length": 1,
          "values": [
           1.0
          ],
          "vectorType": "sparse"
         },
         {
          "indices": [
           0
          ],
          "length": 1,
          "values": [
           1.0
          ],
          "vectorType": "sparse"
         },
         {
          "indices": [
           0
          ],
          "length": 1,
          "values": [
           1.0
          ],
          "vectorType": "sparse"
         },
         {
          "indices": [
           0
          ],
          "length": 1,
          "values": [
           1.0
          ],
          "vectorType": "sparse"
         },
         {
          "indices": [
           0
          ],
          "length": 1,
          "values": [
           1.0
          ],
          "vectorType": "sparse"
         },
         {
          "indices": [
           0
          ],
          "length": 1,
          "values": [
           1.0
          ],
          "vectorType": "sparse"
         },
         {
          "indices": [
           0
          ],
          "length": 1,
          "values": [
           1.0
          ],
          "vectorType": "sparse"
         },
         {
          "indices": [
           0
          ],
          "length": 1,
          "values": [
           1.0
          ],
          "vectorType": "sparse"
         },
         {
          "indices": [
           0
          ],
          "length": 1,
          "values": [
           1.0
          ],
          "vectorType": "sparse"
         },
         {
          "indices": [],
          "length": 1,
          "values": [],
          "vectorType": "sparse"
         },
         {
          "indices": [
           0
          ],
          "length": 1,
          "values": [
           1.0
          ],
          "vectorType": "sparse"
         },
         {
          "indices": [
           0
          ],
          "length": 1,
          "values": [
           1.0
          ],
          "vectorType": "sparse"
         },
         {
          "indices": [
           0
          ],
          "length": 1,
          "values": [
           1.0
          ],
          "vectorType": "sparse"
         },
         {
          "indices": [
           0
          ],
          "length": 1,
          "values": [
           1.0
          ],
          "vectorType": "sparse"
         },
         {
          "length": 8,
          "values": [
           0.001,
           72.0,
           72.0,
           88.0,
           30.02,
           10.0,
           3.0,
           0.01
          ],
          "vectorType": "dense"
         },
         {
          "length": 8,
          "values": [
           0.00236946787321239,
           3.7807257014653595,
           3.377504628197693,
           3.8978978309830214,
           26.978513458742565,
           4.11567408628502,
           0.5874739675983702,
           0.21781494942566842
          ],
          "vectorType": "dense"
         },
         {
          "length": 24,
          "values": [
           0.00236946787321239,
           3.7807257014653595,
           3.377504628197693,
           3.8978978309830214,
           26.978513458742565,
           4.11567408628502,
           0.5874739675983702,
           0.21781494942566842,
           1.0,
           1.0,
           1.0,
           1.0,
           1.0,
           1.0,
           1.0,
           1.0,
           1.0,
           1.0,
           1.0,
           0.0,
           1.0,
           1.0,
           1.0,
           1.0
          ],
          "vectorType": "dense"
         }
        ],
        [
         0,
         1.557,
         88.0,
         88.0,
         55.0,
         29.99,
         10.0,
         10.0,
         0.01,
         "false",
         "false",
         "false",
         "false",
         "false",
         "false",
         "false",
         "false",
         "false",
         "false",
         "false",
         "false",
         "Day",
         "Day",
         "Day",
         "Day",
         0.0,
         0.0,
         0.0,
         0.0,
         0.0,
         0.0,
         0.0,
         0.0,
         0.0,
         0.0,
         0.0,
         0.0,
         0.0,
         0.0,
         0.0,
         0.0,
         {
          "indices": [
           0
          ],
          "length": 1,
          "values": [
           1.0
          ],
          "vectorType": "sparse"
         },
         {
          "indices": [
           0
          ],
          "length": 1,
          "values": [
           1.0
          ],
          "vectorType": "sparse"
         },
         {
          "indices": [
           0
          ],
          "length": 1,
          "values": [
           1.0
          ],
          "vectorType": "sparse"
         },
         {
          "indices": [
           0
          ],
          "length": 1,
          "values": [
           1.0
          ],
          "vectorType": "sparse"
         },
         {
          "indices": [
           0
          ],
          "length": 1,
          "values": [
           1.0
          ],
          "vectorType": "sparse"
         },
         {
          "indices": [
           0
          ],
          "length": 1,
          "values": [
           1.0
          ],
          "vectorType": "sparse"
         },
         {
          "indices": [
           0
          ],
          "length": 1,
          "values": [
           1.0
          ],
          "vectorType": "sparse"
         },
         {
          "indices": [
           0
          ],
          "length": 1,
          "values": [
           1.0
          ],
          "vectorType": "sparse"
         },
         {
          "indices": [
           0
          ],
          "length": 1,
          "values": [
           1.0
          ],
          "vectorType": "sparse"
         },
         {
          "indices": [
           0
          ],
          "length": 1,
          "values": [
           1.0
          ],
          "vectorType": "sparse"
         },
         {
          "indices": [
           0
          ],
          "length": 1,
          "values": [
           1.0
          ],
          "vectorType": "sparse"
         },
         {
          "indices": [
           0
          ],
          "length": 1,
          "values": [
           1.0
          ],
          "vectorType": "sparse"
         },
         {
          "indices": [
           0
          ],
          "length": 1,
          "values": [
           1.0
          ],
          "vectorType": "sparse"
         },
         {
          "indices": [
           0
          ],
          "length": 1,
          "values": [
           1.0
          ],
          "vectorType": "sparse"
         },
         {
          "indices": [
           0
          ],
          "length": 1,
          "values": [
           1.0
          ],
          "vectorType": "sparse"
         },
         {
          "indices": [
           0
          ],
          "length": 1,
          "values": [
           1.0
          ],
          "vectorType": "sparse"
         },
         {
          "length": 8,
          "values": [
           1.557,
           88.0,
           88.0,
           55.0,
           29.99,
           10.0,
           10.0,
           0.01
          ],
          "vectorType": "dense"
         },
         {
          "length": 8,
          "values": [
           3.6892614785916913,
           4.620886968457661,
           4.128061212241625,
           2.4361861443643886,
           26.951552918976997,
           4.11567408628502,
           1.958246558661234,
           0.21781494942566842
          ],
          "vectorType": "dense"
         },
         {
          "length": 24,
          "values": [
           3.6892614785916913,
           4.620886968457661,
           4.128061212241625,
           2.4361861443643886,
           26.951552918976997,
           4.11567408628502,
           1.958246558661234,
           0.21781494942566842,
           1.0,
           1.0,
           1.0,
           1.0,
           1.0,
           1.0,
           1.0,
           1.0,
           1.0,
           1.0,
           1.0,
           1.0,
           1.0,
           1.0,
           1.0,
           1.0
          ],
          "vectorType": "dense"
         }
        ],
        [
         0,
         0.001,
         49.0,
         44.0,
         46.0,
         29.2,
         10.0,
         14.0,
         0.01,
         "false",
         "false",
         "false",
         "false",
         "false",
         "false",
         "false",
         "false",
         "false",
         "false",
         "false",
         "false",
         "Day",
         "Day",
         "Day",
         "Day",
         0.0,
         0.0,
         0.0,
         0.0,
         0.0,
         0.0,
         0.0,
         0.0,
         0.0,
         0.0,
         0.0,
         0.0,
         0.0,
         0.0,
         0.0,
         0.0,
         {
          "indices": [
           0
          ],
          "length": 1,
          "values": [
           1.0
          ],
          "vectorType": "sparse"
         },
         {
          "indices": [
           0
          ],
          "length": 1,
          "values": [
           1.0
          ],
          "vectorType": "sparse"
         },
         {
          "indices": [
           0
          ],
          "length": 1,
          "values": [
           1.0
          ],
          "vectorType": "sparse"
         },
         {
          "indices": [
           0
          ],
          "length": 1,
          "values": [
           1.0
          ],
          "vectorType": "sparse"
         },
         {
          "indices": [
           0
          ],
          "length": 1,
          "values": [
           1.0
          ],
          "vectorType": "sparse"
         },
         {
          "indices": [
           0
          ],
          "length": 1,
          "values": [
           1.0
          ],
          "vectorType": "sparse"
         },
         {
          "indices": [
           0
          ],
          "length": 1,
          "values": [
           1.0
          ],
          "vectorType": "sparse"
         },
         {
          "indices": [
           0
          ],
          "length": 1,
          "values": [
           1.0
          ],
          "vectorType": "sparse"
         },
         {
          "indices": [
           0
          ],
          "length": 1,
          "values": [
           1.0
          ],
          "vectorType": "sparse"
         },
         {
          "indices": [
           0
          ],
          "length": 1,
          "values": [
           1.0
          ],
          "vectorType": "sparse"
         },
         {
          "indices": [
           0
          ],
          "length": 1,
          "values": [
           1.0
          ],
          "vectorType": "sparse"
         },
         {
          "indices": [
           0
          ],
          "length": 1,
          "values": [
           1.0
          ],
          "vectorType": "sparse"
         },
         {
          "indices": [
           0
          ],
          "length": 1,
          "values": [
           1.0
          ],
          "vectorType": "sparse"
         },
         {
          "indices": [
           0
          ],
          "length": 1,
          "values": [
           1.0
          ],
          "vectorType": "sparse"
         },
         {
          "indices": [
           0
          ],
          "length": 1,
          "values": [
           1.0
          ],
          "vectorType": "sparse"
         },
         {
          "indices": [
           0
          ],
          "length": 1,
          "values": [
           1.0
          ],
          "vectorType": "sparse"
         },
         {
          "length": 8,
          "values": [
           0.001,
           49.0,
           44.0,
           46.0,
           29.2,
           10.0,
           14.0,
           0.01
          ],
          "vectorType": "dense"
         },
         {
          "length": 8,
          "values": [
           0.00236946787321239,
           2.572993880163925,
           2.0640306061208125,
           2.0375375025593065,
           26.241592038483773,
           4.11567408628502,
           2.7415451821257277,
           0.21781494942566842
          ],
          "vectorType": "dense"
         },
         {
          "length": 24,
          "values": [
           0.00236946787321239,
           2.572993880163925,
           2.0640306061208125,
           2.0375375025593065,
           26.241592038483773,
           4.11567408628502,
           2.7415451821257277,
           0.21781494942566842,
           1.0,
           1.0,
           1.0,
           1.0,
           1.0,
           1.0,
           1.0,
           1.0,
           1.0,
           1.0,
           1.0,
           1.0,
           1.0,
           1.0,
           1.0,
           1.0
          ],
          "vectorType": "dense"
         }
        ],
        [
         0,
         0.001,
         80.0,
         80.0,
         10.0,
         29.71,
         10.0,
         3.0,
         0.01,
         "false",
         "false",
         "false",
         "false",
         "false",
         "false",
         "false",
         "false",
         "false",
         "false",
         "false",
         "false",
         "Day",
         "Day",
         "Day",
         "Day",
         0.0,
         0.0,
         0.0,
         0.0,
         0.0,
         0.0,
         0.0,
         0.0,
         0.0,
         0.0,
         0.0,
         0.0,
         0.0,
         0.0,
         0.0,
         0.0,
         {
          "indices": [
           0
          ],
          "length": 1,
          "values": [
           1.0
          ],
          "vectorType": "sparse"
         },
         {
          "indices": [
           0
          ],
          "length": 1,
          "values": [
           1.0
          ],
          "vectorType": "sparse"
         },
         {
          "indices": [
           0
          ],
          "length": 1,
          "values": [
           1.0
          ],
          "vectorType": "sparse"
         },
         {
          "indices": [
           0
          ],
          "length": 1,
          "values": [
           1.0
          ],
          "vectorType": "sparse"
         },
         {
          "indices": [
           0
          ],
          "length": 1,
          "values": [
           1.0
          ],
          "vectorType": "sparse"
         },
         {
          "indices": [
           0
          ],
          "length": 1,
          "values": [
           1.0
          ],
          "vectorType": "sparse"
         },
         {
          "indices": [
           0
          ],
          "length": 1,
          "values": [
           1.0
          ],
          "vectorType": "sparse"
         },
         {
          "indices": [
           0
          ],
          "length": 1,
          "values": [
           1.0
          ],
          "vectorType": "sparse"
         },
         {
          "indices": [
           0
          ],
          "length": 1,
          "values": [
           1.0
          ],
          "vectorType": "sparse"
         },
         {
          "indices": [
           0
          ],
          "length": 1,
          "values": [
           1.0
          ],
          "vectorType": "sparse"
         },
         {
          "indices": [
           0
          ],
          "length": 1,
          "values": [
           1.0
          ],
          "vectorType": "sparse"
         },
         {
          "indices": [
           0
          ],
          "length": 1,
          "values": [
           1.0
          ],
          "vectorType": "sparse"
         },
         {
          "indices": [
           0
          ],
          "length": 1,
          "values": [
           1.0
          ],
          "vectorType": "sparse"
         },
         {
          "indices": [
           0
          ],
          "length": 1,
          "values": [
           1.0
          ],
          "vectorType": "sparse"
         },
         {
          "indices": [
           0
          ],
          "length": 1,
          "values": [
           1.0
          ],
          "vectorType": "sparse"
         },
         {
          "indices": [
           0
          ],
          "length": 1,
          "values": [
           1.0
          ],
          "vectorType": "sparse"
         },
         {
          "length": 8,
          "values": [
           0.001,
           80.0,
           80.0,
           10.0,
           29.71,
           10.0,
           3.0,
           0.01
          ],
          "vectorType": "dense"
         },
         {
          "length": 8,
          "values": [
           0.00236946787321239,
           4.20080633496151,
           3.752782920219659,
           0.4429429353389797,
           26.69992121449839,
           4.11567408628502,
           0.5874739675983702,
           0.21781494942566842
          ],
          "vectorType": "dense"
         },
         {
          "length": 24,
          "values": [
           0.00236946787321239,
           4.20080633496151,
           3.752782920219659,
           0.4429429353389797,
           26.69992121449839,
           4.11567408628502,
           0.5874739675983702,
           0.21781494942566842,
           1.0,
           1.0,
           1.0,
           1.0,
           1.0,
           1.0,
           1.0,
           1.0,
           1.0,
           1.0,
           1.0,
           1.0,
           1.0,
           1.0,
           1.0,
           1.0
          ],
          "vectorType": "dense"
         }
        ],
        [
         0,
         0.073,
         45.0,
         40.0,
         86.0,
         29.97,
         10.0,
         9.0,
         0.01,
         "false",
         "false",
         "false",
         "false",
         "false",
         "false",
         "false",
         "false",
         "false",
         "false",
         "false",
         "false",
         "Night",
         "Night",
         "Night",
         "Night",
         0.0,
         0.0,
         0.0,
         0.0,
         0.0,
         0.0,
         0.0,
         0.0,
         0.0,
         0.0,
         0.0,
         0.0,
         1.0,
         1.0,
         1.0,
         1.0,
         {
          "indices": [
           0
          ],
          "length": 1,
          "values": [
           1.0
          ],
          "vectorType": "sparse"
         },
         {
          "indices": [
           0
          ],
          "length": 1,
          "values": [
           1.0
          ],
          "vectorType": "sparse"
         },
         {
          "indices": [
           0
          ],
          "length": 1,
          "values": [
           1.0
          ],
          "vectorType": "sparse"
         },
         {
          "indices": [
           0
          ],
          "length": 1,
          "values": [
           1.0
          ],
          "vectorType": "sparse"
         },
         {
          "indices": [
           0
          ],
          "length": 1,
          "values": [
           1.0
          ],
          "vectorType": "sparse"
         },
         {
          "indices": [
           0
          ],
          "length": 1,
          "values": [
           1.0
          ],
          "vectorType": "sparse"
         },
         {
          "indices": [
           0
          ],
          "length": 1,
          "values": [
           1.0
          ],
          "vectorType": "sparse"
         },
         {
          "indices": [
           0
          ],
          "length": 1,
          "values": [
           1.0
          ],
          "vectorType": "sparse"
         },
         {
          "indices": [
           0
          ],
          "length": 1,
          "values": [
           1.0
          ],
          "vectorType": "sparse"
         },
         {
          "indices": [
           0
          ],
          "length": 1,
          "values": [
           1.0
          ],
          "vectorType": "sparse"
         },
         {
          "indices": [
           0
          ],
          "length": 1,
          "values": [
           1.0
          ],
          "vectorType": "sparse"
         },
         {
          "indices": [
           0
          ],
          "length": 1,
          "values": [
           1.0
          ],
          "vectorType": "sparse"
         },
         {
          "indices": [],
          "length": 1,
          "values": [],
          "vectorType": "sparse"
         },
         {
          "indices": [],
          "length": 1,
          "values": [],
          "vectorType": "sparse"
         },
         {
          "indices": [],
          "length": 1,
          "values": [],
          "vectorType": "sparse"
         },
         {
          "indices": [],
          "length": 1,
          "values": [],
          "vectorType": "sparse"
         },
         {
          "length": 8,
          "values": [
           0.073,
           45.0,
           40.0,
           86.0,
           29.97,
           10.0,
           9.0,
           0.01
          ],
          "vectorType": "dense"
         },
         {
          "length": 8,
          "values": [
           0.17297115474450447,
           2.3629535634158496,
           1.8763914601098295,
           3.8093092439152256,
           26.933579225799956,
           4.11567408628502,
           1.7624219027951107,
           0.21781494942566842
          ],
          "vectorType": "dense"
         },
         {
          "length": 24,
          "values": [
           0.17297115474450447,
           2.3629535634158496,
           1.8763914601098295,
           3.8093092439152256,
           26.933579225799956,
           4.11567408628502,
           1.7624219027951107,
           0.21781494942566842,
           1.0,
           1.0,
           1.0,
           1.0,
           1.0,
           1.0,
           1.0,
           1.0,
           1.0,
           1.0,
           1.0,
           1.0,
           0.0,
           0.0,
           0.0,
           0.0
          ],
          "vectorType": "dense"
         }
        ],
        [
         0,
         0.035,
         86.0,
         86.0,
         19.0,
         27.24,
         10.0,
         8.0,
         0.01,
         "false",
         "false",
         "false",
         "false",
         "false",
         "false",
         "false",
         "false",
         "false",
         "false",
         "false",
         "false",
         "Night",
         "Night",
         "Night",
         "Night",
         0.0,
         0.0,
         0.0,
         0.0,
         0.0,
         0.0,
         0.0,
         0.0,
         0.0,
         0.0,
         0.0,
         0.0,
         1.0,
         1.0,
         1.0,
         1.0,
         {
          "indices": [
           0
          ],
          "length": 1,
          "values": [
           1.0
          ],
          "vectorType": "sparse"
         },
         {
          "indices": [
           0
          ],
          "length": 1,
          "values": [
           1.0
          ],
          "vectorType": "sparse"
         },
         {
          "indices": [
           0
          ],
          "length": 1,
          "values": [
           1.0
          ],
          "vectorType": "sparse"
         },
         {
          "indices": [
           0
          ],
          "length": 1,
          "values": [
           1.0
          ],
          "vectorType": "sparse"
         },
         {
          "indices": [
           0
          ],
          "length": 1,
          "values": [
           1.0
          ],
          "vectorType": "sparse"
         },
         {
          "indices": [
           0
          ],
          "length": 1,
          "values": [
           1.0
          ],
          "vectorType": "sparse"
         },
         {
          "indices": [
           0
          ],
          "length": 1,
          "values": [
           1.0
          ],
          "vectorType": "sparse"
         },
         {
          "indices": [
           0
          ],
          "length": 1,
          "values": [
           1.0
          ],
          "vectorType": "sparse"
         },
         {
          "indices": [
           0
          ],
          "length": 1,
          "values": [
           1.0
          ],
          "vectorType": "sparse"
         },
         {
          "indices": [
           0
          ],
          "length": 1,
          "values": [
           1.0
          ],
          "vectorType": "sparse"
         },
         {
          "indices": [
           0
          ],
          "length": 1,
          "values": [
           1.0
          ],
          "vectorType": "sparse"
         },
         {
          "indices": [
           0
          ],
          "length": 1,
          "values": [
           1.0
          ],
          "vectorType": "sparse"
         },
         {
          "indices": [],
          "length": 1,
          "values": [],
          "vectorType": "sparse"
         },
         {
          "indices": [],
          "length": 1,
          "values": [],
          "vectorType": "sparse"
         },
         {
          "indices": [],
          "length": 1,
          "values": [],
          "vectorType": "sparse"
         },
         {
          "indices": [],
          "length": 1,
          "values": [],
          "vectorType": "sparse"
         },
         {
          "length": 8,
          "values": [
           0.035,
           86.0,
           86.0,
           19.0,
           27.24,
           10.0,
           8.0,
           0.01
          ],
          "vectorType": "dense"
         },
         {
          "length": 8,
          "values": [
           0.08293137556243366,
           4.515866810083624,
           4.034241639236133,
           0.8415915771440615,
           24.480170107133493,
           4.11567408628502,
           1.5665972469289873,
           0.21781494942566842
          ],
          "vectorType": "dense"
         },
         {
          "length": 24,
          "values": [
           0.08293137556243366,
           4.515866810083624,
           4.034241639236133,
           0.8415915771440615,
           24.480170107133493,
           4.11567408628502,
           1.5665972469289873,
           0.21781494942566842,
           1.0,
           1.0,
           1.0,
           1.0,
           1.0,
           1.0,
           1.0,
           1.0,
           1.0,
           1.0,
           1.0,
           1.0,
           0.0,
           0.0,
           0.0,
           0.0
          ],
          "vectorType": "dense"
         }
        ],
        [
         0,
         0.066,
         27.0,
         23.0,
         69.0,
         30.64,
         10.0,
         3.5,
         0.01,
         "false",
         "false",
         "false",
         "false",
         "false",
         "false",
         "true",
         "false",
         "true",
         "false",
         "false",
         "false",
         "Day",
         "Day",
         "Day",
         "Day",
         0.0,
         0.0,
         0.0,
         0.0,
         0.0,
         0.0,
         1.0,
         0.0,
         1.0,
         0.0,
         0.0,
         0.0,
         0.0,
         0.0,
         0.0,
         0.0,
         {
          "indices": [
           0
          ],
          "length": 1,
          "values": [
           1.0
          ],
          "vectorType": "sparse"
         },
         {
          "indices": [
           0
          ],
          "length": 1,
          "values": [
           1.0
          ],
          "vectorType": "sparse"
         },
         {
          "indices": [
           0
          ],
          "length": 1,
          "values": [
           1.0
          ],
          "vectorType": "sparse"
         },
         {
          "indices": [
           0
          ],
          "length": 1,
          "values": [
           1.0
          ],
          "vectorType": "sparse"
         },
         {
          "indices": [
           0
          ],
          "length": 1,
          "values": [
           1.0
          ],
          "vectorType": "sparse"
         },
         {
          "indices": [
           0
          ],
          "length": 1,
          "values": [
           1.0
          ],
          "vectorType": "sparse"
         },
         {
          "indices": [],
          "length": 1,
          "values": [],
          "vectorType": "sparse"
         },
         {
          "indices": [
           0
          ],
          "length": 1,
          "values": [
           1.0
          ],
          "vectorType": "sparse"
         },
         {
          "indices": [],
          "length": 1,
          "values": [],
          "vectorType": "sparse"
         },
         {
          "indices": [
           0
          ],
          "length": 1,
          "values": [
           1.0
          ],
          "vectorType": "sparse"
         },
         {
          "indices": [
           0
          ],
          "length": 1,
          "values": [
           1.0
          ],
          "vectorType": "sparse"
         },
         {
          "indices": [
           0
          ],
          "length": 1,
          "values": [
           1.0
          ],
          "vectorType": "sparse"
         },
         {
          "indices": [
           0
          ],
          "length": 1,
          "values": [
           1.0
          ],
          "vectorType": "sparse"
         },
         {
          "indices": [
           0
          ],
          "length": 1,
          "values": [
           1.0
          ],
          "vectorType": "sparse"
         },
         {
          "indices": [
           0
          ],
          "length": 1,
          "values": [
           1.0
          ],
          "vectorType": "sparse"
         },
         {
          "indices": [
           0
          ],
          "length": 1,
          "values": [
           1.0
          ],
          "vectorType": "sparse"
         },
         {
          "length": 8,
          "values": [
           0.066,
           27.0,
           23.0,
           69.0,
           30.64,
           10.0,
           3.5,
           0.01
          ],
          "vectorType": "dense"
         },
         {
          "length": 8,
          "values": [
           0.15638487963201775,
           1.4177721380495099,
           1.078925089563152,
           3.0563062538389603,
           27.535697947230922,
           4.11567408628502,
           0.6853862955314319,
           0.21781494942566842
          ],
          "vectorType": "dense"
         },
         {
          "length": 24,
          "values": [
           0.15638487963201775,
           1.4177721380495099,
           1.078925089563152,
           3.0563062538389603,
           27.535697947230922,
           4.11567408628502,
           0.6853862955314319,
           0.21781494942566842,
           1.0,
           1.0,
           1.0,
           1.0,
           1.0,
           1.0,
           0.0,
           1.0,
           0.0,
           1.0,
           1.0,
           1.0,
           1.0,
           1.0,
           1.0,
           1.0
          ],
          "vectorType": "dense"
         }
        ],
        [
         0,
         0.001,
         37.0,
         31.0,
         54.0,
         29.78,
         10.0,
         8.0,
         0.01,
         "true",
         "false",
         "false",
         "false",
         "false",
         "false",
         "false",
         "false",
         "false",
         "false",
         "false",
         "true",
         "Day",
         "Day",
         "Day",
         "Day",
         1.0,
         0.0,
         0.0,
         0.0,
         0.0,
         0.0,
         0.0,
         0.0,
         0.0,
         0.0,
         0.0,
         1.0,
         0.0,
         0.0,
         0.0,
         0.0,
         {
          "indices": [],
          "length": 1,
          "values": [],
          "vectorType": "sparse"
         },
         {
          "indices": [
           0
          ],
          "length": 1,
          "values": [
           1.0
          ],
          "vectorType": "sparse"
         },
         {
          "indices": [
           0
          ],
          "length": 1,
          "values": [
           1.0
          ],
          "vectorType": "sparse"
         },
         {
          "indices": [
           0
          ],
          "length": 1,
          "values": [
           1.0
          ],
          "vectorType": "sparse"
         },
         {
          "indices": [
           0
          ],
          "length": 1,
          "values": [
           1.0
          ],
          "vectorType": "sparse"
         },
         {
          "indices": [
           0
          ],
          "length": 1,
          "values": [
           1.0
          ],
          "vectorType": "sparse"
         },
         {
          "indices": [
           0
          ],
          "length": 1,
          "values": [
           1.0
          ],
          "vectorType": "sparse"
         },
         {
          "indices": [
           0
          ],
          "length": 1,
          "values": [
           1.0
          ],
          "vectorType": "sparse"
         },
         {
          "indices": [
           0
          ],
          "length": 1,
          "values": [
           1.0
          ],
          "vectorType": "sparse"
         },
         {
          "indices": [
           0
          ],
          "length": 1,
          "values": [
           1.0
          ],
          "vectorType": "sparse"
         },
         {
          "indices": [
           0
          ],
          "length": 1,
          "values": [
           1.0
          ],
          "vectorType": "sparse"
         },
         {
          "indices": [],
          "length": 1,
          "values": [],
          "vectorType": "sparse"
         },
         {
          "indices": [
           0
          ],
          "length": 1,
          "values": [
           1.0
          ],
          "vectorType": "sparse"
         },
         {
          "indices": [
           0
          ],
          "length": 1,
          "values": [
           1.0
          ],
          "vectorType": "sparse"
         },
         {
          "indices": [
           0
          ],
          "length": 1,
          "values": [
           1.0
          ],
          "vectorType": "sparse"
         },
         {
          "indices": [
           0
          ],
          "length": 1,
          "values": [
           1.0
          ],
          "vectorType": "sparse"
         },
         {
          "length": 8,
          "values": [
           0.001,
           37.0,
           31.0,
           54.0,
           29.78,
           10.0,
           8.0,
           0.01
          ],
          "vectorType": "dense"
         },
         {
          "length": 8,
          "values": [
           0.00236946787321239,
           1.9428729299196985,
           1.4542033815851179,
           2.3918918508304907,
           26.76282914061804,
           4.11567408628502,
           1.5665972469289873,
           0.21781494942566842
          ],
          "vectorType": "dense"
         },
         {
          "length": 24,
          "values": [
           0.00236946787321239,
           1.9428729299196985,
           1.4542033815851179,
           2.3918918508304907,
           26.76282914061804,
           4.11567408628502,
           1.5665972469289873,
           0.21781494942566842,
           0.0,
           1.0,
           1.0,
           1.0,
           1.0,
           1.0,
           1.0,
           1.0,
           1.0,
           1.0,
           1.0,
           0.0,
           1.0,
           1.0,
           1.0,
           1.0
          ],
          "vectorType": "dense"
         }
        ],
        [
         0,
         0.7559999999999999,
         67.0,
         67.0,
         70.0,
         29.51,
         9.0,
         5.0,
         0.01,
         "false",
         "false",
         "false",
         "false",
         "false",
         "false",
         "false",
         "false",
         "false",
         "false",
         "false",
         "false",
         "Day",
         "Day",
         "Day",
         "Day",
         0.0,
         0.0,
         0.0,
         0.0,
         0.0,
         0.0,
         0.0,
         0.0,
         0.0,
         0.0,
         0.0,
         0.0,
         0.0,
         0.0,
         0.0,
         0.0,
         {
          "indices": [
           0
          ],
          "length": 1,
          "values": [
           1.0
          ],
          "vectorType": "sparse"
         },
         {
          "indices": [
           0
          ],
          "length": 1,
          "values": [
           1.0
          ],
          "vectorType": "sparse"
         },
         {
          "indices": [
           0
          ],
          "length": 1,
          "values": [
           1.0
          ],
          "vectorType": "sparse"
         },
         {
          "indices": [
           0
          ],
          "length": 1,
          "values": [
           1.0
          ],
          "vectorType": "sparse"
         },
         {
          "indices": [
           0
          ],
          "length": 1,
          "values": [
           1.0
          ],
          "vectorType": "sparse"
         },
         {
          "indices": [
           0
          ],
          "length": 1,
          "values": [
           1.0
          ],
          "vectorType": "sparse"
         },
         {
          "indices": [
           0
          ],
          "length": 1,
          "values": [
           1.0
          ],
          "vectorType": "sparse"
         },
         {
          "indices": [
           0
          ],
          "length": 1,
          "values": [
           1.0
          ],
          "vectorType": "sparse"
         },
         {
          "indices": [
           0
          ],
          "length": 1,
          "values": [
           1.0
          ],
          "vectorType": "sparse"
         },
         {
          "indices": [
           0
          ],
          "length": 1,
          "values": [
           1.0
          ],
          "vectorType": "sparse"
         },
         {
          "indices": [
           0
          ],
          "length": 1,
          "values": [
           1.0
          ],
          "vectorType": "sparse"
         },
         {
          "indices": [
           0
          ],
          "length": 1,
          "values": [
           1.0
          ],
          "vectorType": "sparse"
         },
         {
          "indices": [
           0
          ],
          "length": 1,
          "values": [
           1.0
          ],
          "vectorType": "sparse"
         },
         {
          "indices": [
           0
          ],
          "length": 1,
          "values": [
           1.0
          ],
          "vectorType": "sparse"
         },
         {
          "indices": [
           0
          ],
          "length": 1,
          "values": [
           1.0
          ],
          "vectorType": "sparse"
         },
         {
          "indices": [
           0
          ],
          "length": 1,
          "values": [
           1.0
          ],
          "vectorType": "sparse"
         },
         {
          "length": 8,
          "values": [
           0.7559999999999999,
           67.0,
           67.0,
           70.0,
           29.51,
           9.0,
           5.0,
           0.01
          ],
          "vectorType": "dense"
         },
         {
          "length": 8,
          "values": [
           1.7913177121485666,
           3.518175305530265,
           3.1429556956839644,
           3.100600547372858,
           26.520184282727953,
           3.7041066776565184,
           0.979123279330617,
           0.21781494942566842
          ],
          "vectorType": "dense"
         },
         {
          "length": 24,
          "values": [
           1.7913177121485666,
           3.518175305530265,
           3.1429556956839644,
           3.100600547372858,
           26.520184282727953,
           3.7041066776565184,
           0.979123279330617,
           0.21781494942566842,
           1.0,
           1.0,
           1.0,
           1.0,
           1.0,
           1.0,
           1.0,
           1.0,
           1.0,
           1.0,
           1.0,
           1.0,
           1.0,
           1.0,
           1.0,
           1.0
          ],
          "vectorType": "dense"
         }
        ],
        [
         0,
         0.032,
         73.0,
         73.0,
         27.0,
         29.23,
         10.0,
         9.0,
         0.01,
         "false",
         "false",
         "false",
         "false",
         "false",
         "false",
         "false",
         "false",
         "false",
         "false",
         "false",
         "false",
         "Day",
         "Day",
         "Day",
         "Day",
         0.0,
         0.0,
         0.0,
         0.0,
         0.0,
         0.0,
         0.0,
         0.0,
         0.0,
         0.0,
         0.0,
         0.0,
         0.0,
         0.0,
         0.0,
         0.0,
         {
          "indices": [
           0
          ],
          "length": 1,
          "values": [
           1.0
          ],
          "vectorType": "sparse"
         },
         {
          "indices": [
           0
          ],
          "length": 1,
          "values": [
           1.0
          ],
          "vectorType": "sparse"
         },
         {
          "indices": [
           0
          ],
          "length": 1,
          "values": [
           1.0
          ],
          "vectorType": "sparse"
         },
         {
          "indices": [
           0
          ],
          "length": 1,
          "values": [
           1.0
          ],
          "vectorType": "sparse"
         },
         {
          "indices": [
           0
          ],
          "length": 1,
          "values": [
           1.0
          ],
          "vectorType": "sparse"
         },
         {
          "indices": [
           0
          ],
          "length": 1,
          "values": [
           1.0
          ],
          "vectorType": "sparse"
         },
         {
          "indices": [
           0
          ],
          "length": 1,
          "values": [
           1.0
          ],
          "vectorType": "sparse"
         },
         {
          "indices": [
           0
          ],
          "length": 1,
          "values": [
           1.0
          ],
          "vectorType": "sparse"
         },
         {
          "indices": [
           0
          ],
          "length": 1,
          "values": [
           1.0
          ],
          "vectorType": "sparse"
         },
         {
          "indices": [
           0
          ],
          "length": 1,
          "values": [
           1.0
          ],
          "vectorType": "sparse"
         },
         {
          "indices": [
           0
          ],
          "length": 1,
          "values": [
           1.0
          ],
          "vectorType": "sparse"
         },
         {
          "indices": [
           0
          ],
          "length": 1,
          "values": [
           1.0
          ],
          "vectorType": "sparse"
         },
         {
          "indices": [
           0
          ],
          "length": 1,
          "values": [
           1.0
          ],
          "vectorType": "sparse"
         },
         {
          "indices": [
           0
          ],
          "length": 1,
          "values": [
           1.0
          ],
          "vectorType": "sparse"
         },
         {
          "indices": [
           0
          ],
          "length": 1,
          "values": [
           1.0
          ],
          "vectorType": "sparse"
         },
         {
          "indices": [
           0
          ],
          "length": 1,
          "values": [
           1.0
          ],
          "vectorType": "sparse"
         },
         {
          "length": 8,
          "values": [
           0.032,
           73.0,
           73.0,
           27.0,
           29.23,
           10.0,
           9.0,
           0.01
          ],
          "vectorType": "dense"
         },
         {
          "length": 8,
          "values": [
           0.07582297194279648,
           3.8332357806523785,
           3.4244144147004385,
           1.1959459254152454,
           26.26855257824934,
           4.11567408628502,
           1.7624219027951107,
           0.21781494942566842
          ],
          "vectorType": "dense"
         },
         {
          "length": 24,
          "values": [
           0.07582297194279648,
           3.8332357806523785,
           3.4244144147004385,
           1.1959459254152454,
           26.26855257824934,
           4.11567408628502,
           1.7624219027951107,
           0.21781494942566842,
           1.0,
           1.0,
           1.0,
           1.0,
           1.0,
           1.0,
           1.0,
           1.0,
           1.0,
           1.0,
           1.0,
           1.0,
           1.0,
           1.0,
           1.0,
           1.0
          ],
          "vectorType": "dense"
         }
        ],
        [
         0,
         0.873,
         63.0,
         63.0,
         75.0,
         29.99,
         10.0,
         5.0,
         0.01,
         "false",
         "false",
         "false",
         "false",
         "false",
         "false",
         "false",
         "false",
         "false",
         "false",
         "false",
         "false",
         "Night",
         "Night",
         "Night",
         "Day",
         0.0,
         0.0,
         0.0,
         0.0,
         0.0,
         0.0,
         0.0,
         0.0,
         0.0,
         0.0,
         0.0,
         0.0,
         1.0,
         1.0,
         1.0,
         0.0,
         {
          "indices": [
           0
          ],
          "length": 1,
          "values": [
           1.0
          ],
          "vectorType": "sparse"
         },
         {
          "indices": [
           0
          ],
          "length": 1,
          "values": [
           1.0
          ],
          "vectorType": "sparse"
         },
         {
          "indices": [
           0
          ],
          "length": 1,
          "values": [
           1.0
          ],
          "vectorType": "sparse"
         },
         {
          "indices": [
           0
          ],
          "length": 1,
          "values": [
           1.0
          ],
          "vectorType": "sparse"
         },
         {
          "indices": [
           0
          ],
          "length": 1,
          "values": [
           1.0
          ],
          "vectorType": "sparse"
         },
         {
          "indices": [
           0
          ],
          "length": 1,
          "values": [
           1.0
          ],
          "vectorType": "sparse"
         },
         {
          "indices": [
           0
          ],
          "length": 1,
          "values": [
           1.0
          ],
          "vectorType": "sparse"
         },
         {
          "indices": [
           0
          ],
          "length": 1,
          "values": [
           1.0
          ],
          "vectorType": "sparse"
         },
         {
          "indices": [
           0
          ],
          "length": 1,
          "values": [
           1.0
          ],
          "vectorType": "sparse"
         },
         {
          "indices": [
           0
          ],
          "length": 1,
          "values": [
           1.0
          ],
          "vectorType": "sparse"
         },
         {
          "indices": [
           0
          ],
          "length": 1,
          "values": [
           1.0
          ],
          "vectorType": "sparse"
         },
         {
          "indices": [
           0
          ],
          "length": 1,
          "values": [
           1.0
          ],
          "vectorType": "sparse"
         },
         {
          "indices": [],
          "length": 1,
          "values": [],
          "vectorType": "sparse"
         },
         {
          "indices": [],
          "length": 1,
          "values": [],
          "vectorType": "sparse"
         },
         {
          "indices": [],
          "length": 1,
          "values": [],
          "vectorType": "sparse"
         },
         {
          "indices": [
           0
          ],
          "length": 1,
          "values": [
           1.0
          ],
          "vectorType": "sparse"
         },
         {
          "length": 8,
          "values": [
           0.873,
           63.0,
           63.0,
           75.0,
           29.99,
           10.0,
           5.0,
           0.01
          ],
          "vectorType": "dense"
         },
         {
          "length": 8,
          "values": [
           2.0685454533144165,
           3.3081349887821894,
           2.955316549672981,
           3.322072015042348,
           26.951552918976997,
           4.11567408628502,
           0.979123279330617,
           0.21781494942566842
          ],
          "vectorType": "dense"
         },
         {
          "length": 24,
          "values": [
           2.0685454533144165,
           3.3081349887821894,
           2.955316549672981,
           3.322072015042348,
           26.951552918976997,
           4.11567408628502,
           0.979123279330617,
           0.21781494942566842,
           1.0,
           1.0,
           1.0,
           1.0,
           1.0,
           1.0,
           1.0,
           1.0,
           1.0,
           1.0,
           1.0,
           1.0,
           0.0,
           0.0,
           0.0,
           1.0
          ],
          "vectorType": "dense"
         }
        ],
        [
         0,
         0.939,
         78.0,
         78.0,
         64.0,
         29.97,
         10.0,
         14.0,
         0.01,
         "false",
         "false",
         "false",
         "false",
         "false",
         "false",
         "false",
         "false",
         "true",
         "false",
         "false",
         "false",
         "Day",
         "Day",
         "Day",
         "Day",
         0.0,
         0.0,
         0.0,
         0.0,
         0.0,
         0.0,
         0.0,
         0.0,
         1.0,
         0.0,
         0.0,
         0.0,
         0.0,
         0.0,
         0.0,
         0.0,
         {
          "indices": [
           0
          ],
          "length": 1,
          "values": [
           1.0
          ],
          "vectorType": "sparse"
         },
         {
          "indices": [
           0
          ],
          "length": 1,
          "values": [
           1.0
          ],
          "vectorType": "sparse"
         },
         {
          "indices": [
           0
          ],
          "length": 1,
          "values": [
           1.0
          ],
          "vectorType": "sparse"
         },
         {
          "indices": [
           0
          ],
          "length": 1,
          "values": [
           1.0
          ],
          "vectorType": "sparse"
         },
         {
          "indices": [
           0
          ],
          "length": 1,
          "values": [
           1.0
          ],
          "vectorType": "sparse"
         },
         {
          "indices": [
           0
          ],
          "length": 1,
          "values": [
           1.0
          ],
          "vectorType": "sparse"
         },
         {
          "indices": [
           0
          ],
          "length": 1,
          "values": [
           1.0
          ],
          "vectorType": "sparse"
         },
         {
          "indices": [
           0
          ],
          "length": 1,
          "values": [
           1.0
          ],
          "vectorType": "sparse"
         },
         {
          "indices": [],
          "length": 1,
          "values": [],
          "vectorType": "sparse"
         },
         {
          "indices": [
           0
          ],
          "length": 1,
          "values": [
           1.0
          ],
          "vectorType": "sparse"
         },
         {
          "indices": [
           0
          ],
          "length": 1,
          "values": [
           1.0
          ],
          "vectorType": "sparse"
         },
         {
          "indices": [
           0
          ],
          "length": 1,
          "values": [
           1.0
          ],
          "vectorType": "sparse"
         },
         {
          "indices": [
           0
          ],
          "length": 1,
          "values": [
           1.0
          ],
          "vectorType": "sparse"
         },
         {
          "indices": [
           0
          ],
          "length": 1,
          "values": [
           1.0
          ],
          "vectorType": "sparse"
         },
         {
          "indices": [
           0
          ],
          "length": 1,
          "values": [
           1.0
          ],
          "vectorType": "sparse"
         },
         {
          "indices": [
           0
          ],
          "length": 1,
          "values": [
           1.0
          ],
          "vectorType": "sparse"
         },
         {
          "length": 8,
          "values": [
           0.939,
           78.0,
           78.0,
           64.0,
           29.97,
           10.0,
           14.0,
           0.01
          ],
          "vectorType": "dense"
         },
         {
          "length": 8,
          "values": [
           2.224930332946434,
           4.095786176587473,
           3.6589633472141676,
           2.8348347861694703,
           26.933579225799956,
           4.11567408628502,
           2.7415451821257277,
           0.21781494942566842
          ],
          "vectorType": "dense"
         },
         {
          "length": 24,
          "values": [
           2.224930332946434,
           4.095786176587473,
           3.6589633472141676,
           2.8348347861694703,
           26.933579225799956,
           4.11567408628502,
           2.7415451821257277,
           0.21781494942566842,
           1.0,
           1.0,
           1.0,
           1.0,
           1.0,
           1.0,
           1.0,
           1.0,
           0.0,
           1.0,
           1.0,
           1.0,
           1.0,
           1.0,
           1.0,
           1.0
          ],
          "vectorType": "dense"
         }
        ]
       ],
       "datasetInfos": [],
       "dbfsResultPath": null,
       "isJsonSchema": true,
       "metadata": {},
       "overflow": false,
       "plotOptions": {
        "customPlotOptions": {},
        "displayType": "table",
        "pivotAggregation": null,
        "pivotColumns": null,
        "xColumns": null,
        "yColumns": null
       },
       "removedWidgets": [],
       "schema": [
        {
         "metadata": "{}",
         "name": "Severity",
         "type": "\"integer\""
        },
        {
         "metadata": "{}",
         "name": "Distance(mi)",
         "type": "\"double\""
        },
        {
         "metadata": "{}",
         "name": "Temperature(F)",
         "type": "\"double\""
        },
        {
         "metadata": "{}",
         "name": "Wind_Chill(F)",
         "type": "\"double\""
        },
        {
         "metadata": "{}",
         "name": "Humidity(%)",
         "type": "\"double\""
        },
        {
         "metadata": "{}",
         "name": "Pressure(in)",
         "type": "\"double\""
        },
        {
         "metadata": "{}",
         "name": "Visibility(mi)",
         "type": "\"double\""
        },
        {
         "metadata": "{}",
         "name": "Wind_Speed(mph)",
         "type": "\"double\""
        },
        {
         "metadata": "{}",
         "name": "Precipitation(in)",
         "type": "\"double\""
        },
        {
         "metadata": "{}",
         "name": "Amenity",
         "type": "\"string\""
        },
        {
         "metadata": "{}",
         "name": "Bump",
         "type": "\"string\""
        },
        {
         "metadata": "{}",
         "name": "Crossing",
         "type": "\"string\""
        },
        {
         "metadata": "{}",
         "name": "Give_Way",
         "type": "\"string\""
        },
        {
         "metadata": "{}",
         "name": "Junction",
         "type": "\"string\""
        },
        {
         "metadata": "{}",
         "name": "No_Exit",
         "type": "\"string\""
        },
        {
         "metadata": "{}",
         "name": "Railway",
         "type": "\"string\""
        },
        {
         "metadata": "{}",
         "name": "Roundabout",
         "type": "\"string\""
        },
        {
         "metadata": "{}",
         "name": "Station",
         "type": "\"string\""
        },
        {
         "metadata": "{}",
         "name": "Stop",
         "type": "\"string\""
        },
        {
         "metadata": "{}",
         "name": "Traffic_Calming",
         "type": "\"string\""
        },
        {
         "metadata": "{}",
         "name": "Traffic_Signal",
         "type": "\"string\""
        },
        {
         "metadata": "{}",
         "name": "Sunrise_Sunset",
         "type": "\"string\""
        },
        {
         "metadata": "{}",
         "name": "Civil_Twilight",
         "type": "\"string\""
        },
        {
         "metadata": "{}",
         "name": "Nautical_Twilight",
         "type": "\"string\""
        },
        {
         "metadata": "{}",
         "name": "Astronomical_Twilight",
         "type": "\"string\""
        },
        {
         "metadata": "{\"ml_attr\":{\"vals\":[\"false\",\"true\"],\"type\":\"nominal\",\"name\":\"Amenity_idx\"}}",
         "name": "Amenity_idx",
         "type": "\"double\""
        },
        {
         "metadata": "{\"ml_attr\":{\"vals\":[\"false\",\"true\"],\"type\":\"nominal\",\"name\":\"Bump_idx\"}}",
         "name": "Bump_idx",
         "type": "\"double\""
        },
        {
         "metadata": "{\"ml_attr\":{\"vals\":[\"false\",\"true\"],\"type\":\"nominal\",\"name\":\"Crossing_idx\"}}",
         "name": "Crossing_idx",
         "type": "\"double\""
        },
        {
         "metadata": "{\"ml_attr\":{\"vals\":[\"false\",\"true\"],\"type\":\"nominal\",\"name\":\"Give_Way_idx\"}}",
         "name": "Give_Way_idx",
         "type": "\"double\""
        },
        {
         "metadata": "{\"ml_attr\":{\"vals\":[\"false\",\"true\"],\"type\":\"nominal\",\"name\":\"Junction_idx\"}}",
         "name": "Junction_idx",
         "type": "\"double\""
        },
        {
         "metadata": "{\"ml_attr\":{\"vals\":[\"false\",\"true\"],\"type\":\"nominal\",\"name\":\"No_Exit_idx\"}}",
         "name": "No_Exit_idx",
         "type": "\"double\""
        },
        {
         "metadata": "{\"ml_attr\":{\"vals\":[\"false\",\"true\"],\"type\":\"nominal\",\"name\":\"Railway_idx\"}}",
         "name": "Railway_idx",
         "type": "\"double\""
        },
        {
         "metadata": "{\"ml_attr\":{\"vals\":[\"false\",\"true\"],\"type\":\"nominal\",\"name\":\"Roundabout_idx\"}}",
         "name": "Roundabout_idx",
         "type": "\"double\""
        },
        {
         "metadata": "{\"ml_attr\":{\"vals\":[\"false\",\"true\"],\"type\":\"nominal\",\"name\":\"Station_idx\"}}",
         "name": "Station_idx",
         "type": "\"double\""
        },
        {
         "metadata": "{\"ml_attr\":{\"vals\":[\"false\",\"true\"],\"type\":\"nominal\",\"name\":\"Stop_idx\"}}",
         "name": "Stop_idx",
         "type": "\"double\""
        },
        {
         "metadata": "{\"ml_attr\":{\"vals\":[\"false\",\"true\"],\"type\":\"nominal\",\"name\":\"Traffic_Calming_idx\"}}",
         "name": "Traffic_Calming_idx",
         "type": "\"double\""
        },
        {
         "metadata": "{\"ml_attr\":{\"vals\":[\"false\",\"true\"],\"type\":\"nominal\",\"name\":\"Traffic_Signal_idx\"}}",
         "name": "Traffic_Signal_idx",
         "type": "\"double\""
        },
        {
         "metadata": "{\"ml_attr\":{\"vals\":[\"Day\",\"Night\"],\"type\":\"nominal\",\"name\":\"Sunrise_Sunset_idx\"}}",
         "name": "Sunrise_Sunset_idx",
         "type": "\"double\""
        },
        {
         "metadata": "{\"ml_attr\":{\"vals\":[\"Day\",\"Night\"],\"type\":\"nominal\",\"name\":\"Civil_Twilight_idx\"}}",
         "name": "Civil_Twilight_idx",
         "type": "\"double\""
        },
        {
         "metadata": "{\"ml_attr\":{\"vals\":[\"Day\",\"Night\"],\"type\":\"nominal\",\"name\":\"Nautical_Twilight_idx\"}}",
         "name": "Nautical_Twilight_idx",
         "type": "\"double\""
        },
        {
         "metadata": "{\"ml_attr\":{\"vals\":[\"Day\",\"Night\"],\"type\":\"nominal\",\"name\":\"Astronomical_Twilight_idx\"}}",
         "name": "Astronomical_Twilight_idx",
         "type": "\"double\""
        },
        {
         "metadata": "{\"ml_attr\":{\"attrs\":{\"binary\":[{\"idx\":0,\"name\":\"false\"}]},\"num_attrs\":1}}",
         "name": "Amenity_ohe",
         "type": "{\"type\":\"udt\",\"class\":\"org.apache.spark.ml.linalg.VectorUDT\",\"pyClass\":\"pyspark.ml.linalg.VectorUDT\",\"sqlType\":{\"type\":\"struct\",\"fields\":[{\"name\":\"type\",\"type\":\"byte\",\"nullable\":false,\"metadata\":{}},{\"name\":\"size\",\"type\":\"integer\",\"nullable\":true,\"metadata\":{}},{\"name\":\"indices\",\"type\":{\"type\":\"array\",\"elementType\":\"integer\",\"containsNull\":false},\"nullable\":true,\"metadata\":{}},{\"name\":\"values\",\"type\":{\"type\":\"array\",\"elementType\":\"double\",\"containsNull\":false},\"nullable\":true,\"metadata\":{}}]}}"
        },
        {
         "metadata": "{\"ml_attr\":{\"attrs\":{\"binary\":[{\"idx\":0,\"name\":\"false\"}]},\"num_attrs\":1}}",
         "name": "Bump_ohe",
         "type": "{\"type\":\"udt\",\"class\":\"org.apache.spark.ml.linalg.VectorUDT\",\"pyClass\":\"pyspark.ml.linalg.VectorUDT\",\"sqlType\":{\"type\":\"struct\",\"fields\":[{\"name\":\"type\",\"type\":\"byte\",\"nullable\":false,\"metadata\":{}},{\"name\":\"size\",\"type\":\"integer\",\"nullable\":true,\"metadata\":{}},{\"name\":\"indices\",\"type\":{\"type\":\"array\",\"elementType\":\"integer\",\"containsNull\":false},\"nullable\":true,\"metadata\":{}},{\"name\":\"values\",\"type\":{\"type\":\"array\",\"elementType\":\"double\",\"containsNull\":false},\"nullable\":true,\"metadata\":{}}]}}"
        },
        {
         "metadata": "{\"ml_attr\":{\"attrs\":{\"binary\":[{\"idx\":0,\"name\":\"false\"}]},\"num_attrs\":1}}",
         "name": "Crossing_ohe",
         "type": "{\"type\":\"udt\",\"class\":\"org.apache.spark.ml.linalg.VectorUDT\",\"pyClass\":\"pyspark.ml.linalg.VectorUDT\",\"sqlType\":{\"type\":\"struct\",\"fields\":[{\"name\":\"type\",\"type\":\"byte\",\"nullable\":false,\"metadata\":{}},{\"name\":\"size\",\"type\":\"integer\",\"nullable\":true,\"metadata\":{}},{\"name\":\"indices\",\"type\":{\"type\":\"array\",\"elementType\":\"integer\",\"containsNull\":false},\"nullable\":true,\"metadata\":{}},{\"name\":\"values\",\"type\":{\"type\":\"array\",\"elementType\":\"double\",\"containsNull\":false},\"nullable\":true,\"metadata\":{}}]}}"
        },
        {
         "metadata": "{\"ml_attr\":{\"attrs\":{\"binary\":[{\"idx\":0,\"name\":\"false\"}]},\"num_attrs\":1}}",
         "name": "Give_Way_ohe",
         "type": "{\"type\":\"udt\",\"class\":\"org.apache.spark.ml.linalg.VectorUDT\",\"pyClass\":\"pyspark.ml.linalg.VectorUDT\",\"sqlType\":{\"type\":\"struct\",\"fields\":[{\"name\":\"type\",\"type\":\"byte\",\"nullable\":false,\"metadata\":{}},{\"name\":\"size\",\"type\":\"integer\",\"nullable\":true,\"metadata\":{}},{\"name\":\"indices\",\"type\":{\"type\":\"array\",\"elementType\":\"integer\",\"containsNull\":false},\"nullable\":true,\"metadata\":{}},{\"name\":\"values\",\"type\":{\"type\":\"array\",\"elementType\":\"double\",\"containsNull\":false},\"nullable\":true,\"metadata\":{}}]}}"
        },
        {
         "metadata": "{\"ml_attr\":{\"attrs\":{\"binary\":[{\"idx\":0,\"name\":\"false\"}]},\"num_attrs\":1}}",
         "name": "Junction_ohe",
         "type": "{\"type\":\"udt\",\"class\":\"org.apache.spark.ml.linalg.VectorUDT\",\"pyClass\":\"pyspark.ml.linalg.VectorUDT\",\"sqlType\":{\"type\":\"struct\",\"fields\":[{\"name\":\"type\",\"type\":\"byte\",\"nullable\":false,\"metadata\":{}},{\"name\":\"size\",\"type\":\"integer\",\"nullable\":true,\"metadata\":{}},{\"name\":\"indices\",\"type\":{\"type\":\"array\",\"elementType\":\"integer\",\"containsNull\":false},\"nullable\":true,\"metadata\":{}},{\"name\":\"values\",\"type\":{\"type\":\"array\",\"elementType\":\"double\",\"containsNull\":false},\"nullable\":true,\"metadata\":{}}]}}"
        },
        {
         "metadata": "{\"ml_attr\":{\"attrs\":{\"binary\":[{\"idx\":0,\"name\":\"false\"}]},\"num_attrs\":1}}",
         "name": "No_Exit_ohe",
         "type": "{\"type\":\"udt\",\"class\":\"org.apache.spark.ml.linalg.VectorUDT\",\"pyClass\":\"pyspark.ml.linalg.VectorUDT\",\"sqlType\":{\"type\":\"struct\",\"fields\":[{\"name\":\"type\",\"type\":\"byte\",\"nullable\":false,\"metadata\":{}},{\"name\":\"size\",\"type\":\"integer\",\"nullable\":true,\"metadata\":{}},{\"name\":\"indices\",\"type\":{\"type\":\"array\",\"elementType\":\"integer\",\"containsNull\":false},\"nullable\":true,\"metadata\":{}},{\"name\":\"values\",\"type\":{\"type\":\"array\",\"elementType\":\"double\",\"containsNull\":false},\"nullable\":true,\"metadata\":{}}]}}"
        },
        {
         "metadata": "{\"ml_attr\":{\"attrs\":{\"binary\":[{\"idx\":0,\"name\":\"false\"}]},\"num_attrs\":1}}",
         "name": "Railway_ohe",
         "type": "{\"type\":\"udt\",\"class\":\"org.apache.spark.ml.linalg.VectorUDT\",\"pyClass\":\"pyspark.ml.linalg.VectorUDT\",\"sqlType\":{\"type\":\"struct\",\"fields\":[{\"name\":\"type\",\"type\":\"byte\",\"nullable\":false,\"metadata\":{}},{\"name\":\"size\",\"type\":\"integer\",\"nullable\":true,\"metadata\":{}},{\"name\":\"indices\",\"type\":{\"type\":\"array\",\"elementType\":\"integer\",\"containsNull\":false},\"nullable\":true,\"metadata\":{}},{\"name\":\"values\",\"type\":{\"type\":\"array\",\"elementType\":\"double\",\"containsNull\":false},\"nullable\":true,\"metadata\":{}}]}}"
        },
        {
         "metadata": "{\"ml_attr\":{\"attrs\":{\"binary\":[{\"idx\":0,\"name\":\"false\"}]},\"num_attrs\":1}}",
         "name": "Roundabout_ohe",
         "type": "{\"type\":\"udt\",\"class\":\"org.apache.spark.ml.linalg.VectorUDT\",\"pyClass\":\"pyspark.ml.linalg.VectorUDT\",\"sqlType\":{\"type\":\"struct\",\"fields\":[{\"name\":\"type\",\"type\":\"byte\",\"nullable\":false,\"metadata\":{}},{\"name\":\"size\",\"type\":\"integer\",\"nullable\":true,\"metadata\":{}},{\"name\":\"indices\",\"type\":{\"type\":\"array\",\"elementType\":\"integer\",\"containsNull\":false},\"nullable\":true,\"metadata\":{}},{\"name\":\"values\",\"type\":{\"type\":\"array\",\"elementType\":\"double\",\"containsNull\":false},\"nullable\":true,\"metadata\":{}}]}}"
        },
        {
         "metadata": "{\"ml_attr\":{\"attrs\":{\"binary\":[{\"idx\":0,\"name\":\"false\"}]},\"num_attrs\":1}}",
         "name": "Station_ohe",
         "type": "{\"type\":\"udt\",\"class\":\"org.apache.spark.ml.linalg.VectorUDT\",\"pyClass\":\"pyspark.ml.linalg.VectorUDT\",\"sqlType\":{\"type\":\"struct\",\"fields\":[{\"name\":\"type\",\"type\":\"byte\",\"nullable\":false,\"metadata\":{}},{\"name\":\"size\",\"type\":\"integer\",\"nullable\":true,\"metadata\":{}},{\"name\":\"indices\",\"type\":{\"type\":\"array\",\"elementType\":\"integer\",\"containsNull\":false},\"nullable\":true,\"metadata\":{}},{\"name\":\"values\",\"type\":{\"type\":\"array\",\"elementType\":\"double\",\"containsNull\":false},\"nullable\":true,\"metadata\":{}}]}}"
        },
        {
         "metadata": "{\"ml_attr\":{\"attrs\":{\"binary\":[{\"idx\":0,\"name\":\"false\"}]},\"num_attrs\":1}}",
         "name": "Stop_ohe",
         "type": "{\"type\":\"udt\",\"class\":\"org.apache.spark.ml.linalg.VectorUDT\",\"pyClass\":\"pyspark.ml.linalg.VectorUDT\",\"sqlType\":{\"type\":\"struct\",\"fields\":[{\"name\":\"type\",\"type\":\"byte\",\"nullable\":false,\"metadata\":{}},{\"name\":\"size\",\"type\":\"integer\",\"nullable\":true,\"metadata\":{}},{\"name\":\"indices\",\"type\":{\"type\":\"array\",\"elementType\":\"integer\",\"containsNull\":false},\"nullable\":true,\"metadata\":{}},{\"name\":\"values\",\"type\":{\"type\":\"array\",\"elementType\":\"double\",\"containsNull\":false},\"nullable\":true,\"metadata\":{}}]}}"
        },
        {
         "metadata": "{\"ml_attr\":{\"attrs\":{\"binary\":[{\"idx\":0,\"name\":\"false\"}]},\"num_attrs\":1}}",
         "name": "Traffic_Calming_ohe",
         "type": "{\"type\":\"udt\",\"class\":\"org.apache.spark.ml.linalg.VectorUDT\",\"pyClass\":\"pyspark.ml.linalg.VectorUDT\",\"sqlType\":{\"type\":\"struct\",\"fields\":[{\"name\":\"type\",\"type\":\"byte\",\"nullable\":false,\"metadata\":{}},{\"name\":\"size\",\"type\":\"integer\",\"nullable\":true,\"metadata\":{}},{\"name\":\"indices\",\"type\":{\"type\":\"array\",\"elementType\":\"integer\",\"containsNull\":false},\"nullable\":true,\"metadata\":{}},{\"name\":\"values\",\"type\":{\"type\":\"array\",\"elementType\":\"double\",\"containsNull\":false},\"nullable\":true,\"metadata\":{}}]}}"
        },
        {
         "metadata": "{\"ml_attr\":{\"attrs\":{\"binary\":[{\"idx\":0,\"name\":\"false\"}]},\"num_attrs\":1}}",
         "name": "Traffic_Signal_ohe",
         "type": "{\"type\":\"udt\",\"class\":\"org.apache.spark.ml.linalg.VectorUDT\",\"pyClass\":\"pyspark.ml.linalg.VectorUDT\",\"sqlType\":{\"type\":\"struct\",\"fields\":[{\"name\":\"type\",\"type\":\"byte\",\"nullable\":false,\"metadata\":{}},{\"name\":\"size\",\"type\":\"integer\",\"nullable\":true,\"metadata\":{}},{\"name\":\"indices\",\"type\":{\"type\":\"array\",\"elementType\":\"integer\",\"containsNull\":false},\"nullable\":true,\"metadata\":{}},{\"name\":\"values\",\"type\":{\"type\":\"array\",\"elementType\":\"double\",\"containsNull\":false},\"nullable\":true,\"metadata\":{}}]}}"
        },
        {
         "metadata": "{\"ml_attr\":{\"attrs\":{\"binary\":[{\"idx\":0,\"name\":\"Day\"}]},\"num_attrs\":1}}",
         "name": "Sunrise_Sunset_ohe",
         "type": "{\"type\":\"udt\",\"class\":\"org.apache.spark.ml.linalg.VectorUDT\",\"pyClass\":\"pyspark.ml.linalg.VectorUDT\",\"sqlType\":{\"type\":\"struct\",\"fields\":[{\"name\":\"type\",\"type\":\"byte\",\"nullable\":false,\"metadata\":{}},{\"name\":\"size\",\"type\":\"integer\",\"nullable\":true,\"metadata\":{}},{\"name\":\"indices\",\"type\":{\"type\":\"array\",\"elementType\":\"integer\",\"containsNull\":false},\"nullable\":true,\"metadata\":{}},{\"name\":\"values\",\"type\":{\"type\":\"array\",\"elementType\":\"double\",\"containsNull\":false},\"nullable\":true,\"metadata\":{}}]}}"
        },
        {
         "metadata": "{\"ml_attr\":{\"attrs\":{\"binary\":[{\"idx\":0,\"name\":\"Day\"}]},\"num_attrs\":1}}",
         "name": "Civil_Twilight_ohe",
         "type": "{\"type\":\"udt\",\"class\":\"org.apache.spark.ml.linalg.VectorUDT\",\"pyClass\":\"pyspark.ml.linalg.VectorUDT\",\"sqlType\":{\"type\":\"struct\",\"fields\":[{\"name\":\"type\",\"type\":\"byte\",\"nullable\":false,\"metadata\":{}},{\"name\":\"size\",\"type\":\"integer\",\"nullable\":true,\"metadata\":{}},{\"name\":\"indices\",\"type\":{\"type\":\"array\",\"elementType\":\"integer\",\"containsNull\":false},\"nullable\":true,\"metadata\":{}},{\"name\":\"values\",\"type\":{\"type\":\"array\",\"elementType\":\"double\",\"containsNull\":false},\"nullable\":true,\"metadata\":{}}]}}"
        },
        {
         "metadata": "{\"ml_attr\":{\"attrs\":{\"binary\":[{\"idx\":0,\"name\":\"Day\"}]},\"num_attrs\":1}}",
         "name": "Nautical_Twilight_ohe",
         "type": "{\"type\":\"udt\",\"class\":\"org.apache.spark.ml.linalg.VectorUDT\",\"pyClass\":\"pyspark.ml.linalg.VectorUDT\",\"sqlType\":{\"type\":\"struct\",\"fields\":[{\"name\":\"type\",\"type\":\"byte\",\"nullable\":false,\"metadata\":{}},{\"name\":\"size\",\"type\":\"integer\",\"nullable\":true,\"metadata\":{}},{\"name\":\"indices\",\"type\":{\"type\":\"array\",\"elementType\":\"integer\",\"containsNull\":false},\"nullable\":true,\"metadata\":{}},{\"name\":\"values\",\"type\":{\"type\":\"array\",\"elementType\":\"double\",\"containsNull\":false},\"nullable\":true,\"metadata\":{}}]}}"
        },
        {
         "metadata": "{\"ml_attr\":{\"attrs\":{\"binary\":[{\"idx\":0,\"name\":\"Day\"}]},\"num_attrs\":1}}",
         "name": "Astronomical_Twilight_ohe",
         "type": "{\"type\":\"udt\",\"class\":\"org.apache.spark.ml.linalg.VectorUDT\",\"pyClass\":\"pyspark.ml.linalg.VectorUDT\",\"sqlType\":{\"type\":\"struct\",\"fields\":[{\"name\":\"type\",\"type\":\"byte\",\"nullable\":false,\"metadata\":{}},{\"name\":\"size\",\"type\":\"integer\",\"nullable\":true,\"metadata\":{}},{\"name\":\"indices\",\"type\":{\"type\":\"array\",\"elementType\":\"integer\",\"containsNull\":false},\"nullable\":true,\"metadata\":{}},{\"name\":\"values\",\"type\":{\"type\":\"array\",\"elementType\":\"double\",\"containsNull\":false},\"nullable\":true,\"metadata\":{}}]}}"
        },
        {
         "metadata": "{\"ml_attr\":{\"attrs\":{\"numeric\":[{\"idx\":0,\"name\":\"Distance(mi)\"},{\"idx\":1,\"name\":\"Temperature(F)\"},{\"idx\":2,\"name\":\"Wind_Chill(F)\"},{\"idx\":3,\"name\":\"Humidity(%)\"},{\"idx\":4,\"name\":\"Pressure(in)\"},{\"idx\":5,\"name\":\"Visibility(mi)\"},{\"idx\":6,\"name\":\"Wind_Speed(mph)\"},{\"idx\":7,\"name\":\"Precipitation(in)\"}]},\"num_attrs\":8}}",
         "name": "numerical_features",
         "type": "{\"type\":\"udt\",\"class\":\"org.apache.spark.ml.linalg.VectorUDT\",\"pyClass\":\"pyspark.ml.linalg.VectorUDT\",\"sqlType\":{\"type\":\"struct\",\"fields\":[{\"name\":\"type\",\"type\":\"byte\",\"nullable\":false,\"metadata\":{}},{\"name\":\"size\",\"type\":\"integer\",\"nullable\":true,\"metadata\":{}},{\"name\":\"indices\",\"type\":{\"type\":\"array\",\"elementType\":\"integer\",\"containsNull\":false},\"nullable\":true,\"metadata\":{}},{\"name\":\"values\",\"type\":{\"type\":\"array\",\"elementType\":\"double\",\"containsNull\":false},\"nullable\":true,\"metadata\":{}}]}}"
        },
        {
         "metadata": "{\"ml_attr\":{\"num_attrs\":8}}",
         "name": "scaled_features",
         "type": "{\"type\":\"udt\",\"class\":\"org.apache.spark.ml.linalg.VectorUDT\",\"pyClass\":\"pyspark.ml.linalg.VectorUDT\",\"sqlType\":{\"type\":\"struct\",\"fields\":[{\"name\":\"type\",\"type\":\"byte\",\"nullable\":false,\"metadata\":{}},{\"name\":\"size\",\"type\":\"integer\",\"nullable\":true,\"metadata\":{}},{\"name\":\"indices\",\"type\":{\"type\":\"array\",\"elementType\":\"integer\",\"containsNull\":false},\"nullable\":true,\"metadata\":{}},{\"name\":\"values\",\"type\":{\"type\":\"array\",\"elementType\":\"double\",\"containsNull\":false},\"nullable\":true,\"metadata\":{}}]}}"
        },
        {
         "metadata": "{\"ml_attr\":{\"attrs\":{\"numeric\":[{\"idx\":0,\"name\":\"scaled_features_0\"},{\"idx\":1,\"name\":\"scaled_features_1\"},{\"idx\":2,\"name\":\"scaled_features_2\"},{\"idx\":3,\"name\":\"scaled_features_3\"},{\"idx\":4,\"name\":\"scaled_features_4\"},{\"idx\":5,\"name\":\"scaled_features_5\"},{\"idx\":6,\"name\":\"scaled_features_6\"},{\"idx\":7,\"name\":\"scaled_features_7\"}],\"binary\":[{\"idx\":8,\"name\":\"Amenity_ohe_false\"},{\"idx\":9,\"name\":\"Bump_ohe_false\"},{\"idx\":10,\"name\":\"Crossing_ohe_false\"},{\"idx\":11,\"name\":\"Give_Way_ohe_false\"},{\"idx\":12,\"name\":\"Junction_ohe_false\"},{\"idx\":13,\"name\":\"No_Exit_ohe_false\"},{\"idx\":14,\"name\":\"Railway_ohe_false\"},{\"idx\":15,\"name\":\"Roundabout_ohe_false\"},{\"idx\":16,\"name\":\"Station_ohe_false\"},{\"idx\":17,\"name\":\"Stop_ohe_false\"},{\"idx\":18,\"name\":\"Traffic_Calming_ohe_false\"},{\"idx\":19,\"name\":\"Traffic_Signal_ohe_false\"},{\"idx\":20,\"name\":\"Sunrise_Sunset_ohe_Day\"},{\"idx\":21,\"name\":\"Civil_Twilight_ohe_Day\"},{\"idx\":22,\"name\":\"Nautical_Twilight_ohe_Day\"},{\"idx\":23,\"name\":\"Astronomical_Twilight_ohe_Day\"}]},\"num_attrs\":24}}",
         "name": "features",
         "type": "{\"type\":\"udt\",\"class\":\"org.apache.spark.ml.linalg.VectorUDT\",\"pyClass\":\"pyspark.ml.linalg.VectorUDT\",\"sqlType\":{\"type\":\"struct\",\"fields\":[{\"name\":\"type\",\"type\":\"byte\",\"nullable\":false,\"metadata\":{}},{\"name\":\"size\",\"type\":\"integer\",\"nullable\":true,\"metadata\":{}},{\"name\":\"indices\",\"type\":{\"type\":\"array\",\"elementType\":\"integer\",\"containsNull\":false},\"nullable\":true,\"metadata\":{}},{\"name\":\"values\",\"type\":{\"type\":\"array\",\"elementType\":\"double\",\"containsNull\":false},\"nullable\":true,\"metadata\":{}}]}}"
        }
       ],
       "type": "table"
      }
     },
     "output_type": "display_data"
    }
   ],
   "source": [
    "us_acc_train_va.limit(20).display()"
   ]
  },
  {
   "cell_type": "markdown",
   "metadata": {
    "application/vnd.databricks.v1+cell": {
     "cellMetadata": {},
     "inputWidgets": {},
     "nuid": "e023a991-3070-4fc7-b33a-ca925bafbf07",
     "showTitle": false,
     "title": ""
    }
   },
   "source": [
    "## Build the model\n",
    "- 1. Create the LogisticRegression model (for use with the pipeline)\n",
    "- 2. Create the RandomForest model (for use with the pipeline)\n",
    "- 3. Create the SVM model (for use with the pipeline)"
   ]
  },
  {
   "cell_type": "markdown",
   "metadata": {
    "application/vnd.databricks.v1+cell": {
     "cellMetadata": {},
     "inputWidgets": {},
     "nuid": "5885d951-76c1-4cf6-938e-7c312f0180c3",
     "showTitle": false,
     "title": ""
    }
   },
   "source": [
    "## Logistc Regression"
   ]
  },
  {
   "cell_type": "code",
   "execution_count": 0,
   "metadata": {
    "application/vnd.databricks.v1+cell": {
     "cellMetadata": {
      "byteLimit": 2048000,
      "rowLimit": 10000
     },
     "inputWidgets": {},
     "nuid": "363e59a3-f32e-45cf-9c91-d1892ab3aa9c",
     "showTitle": false,
     "title": ""
    }
   },
   "outputs": [],
   "source": [
    "from pyspark.ml.classification import LogisticRegression\n",
    "lr = LogisticRegression(labelCol = 'Severity', featuresCol =  'features', family='binomial')"
   ]
  },
  {
   "cell_type": "code",
   "execution_count": 0,
   "metadata": {
    "application/vnd.databricks.v1+cell": {
     "cellMetadata": {
      "byteLimit": 2048000,
      "rowLimit": 10000
     },
     "inputWidgets": {},
     "nuid": "8f9635cd-e92f-43e2-8156-143c7fd404bd",
     "showTitle": false,
     "title": ""
    }
   },
   "outputs": [
    {
     "output_type": "stream",
     "name": "stdout",
     "output_type": "stream",
     "text": [
      "train 361911 test 154866\n"
     ]
    }
   ],
   "source": [
    "train, test = us_acc_train.randomSplit([0.7, 0.3], seed=0)\n",
    "print(\"train {} test {}\".format(train.count(), test.count()))"
   ]
  },
  {
   "cell_type": "code",
   "execution_count": 0,
   "metadata": {
    "application/vnd.databricks.v1+cell": {
     "cellMetadata": {
      "byteLimit": 2048000,
      "rowLimit": 10000
     },
     "inputWidgets": {},
     "nuid": "39a45d7d-bcfc-4eb0-94f8-5a58fea5ca54",
     "showTitle": false,
     "title": ""
    }
   },
   "outputs": [],
   "source": [
    "from pyspark.ml import Pipeline\n",
    "pl = Pipeline(stages = [si, ohe, nva, scaler, va, lr])\n",
    "pl_model = pl.fit(train)\n",
    "results = pl_model.transform(test)"
   ]
  },
  {
   "cell_type": "code",
   "execution_count": 0,
   "metadata": {
    "application/vnd.databricks.v1+cell": {
     "cellMetadata": {
      "byteLimit": 2048000,
      "rowLimit": 10000
     },
     "inputWidgets": {},
     "nuid": "b468f658-0951-4295-9bc9-ab0b1f44e30f",
     "showTitle": false,
     "title": ""
    }
   },
   "outputs": [
    {
     "output_type": "stream",
     "name": "stdout",
     "output_type": "stream",
     "text": [
      "+--------+----------+-----+\n|Severity|prediction|count|\n+--------+----------+-----+\n|       0|       0.0|43469|\n|       0|       1.0|35696|\n|       1|       0.0|19319|\n|       1|       1.0|56382|\n+--------+----------+-----+\n\n"
     ]
    }
   ],
   "source": [
    "# Confusion Matrix\n",
    "confusion_matrix = results.groupBy(\"Severity\", \"prediction\").count()\n",
    "confusion_matrix.show()"
   ]
  },
  {
   "cell_type": "code",
   "execution_count": 0,
   "metadata": {
    "application/vnd.databricks.v1+cell": {
     "cellMetadata": {
      "byteLimit": 2048000,
      "rowLimit": 10000
     },
     "inputWidgets": {},
     "nuid": "ea8f9b3f-ddab-4f27-94a3-4dac3144dfac",
     "showTitle": false,
     "title": ""
    }
   },
   "outputs": [
    {
     "output_type": "stream",
     "name": "stdout",
     "output_type": "stream",
     "text": [
      "Out[45]: 23.05"
     ]
    }
   ],
   "source": [
    "FP_rate = round((35696 / (43469 + 35696 + 19319 + 56382))*100,2)\n",
    "FP_rate"
   ]
  },
  {
   "cell_type": "code",
   "execution_count": 0,
   "metadata": {
    "application/vnd.databricks.v1+cell": {
     "cellMetadata": {
      "byteLimit": 2048000,
      "rowLimit": 10000
     },
     "inputWidgets": {},
     "nuid": "4d180d31-1367-40c8-9260-c07c083d353a",
     "showTitle": false,
     "title": ""
    }
   },
   "outputs": [
    {
     "output_type": "stream",
     "name": "stdout",
     "output_type": "stream",
     "text": [
      "Accuracy: 0.6447574031743571\n"
     ]
    }
   ],
   "source": [
    "## Accuracy\n",
    "from pyspark.ml.evaluation import MulticlassClassificationEvaluator\n",
    "e_acc = MulticlassClassificationEvaluator(labelCol='Severity', predictionCol='prediction', metricName='accuracy')\n",
    "acc = e_acc.evaluate(results)\n",
    "print(\"Accuracy: {}\".format(acc))"
   ]
  },
  {
   "cell_type": "code",
   "execution_count": 0,
   "metadata": {
    "application/vnd.databricks.v1+cell": {
     "cellMetadata": {
      "byteLimit": 2048000,
      "rowLimit": 10000
     },
     "inputWidgets": {},
     "nuid": "c84c8afc-4509-4fb4-a26c-93770f8b5f66",
     "showTitle": false,
     "title": ""
    }
   },
   "outputs": [],
   "source": [
    "## ROC Curve and AUC \n",
    "from pyspark.mllib.evaluation import BinaryClassificationMetrics\n",
    "class CurveMetrics(BinaryClassificationMetrics):\n",
    "    def __init__(self, *args):\n",
    "        super(CurveMetrics, self).__init__(*args)\n",
    "\n",
    "    def _to_list(self, rdd):\n",
    "        points = []\n",
    "        for row in rdd.collect():\n",
    "            points += [(float(row._1()), float(row._2()))]\n",
    "        return points\n",
    "    def get_curve(self, method):\n",
    "        rdd = getattr(self._java_model, method)().toJavaRDD()\n",
    "        return self._to_list(rdd)"
   ]
  },
  {
   "cell_type": "code",
   "execution_count": 0,
   "metadata": {
    "application/vnd.databricks.v1+cell": {
     "cellMetadata": {
      "byteLimit": 2048000,
      "rowLimit": 10000
     },
     "inputWidgets": {},
     "nuid": "43e136db-d348-4895-bb75-bc9e1f91b952",
     "showTitle": false,
     "title": ""
    }
   },
   "outputs": [
    {
     "output_type": "stream",
     "name": "stderr",
     "output_type": "stream",
     "text": [
      "/databricks/spark/python/pyspark/sql/context.py:165: FutureWarning: Deprecated in 3.0.0. Use SparkSession.builder.getOrCreate() instead.\n  warnings.warn(\n"
     ]
    },
    {
     "output_type": "stream",
     "name": "stdout",
     "output_type": "stream",
     "text": [
      "AUC: 0.6923292737753876\n"
     ]
    },
    {
     "output_type": "display_data",
     "data": {
      "image/png": "[encoded data removed]"
     },
     "metadata": {
      "application/vnd.databricks.v1+output": {
       "addedWidgets": {},
       "arguments": {},
       "data": "data:image/png;base64,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\n",
       "datasetInfos": [],
       "metadata": {},
       "removedWidgets": [],
       "type": "image"
      }
     },
     "output_type": "display_data"
    }
   ],
   "source": [
    "from pyspark.ml.evaluation import BinaryClassificationEvaluator\n",
    "from pyspark.mllib.evaluation import BinaryClassificationMetrics\n",
    "import matplotlib.pyplot as plt\n",
    "\n",
    "evaluator = BinaryClassificationEvaluator(labelCol=\"Severity\", rawPredictionCol=\"rawPrediction\", metricName=\"areaUnderROC\")\n",
    "auc_value = evaluator.evaluate(results)\n",
    "\n",
    "import matplotlib.pyplot as plt\n",
    "# Returns as a list (false positive rate, true positive rate)\n",
    "preds = results.select('Severity','probability').rdd.map(lambda row: (float(row['probability'][1]), float(row['Severity'])))\n",
    "points = CurveMetrics(preds).get_curve('roc')\n",
    "\n",
    "plt.figure()\n",
    "x_val = [x[0] for x in points]\n",
    "y_val = [x[1] for x in points]\n",
    "plt.title('ROC Curve')\n",
    "plt.xlabel('False  Positive Rate')\n",
    "plt.ylabel('True Positive Rate')\n",
    "plt.plot(x_val, y_val)\n",
    "print(f\"AUC: {auc_value}\")"
   ]
  },
  {
   "cell_type": "markdown",
   "metadata": {
    "application/vnd.databricks.v1+cell": {
     "cellMetadata": {},
     "inputWidgets": {},
     "nuid": "cdb0c16b-ab91-44c0-9bd3-126f52c80d0a",
     "showTitle": false,
     "title": ""
    }
   },
   "source": [
    "## Random Forest"
   ]
  },
  {
   "cell_type": "code",
   "execution_count": 0,
   "metadata": {
    "application/vnd.databricks.v1+cell": {
     "cellMetadata": {
      "byteLimit": 2048000,
      "rowLimit": 10000
     },
     "inputWidgets": {},
     "nuid": "5ba44084-08b4-40ca-b766-bb30637b2fc3",
     "showTitle": false,
     "title": ""
    }
   },
   "outputs": [],
   "source": [
    "from pyspark.ml.classification import RandomForestClassifier\n",
    "rf = RandomForestClassifier(labelCol = 'Severity', featuresCol =  'features')"
   ]
  },
  {
   "cell_type": "code",
   "execution_count": 0,
   "metadata": {
    "application/vnd.databricks.v1+cell": {
     "cellMetadata": {
      "byteLimit": 2048000,
      "rowLimit": 10000
     },
     "inputWidgets": {},
     "nuid": "96304997-ec0b-44aa-bf83-72d76d88f842",
     "showTitle": false,
     "title": ""
    }
   },
   "outputs": [],
   "source": [
    "from pyspark.ml import Pipeline\n",
    "pl = Pipeline(stages = [si, ohe, nva, scaler, va, rf])\n",
    "pl_model = pl.fit(train)\n",
    "results = pl_model.transform(test)"
   ]
  },
  {
   "cell_type": "code",
   "execution_count": 0,
   "metadata": {
    "application/vnd.databricks.v1+cell": {
     "cellMetadata": {
      "byteLimit": 2048000,
      "rowLimit": 10000
     },
     "inputWidgets": {},
     "nuid": "76f143cb-ca77-41c1-83bb-8116857d9197",
     "showTitle": false,
     "title": ""
    }
   },
   "outputs": [],
   "source": [
    "pl_model.write().overwrite().save(\"file:///C:/Users/nba35/Desktop/UMN/Big Data Analytics/Trends Market/rf_pipeline\")\n"
   ]
  },
  {
   "cell_type": "code",
   "execution_count": 0,
   "metadata": {
    "application/vnd.databricks.v1+cell": {
     "cellMetadata": {
      "byteLimit": 2048000,
      "rowLimit": 10000
     },
     "inputWidgets": {},
     "nuid": "8c7f9e72-dc5e-4c75-b82c-9dbfffbf133f",
     "showTitle": false,
     "title": ""
    }
   },
   "outputs": [
    {
     "output_type": "stream",
     "name": "stdout",
     "output_type": "stream",
     "text": [
      "+--------+----------+-----+\n|Severity|prediction|count|\n+--------+----------+-----+\n|       0|       0.0|62107|\n|       0|       1.0|17058|\n|       1|       0.0|24200|\n|       1|       1.0|51501|\n+--------+----------+-----+\n\n"
     ]
    }
   ],
   "source": [
    "# Confusion Matrix\n",
    "confusion_matrix = results.groupBy(\"Severity\", \"prediction\").count()\n",
    "confusion_matrix.show()"
   ]
  },
  {
   "cell_type": "code",
   "execution_count": 0,
   "metadata": {
    "application/vnd.databricks.v1+cell": {
     "cellMetadata": {
      "byteLimit": 2048000,
      "rowLimit": 10000
     },
     "inputWidgets": {},
     "nuid": "351de8b7-8202-4ef3-998f-ae1545deb8de",
     "showTitle": false,
     "title": ""
    }
   },
   "outputs": [
    {
     "output_type": "stream",
     "name": "stdout",
     "output_type": "stream",
     "text": [
      "Out[53]: 11.01"
     ]
    }
   ],
   "source": [
    "FP_rate = round((17058 / (62107 + 17058 + 24200 + 51501))*100,2)\n",
    "FP_rate"
   ]
  },
  {
   "cell_type": "code",
   "execution_count": 0,
   "metadata": {
    "application/vnd.databricks.v1+cell": {
     "cellMetadata": {
      "byteLimit": 2048000,
      "rowLimit": 10000
     },
     "inputWidgets": {},
     "nuid": "92da0790-7cb1-443a-a4a8-ecf8de4baa6f",
     "showTitle": false,
     "title": ""
    }
   },
   "outputs": [
    {
     "output_type": "stream",
     "name": "stdout",
     "output_type": "stream",
     "text": [
      "Accuracy: 0.733589038265339\n"
     ]
    }
   ],
   "source": [
    "## Accuracy\n",
    "e_acc = MulticlassClassificationEvaluator(labelCol='Severity', predictionCol='prediction', metricName='accuracy')\n",
    "acc = e_acc.evaluate(results)\n",
    "print(\"Accuracy: {}\".format(acc))"
   ]
  },
  {
   "cell_type": "code",
   "execution_count": 0,
   "metadata": {
    "application/vnd.databricks.v1+cell": {
     "cellMetadata": {
      "byteLimit": 2048000,
      "rowLimit": 10000
     },
     "inputWidgets": {},
     "nuid": "cc3fa5b7-7be4-4a88-b85e-90cb90eee35e",
     "showTitle": false,
     "title": ""
    }
   },
   "outputs": [
    {
     "output_type": "stream",
     "name": "stdout",
     "output_type": "stream",
     "text": [
      "AUC: 0.7648138922941184\n"
     ]
    },
    {
     "output_type": "display_data",
     "data": {
      "image/png": "[encoded data removed]"
     },
     "metadata": {
      "application/vnd.databricks.v1+output": {
       "addedWidgets": {},
       "arguments": {},
       "data": "data:image/png;base64,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\n",
       "datasetInfos": [],
       "metadata": {},
       "removedWidgets": [],
       "type": "image"
      }
     },
     "output_type": "display_data"
    }
   ],
   "source": [
    "## ROC Curve and AUC\n",
    "evaluator = BinaryClassificationEvaluator(labelCol=\"Severity\", rawPredictionCol=\"rawPrediction\", metricName=\"areaUnderROC\")\n",
    "auc_value = evaluator.evaluate(results)\n",
    "\n",
    "import matplotlib.pyplot as plt\n",
    "# Returns as a list (false positive rate, true positive rate)\n",
    "preds = results.select('Severity','probability').rdd.map(lambda row: (float(row['probability'][1]), float(row['Severity'])))\n",
    "points = CurveMetrics(preds).get_curve('roc')\n",
    "\n",
    "plt.figure()\n",
    "x_val = [x[0] for x in points]\n",
    "y_val = [x[1] for x in points]\n",
    "plt.title('ROC Curve')\n",
    "plt.xlabel('False  Positive Rate')\n",
    "plt.ylabel('True Positive Rate')\n",
    "plt.plot(x_val, y_val)\n",
    "print(f\"AUC: {auc_value}\")"
   ]
  },
  {
   "cell_type": "markdown",
   "metadata": {
    "application/vnd.databricks.v1+cell": {
     "cellMetadata": {},
     "inputWidgets": {},
     "nuid": "2a05ee70-4426-4810-ab54-41dc2681d863",
     "showTitle": false,
     "title": ""
    }
   },
   "source": [
    "## SVM Model"
   ]
  },
  {
   "cell_type": "code",
   "execution_count": 0,
   "metadata": {
    "application/vnd.databricks.v1+cell": {
     "cellMetadata": {
      "byteLimit": 2048000,
      "rowLimit": 10000
     },
     "inputWidgets": {},
     "nuid": "9c0ff792-9368-427f-b0af-a0f2ce06750e",
     "showTitle": false,
     "title": ""
    }
   },
   "outputs": [],
   "source": [
    "from pyspark.ml.classification import LinearSVC\n",
    "svm = LinearSVC(maxIter=10, regParam=0.1, labelCol = 'Severity', featuresCol =  'features')"
   ]
  },
  {
   "cell_type": "code",
   "execution_count": 0,
   "metadata": {
    "application/vnd.databricks.v1+cell": {
     "cellMetadata": {
      "byteLimit": 2048000,
      "rowLimit": 10000
     },
     "inputWidgets": {},
     "nuid": "d62ef9dc-73f4-455f-8c40-afabd5489352",
     "showTitle": false,
     "title": ""
    }
   },
   "outputs": [],
   "source": [
    "from pyspark.ml import Pipeline\n",
    "pl = Pipeline(stages = [si, ohe, nva, scaler, va, svm])\n",
    "pl_model = pl.fit(train)\n",
    "results = pl_model.transform(test)"
   ]
  },
  {
   "cell_type": "code",
   "execution_count": 0,
   "metadata": {
    "application/vnd.databricks.v1+cell": {
     "cellMetadata": {
      "byteLimit": 2048000,
      "rowLimit": 10000
     },
     "inputWidgets": {},
     "nuid": "2f0610f3-4752-4c0d-94f5-5c0860b83fe5",
     "showTitle": false,
     "title": ""
    }
   },
   "outputs": [
    {
     "output_type": "display_data",
     "data": {
      "text/html": [
       "<style scoped>\n",
       "  .table-result-container {\n",
       "    max-height: 300px;\n",
       "    overflow: auto;\n",
       "  }\n",
       "  table, th, td {\n",
       "    border: 1px solid black;\n",
       "    border-collapse: collapse;\n",
       "  }\n",
       "  th, td {\n",
       "    padding: 5px;\n",
       "  }\n",
       "  th {\n",
       "    text-align: left;\n",
       "  }\n",
       "</style><div class='table-result-container'><table class='table-result'><thead style='background-color: white'><tr><th>Severity</th><th>Distance(mi)</th><th>Temperature(F)</th><th>Wind_Chill(F)</th><th>Humidity(%)</th><th>Pressure(in)</th><th>Visibility(mi)</th><th>Wind_Speed(mph)</th><th>Precipitation(in)</th><th>Amenity</th><th>Bump</th><th>Crossing</th><th>Give_Way</th><th>Junction</th><th>No_Exit</th><th>Railway</th><th>Roundabout</th><th>Station</th><th>Stop</th><th>Traffic_Calming</th><th>Traffic_Signal</th><th>Sunrise_Sunset</th><th>Civil_Twilight</th><th>Nautical_Twilight</th><th>Astronomical_Twilight</th><th>Amenity_idx</th><th>Bump_idx</th><th>Crossing_idx</th><th>Give_Way_idx</th><th>Junction_idx</th><th>No_Exit_idx</th><th>Railway_idx</th><th>Roundabout_idx</th><th>Station_idx</th><th>Stop_idx</th><th>Traffic_Calming_idx</th><th>Traffic_Signal_idx</th><th>Sunrise_Sunset_idx</th><th>Civil_Twilight_idx</th><th>Nautical_Twilight_idx</th><th>Astronomical_Twilight_idx</th><th>Amenity_ohe</th><th>Bump_ohe</th><th>Crossing_ohe</th><th>Give_Way_ohe</th><th>Junction_ohe</th><th>No_Exit_ohe</th><th>Railway_ohe</th><th>Roundabout_ohe</th><th>Station_ohe</th><th>Stop_ohe</th><th>Traffic_Calming_ohe</th><th>Traffic_Signal_ohe</th><th>Sunrise_Sunset_ohe</th><th>Civil_Twilight_ohe</th><th>Nautical_Twilight_ohe</th><th>Astronomical_Twilight_ohe</th><th>numerical_features</th><th>scaled_features</th><th>features</th><th>rawPrediction</th><th>prediction</th></tr></thead><tbody><tr><td>0</td><td>0.001</td><td>-11.0</td><td>-25.0</td><td>75.0</td><td>29.38</td><td>10.0</td><td>6.0</td><td>0.01</td><td>false</td><td>false</td><td>false</td><td>false</td><td>false</td><td>false</td><td>false</td><td>false</td><td>false</td><td>false</td><td>false</td><td>false</td><td>Night</td><td>Night</td><td>Night</td><td>Night</td><td>0.0</td><td>0.0</td><td>0.0</td><td>0.0</td><td>0.0</td><td>0.0</td><td>0.0</td><td>0.0</td><td>0.0</td><td>0.0</td><td>0.0</td><td>0.0</td><td>1.0</td><td>1.0</td><td>1.0</td><td>1.0</td><td>Map(vectorType -> sparse, length -> 1, indices -> List(0), values -> List(1.0))</td><td>Map(vectorType -> sparse, length -> 1, indices -> List(0), values -> List(1.0))</td><td>Map(vectorType -> sparse, length -> 1, indices -> List(0), values -> List(1.0))</td><td>Map(vectorType -> sparse, length -> 1, indices -> List(0), values -> List(1.0))</td><td>Map(vectorType -> sparse, length -> 1, indices -> List(0), values -> List(1.0))</td><td>Map(vectorType -> sparse, length -> 1, indices -> List(0), values -> List(1.0))</td><td>Map(vectorType -> sparse, length -> 1, indices -> List(0), values -> List(1.0))</td><td>Map(vectorType -> sparse, length -> 1, indices -> List(0), values -> List(1.0))</td><td>Map(vectorType -> sparse, length -> 1, indices -> List(0), values -> List(1.0))</td><td>Map(vectorType -> sparse, length -> 1, indices -> List(0), values -> List(1.0))</td><td>Map(vectorType -> sparse, length -> 1, indices -> List(0), values -> List(1.0))</td><td>Map(vectorType -> sparse, length -> 1, indices -> List(0), values -> List(1.0))</td><td>Map(vectorType -> sparse, length -> 1, indices -> List(), values -> List())</td><td>Map(vectorType -> sparse, length -> 1, indices -> List(), values -> List())</td><td>Map(vectorType -> sparse, length -> 1, indices -> List(), values -> List())</td><td>Map(vectorType -> sparse, length -> 1, indices -> List(), values -> List())</td><td>Map(vectorType -> dense, length -> 8, values -> List(0.001, -11.0, -25.0, 75.0, 29.38, 10.0, 6.0, 0.01))</td><td>Map(vectorType -> dense, length -> 8, values -> List(0.002367769961056211, -0.5775846756359538, -1.1727324261151755, 3.3220622479704716, 26.424530085710124, 4.109737930975815, 1.1750297503780511, 0.21567421742519222))</td><td>Map(vectorType -> dense, length -> 24, values -> List(0.002367769961056211, -0.5775846756359538, -1.1727324261151755, 3.3220622479704716, 26.424530085710124, 4.109737930975815, 1.1750297503780511, 0.21567421742519222, 1.0, 1.0, 1.0, 1.0, 1.0, 1.0, 1.0, 1.0, 1.0, 1.0, 1.0, 1.0, 0.0, 0.0, 0.0, 0.0))</td><td>Map(vectorType -> dense, length -> 2, values -> List(-0.4306171118730928, 0.4306171118730928))</td><td>1.0</td></tr><tr><td>0</td><td>0.001</td><td>-7.0</td><td>-18.0</td><td>79.0</td><td>29.42</td><td>10.0</td><td>5.0</td><td>0.01</td><td>false</td><td>false</td><td>false</td><td>false</td><td>false</td><td>false</td><td>false</td><td>false</td><td>false</td><td>false</td><td>false</td><td>false</td><td>Night</td><td>Night</td><td>Day</td><td>Day</td><td>0.0</td><td>0.0</td><td>0.0</td><td>0.0</td><td>0.0</td><td>0.0</td><td>0.0</td><td>0.0</td><td>0.0</td><td>0.0</td><td>0.0</td><td>0.0</td><td>1.0</td><td>1.0</td><td>0.0</td><td>0.0</td><td>Map(vectorType -> sparse, length -> 1, indices -> List(0), values -> List(1.0))</td><td>Map(vectorType -> sparse, length -> 1, indices -> List(0), values -> List(1.0))</td><td>Map(vectorType -> sparse, length -> 1, indices -> List(0), values -> List(1.0))</td><td>Map(vectorType -> sparse, length -> 1, indices -> List(0), values -> List(1.0))</td><td>Map(vectorType -> sparse, length -> 1, indices -> List(0), values -> List(1.0))</td><td>Map(vectorType -> sparse, length -> 1, indices -> List(0), values -> List(1.0))</td><td>Map(vectorType -> sparse, length -> 1, indices -> List(0), values -> List(1.0))</td><td>Map(vectorType -> sparse, length -> 1, indices -> List(0), values -> List(1.0))</td><td>Map(vectorType -> sparse, length -> 1, indices -> List(0), values -> List(1.0))</td><td>Map(vectorType -> sparse, length -> 1, indices -> List(0), values -> List(1.0))</td><td>Map(vectorType -> sparse, length -> 1, indices -> List(0), values -> List(1.0))</td><td>Map(vectorType -> sparse, length -> 1, indices -> List(0), values -> List(1.0))</td><td>Map(vectorType -> sparse, length -> 1, indices -> List(), values -> List())</td><td>Map(vectorType -> sparse, length -> 1, indices -> List(), values -> List())</td><td>Map(vectorType -> sparse, length -> 1, indices -> List(0), values -> List(1.0))</td><td>Map(vectorType -> sparse, length -> 1, indices -> List(0), values -> List(1.0))</td><td>Map(vectorType -> dense, length -> 8, values -> List(0.001, -7.0, -18.0, 79.0, 29.42, 10.0, 5.0, 0.01))</td><td>Map(vectorType -> dense, length -> 8, values -> List(0.002367769961056211, -0.367553884495607, -0.8443673468029262, 3.4992389011955636, 26.46050630093914, 4.109737930975815, 0.9791914586483761, 0.21567421742519222))</td><td>Map(vectorType -> dense, length -> 24, values -> List(0.002367769961056211, -0.367553884495607, -0.8443673468029262, 3.4992389011955636, 26.46050630093914, 4.109737930975815, 0.9791914586483761, 0.21567421742519222, 1.0, 1.0, 1.0, 1.0, 1.0, 1.0, 1.0, 1.0, 1.0, 1.0, 1.0, 1.0, 0.0, 0.0, 1.0, 1.0))</td><td>Map(vectorType -> dense, length -> 2, values -> List(-0.8300039369015391, 0.8300039369015391))</td><td>1.0</td></tr><tr><td>0</td><td>0.001</td><td>-1.0</td><td>-17.0</td><td>83.0</td><td>29.68</td><td>5.0</td><td>10.0</td><td>0.01</td><td>false</td><td>false</td><td>false</td><td>false</td><td>false</td><td>false</td><td>false</td><td>false</td><td>false</td><td>false</td><td>false</td><td>false</td><td>Night</td><td>Day</td><td>Day</td><td>Day</td><td>0.0</td><td>0.0</td><td>0.0</td><td>0.0</td><td>0.0</td><td>0.0</td><td>0.0</td><td>0.0</td><td>0.0</td><td>0.0</td><td>0.0</td><td>0.0</td><td>1.0</td><td>0.0</td><td>0.0</td><td>0.0</td><td>Map(vectorType -> sparse, length -> 1, indices -> List(0), values -> List(1.0))</td><td>Map(vectorType -> sparse, length -> 1, indices -> List(0), values -> List(1.0))</td><td>Map(vectorType -> sparse, length -> 1, indices -> List(0), values -> List(1.0))</td><td>Map(vectorType -> sparse, length -> 1, indices -> List(0), values -> List(1.0))</td><td>Map(vectorType -> sparse, length -> 1, indices -> List(0), values -> List(1.0))</td><td>Map(vectorType -> sparse, length -> 1, indices -> List(0), values -> List(1.0))</td><td>Map(vectorType -> sparse, length -> 1, indices -> List(0), values -> List(1.0))</td><td>Map(vectorType -> sparse, length -> 1, indices -> List(0), values -> List(1.0))</td><td>Map(vectorType -> sparse, length -> 1, indices -> List(0), values -> List(1.0))</td><td>Map(vectorType -> sparse, length -> 1, indices -> List(0), values -> List(1.0))</td><td>Map(vectorType -> sparse, length -> 1, indices -> List(0), values -> List(1.0))</td><td>Map(vectorType -> sparse, length -> 1, indices -> List(0), values -> List(1.0))</td><td>Map(vectorType -> sparse, length -> 1, indices -> List(), values -> List())</td><td>Map(vectorType -> sparse, length -> 1, indices -> List(0), values -> List(1.0))</td><td>Map(vectorType -> sparse, length -> 1, indices -> List(0), values -> List(1.0))</td><td>Map(vectorType -> sparse, length -> 1, indices -> List(0), values -> List(1.0))</td><td>Map(vectorType -> dense, length -> 8, values -> List(0.001, -1.0, -17.0, 83.0, 29.68, 5.0, 10.0, 0.01))</td><td>Map(vectorType -> dense, length -> 8, values -> List(0.002367769961056211, -0.05250769778508671, -0.7974580497583192, 3.676415554420655, 26.694351699927722, 2.0548689654879073, 1.9583829172967522, 0.21567421742519222))</td><td>Map(vectorType -> dense, length -> 24, values -> List(0.002367769961056211, -0.05250769778508671, -0.7974580497583192, 3.676415554420655, 26.694351699927722, 2.0548689654879073, 1.9583829172967522, 0.21567421742519222, 1.0, 1.0, 1.0, 1.0, 1.0, 1.0, 1.0, 1.0, 1.0, 1.0, 1.0, 1.0, 0.0, 1.0, 1.0, 1.0))</td><td>Map(vectorType -> dense, length -> 2, values -> List(-0.9506430635729055, 0.9506430635729055))</td><td>1.0</td></tr><tr><td>0</td><td>0.001</td><td>5.0</td><td>-12.0</td><td>63.0</td><td>29.72</td><td>10.0</td><td>13.0</td><td>0.01</td><td>false</td><td>false</td><td>false</td><td>false</td><td>false</td><td>false</td><td>false</td><td>false</td><td>false</td><td>false</td><td>false</td><td>false</td><td>Day</td><td>Day</td><td>Day</td><td>Day</td><td>0.0</td><td>0.0</td><td>0.0</td><td>0.0</td><td>0.0</td><td>0.0</td><td>0.0</td><td>0.0</td><td>0.0</td><td>0.0</td><td>0.0</td><td>0.0</td><td>0.0</td><td>0.0</td><td>0.0</td><td>0.0</td><td>Map(vectorType -> sparse, length -> 1, indices -> List(0), values -> List(1.0))</td><td>Map(vectorType -> sparse, length -> 1, indices -> List(0), values -> List(1.0))</td><td>Map(vectorType -> sparse, length -> 1, indices -> List(0), values -> List(1.0))</td><td>Map(vectorType -> sparse, length -> 1, indices -> List(0), values -> List(1.0))</td><td>Map(vectorType -> sparse, length -> 1, indices -> List(0), values -> List(1.0))</td><td>Map(vectorType -> sparse, length -> 1, indices -> List(0), values -> List(1.0))</td><td>Map(vectorType -> sparse, length -> 1, indices -> List(0), values -> List(1.0))</td><td>Map(vectorType -> sparse, length -> 1, indices -> List(0), values -> List(1.0))</td><td>Map(vectorType -> sparse, length -> 1, indices -> List(0), values -> List(1.0))</td><td>Map(vectorType -> sparse, length -> 1, indices -> List(0), values -> List(1.0))</td><td>Map(vectorType -> sparse, length -> 1, indices -> List(0), values -> List(1.0))</td><td>Map(vectorType -> sparse, length -> 1, indices -> List(0), values -> List(1.0))</td><td>Map(vectorType -> sparse, length -> 1, indices -> List(0), values -> List(1.0))</td><td>Map(vectorType -> sparse, length -> 1, indices -> List(0), values -> List(1.0))</td><td>Map(vectorType -> sparse, length -> 1, indices -> List(0), values -> List(1.0))</td><td>Map(vectorType -> sparse, length -> 1, indices -> List(0), values -> List(1.0))</td><td>Map(vectorType -> dense, length -> 8, values -> List(0.001, 5.0, -12.0, 63.0, 29.72, 10.0, 13.0, 0.01))</td><td>Map(vectorType -> dense, length -> 8, values -> List(0.002367769961056211, 0.2625384889254335, -0.5629115645352842, 2.7905322882951964, 26.730327915156735, 4.109737930975815, 2.5458977924857775, 0.21567421742519222))</td><td>Map(vectorType -> dense, length -> 24, values -> List(0.002367769961056211, 0.2625384889254335, -0.5629115645352842, 2.7905322882951964, 26.730327915156735, 4.109737930975815, 2.5458977924857775, 0.21567421742519222, 1.0, 1.0, 1.0, 1.0, 1.0, 1.0, 1.0, 1.0, 1.0, 1.0, 1.0, 1.0, 1.0, 1.0, 1.0, 1.0))</td><td>Map(vectorType -> dense, length -> 2, values -> List(-0.9171109070063101, 0.9171109070063101))</td><td>1.0</td></tr><tr><td>0</td><td>0.001</td><td>5.0</td><td>-12.0</td><td>72.0</td><td>29.46</td><td>10.0</td><td>13.0</td><td>0.01</td><td>false</td><td>false</td><td>false</td><td>false</td><td>false</td><td>false</td><td>false</td><td>false</td><td>false</td><td>true</td><td>false</td><td>false</td><td>Night</td><td>Night</td><td>Night</td><td>Day</td><td>0.0</td><td>0.0</td><td>0.0</td><td>0.0</td><td>0.0</td><td>0.0</td><td>0.0</td><td>0.0</td><td>0.0</td><td>1.0</td><td>0.0</td><td>0.0</td><td>1.0</td><td>1.0</td><td>1.0</td><td>0.0</td><td>Map(vectorType -> sparse, length -> 1, indices -> List(0), values -> List(1.0))</td><td>Map(vectorType -> sparse, length -> 1, indices -> List(0), values -> List(1.0))</td><td>Map(vectorType -> sparse, length -> 1, indices -> List(0), values -> List(1.0))</td><td>Map(vectorType -> sparse, length -> 1, indices -> List(0), values -> List(1.0))</td><td>Map(vectorType -> sparse, length -> 1, indices -> List(0), values -> List(1.0))</td><td>Map(vectorType -> sparse, length -> 1, indices -> List(0), values -> List(1.0))</td><td>Map(vectorType -> sparse, length -> 1, indices -> List(0), values -> List(1.0))</td><td>Map(vectorType -> sparse, length -> 1, indices -> List(0), values -> List(1.0))</td><td>Map(vectorType -> sparse, length -> 1, indices -> List(0), values -> List(1.0))</td><td>Map(vectorType -> sparse, length -> 1, indices -> List(), values -> List())</td><td>Map(vectorType -> sparse, length -> 1, indices -> List(0), values -> List(1.0))</td><td>Map(vectorType -> sparse, length -> 1, indices -> List(0), values -> List(1.0))</td><td>Map(vectorType -> sparse, length -> 1, indices -> List(), values -> List())</td><td>Map(vectorType -> sparse, length -> 1, indices -> List(), values -> List())</td><td>Map(vectorType -> sparse, length -> 1, indices -> List(), values -> List())</td><td>Map(vectorType -> sparse, length -> 1, indices -> List(0), values -> List(1.0))</td><td>Map(vectorType -> dense, length -> 8, values -> List(0.001, 5.0, -12.0, 72.0, 29.46, 10.0, 13.0, 0.01))</td><td>Map(vectorType -> dense, length -> 8, values -> List(0.002367769961056211, 0.2625384889254335, -0.5629115645352842, 3.1891797580516528, 26.496482516168154, 4.109737930975815, 2.5458977924857775, 0.21567421742519222))</td><td>Map(vectorType -> dense, length -> 24, values -> List(0.002367769961056211, 0.2625384889254335, -0.5629115645352842, 3.1891797580516528, 26.496482516168154, 4.109737930975815, 2.5458977924857775, 0.21567421742519222, 1.0, 1.0, 1.0, 1.0, 1.0, 1.0, 1.0, 1.0, 1.0, 0.0, 1.0, 1.0, 0.0, 0.0, 0.0, 1.0))</td><td>Map(vectorType -> dense, length -> 2, values -> List(0.6331025811455531, -0.6331025811455531))</td><td>0.0</td></tr><tr><td>0</td><td>0.001</td><td>6.1</td><td>-0.9</td><td>87.0</td><td>30.31</td><td>5.0</td><td>3.5</td><td>0.01</td><td>false</td><td>false</td><td>false</td><td>false</td><td>false</td><td>false</td><td>false</td><td>false</td><td>false</td><td>false</td><td>false</td><td>false</td><td>Night</td><td>Day</td><td>Day</td><td>Day</td><td>0.0</td><td>0.0</td><td>0.0</td><td>0.0</td><td>0.0</td><td>0.0</td><td>0.0</td><td>0.0</td><td>0.0</td><td>0.0</td><td>0.0</td><td>0.0</td><td>1.0</td><td>0.0</td><td>0.0</td><td>0.0</td><td>Map(vectorType -> sparse, length -> 1, indices -> List(0), values -> List(1.0))</td><td>Map(vectorType -> sparse, length -> 1, indices -> List(0), values -> List(1.0))</td><td>Map(vectorType -> sparse, length -> 1, indices -> List(0), values -> List(1.0))</td><td>Map(vectorType -> sparse, length -> 1, indices -> List(0), values -> List(1.0))</td><td>Map(vectorType -> sparse, length -> 1, indices -> List(0), values -> List(1.0))</td><td>Map(vectorType -> sparse, length -> 1, indices -> List(0), values -> List(1.0))</td><td>Map(vectorType -> sparse, length -> 1, indices -> List(0), values -> List(1.0))</td><td>Map(vectorType -> sparse, length -> 1, indices -> List(0), values -> List(1.0))</td><td>Map(vectorType -> sparse, length -> 1, indices -> List(0), values -> List(1.0))</td><td>Map(vectorType -> sparse, length -> 1, indices -> List(0), values -> List(1.0))</td><td>Map(vectorType -> sparse, length -> 1, indices -> List(0), values -> List(1.0))</td><td>Map(vectorType -> sparse, length -> 1, indices -> List(0), values -> List(1.0))</td><td>Map(vectorType -> sparse, length -> 1, indices -> List(), values -> List())</td><td>Map(vectorType -> sparse, length -> 1, indices -> List(0), values -> List(1.0))</td><td>Map(vectorType -> sparse, length -> 1, indices -> List(0), values -> List(1.0))</td><td>Map(vectorType -> sparse, length -> 1, indices -> List(0), values -> List(1.0))</td><td>Map(vectorType -> dense, length -> 8, values -> List(0.001, 6.1, -0.9, 87.0, 30.31, 5.0, 3.5, 0.01))</td><td>Map(vectorType -> dense, length -> 8, values -> List(0.002367769961056211, 0.3202969564890289, -0.042218367340146314, 3.853592207645747, 27.260977089784678, 2.0548689654879073, 0.6854340210538632, 0.21567421742519222))</td><td>Map(vectorType -> dense, length -> 24, values -> List(0.002367769961056211, 0.3202969564890289, -0.042218367340146314, 3.853592207645747, 27.260977089784678, 2.0548689654879073, 0.6854340210538632, 0.21567421742519222, 1.0, 1.0, 1.0, 1.0, 1.0, 1.0, 1.0, 1.0, 1.0, 1.0, 1.0, 1.0, 0.0, 1.0, 1.0, 1.0))</td><td>Map(vectorType -> dense, length -> 2, values -> List(-0.9080042712188847, 0.9080042712188847))</td><td>1.0</td></tr><tr><td>0</td><td>0.001</td><td>7.0</td><td>-16.0</td><td>79.0</td><td>28.86</td><td>1.0</td><td>28.0</td><td>0.01</td><td>false</td><td>false</td><td>false</td><td>false</td><td>false</td><td>false</td><td>false</td><td>false</td><td>false</td><td>false</td><td>false</td><td>false</td><td>Day</td><td>Day</td><td>Day</td><td>Day</td><td>0.0</td><td>0.0</td><td>0.0</td><td>0.0</td><td>0.0</td><td>0.0</td><td>0.0</td><td>0.0</td><td>0.0</td><td>0.0</td><td>0.0</td><td>0.0</td><td>0.0</td><td>0.0</td><td>0.0</td><td>0.0</td><td>Map(vectorType -> sparse, length -> 1, indices -> List(0), values -> List(1.0))</td><td>Map(vectorType -> sparse, length -> 1, indices -> List(0), values -> List(1.0))</td><td>Map(vectorType -> sparse, length -> 1, indices -> List(0), values -> List(1.0))</td><td>Map(vectorType -> sparse, length -> 1, indices -> List(0), values -> List(1.0))</td><td>Map(vectorType -> sparse, length -> 1, indices -> List(0), values -> List(1.0))</td><td>Map(vectorType -> sparse, length -> 1, indices -> List(0), values -> List(1.0))</td><td>Map(vectorType -> sparse, length -> 1, indices -> List(0), values -> List(1.0))</td><td>Map(vectorType -> sparse, length -> 1, indices -> List(0), values -> List(1.0))</td><td>Map(vectorType -> sparse, length -> 1, indices -> List(0), values -> List(1.0))</td><td>Map(vectorType -> sparse, length -> 1, indices -> List(0), values -> List(1.0))</td><td>Map(vectorType -> sparse, length -> 1, indices -> List(0), values -> List(1.0))</td><td>Map(vectorType -> sparse, length -> 1, indices -> List(0), values -> List(1.0))</td><td>Map(vectorType -> sparse, length -> 1, indices -> List(0), values -> List(1.0))</td><td>Map(vectorType -> sparse, length -> 1, indices -> List(0), values -> List(1.0))</td><td>Map(vectorType -> sparse, length -> 1, indices -> List(0), values -> List(1.0))</td><td>Map(vectorType -> sparse, length -> 1, indices -> List(0), values -> List(1.0))</td><td>Map(vectorType -> dense, length -> 8, values -> List(0.001, 7.0, -16.0, 79.0, 28.86, 1.0, 28.0, 0.01))</td><td>Map(vectorType -> dense, length -> 8, values -> List(0.002367769961056211, 0.367553884495607, -0.7505487527137122, 3.4992389011955636, 25.956839287732954, 0.4109737930975814, 5.483472168430906, 0.21567421742519222))</td><td>Map(vectorType -> dense, length -> 24, values -> List(0.002367769961056211, 0.367553884495607, -0.7505487527137122, 3.4992389011955636, 25.956839287732954, 0.4109737930975814, 5.483472168430906, 0.21567421742519222, 1.0, 1.0, 1.0, 1.0, 1.0, 1.0, 1.0, 1.0, 1.0, 1.0, 1.0, 1.0, 1.0, 1.0, 1.0, 1.0))</td><td>Map(vectorType -> dense, length -> 2, values -> List(-1.056512948226044, 1.056512948226044))</td><td>1.0</td></tr><tr><td>0</td><td>0.001</td><td>7.0</td><td>-11.0</td><td>80.0</td><td>29.82</td><td>0.5</td><td>16.1</td><td>0.01</td><td>false</td><td>false</td><td>false</td><td>false</td><td>true</td><td>false</td><td>false</td><td>false</td><td>false</td><td>false</td><td>false</td><td>false</td><td>Day</td><td>Day</td><td>Day</td><td>Day</td><td>0.0</td><td>0.0</td><td>0.0</td><td>0.0</td><td>1.0</td><td>0.0</td><td>0.0</td><td>0.0</td><td>0.0</td><td>0.0</td><td>0.0</td><td>0.0</td><td>0.0</td><td>0.0</td><td>0.0</td><td>0.0</td><td>Map(vectorType -> sparse, length -> 1, indices -> List(0), values -> List(1.0))</td><td>Map(vectorType -> sparse, length -> 1, indices -> List(0), values -> List(1.0))</td><td>Map(vectorType -> sparse, length -> 1, indices -> List(0), values -> List(1.0))</td><td>Map(vectorType -> sparse, length -> 1, indices -> List(0), values -> List(1.0))</td><td>Map(vectorType -> sparse, length -> 1, indices -> List(), values -> List())</td><td>Map(vectorType -> sparse, length -> 1, indices -> List(0), values -> List(1.0))</td><td>Map(vectorType -> sparse, length -> 1, indices -> List(0), values -> List(1.0))</td><td>Map(vectorType -> sparse, length -> 1, indices -> List(0), values -> List(1.0))</td><td>Map(vectorType -> sparse, length -> 1, indices -> List(0), values -> List(1.0))</td><td>Map(vectorType -> sparse, length -> 1, indices -> List(0), values -> List(1.0))</td><td>Map(vectorType -> sparse, length -> 1, indices -> List(0), values -> List(1.0))</td><td>Map(vectorType -> sparse, length -> 1, indices -> List(0), values -> List(1.0))</td><td>Map(vectorType -> sparse, length -> 1, indices -> List(0), values -> List(1.0))</td><td>Map(vectorType -> sparse, length -> 1, indices -> List(0), values -> List(1.0))</td><td>Map(vectorType -> sparse, length -> 1, indices -> List(0), values -> List(1.0))</td><td>Map(vectorType -> sparse, length -> 1, indices -> List(0), values -> List(1.0))</td><td>Map(vectorType -> dense, length -> 8, values -> List(0.001, 7.0, -11.0, 80.0, 29.82, 0.5, 16.1, 0.01))</td><td>Map(vectorType -> dense, length -> 8, values -> List(0.002367769961056211, 0.367553884495607, -0.5160022674906771, 3.5435330645018364, 26.820268453229268, 0.2054868965487907, 3.1529964968477713, 0.21567421742519222))</td><td>Map(vectorType -> dense, length -> 24, values -> List(0.002367769961056211, 0.367553884495607, -0.5160022674906771, 3.5435330645018364, 26.820268453229268, 0.2054868965487907, 3.1529964968477713, 0.21567421742519222, 1.0, 1.0, 1.0, 1.0, 0.0, 1.0, 1.0, 1.0, 1.0, 1.0, 1.0, 1.0, 1.0, 1.0, 1.0, 1.0))</td><td>Map(vectorType -> dense, length -> 2, values -> List(-1.0542813609357111, 1.0542813609357111))</td><td>1.0</td></tr><tr><td>0</td><td>0.001</td><td>8.0</td><td>-8.0</td><td>80.0</td><td>28.7</td><td>10.0</td><td>13.0</td><td>0.01</td><td>false</td><td>false</td><td>false</td><td>false</td><td>false</td><td>false</td><td>false</td><td>false</td><td>false</td><td>false</td><td>false</td><td>false</td><td>Night</td><td>Night</td><td>Night</td><td>Day</td><td>0.0</td><td>0.0</td><td>0.0</td><td>0.0</td><td>0.0</td><td>0.0</td><td>0.0</td><td>0.0</td><td>0.0</td><td>0.0</td><td>0.0</td><td>0.0</td><td>1.0</td><td>1.0</td><td>1.0</td><td>0.0</td><td>Map(vectorType -> sparse, length -> 1, indices -> List(0), values -> List(1.0))</td><td>Map(vectorType -> sparse, length -> 1, indices -> List(0), values -> List(1.0))</td><td>Map(vectorType -> sparse, length -> 1, indices -> List(0), values -> List(1.0))</td><td>Map(vectorType -> sparse, length -> 1, indices -> List(0), values -> List(1.0))</td><td>Map(vectorType -> sparse, length -> 1, indices -> List(0), values -> List(1.0))</td><td>Map(vectorType -> sparse, length -> 1, indices -> List(0), values -> List(1.0))</td><td>Map(vectorType -> sparse, length -> 1, indices -> List(0), values -> List(1.0))</td><td>Map(vectorType -> sparse, length -> 1, indices -> List(0), values -> List(1.0))</td><td>Map(vectorType -> sparse, length -> 1, indices -> List(0), values -> List(1.0))</td><td>Map(vectorType -> sparse, length -> 1, indices -> List(0), values -> List(1.0))</td><td>Map(vectorType -> sparse, length -> 1, indices -> List(0), values -> List(1.0))</td><td>Map(vectorType -> sparse, length -> 1, indices -> List(0), values -> List(1.0))</td><td>Map(vectorType -> sparse, length -> 1, indices -> List(), values -> List())</td><td>Map(vectorType -> sparse, length -> 1, indices -> List(), values -> List())</td><td>Map(vectorType -> sparse, length -> 1, indices -> List(), values -> List())</td><td>Map(vectorType -> sparse, length -> 1, indices -> List(0), values -> List(1.0))</td><td>Map(vectorType -> dense, length -> 8, values -> List(0.001, 8.0, -8.0, 80.0, 28.7, 10.0, 13.0, 0.01))</td><td>Map(vectorType -> dense, length -> 8, values -> List(0.002367769961056211, 0.4200615822806937, -0.3752743763568561, 3.5435330645018364, 25.812934426816902, 4.109737930975815, 2.5458977924857775, 0.21567421742519222))</td><td>Map(vectorType -> dense, length -> 24, values -> List(0.002367769961056211, 0.4200615822806937, -0.3752743763568561, 3.5435330645018364, 25.812934426816902, 4.109737930975815, 2.5458977924857775, 0.21567421742519222, 1.0, 1.0, 1.0, 1.0, 1.0, 1.0, 1.0, 1.0, 1.0, 1.0, 1.0, 1.0, 0.0, 0.0, 0.0, 1.0))</td><td>Map(vectorType -> dense, length -> 2, values -> List(-0.772902956545324, 0.772902956545324))</td><td>1.0</td></tr><tr><td>0</td><td>0.001</td><td>8.0</td><td>-5.0</td><td>76.0</td><td>29.57</td><td>10.0</td><td>9.0</td><td>0.01</td><td>false</td><td>false</td><td>false</td><td>false</td><td>false</td><td>false</td><td>false</td><td>false</td><td>false</td><td>false</td><td>false</td><td>false</td><td>Day</td><td>Day</td><td>Day</td><td>Day</td><td>0.0</td><td>0.0</td><td>0.0</td><td>0.0</td><td>0.0</td><td>0.0</td><td>0.0</td><td>0.0</td><td>0.0</td><td>0.0</td><td>0.0</td><td>0.0</td><td>0.0</td><td>0.0</td><td>0.0</td><td>0.0</td><td>Map(vectorType -> sparse, length -> 1, indices -> List(0), values -> List(1.0))</td><td>Map(vectorType -> sparse, length -> 1, indices -> List(0), values -> List(1.0))</td><td>Map(vectorType -> sparse, length -> 1, indices -> List(0), values -> List(1.0))</td><td>Map(vectorType -> sparse, length -> 1, indices -> List(0), values -> List(1.0))</td><td>Map(vectorType -> sparse, length -> 1, indices -> List(0), values -> List(1.0))</td><td>Map(vectorType -> sparse, length -> 1, indices -> List(0), values -> List(1.0))</td><td>Map(vectorType -> sparse, length -> 1, indices -> List(0), values -> List(1.0))</td><td>Map(vectorType -> sparse, length -> 1, indices -> List(0), values -> List(1.0))</td><td>Map(vectorType -> sparse, length -> 1, indices -> List(0), values -> List(1.0))</td><td>Map(vectorType -> sparse, length -> 1, indices -> List(0), values -> List(1.0))</td><td>Map(vectorType -> sparse, length -> 1, indices -> List(0), values -> List(1.0))</td><td>Map(vectorType -> sparse, length -> 1, indices -> List(0), values -> List(1.0))</td><td>Map(vectorType -> sparse, length -> 1, indices -> List(0), values -> List(1.0))</td><td>Map(vectorType -> sparse, length -> 1, indices -> List(0), values -> List(1.0))</td><td>Map(vectorType -> sparse, length -> 1, indices -> List(0), values -> List(1.0))</td><td>Map(vectorType -> sparse, length -> 1, indices -> List(0), values -> List(1.0))</td><td>Map(vectorType -> dense, length -> 8, values -> List(0.001, 8.0, -5.0, 76.0, 29.57, 10.0, 9.0, 0.01))</td><td>Map(vectorType -> dense, length -> 8, values -> List(0.002367769961056211, 0.4200615822806937, -0.23454648522303506, 3.366356411276745, 26.595417108047936, 4.109737930975815, 1.762544625567077, 0.21567421742519222))</td><td>Map(vectorType -> dense, length -> 24, values -> List(0.002367769961056211, 0.4200615822806937, -0.23454648522303506, 3.366356411276745, 26.595417108047936, 4.109737930975815, 1.762544625567077, 0.21567421742519222, 1.0, 1.0, 1.0, 1.0, 1.0, 1.0, 1.0, 1.0, 1.0, 1.0, 1.0, 1.0, 1.0, 1.0, 1.0, 1.0))</td><td>Map(vectorType -> dense, length -> 2, values -> List(-0.926179220507886, 0.926179220507886))</td><td>1.0</td></tr></tbody></table></div>"
      ]
     },
     "metadata": {
      "application/vnd.databricks.v1+output": {
       "addedWidgets": {},
       "aggData": [],
       "aggError": "",
       "aggOverflow": false,
       "aggSchema": [],
       "aggSeriesLimitReached": false,
       "aggType": "",
       "arguments": {},
       "columnCustomDisplayInfos": {},
       "data": [
        [
         0,
         0.001,
         -11.0,
         -25.0,
         75.0,
         29.38,
         10.0,
         6.0,
         0.01,
         "false",
         "false",
         "false",
         "false",
         "false",
         "false",
         "false",
         "false",
         "false",
         "false",
         "false",
         "false",
         "Night",
         "Night",
         "Night",
         "Night",
         0.0,
         0.0,
         0.0,
         0.0,
         0.0,
         0.0,
         0.0,
         0.0,
         0.0,
         0.0,
         0.0,
         0.0,
         1.0,
         1.0,
         1.0,
         1.0,
         {
          "indices": [
           0
          ],
          "length": 1,
          "values": [
           1.0
          ],
          "vectorType": "sparse"
         },
         {
          "indices": [
           0
          ],
          "length": 1,
          "values": [
           1.0
          ],
          "vectorType": "sparse"
         },
         {
          "indices": [
           0
          ],
          "length": 1,
          "values": [
           1.0
          ],
          "vectorType": "sparse"
         },
         {
          "indices": [
           0
          ],
          "length": 1,
          "values": [
           1.0
          ],
          "vectorType": "sparse"
         },
         {
          "indices": [
           0
          ],
          "length": 1,
          "values": [
           1.0
          ],
          "vectorType": "sparse"
         },
         {
          "indices": [
           0
          ],
          "length": 1,
          "values": [
           1.0
          ],
          "vectorType": "sparse"
         },
         {
          "indices": [
           0
          ],
          "length": 1,
          "values": [
           1.0
          ],
          "vectorType": "sparse"
         },
         {
          "indices": [
           0
          ],
          "length": 1,
          "values": [
           1.0
          ],
          "vectorType": "sparse"
         },
         {
          "indices": [
           0
          ],
          "length": 1,
          "values": [
           1.0
          ],
          "vectorType": "sparse"
         },
         {
          "indices": [
           0
          ],
          "length": 1,
          "values": [
           1.0
          ],
          "vectorType": "sparse"
         },
         {
          "indices": [
           0
          ],
          "length": 1,
          "values": [
           1.0
          ],
          "vectorType": "sparse"
         },
         {
          "indices": [
           0
          ],
          "length": 1,
          "values": [
           1.0
          ],
          "vectorType": "sparse"
         },
         {
          "indices": [],
          "length": 1,
          "values": [],
          "vectorType": "sparse"
         },
         {
          "indices": [],
          "length": 1,
          "values": [],
          "vectorType": "sparse"
         },
         {
          "indices": [],
          "length": 1,
          "values": [],
          "vectorType": "sparse"
         },
         {
          "indices": [],
          "length": 1,
          "values": [],
          "vectorType": "sparse"
         },
         {
          "length": 8,
          "values": [
           0.001,
           -11.0,
           -25.0,
           75.0,
           29.38,
           10.0,
           6.0,
           0.01
          ],
          "vectorType": "dense"
         },
         {
          "length": 8,
          "values": [
           0.002367769961056211,
           -0.5775846756359538,
           -1.1727324261151755,
           3.3220622479704716,
           26.424530085710124,
           4.109737930975815,
           1.1750297503780511,
           0.21567421742519222
          ],
          "vectorType": "dense"
         },
         {
          "length": 24,
          "values": [
           0.002367769961056211,
           -0.5775846756359538,
           -1.1727324261151755,
           3.3220622479704716,
           26.424530085710124,
           4.109737930975815,
           1.1750297503780511,
           0.21567421742519222,
           1.0,
           1.0,
           1.0,
           1.0,
           1.0,
           1.0,
           1.0,
           1.0,
           1.0,
           1.0,
           1.0,
           1.0,
           0.0,
           0.0,
           0.0,
           0.0
          ],
          "vectorType": "dense"
         },
         {
          "length": 2,
          "values": [
           -0.4306171118730928,
           0.4306171118730928
          ],
          "vectorType": "dense"
         },
         1.0
        ],
        [
         0,
         0.001,
         -7.0,
         -18.0,
         79.0,
         29.42,
         10.0,
         5.0,
         0.01,
         "false",
         "false",
         "false",
         "false",
         "false",
         "false",
         "false",
         "false",
         "false",
         "false",
         "false",
         "false",
         "Night",
         "Night",
         "Day",
         "Day",
         0.0,
         0.0,
         0.0,
         0.0,
         0.0,
         0.0,
         0.0,
         0.0,
         0.0,
         0.0,
         0.0,
         0.0,
         1.0,
         1.0,
         0.0,
         0.0,
         {
          "indices": [
           0
          ],
          "length": 1,
          "values": [
           1.0
          ],
          "vectorType": "sparse"
         },
         {
          "indices": [
           0
          ],
          "length": 1,
          "values": [
           1.0
          ],
          "vectorType": "sparse"
         },
         {
          "indices": [
           0
          ],
          "length": 1,
          "values": [
           1.0
          ],
          "vectorType": "sparse"
         },
         {
          "indices": [
           0
          ],
          "length": 1,
          "values": [
           1.0
          ],
          "vectorType": "sparse"
         },
         {
          "indices": [
           0
          ],
          "length": 1,
          "values": [
           1.0
          ],
          "vectorType": "sparse"
         },
         {
          "indices": [
           0
          ],
          "length": 1,
          "values": [
           1.0
          ],
          "vectorType": "sparse"
         },
         {
          "indices": [
           0
          ],
          "length": 1,
          "values": [
           1.0
          ],
          "vectorType": "sparse"
         },
         {
          "indices": [
           0
          ],
          "length": 1,
          "values": [
           1.0
          ],
          "vectorType": "sparse"
         },
         {
          "indices": [
           0
          ],
          "length": 1,
          "values": [
           1.0
          ],
          "vectorType": "sparse"
         },
         {
          "indices": [
           0
          ],
          "length": 1,
          "values": [
           1.0
          ],
          "vectorType": "sparse"
         },
         {
          "indices": [
           0
          ],
          "length": 1,
          "values": [
           1.0
          ],
          "vectorType": "sparse"
         },
         {
          "indices": [
           0
          ],
          "length": 1,
          "values": [
           1.0
          ],
          "vectorType": "sparse"
         },
         {
          "indices": [],
          "length": 1,
          "values": [],
          "vectorType": "sparse"
         },
         {
          "indices": [],
          "length": 1,
          "values": [],
          "vectorType": "sparse"
         },
         {
          "indices": [
           0
          ],
          "length": 1,
          "values": [
           1.0
          ],
          "vectorType": "sparse"
         },
         {
          "indices": [
           0
          ],
          "length": 1,
          "values": [
           1.0
          ],
          "vectorType": "sparse"
         },
         {
          "length": 8,
          "values": [
           0.001,
           -7.0,
           -18.0,
           79.0,
           29.42,
           10.0,
           5.0,
           0.01
          ],
          "vectorType": "dense"
         },
         {
          "length": 8,
          "values": [
           0.002367769961056211,
           -0.367553884495607,
           -0.8443673468029262,
           3.4992389011955636,
           26.46050630093914,
           4.109737930975815,
           0.9791914586483761,
           0.21567421742519222
          ],
          "vectorType": "dense"
         },
         {
          "length": 24,
          "values": [
           0.002367769961056211,
           -0.367553884495607,
           -0.8443673468029262,
           3.4992389011955636,
           26.46050630093914,
           4.109737930975815,
           0.9791914586483761,
           0.21567421742519222,
           1.0,
           1.0,
           1.0,
           1.0,
           1.0,
           1.0,
           1.0,
           1.0,
           1.0,
           1.0,
           1.0,
           1.0,
           0.0,
           0.0,
           1.0,
           1.0
          ],
          "vectorType": "dense"
         },
         {
          "length": 2,
          "values": [
           -0.8300039369015391,
           0.8300039369015391
          ],
          "vectorType": "dense"
         },
         1.0
        ],
        [
         0,
         0.001,
         -1.0,
         -17.0,
         83.0,
         29.68,
         5.0,
         10.0,
         0.01,
         "false",
         "false",
         "false",
         "false",
         "false",
         "false",
         "false",
         "false",
         "false",
         "false",
         "false",
         "false",
         "Night",
         "Day",
         "Day",
         "Day",
         0.0,
         0.0,
         0.0,
         0.0,
         0.0,
         0.0,
         0.0,
         0.0,
         0.0,
         0.0,
         0.0,
         0.0,
         1.0,
         0.0,
         0.0,
         0.0,
         {
          "indices": [
           0
          ],
          "length": 1,
          "values": [
           1.0
          ],
          "vectorType": "sparse"
         },
         {
          "indices": [
           0
          ],
          "length": 1,
          "values": [
           1.0
          ],
          "vectorType": "sparse"
         },
         {
          "indices": [
           0
          ],
          "length": 1,
          "values": [
           1.0
          ],
          "vectorType": "sparse"
         },
         {
          "indices": [
           0
          ],
          "length": 1,
          "values": [
           1.0
          ],
          "vectorType": "sparse"
         },
         {
          "indices": [
           0
          ],
          "length": 1,
          "values": [
           1.0
          ],
          "vectorType": "sparse"
         },
         {
          "indices": [
           0
          ],
          "length": 1,
          "values": [
           1.0
          ],
          "vectorType": "sparse"
         },
         {
          "indices": [
           0
          ],
          "length": 1,
          "values": [
           1.0
          ],
          "vectorType": "sparse"
         },
         {
          "indices": [
           0
          ],
          "length": 1,
          "values": [
           1.0
          ],
          "vectorType": "sparse"
         },
         {
          "indices": [
           0
          ],
          "length": 1,
          "values": [
           1.0
          ],
          "vectorType": "sparse"
         },
         {
          "indices": [
           0
          ],
          "length": 1,
          "values": [
           1.0
          ],
          "vectorType": "sparse"
         },
         {
          "indices": [
           0
          ],
          "length": 1,
          "values": [
           1.0
          ],
          "vectorType": "sparse"
         },
         {
          "indices": [
           0
          ],
          "length": 1,
          "values": [
           1.0
          ],
          "vectorType": "sparse"
         },
         {
          "indices": [],
          "length": 1,
          "values": [],
          "vectorType": "sparse"
         },
         {
          "indices": [
           0
          ],
          "length": 1,
          "values": [
           1.0
          ],
          "vectorType": "sparse"
         },
         {
          "indices": [
           0
          ],
          "length": 1,
          "values": [
           1.0
          ],
          "vectorType": "sparse"
         },
         {
          "indices": [
           0
          ],
          "length": 1,
          "values": [
           1.0
          ],
          "vectorType": "sparse"
         },
         {
          "length": 8,
          "values": [
           0.001,
           -1.0,
           -17.0,
           83.0,
           29.68,
           5.0,
           10.0,
           0.01
          ],
          "vectorType": "dense"
         },
         {
          "length": 8,
          "values": [
           0.002367769961056211,
           -0.05250769778508671,
           -0.7974580497583192,
           3.676415554420655,
           26.694351699927722,
           2.0548689654879073,
           1.9583829172967522,
           0.21567421742519222
          ],
          "vectorType": "dense"
         },
         {
          "length": 24,
          "values": [
           0.002367769961056211,
           -0.05250769778508671,
           -0.7974580497583192,
           3.676415554420655,
           26.694351699927722,
           2.0548689654879073,
           1.9583829172967522,
           0.21567421742519222,
           1.0,
           1.0,
           1.0,
           1.0,
           1.0,
           1.0,
           1.0,
           1.0,
           1.0,
           1.0,
           1.0,
           1.0,
           0.0,
           1.0,
           1.0,
           1.0
          ],
          "vectorType": "dense"
         },
         {
          "length": 2,
          "values": [
           -0.9506430635729055,
           0.9506430635729055
          ],
          "vectorType": "dense"
         },
         1.0
        ],
        [
         0,
         0.001,
         5.0,
         -12.0,
         63.0,
         29.72,
         10.0,
         13.0,
         0.01,
         "false",
         "false",
         "false",
         "false",
         "false",
         "false",
         "false",
         "false",
         "false",
         "false",
         "false",
         "false",
         "Day",
         "Day",
         "Day",
         "Day",
         0.0,
         0.0,
         0.0,
         0.0,
         0.0,
         0.0,
         0.0,
         0.0,
         0.0,
         0.0,
         0.0,
         0.0,
         0.0,
         0.0,
         0.0,
         0.0,
         {
          "indices": [
           0
          ],
          "length": 1,
          "values": [
           1.0
          ],
          "vectorType": "sparse"
         },
         {
          "indices": [
           0
          ],
          "length": 1,
          "values": [
           1.0
          ],
          "vectorType": "sparse"
         },
         {
          "indices": [
           0
          ],
          "length": 1,
          "values": [
           1.0
          ],
          "vectorType": "sparse"
         },
         {
          "indices": [
           0
          ],
          "length": 1,
          "values": [
           1.0
          ],
          "vectorType": "sparse"
         },
         {
          "indices": [
           0
          ],
          "length": 1,
          "values": [
           1.0
          ],
          "vectorType": "sparse"
         },
         {
          "indices": [
           0
          ],
          "length": 1,
          "values": [
           1.0
          ],
          "vectorType": "sparse"
         },
         {
          "indices": [
           0
          ],
          "length": 1,
          "values": [
           1.0
          ],
          "vectorType": "sparse"
         },
         {
          "indices": [
           0
          ],
          "length": 1,
          "values": [
           1.0
          ],
          "vectorType": "sparse"
         },
         {
          "indices": [
           0
          ],
          "length": 1,
          "values": [
           1.0
          ],
          "vectorType": "sparse"
         },
         {
          "indices": [
           0
          ],
          "length": 1,
          "values": [
           1.0
          ],
          "vectorType": "sparse"
         },
         {
          "indices": [
           0
          ],
          "length": 1,
          "values": [
           1.0
          ],
          "vectorType": "sparse"
         },
         {
          "indices": [
           0
          ],
          "length": 1,
          "values": [
           1.0
          ],
          "vectorType": "sparse"
         },
         {
          "indices": [
           0
          ],
          "length": 1,
          "values": [
           1.0
          ],
          "vectorType": "sparse"
         },
         {
          "indices": [
           0
          ],
          "length": 1,
          "values": [
           1.0
          ],
          "vectorType": "sparse"
         },
         {
          "indices": [
           0
          ],
          "length": 1,
          "values": [
           1.0
          ],
          "vectorType": "sparse"
         },
         {
          "indices": [
           0
          ],
          "length": 1,
          "values": [
           1.0
          ],
          "vectorType": "sparse"
         },
         {
          "length": 8,
          "values": [
           0.001,
           5.0,
           -12.0,
           63.0,
           29.72,
           10.0,
           13.0,
           0.01
          ],
          "vectorType": "dense"
         },
         {
          "length": 8,
          "values": [
           0.002367769961056211,
           0.2625384889254335,
           -0.5629115645352842,
           2.7905322882951964,
           26.730327915156735,
           4.109737930975815,
           2.5458977924857775,
           0.21567421742519222
          ],
          "vectorType": "dense"
         },
         {
          "length": 24,
          "values": [
           0.002367769961056211,
           0.2625384889254335,
           -0.5629115645352842,
           2.7905322882951964,
           26.730327915156735,
           4.109737930975815,
           2.5458977924857775,
           0.21567421742519222,
           1.0,
           1.0,
           1.0,
           1.0,
           1.0,
           1.0,
           1.0,
           1.0,
           1.0,
           1.0,
           1.0,
           1.0,
           1.0,
           1.0,
           1.0,
           1.0
          ],
          "vectorType": "dense"
         },
         {
          "length": 2,
          "values": [
           -0.9171109070063101,
           0.9171109070063101
          ],
          "vectorType": "dense"
         },
         1.0
        ],
        [
         0,
         0.001,
         5.0,
         -12.0,
         72.0,
         29.46,
         10.0,
         13.0,
         0.01,
         "false",
         "false",
         "false",
         "false",
         "false",
         "false",
         "false",
         "false",
         "false",
         "true",
         "false",
         "false",
         "Night",
         "Night",
         "Night",
         "Day",
         0.0,
         0.0,
         0.0,
         0.0,
         0.0,
         0.0,
         0.0,
         0.0,
         0.0,
         1.0,
         0.0,
         0.0,
         1.0,
         1.0,
         1.0,
         0.0,
         {
          "indices": [
           0
          ],
          "length": 1,
          "values": [
           1.0
          ],
          "vectorType": "sparse"
         },
         {
          "indices": [
           0
          ],
          "length": 1,
          "values": [
           1.0
          ],
          "vectorType": "sparse"
         },
         {
          "indices": [
           0
          ],
          "length": 1,
          "values": [
           1.0
          ],
          "vectorType": "sparse"
         },
         {
          "indices": [
           0
          ],
          "length": 1,
          "values": [
           1.0
          ],
          "vectorType": "sparse"
         },
         {
          "indices": [
           0
          ],
          "length": 1,
          "values": [
           1.0
          ],
          "vectorType": "sparse"
         },
         {
          "indices": [
           0
          ],
          "length": 1,
          "values": [
           1.0
          ],
          "vectorType": "sparse"
         },
         {
          "indices": [
           0
          ],
          "length": 1,
          "values": [
           1.0
          ],
          "vectorType": "sparse"
         },
         {
          "indices": [
           0
          ],
          "length": 1,
          "values": [
           1.0
          ],
          "vectorType": "sparse"
         },
         {
          "indices": [
           0
          ],
          "length": 1,
          "values": [
           1.0
          ],
          "vectorType": "sparse"
         },
         {
          "indices": [],
          "length": 1,
          "values": [],
          "vectorType": "sparse"
         },
         {
          "indices": [
           0
          ],
          "length": 1,
          "values": [
           1.0
          ],
          "vectorType": "sparse"
         },
         {
          "indices": [
           0
          ],
          "length": 1,
          "values": [
           1.0
          ],
          "vectorType": "sparse"
         },
         {
          "indices": [],
          "length": 1,
          "values": [],
          "vectorType": "sparse"
         },
         {
          "indices": [],
          "length": 1,
          "values": [],
          "vectorType": "sparse"
         },
         {
          "indices": [],
          "length": 1,
          "values": [],
          "vectorType": "sparse"
         },
         {
          "indices": [
           0
          ],
          "length": 1,
          "values": [
           1.0
          ],
          "vectorType": "sparse"
         },
         {
          "length": 8,
          "values": [
           0.001,
           5.0,
           -12.0,
           72.0,
           29.46,
           10.0,
           13.0,
           0.01
          ],
          "vectorType": "dense"
         },
         {
          "length": 8,
          "values": [
           0.002367769961056211,
           0.2625384889254335,
           -0.5629115645352842,
           3.1891797580516528,
           26.496482516168154,
           4.109737930975815,
           2.5458977924857775,
           0.21567421742519222
          ],
          "vectorType": "dense"
         },
         {
          "length": 24,
          "values": [
           0.002367769961056211,
           0.2625384889254335,
           -0.5629115645352842,
           3.1891797580516528,
           26.496482516168154,
           4.109737930975815,
           2.5458977924857775,
           0.21567421742519222,
           1.0,
           1.0,
           1.0,
           1.0,
           1.0,
           1.0,
           1.0,
           1.0,
           1.0,
           0.0,
           1.0,
           1.0,
           0.0,
           0.0,
           0.0,
           1.0
          ],
          "vectorType": "dense"
         },
         {
          "length": 2,
          "values": [
           0.6331025811455531,
           -0.6331025811455531
          ],
          "vectorType": "dense"
         },
         0.0
        ],
        [
         0,
         0.001,
         6.1,
         -0.9,
         87.0,
         30.31,
         5.0,
         3.5,
         0.01,
         "false",
         "false",
         "false",
         "false",
         "false",
         "false",
         "false",
         "false",
         "false",
         "false",
         "false",
         "false",
         "Night",
         "Day",
         "Day",
         "Day",
         0.0,
         0.0,
         0.0,
         0.0,
         0.0,
         0.0,
         0.0,
         0.0,
         0.0,
         0.0,
         0.0,
         0.0,
         1.0,
         0.0,
         0.0,
         0.0,
         {
          "indices": [
           0
          ],
          "length": 1,
          "values": [
           1.0
          ],
          "vectorType": "sparse"
         },
         {
          "indices": [
           0
          ],
          "length": 1,
          "values": [
           1.0
          ],
          "vectorType": "sparse"
         },
         {
          "indices": [
           0
          ],
          "length": 1,
          "values": [
           1.0
          ],
          "vectorType": "sparse"
         },
         {
          "indices": [
           0
          ],
          "length": 1,
          "values": [
           1.0
          ],
          "vectorType": "sparse"
         },
         {
          "indices": [
           0
          ],
          "length": 1,
          "values": [
           1.0
          ],
          "vectorType": "sparse"
         },
         {
          "indices": [
           0
          ],
          "length": 1,
          "values": [
           1.0
          ],
          "vectorType": "sparse"
         },
         {
          "indices": [
           0
          ],
          "length": 1,
          "values": [
           1.0
          ],
          "vectorType": "sparse"
         },
         {
          "indices": [
           0
          ],
          "length": 1,
          "values": [
           1.0
          ],
          "vectorType": "sparse"
         },
         {
          "indices": [
           0
          ],
          "length": 1,
          "values": [
           1.0
          ],
          "vectorType": "sparse"
         },
         {
          "indices": [
           0
          ],
          "length": 1,
          "values": [
           1.0
          ],
          "vectorType": "sparse"
         },
         {
          "indices": [
           0
          ],
          "length": 1,
          "values": [
           1.0
          ],
          "vectorType": "sparse"
         },
         {
          "indices": [
           0
          ],
          "length": 1,
          "values": [
           1.0
          ],
          "vectorType": "sparse"
         },
         {
          "indices": [],
          "length": 1,
          "values": [],
          "vectorType": "sparse"
         },
         {
          "indices": [
           0
          ],
          "length": 1,
          "values": [
           1.0
          ],
          "vectorType": "sparse"
         },
         {
          "indices": [
           0
          ],
          "length": 1,
          "values": [
           1.0
          ],
          "vectorType": "sparse"
         },
         {
          "indices": [
           0
          ],
          "length": 1,
          "values": [
           1.0
          ],
          "vectorType": "sparse"
         },
         {
          "length": 8,
          "values": [
           0.001,
           6.1,
           -0.9,
           87.0,
           30.31,
           5.0,
           3.5,
           0.01
          ],
          "vectorType": "dense"
         },
         {
          "length": 8,
          "values": [
           0.002367769961056211,
           0.3202969564890289,
           -0.042218367340146314,
           3.853592207645747,
           27.260977089784678,
           2.0548689654879073,
           0.6854340210538632,
           0.21567421742519222
          ],
          "vectorType": "dense"
         },
         {
          "length": 24,
          "values": [
           0.002367769961056211,
           0.3202969564890289,
           -0.042218367340146314,
           3.853592207645747,
           27.260977089784678,
           2.0548689654879073,
           0.6854340210538632,
           0.21567421742519222,
           1.0,
           1.0,
           1.0,
           1.0,
           1.0,
           1.0,
           1.0,
           1.0,
           1.0,
           1.0,
           1.0,
           1.0,
           0.0,
           1.0,
           1.0,
           1.0
          ],
          "vectorType": "dense"
         },
         {
          "length": 2,
          "values": [
           -0.9080042712188847,
           0.9080042712188847
          ],
          "vectorType": "dense"
         },
         1.0
        ],
        [
         0,
         0.001,
         7.0,
         -16.0,
         79.0,
         28.86,
         1.0,
         28.0,
         0.01,
         "false",
         "false",
         "false",
         "false",
         "false",
         "false",
         "false",
         "false",
         "false",
         "false",
         "false",
         "false",
         "Day",
         "Day",
         "Day",
         "Day",
         0.0,
         0.0,
         0.0,
         0.0,
         0.0,
         0.0,
         0.0,
         0.0,
         0.0,
         0.0,
         0.0,
         0.0,
         0.0,
         0.0,
         0.0,
         0.0,
         {
          "indices": [
           0
          ],
          "length": 1,
          "values": [
           1.0
          ],
          "vectorType": "sparse"
         },
         {
          "indices": [
           0
          ],
          "length": 1,
          "values": [
           1.0
          ],
          "vectorType": "sparse"
         },
         {
          "indices": [
           0
          ],
          "length": 1,
          "values": [
           1.0
          ],
          "vectorType": "sparse"
         },
         {
          "indices": [
           0
          ],
          "length": 1,
          "values": [
           1.0
          ],
          "vectorType": "sparse"
         },
         {
          "indices": [
           0
          ],
          "length": 1,
          "values": [
           1.0
          ],
          "vectorType": "sparse"
         },
         {
          "indices": [
           0
          ],
          "length": 1,
          "values": [
           1.0
          ],
          "vectorType": "sparse"
         },
         {
          "indices": [
           0
          ],
          "length": 1,
          "values": [
           1.0
          ],
          "vectorType": "sparse"
         },
         {
          "indices": [
           0
          ],
          "length": 1,
          "values": [
           1.0
          ],
          "vectorType": "sparse"
         },
         {
          "indices": [
           0
          ],
          "length": 1,
          "values": [
           1.0
          ],
          "vectorType": "sparse"
         },
         {
          "indices": [
           0
          ],
          "length": 1,
          "values": [
           1.0
          ],
          "vectorType": "sparse"
         },
         {
          "indices": [
           0
          ],
          "length": 1,
          "values": [
           1.0
          ],
          "vectorType": "sparse"
         },
         {
          "indices": [
           0
          ],
          "length": 1,
          "values": [
           1.0
          ],
          "vectorType": "sparse"
         },
         {
          "indices": [
           0
          ],
          "length": 1,
          "values": [
           1.0
          ],
          "vectorType": "sparse"
         },
         {
          "indices": [
           0
          ],
          "length": 1,
          "values": [
           1.0
          ],
          "vectorType": "sparse"
         },
         {
          "indices": [
           0
          ],
          "length": 1,
          "values": [
           1.0
          ],
          "vectorType": "sparse"
         },
         {
          "indices": [
           0
          ],
          "length": 1,
          "values": [
           1.0
          ],
          "vectorType": "sparse"
         },
         {
          "length": 8,
          "values": [
           0.001,
           7.0,
           -16.0,
           79.0,
           28.86,
           1.0,
           28.0,
           0.01
          ],
          "vectorType": "dense"
         },
         {
          "length": 8,
          "values": [
           0.002367769961056211,
           0.367553884495607,
           -0.7505487527137122,
           3.4992389011955636,
           25.956839287732954,
           0.4109737930975814,
           5.483472168430906,
           0.21567421742519222
          ],
          "vectorType": "dense"
         },
         {
          "length": 24,
          "values": [
           0.002367769961056211,
           0.367553884495607,
           -0.7505487527137122,
           3.4992389011955636,
           25.956839287732954,
           0.4109737930975814,
           5.483472168430906,
           0.21567421742519222,
           1.0,
           1.0,
           1.0,
           1.0,
           1.0,
           1.0,
           1.0,
           1.0,
           1.0,
           1.0,
           1.0,
           1.0,
           1.0,
           1.0,
           1.0,
           1.0
          ],
          "vectorType": "dense"
         },
         {
          "length": 2,
          "values": [
           -1.056512948226044,
           1.056512948226044
          ],
          "vectorType": "dense"
         },
         1.0
        ],
        [
         0,
         0.001,
         7.0,
         -11.0,
         80.0,
         29.82,
         0.5,
         16.1,
         0.01,
         "false",
         "false",
         "false",
         "false",
         "true",
         "false",
         "false",
         "false",
         "false",
         "false",
         "false",
         "false",
         "Day",
         "Day",
         "Day",
         "Day",
         0.0,
         0.0,
         0.0,
         0.0,
         1.0,
         0.0,
         0.0,
         0.0,
         0.0,
         0.0,
         0.0,
         0.0,
         0.0,
         0.0,
         0.0,
         0.0,
         {
          "indices": [
           0
          ],
          "length": 1,
          "values": [
           1.0
          ],
          "vectorType": "sparse"
         },
         {
          "indices": [
           0
          ],
          "length": 1,
          "values": [
           1.0
          ],
          "vectorType": "sparse"
         },
         {
          "indices": [
           0
          ],
          "length": 1,
          "values": [
           1.0
          ],
          "vectorType": "sparse"
         },
         {
          "indices": [
           0
          ],
          "length": 1,
          "values": [
           1.0
          ],
          "vectorType": "sparse"
         },
         {
          "indices": [],
          "length": 1,
          "values": [],
          "vectorType": "sparse"
         },
         {
          "indices": [
           0
          ],
          "length": 1,
          "values": [
           1.0
          ],
          "vectorType": "sparse"
         },
         {
          "indices": [
           0
          ],
          "length": 1,
          "values": [
           1.0
          ],
          "vectorType": "sparse"
         },
         {
          "indices": [
           0
          ],
          "length": 1,
          "values": [
           1.0
          ],
          "vectorType": "sparse"
         },
         {
          "indices": [
           0
          ],
          "length": 1,
          "values": [
           1.0
          ],
          "vectorType": "sparse"
         },
         {
          "indices": [
           0
          ],
          "length": 1,
          "values": [
           1.0
          ],
          "vectorType": "sparse"
         },
         {
          "indices": [
           0
          ],
          "length": 1,
          "values": [
           1.0
          ],
          "vectorType": "sparse"
         },
         {
          "indices": [
           0
          ],
          "length": 1,
          "values": [
           1.0
          ],
          "vectorType": "sparse"
         },
         {
          "indices": [
           0
          ],
          "length": 1,
          "values": [
           1.0
          ],
          "vectorType": "sparse"
         },
         {
          "indices": [
           0
          ],
          "length": 1,
          "values": [
           1.0
          ],
          "vectorType": "sparse"
         },
         {
          "indices": [
           0
          ],
          "length": 1,
          "values": [
           1.0
          ],
          "vectorType": "sparse"
         },
         {
          "indices": [
           0
          ],
          "length": 1,
          "values": [
           1.0
          ],
          "vectorType": "sparse"
         },
         {
          "length": 8,
          "values": [
           0.001,
           7.0,
           -11.0,
           80.0,
           29.82,
           0.5,
           16.1,
           0.01
          ],
          "vectorType": "dense"
         },
         {
          "length": 8,
          "values": [
           0.002367769961056211,
           0.367553884495607,
           -0.5160022674906771,
           3.5435330645018364,
           26.820268453229268,
           0.2054868965487907,
           3.1529964968477713,
           0.21567421742519222
          ],
          "vectorType": "dense"
         },
         {
          "length": 24,
          "values": [
           0.002367769961056211,
           0.367553884495607,
           -0.5160022674906771,
           3.5435330645018364,
           26.820268453229268,
           0.2054868965487907,
           3.1529964968477713,
           0.21567421742519222,
           1.0,
           1.0,
           1.0,
           1.0,
           0.0,
           1.0,
           1.0,
           1.0,
           1.0,
           1.0,
           1.0,
           1.0,
           1.0,
           1.0,
           1.0,
           1.0
          ],
          "vectorType": "dense"
         },
         {
          "length": 2,
          "values": [
           -1.0542813609357111,
           1.0542813609357111
          ],
          "vectorType": "dense"
         },
         1.0
        ],
        [
         0,
         0.001,
         8.0,
         -8.0,
         80.0,
         28.7,
         10.0,
         13.0,
         0.01,
         "false",
         "false",
         "false",
         "false",
         "false",
         "false",
         "false",
         "false",
         "false",
         "false",
         "false",
         "false",
         "Night",
         "Night",
         "Night",
         "Day",
         0.0,
         0.0,
         0.0,
         0.0,
         0.0,
         0.0,
         0.0,
         0.0,
         0.0,
         0.0,
         0.0,
         0.0,
         1.0,
         1.0,
         1.0,
         0.0,
         {
          "indices": [
           0
          ],
          "length": 1,
          "values": [
           1.0
          ],
          "vectorType": "sparse"
         },
         {
          "indices": [
           0
          ],
          "length": 1,
          "values": [
           1.0
          ],
          "vectorType": "sparse"
         },
         {
          "indices": [
           0
          ],
          "length": 1,
          "values": [
           1.0
          ],
          "vectorType": "sparse"
         },
         {
          "indices": [
           0
          ],
          "length": 1,
          "values": [
           1.0
          ],
          "vectorType": "sparse"
         },
         {
          "indices": [
           0
          ],
          "length": 1,
          "values": [
           1.0
          ],
          "vectorType": "sparse"
         },
         {
          "indices": [
           0
          ],
          "length": 1,
          "values": [
           1.0
          ],
          "vectorType": "sparse"
         },
         {
          "indices": [
           0
          ],
          "length": 1,
          "values": [
           1.0
          ],
          "vectorType": "sparse"
         },
         {
          "indices": [
           0
          ],
          "length": 1,
          "values": [
           1.0
          ],
          "vectorType": "sparse"
         },
         {
          "indices": [
           0
          ],
          "length": 1,
          "values": [
           1.0
          ],
          "vectorType": "sparse"
         },
         {
          "indices": [
           0
          ],
          "length": 1,
          "values": [
           1.0
          ],
          "vectorType": "sparse"
         },
         {
          "indices": [
           0
          ],
          "length": 1,
          "values": [
           1.0
          ],
          "vectorType": "sparse"
         },
         {
          "indices": [
           0
          ],
          "length": 1,
          "values": [
           1.0
          ],
          "vectorType": "sparse"
         },
         {
          "indices": [],
          "length": 1,
          "values": [],
          "vectorType": "sparse"
         },
         {
          "indices": [],
          "length": 1,
          "values": [],
          "vectorType": "sparse"
         },
         {
          "indices": [],
          "length": 1,
          "values": [],
          "vectorType": "sparse"
         },
         {
          "indices": [
           0
          ],
          "length": 1,
          "values": [
           1.0
          ],
          "vectorType": "sparse"
         },
         {
          "length": 8,
          "values": [
           0.001,
           8.0,
           -8.0,
           80.0,
           28.7,
           10.0,
           13.0,
           0.01
          ],
          "vectorType": "dense"
         },
         {
          "length": 8,
          "values": [
           0.002367769961056211,
           0.4200615822806937,
           -0.3752743763568561,
           3.5435330645018364,
           25.812934426816902,
           4.109737930975815,
           2.5458977924857775,
           0.21567421742519222
          ],
          "vectorType": "dense"
         },
         {
          "length": 24,
          "values": [
           0.002367769961056211,
           0.4200615822806937,
           -0.3752743763568561,
           3.5435330645018364,
           25.812934426816902,
           4.109737930975815,
           2.5458977924857775,
           0.21567421742519222,
           1.0,
           1.0,
           1.0,
           1.0,
           1.0,
           1.0,
           1.0,
           1.0,
           1.0,
           1.0,
           1.0,
           1.0,
           0.0,
           0.0,
           0.0,
           1.0
          ],
          "vectorType": "dense"
         },
         {
          "length": 2,
          "values": [
           -0.772902956545324,
           0.772902956545324
          ],
          "vectorType": "dense"
         },
         1.0
        ],
        [
         0,
         0.001,
         8.0,
         -5.0,
         76.0,
         29.57,
         10.0,
         9.0,
         0.01,
         "false",
         "false",
         "false",
         "false",
         "false",
         "false",
         "false",
         "false",
         "false",
         "false",
         "false",
         "false",
         "Day",
         "Day",
         "Day",
         "Day",
         0.0,
         0.0,
         0.0,
         0.0,
         0.0,
         0.0,
         0.0,
         0.0,
         0.0,
         0.0,
         0.0,
         0.0,
         0.0,
         0.0,
         0.0,
         0.0,
         {
          "indices": [
           0
          ],
          "length": 1,
          "values": [
           1.0
          ],
          "vectorType": "sparse"
         },
         {
          "indices": [
           0
          ],
          "length": 1,
          "values": [
           1.0
          ],
          "vectorType": "sparse"
         },
         {
          "indices": [
           0
          ],
          "length": 1,
          "values": [
           1.0
          ],
          "vectorType": "sparse"
         },
         {
          "indices": [
           0
          ],
          "length": 1,
          "values": [
           1.0
          ],
          "vectorType": "sparse"
         },
         {
          "indices": [
           0
          ],
          "length": 1,
          "values": [
           1.0
          ],
          "vectorType": "sparse"
         },
         {
          "indices": [
           0
          ],
          "length": 1,
          "values": [
           1.0
          ],
          "vectorType": "sparse"
         },
         {
          "indices": [
           0
          ],
          "length": 1,
          "values": [
           1.0
          ],
          "vectorType": "sparse"
         },
         {
          "indices": [
           0
          ],
          "length": 1,
          "values": [
           1.0
          ],
          "vectorType": "sparse"
         },
         {
          "indices": [
           0
          ],
          "length": 1,
          "values": [
           1.0
          ],
          "vectorType": "sparse"
         },
         {
          "indices": [
           0
          ],
          "length": 1,
          "values": [
           1.0
          ],
          "vectorType": "sparse"
         },
         {
          "indices": [
           0
          ],
          "length": 1,
          "values": [
           1.0
          ],
          "vectorType": "sparse"
         },
         {
          "indices": [
           0
          ],
          "length": 1,
          "values": [
           1.0
          ],
          "vectorType": "sparse"
         },
         {
          "indices": [
           0
          ],
          "length": 1,
          "values": [
           1.0
          ],
          "vectorType": "sparse"
         },
         {
          "indices": [
           0
          ],
          "length": 1,
          "values": [
           1.0
          ],
          "vectorType": "sparse"
         },
         {
          "indices": [
           0
          ],
          "length": 1,
          "values": [
           1.0
          ],
          "vectorType": "sparse"
         },
         {
          "indices": [
           0
          ],
          "length": 1,
          "values": [
           1.0
          ],
          "vectorType": "sparse"
         },
         {
          "length": 8,
          "values": [
           0.001,
           8.0,
           -5.0,
           76.0,
           29.57,
           10.0,
           9.0,
           0.01
          ],
          "vectorType": "dense"
         },
         {
          "length": 8,
          "values": [
           0.002367769961056211,
           0.4200615822806937,
           -0.23454648522303506,
           3.366356411276745,
           26.595417108047936,
           4.109737930975815,
           1.762544625567077,
           0.21567421742519222
          ],
          "vectorType": "dense"
         },
         {
          "length": 24,
          "values": [
           0.002367769961056211,
           0.4200615822806937,
           -0.23454648522303506,
           3.366356411276745,
           26.595417108047936,
           4.109737930975815,
           1.762544625567077,
           0.21567421742519222,
           1.0,
           1.0,
           1.0,
           1.0,
           1.0,
           1.0,
           1.0,
           1.0,
           1.0,
           1.0,
           1.0,
           1.0,
           1.0,
           1.0,
           1.0,
           1.0
          ],
          "vectorType": "dense"
         },
         {
          "length": 2,
          "values": [
           -0.926179220507886,
           0.926179220507886
          ],
          "vectorType": "dense"
         },
         1.0
        ]
       ],
       "datasetInfos": [],
       "dbfsResultPath": null,
       "isJsonSchema": true,
       "metadata": {},
       "overflow": false,
       "plotOptions": {
        "customPlotOptions": {},
        "displayType": "table",
        "pivotAggregation": null,
        "pivotColumns": null,
        "xColumns": null,
        "yColumns": null
       },
       "removedWidgets": [],
       "schema": [
        {
         "metadata": "{}",
         "name": "Severity",
         "type": "\"integer\""
        },
        {
         "metadata": "{}",
         "name": "Distance(mi)",
         "type": "\"double\""
        },
        {
         "metadata": "{}",
         "name": "Temperature(F)",
         "type": "\"double\""
        },
        {
         "metadata": "{}",
         "name": "Wind_Chill(F)",
         "type": "\"double\""
        },
        {
         "metadata": "{}",
         "name": "Humidity(%)",
         "type": "\"double\""
        },
        {
         "metadata": "{}",
         "name": "Pressure(in)",
         "type": "\"double\""
        },
        {
         "metadata": "{}",
         "name": "Visibility(mi)",
         "type": "\"double\""
        },
        {
         "metadata": "{}",
         "name": "Wind_Speed(mph)",
         "type": "\"double\""
        },
        {
         "metadata": "{}",
         "name": "Precipitation(in)",
         "type": "\"double\""
        },
        {
         "metadata": "{}",
         "name": "Amenity",
         "type": "\"string\""
        },
        {
         "metadata": "{}",
         "name": "Bump",
         "type": "\"string\""
        },
        {
         "metadata": "{}",
         "name": "Crossing",
         "type": "\"string\""
        },
        {
         "metadata": "{}",
         "name": "Give_Way",
         "type": "\"string\""
        },
        {
         "metadata": "{}",
         "name": "Junction",
         "type": "\"string\""
        },
        {
         "metadata": "{}",
         "name": "No_Exit",
         "type": "\"string\""
        },
        {
         "metadata": "{}",
         "name": "Railway",
         "type": "\"string\""
        },
        {
         "metadata": "{}",
         "name": "Roundabout",
         "type": "\"string\""
        },
        {
         "metadata": "{}",
         "name": "Station",
         "type": "\"string\""
        },
        {
         "metadata": "{}",
         "name": "Stop",
         "type": "\"string\""
        },
        {
         "metadata": "{}",
         "name": "Traffic_Calming",
         "type": "\"string\""
        },
        {
         "metadata": "{}",
         "name": "Traffic_Signal",
         "type": "\"string\""
        },
        {
         "metadata": "{}",
         "name": "Sunrise_Sunset",
         "type": "\"string\""
        },
        {
         "metadata": "{}",
         "name": "Civil_Twilight",
         "type": "\"string\""
        },
        {
         "metadata": "{}",
         "name": "Nautical_Twilight",
         "type": "\"string\""
        },
        {
         "metadata": "{}",
         "name": "Astronomical_Twilight",
         "type": "\"string\""
        },
        {
         "metadata": "{\"ml_attr\":{\"vals\":[\"false\",\"true\"],\"type\":\"nominal\",\"name\":\"Amenity_idx\"}}",
         "name": "Amenity_idx",
         "type": "\"double\""
        },
        {
         "metadata": "{\"ml_attr\":{\"vals\":[\"false\",\"true\"],\"type\":\"nominal\",\"name\":\"Bump_idx\"}}",
         "name": "Bump_idx",
         "type": "\"double\""
        },
        {
         "metadata": "{\"ml_attr\":{\"vals\":[\"false\",\"true\"],\"type\":\"nominal\",\"name\":\"Crossing_idx\"}}",
         "name": "Crossing_idx",
         "type": "\"double\""
        },
        {
         "metadata": "{\"ml_attr\":{\"vals\":[\"false\",\"true\"],\"type\":\"nominal\",\"name\":\"Give_Way_idx\"}}",
         "name": "Give_Way_idx",
         "type": "\"double\""
        },
        {
         "metadata": "{\"ml_attr\":{\"vals\":[\"false\",\"true\"],\"type\":\"nominal\",\"name\":\"Junction_idx\"}}",
         "name": "Junction_idx",
         "type": "\"double\""
        },
        {
         "metadata": "{\"ml_attr\":{\"vals\":[\"false\",\"true\"],\"type\":\"nominal\",\"name\":\"No_Exit_idx\"}}",
         "name": "No_Exit_idx",
         "type": "\"double\""
        },
        {
         "metadata": "{\"ml_attr\":{\"vals\":[\"false\",\"true\"],\"type\":\"nominal\",\"name\":\"Railway_idx\"}}",
         "name": "Railway_idx",
         "type": "\"double\""
        },
        {
         "metadata": "{\"ml_attr\":{\"vals\":[\"false\",\"true\"],\"type\":\"nominal\",\"name\":\"Roundabout_idx\"}}",
         "name": "Roundabout_idx",
         "type": "\"double\""
        },
        {
         "metadata": "{\"ml_attr\":{\"vals\":[\"false\",\"true\"],\"type\":\"nominal\",\"name\":\"Station_idx\"}}",
         "name": "Station_idx",
         "type": "\"double\""
        },
        {
         "metadata": "{\"ml_attr\":{\"vals\":[\"false\",\"true\"],\"type\":\"nominal\",\"name\":\"Stop_idx\"}}",
         "name": "Stop_idx",
         "type": "\"double\""
        },
        {
         "metadata": "{\"ml_attr\":{\"vals\":[\"false\",\"true\"],\"type\":\"nominal\",\"name\":\"Traffic_Calming_idx\"}}",
         "name": "Traffic_Calming_idx",
         "type": "\"double\""
        },
        {
         "metadata": "{\"ml_attr\":{\"vals\":[\"false\",\"true\"],\"type\":\"nominal\",\"name\":\"Traffic_Signal_idx\"}}",
         "name": "Traffic_Signal_idx",
         "type": "\"double\""
        },
        {
         "metadata": "{\"ml_attr\":{\"vals\":[\"Day\",\"Night\"],\"type\":\"nominal\",\"name\":\"Sunrise_Sunset_idx\"}}",
         "name": "Sunrise_Sunset_idx",
         "type": "\"double\""
        },
        {
         "metadata": "{\"ml_attr\":{\"vals\":[\"Day\",\"Night\"],\"type\":\"nominal\",\"name\":\"Civil_Twilight_idx\"}}",
         "name": "Civil_Twilight_idx",
         "type": "\"double\""
        },
        {
         "metadata": "{\"ml_attr\":{\"vals\":[\"Day\",\"Night\"],\"type\":\"nominal\",\"name\":\"Nautical_Twilight_idx\"}}",
         "name": "Nautical_Twilight_idx",
         "type": "\"double\""
        },
        {
         "metadata": "{\"ml_attr\":{\"vals\":[\"Day\",\"Night\"],\"type\":\"nominal\",\"name\":\"Astronomical_Twilight_idx\"}}",
         "name": "Astronomical_Twilight_idx",
         "type": "\"double\""
        },
        {
         "metadata": "{\"ml_attr\":{\"attrs\":{\"binary\":[{\"idx\":0,\"name\":\"false\"}]},\"num_attrs\":1}}",
         "name": "Amenity_ohe",
         "type": "{\"type\":\"udt\",\"class\":\"org.apache.spark.ml.linalg.VectorUDT\",\"pyClass\":\"pyspark.ml.linalg.VectorUDT\",\"sqlType\":{\"type\":\"struct\",\"fields\":[{\"name\":\"type\",\"type\":\"byte\",\"nullable\":false,\"metadata\":{}},{\"name\":\"size\",\"type\":\"integer\",\"nullable\":true,\"metadata\":{}},{\"name\":\"indices\",\"type\":{\"type\":\"array\",\"elementType\":\"integer\",\"containsNull\":false},\"nullable\":true,\"metadata\":{}},{\"name\":\"values\",\"type\":{\"type\":\"array\",\"elementType\":\"double\",\"containsNull\":false},\"nullable\":true,\"metadata\":{}}]}}"
        },
        {
         "metadata": "{\"ml_attr\":{\"attrs\":{\"binary\":[{\"idx\":0,\"name\":\"false\"}]},\"num_attrs\":1}}",
         "name": "Bump_ohe",
         "type": "{\"type\":\"udt\",\"class\":\"org.apache.spark.ml.linalg.VectorUDT\",\"pyClass\":\"pyspark.ml.linalg.VectorUDT\",\"sqlType\":{\"type\":\"struct\",\"fields\":[{\"name\":\"type\",\"type\":\"byte\",\"nullable\":false,\"metadata\":{}},{\"name\":\"size\",\"type\":\"integer\",\"nullable\":true,\"metadata\":{}},{\"name\":\"indices\",\"type\":{\"type\":\"array\",\"elementType\":\"integer\",\"containsNull\":false},\"nullable\":true,\"metadata\":{}},{\"name\":\"values\",\"type\":{\"type\":\"array\",\"elementType\":\"double\",\"containsNull\":false},\"nullable\":true,\"metadata\":{}}]}}"
        },
        {
         "metadata": "{\"ml_attr\":{\"attrs\":{\"binary\":[{\"idx\":0,\"name\":\"false\"}]},\"num_attrs\":1}}",
         "name": "Crossing_ohe",
         "type": "{\"type\":\"udt\",\"class\":\"org.apache.spark.ml.linalg.VectorUDT\",\"pyClass\":\"pyspark.ml.linalg.VectorUDT\",\"sqlType\":{\"type\":\"struct\",\"fields\":[{\"name\":\"type\",\"type\":\"byte\",\"nullable\":false,\"metadata\":{}},{\"name\":\"size\",\"type\":\"integer\",\"nullable\":true,\"metadata\":{}},{\"name\":\"indices\",\"type\":{\"type\":\"array\",\"elementType\":\"integer\",\"containsNull\":false},\"nullable\":true,\"metadata\":{}},{\"name\":\"values\",\"type\":{\"type\":\"array\",\"elementType\":\"double\",\"containsNull\":false},\"nullable\":true,\"metadata\":{}}]}}"
        },
        {
         "metadata": "{\"ml_attr\":{\"attrs\":{\"binary\":[{\"idx\":0,\"name\":\"false\"}]},\"num_attrs\":1}}",
         "name": "Give_Way_ohe",
         "type": "{\"type\":\"udt\",\"class\":\"org.apache.spark.ml.linalg.VectorUDT\",\"pyClass\":\"pyspark.ml.linalg.VectorUDT\",\"sqlType\":{\"type\":\"struct\",\"fields\":[{\"name\":\"type\",\"type\":\"byte\",\"nullable\":false,\"metadata\":{}},{\"name\":\"size\",\"type\":\"integer\",\"nullable\":true,\"metadata\":{}},{\"name\":\"indices\",\"type\":{\"type\":\"array\",\"elementType\":\"integer\",\"containsNull\":false},\"nullable\":true,\"metadata\":{}},{\"name\":\"values\",\"type\":{\"type\":\"array\",\"elementType\":\"double\",\"containsNull\":false},\"nullable\":true,\"metadata\":{}}]}}"
        },
        {
         "metadata": "{\"ml_attr\":{\"attrs\":{\"binary\":[{\"idx\":0,\"name\":\"false\"}]},\"num_attrs\":1}}",
         "name": "Junction_ohe",
         "type": "{\"type\":\"udt\",\"class\":\"org.apache.spark.ml.linalg.VectorUDT\",\"pyClass\":\"pyspark.ml.linalg.VectorUDT\",\"sqlType\":{\"type\":\"struct\",\"fields\":[{\"name\":\"type\",\"type\":\"byte\",\"nullable\":false,\"metadata\":{}},{\"name\":\"size\",\"type\":\"integer\",\"nullable\":true,\"metadata\":{}},{\"name\":\"indices\",\"type\":{\"type\":\"array\",\"elementType\":\"integer\",\"containsNull\":false},\"nullable\":true,\"metadata\":{}},{\"name\":\"values\",\"type\":{\"type\":\"array\",\"elementType\":\"double\",\"containsNull\":false},\"nullable\":true,\"metadata\":{}}]}}"
        },
        {
         "metadata": "{\"ml_attr\":{\"attrs\":{\"binary\":[{\"idx\":0,\"name\":\"false\"}]},\"num_attrs\":1}}",
         "name": "No_Exit_ohe",
         "type": "{\"type\":\"udt\",\"class\":\"org.apache.spark.ml.linalg.VectorUDT\",\"pyClass\":\"pyspark.ml.linalg.VectorUDT\",\"sqlType\":{\"type\":\"struct\",\"fields\":[{\"name\":\"type\",\"type\":\"byte\",\"nullable\":false,\"metadata\":{}},{\"name\":\"size\",\"type\":\"integer\",\"nullable\":true,\"metadata\":{}},{\"name\":\"indices\",\"type\":{\"type\":\"array\",\"elementType\":\"integer\",\"containsNull\":false},\"nullable\":true,\"metadata\":{}},{\"name\":\"values\",\"type\":{\"type\":\"array\",\"elementType\":\"double\",\"containsNull\":false},\"nullable\":true,\"metadata\":{}}]}}"
        },
        {
         "metadata": "{\"ml_attr\":{\"attrs\":{\"binary\":[{\"idx\":0,\"name\":\"false\"}]},\"num_attrs\":1}}",
         "name": "Railway_ohe",
         "type": "{\"type\":\"udt\",\"class\":\"org.apache.spark.ml.linalg.VectorUDT\",\"pyClass\":\"pyspark.ml.linalg.VectorUDT\",\"sqlType\":{\"type\":\"struct\",\"fields\":[{\"name\":\"type\",\"type\":\"byte\",\"nullable\":false,\"metadata\":{}},{\"name\":\"size\",\"type\":\"integer\",\"nullable\":true,\"metadata\":{}},{\"name\":\"indices\",\"type\":{\"type\":\"array\",\"elementType\":\"integer\",\"containsNull\":false},\"nullable\":true,\"metadata\":{}},{\"name\":\"values\",\"type\":{\"type\":\"array\",\"elementType\":\"double\",\"containsNull\":false},\"nullable\":true,\"metadata\":{}}]}}"
        },
        {
         "metadata": "{\"ml_attr\":{\"attrs\":{\"binary\":[{\"idx\":0,\"name\":\"false\"}]},\"num_attrs\":1}}",
         "name": "Roundabout_ohe",
         "type": "{\"type\":\"udt\",\"class\":\"org.apache.spark.ml.linalg.VectorUDT\",\"pyClass\":\"pyspark.ml.linalg.VectorUDT\",\"sqlType\":{\"type\":\"struct\",\"fields\":[{\"name\":\"type\",\"type\":\"byte\",\"nullable\":false,\"metadata\":{}},{\"name\":\"size\",\"type\":\"integer\",\"nullable\":true,\"metadata\":{}},{\"name\":\"indices\",\"type\":{\"type\":\"array\",\"elementType\":\"integer\",\"containsNull\":false},\"nullable\":true,\"metadata\":{}},{\"name\":\"values\",\"type\":{\"type\":\"array\",\"elementType\":\"double\",\"containsNull\":false},\"nullable\":true,\"metadata\":{}}]}}"
        },
        {
         "metadata": "{\"ml_attr\":{\"attrs\":{\"binary\":[{\"idx\":0,\"name\":\"false\"}]},\"num_attrs\":1}}",
         "name": "Station_ohe",
         "type": "{\"type\":\"udt\",\"class\":\"org.apache.spark.ml.linalg.VectorUDT\",\"pyClass\":\"pyspark.ml.linalg.VectorUDT\",\"sqlType\":{\"type\":\"struct\",\"fields\":[{\"name\":\"type\",\"type\":\"byte\",\"nullable\":false,\"metadata\":{}},{\"name\":\"size\",\"type\":\"integer\",\"nullable\":true,\"metadata\":{}},{\"name\":\"indices\",\"type\":{\"type\":\"array\",\"elementType\":\"integer\",\"containsNull\":false},\"nullable\":true,\"metadata\":{}},{\"name\":\"values\",\"type\":{\"type\":\"array\",\"elementType\":\"double\",\"containsNull\":false},\"nullable\":true,\"metadata\":{}}]}}"
        },
        {
         "metadata": "{\"ml_attr\":{\"attrs\":{\"binary\":[{\"idx\":0,\"name\":\"false\"}]},\"num_attrs\":1}}",
         "name": "Stop_ohe",
         "type": "{\"type\":\"udt\",\"class\":\"org.apache.spark.ml.linalg.VectorUDT\",\"pyClass\":\"pyspark.ml.linalg.VectorUDT\",\"sqlType\":{\"type\":\"struct\",\"fields\":[{\"name\":\"type\",\"type\":\"byte\",\"nullable\":false,\"metadata\":{}},{\"name\":\"size\",\"type\":\"integer\",\"nullable\":true,\"metadata\":{}},{\"name\":\"indices\",\"type\":{\"type\":\"array\",\"elementType\":\"integer\",\"containsNull\":false},\"nullable\":true,\"metadata\":{}},{\"name\":\"values\",\"type\":{\"type\":\"array\",\"elementType\":\"double\",\"containsNull\":false},\"nullable\":true,\"metadata\":{}}]}}"
        },
        {
         "metadata": "{\"ml_attr\":{\"attrs\":{\"binary\":[{\"idx\":0,\"name\":\"false\"}]},\"num_attrs\":1}}",
         "name": "Traffic_Calming_ohe",
         "type": "{\"type\":\"udt\",\"class\":\"org.apache.spark.ml.linalg.VectorUDT\",\"pyClass\":\"pyspark.ml.linalg.VectorUDT\",\"sqlType\":{\"type\":\"struct\",\"fields\":[{\"name\":\"type\",\"type\":\"byte\",\"nullable\":false,\"metadata\":{}},{\"name\":\"size\",\"type\":\"integer\",\"nullable\":true,\"metadata\":{}},{\"name\":\"indices\",\"type\":{\"type\":\"array\",\"elementType\":\"integer\",\"containsNull\":false},\"nullable\":true,\"metadata\":{}},{\"name\":\"values\",\"type\":{\"type\":\"array\",\"elementType\":\"double\",\"containsNull\":false},\"nullable\":true,\"metadata\":{}}]}}"
        },
        {
         "metadata": "{\"ml_attr\":{\"attrs\":{\"binary\":[{\"idx\":0,\"name\":\"false\"}]},\"num_attrs\":1}}",
         "name": "Traffic_Signal_ohe",
         "type": "{\"type\":\"udt\",\"class\":\"org.apache.spark.ml.linalg.VectorUDT\",\"pyClass\":\"pyspark.ml.linalg.VectorUDT\",\"sqlType\":{\"type\":\"struct\",\"fields\":[{\"name\":\"type\",\"type\":\"byte\",\"nullable\":false,\"metadata\":{}},{\"name\":\"size\",\"type\":\"integer\",\"nullable\":true,\"metadata\":{}},{\"name\":\"indices\",\"type\":{\"type\":\"array\",\"elementType\":\"integer\",\"containsNull\":false},\"nullable\":true,\"metadata\":{}},{\"name\":\"values\",\"type\":{\"type\":\"array\",\"elementType\":\"double\",\"containsNull\":false},\"nullable\":true,\"metadata\":{}}]}}"
        },
        {
         "metadata": "{\"ml_attr\":{\"attrs\":{\"binary\":[{\"idx\":0,\"name\":\"Day\"}]},\"num_attrs\":1}}",
         "name": "Sunrise_Sunset_ohe",
         "type": "{\"type\":\"udt\",\"class\":\"org.apache.spark.ml.linalg.VectorUDT\",\"pyClass\":\"pyspark.ml.linalg.VectorUDT\",\"sqlType\":{\"type\":\"struct\",\"fields\":[{\"name\":\"type\",\"type\":\"byte\",\"nullable\":false,\"metadata\":{}},{\"name\":\"size\",\"type\":\"integer\",\"nullable\":true,\"metadata\":{}},{\"name\":\"indices\",\"type\":{\"type\":\"array\",\"elementType\":\"integer\",\"containsNull\":false},\"nullable\":true,\"metadata\":{}},{\"name\":\"values\",\"type\":{\"type\":\"array\",\"elementType\":\"double\",\"containsNull\":false},\"nullable\":true,\"metadata\":{}}]}}"
        },
        {
         "metadata": "{\"ml_attr\":{\"attrs\":{\"binary\":[{\"idx\":0,\"name\":\"Day\"}]},\"num_attrs\":1}}",
         "name": "Civil_Twilight_ohe",
         "type": "{\"type\":\"udt\",\"class\":\"org.apache.spark.ml.linalg.VectorUDT\",\"pyClass\":\"pyspark.ml.linalg.VectorUDT\",\"sqlType\":{\"type\":\"struct\",\"fields\":[{\"name\":\"type\",\"type\":\"byte\",\"nullable\":false,\"metadata\":{}},{\"name\":\"size\",\"type\":\"integer\",\"nullable\":true,\"metadata\":{}},{\"name\":\"indices\",\"type\":{\"type\":\"array\",\"elementType\":\"integer\",\"containsNull\":false},\"nullable\":true,\"metadata\":{}},{\"name\":\"values\",\"type\":{\"type\":\"array\",\"elementType\":\"double\",\"containsNull\":false},\"nullable\":true,\"metadata\":{}}]}}"
        },
        {
         "metadata": "{\"ml_attr\":{\"attrs\":{\"binary\":[{\"idx\":0,\"name\":\"Day\"}]},\"num_attrs\":1}}",
         "name": "Nautical_Twilight_ohe",
         "type": "{\"type\":\"udt\",\"class\":\"org.apache.spark.ml.linalg.VectorUDT\",\"pyClass\":\"pyspark.ml.linalg.VectorUDT\",\"sqlType\":{\"type\":\"struct\",\"fields\":[{\"name\":\"type\",\"type\":\"byte\",\"nullable\":false,\"metadata\":{}},{\"name\":\"size\",\"type\":\"integer\",\"nullable\":true,\"metadata\":{}},{\"name\":\"indices\",\"type\":{\"type\":\"array\",\"elementType\":\"integer\",\"containsNull\":false},\"nullable\":true,\"metadata\":{}},{\"name\":\"values\",\"type\":{\"type\":\"array\",\"elementType\":\"double\",\"containsNull\":false},\"nullable\":true,\"metadata\":{}}]}}"
        },
        {
         "metadata": "{\"ml_attr\":{\"attrs\":{\"binary\":[{\"idx\":0,\"name\":\"Day\"}]},\"num_attrs\":1}}",
         "name": "Astronomical_Twilight_ohe",
         "type": "{\"type\":\"udt\",\"class\":\"org.apache.spark.ml.linalg.VectorUDT\",\"pyClass\":\"pyspark.ml.linalg.VectorUDT\",\"sqlType\":{\"type\":\"struct\",\"fields\":[{\"name\":\"type\",\"type\":\"byte\",\"nullable\":false,\"metadata\":{}},{\"name\":\"size\",\"type\":\"integer\",\"nullable\":true,\"metadata\":{}},{\"name\":\"indices\",\"type\":{\"type\":\"array\",\"elementType\":\"integer\",\"containsNull\":false},\"nullable\":true,\"metadata\":{}},{\"name\":\"values\",\"type\":{\"type\":\"array\",\"elementType\":\"double\",\"containsNull\":false},\"nullable\":true,\"metadata\":{}}]}}"
        },
        {
         "metadata": "{\"ml_attr\":{\"attrs\":{\"numeric\":[{\"idx\":0,\"name\":\"Distance(mi)\"},{\"idx\":1,\"name\":\"Temperature(F)\"},{\"idx\":2,\"name\":\"Wind_Chill(F)\"},{\"idx\":3,\"name\":\"Humidity(%)\"},{\"idx\":4,\"name\":\"Pressure(in)\"},{\"idx\":5,\"name\":\"Visibility(mi)\"},{\"idx\":6,\"name\":\"Wind_Speed(mph)\"},{\"idx\":7,\"name\":\"Precipitation(in)\"}]},\"num_attrs\":8}}",
         "name": "numerical_features",
         "type": "{\"type\":\"udt\",\"class\":\"org.apache.spark.ml.linalg.VectorUDT\",\"pyClass\":\"pyspark.ml.linalg.VectorUDT\",\"sqlType\":{\"type\":\"struct\",\"fields\":[{\"name\":\"type\",\"type\":\"byte\",\"nullable\":false,\"metadata\":{}},{\"name\":\"size\",\"type\":\"integer\",\"nullable\":true,\"metadata\":{}},{\"name\":\"indices\",\"type\":{\"type\":\"array\",\"elementType\":\"integer\",\"containsNull\":false},\"nullable\":true,\"metadata\":{}},{\"name\":\"values\",\"type\":{\"type\":\"array\",\"elementType\":\"double\",\"containsNull\":false},\"nullable\":true,\"metadata\":{}}]}}"
        },
        {
         "metadata": "{\"ml_attr\":{\"num_attrs\":8}}",
         "name": "scaled_features",
         "type": "{\"type\":\"udt\",\"class\":\"org.apache.spark.ml.linalg.VectorUDT\",\"pyClass\":\"pyspark.ml.linalg.VectorUDT\",\"sqlType\":{\"type\":\"struct\",\"fields\":[{\"name\":\"type\",\"type\":\"byte\",\"nullable\":false,\"metadata\":{}},{\"name\":\"size\",\"type\":\"integer\",\"nullable\":true,\"metadata\":{}},{\"name\":\"indices\",\"type\":{\"type\":\"array\",\"elementType\":\"integer\",\"containsNull\":false},\"nullable\":true,\"metadata\":{}},{\"name\":\"values\",\"type\":{\"type\":\"array\",\"elementType\":\"double\",\"containsNull\":false},\"nullable\":true,\"metadata\":{}}]}}"
        },
        {
         "metadata": "{\"ml_attr\":{\"attrs\":{\"numeric\":[{\"idx\":0,\"name\":\"scaled_features_0\"},{\"idx\":1,\"name\":\"scaled_features_1\"},{\"idx\":2,\"name\":\"scaled_features_2\"},{\"idx\":3,\"name\":\"scaled_features_3\"},{\"idx\":4,\"name\":\"scaled_features_4\"},{\"idx\":5,\"name\":\"scaled_features_5\"},{\"idx\":6,\"name\":\"scaled_features_6\"},{\"idx\":7,\"name\":\"scaled_features_7\"}],\"binary\":[{\"idx\":8,\"name\":\"Amenity_ohe_false\"},{\"idx\":9,\"name\":\"Bump_ohe_false\"},{\"idx\":10,\"name\":\"Crossing_ohe_false\"},{\"idx\":11,\"name\":\"Give_Way_ohe_false\"},{\"idx\":12,\"name\":\"Junction_ohe_false\"},{\"idx\":13,\"name\":\"No_Exit_ohe_false\"},{\"idx\":14,\"name\":\"Railway_ohe_false\"},{\"idx\":15,\"name\":\"Roundabout_ohe_false\"},{\"idx\":16,\"name\":\"Station_ohe_false\"},{\"idx\":17,\"name\":\"Stop_ohe_false\"},{\"idx\":18,\"name\":\"Traffic_Calming_ohe_false\"},{\"idx\":19,\"name\":\"Traffic_Signal_ohe_false\"},{\"idx\":20,\"name\":\"Sunrise_Sunset_ohe_Day\"},{\"idx\":21,\"name\":\"Civil_Twilight_ohe_Day\"},{\"idx\":22,\"name\":\"Nautical_Twilight_ohe_Day\"},{\"idx\":23,\"name\":\"Astronomical_Twilight_ohe_Day\"}]},\"num_attrs\":24}}",
         "name": "features",
         "type": "{\"type\":\"udt\",\"class\":\"org.apache.spark.ml.linalg.VectorUDT\",\"pyClass\":\"pyspark.ml.linalg.VectorUDT\",\"sqlType\":{\"type\":\"struct\",\"fields\":[{\"name\":\"type\",\"type\":\"byte\",\"nullable\":false,\"metadata\":{}},{\"name\":\"size\",\"type\":\"integer\",\"nullable\":true,\"metadata\":{}},{\"name\":\"indices\",\"type\":{\"type\":\"array\",\"elementType\":\"integer\",\"containsNull\":false},\"nullable\":true,\"metadata\":{}},{\"name\":\"values\",\"type\":{\"type\":\"array\",\"elementType\":\"double\",\"containsNull\":false},\"nullable\":true,\"metadata\":{}}]}}"
        },
        {
         "metadata": "{\"ml_attr\":{\"num_attrs\":2}}",
         "name": "rawPrediction",
         "type": "{\"type\":\"udt\",\"class\":\"org.apache.spark.ml.linalg.VectorUDT\",\"pyClass\":\"pyspark.ml.linalg.VectorUDT\",\"sqlType\":{\"type\":\"struct\",\"fields\":[{\"name\":\"type\",\"type\":\"byte\",\"nullable\":false,\"metadata\":{}},{\"name\":\"size\",\"type\":\"integer\",\"nullable\":true,\"metadata\":{}},{\"name\":\"indices\",\"type\":{\"type\":\"array\",\"elementType\":\"integer\",\"containsNull\":false},\"nullable\":true,\"metadata\":{}},{\"name\":\"values\",\"type\":{\"type\":\"array\",\"elementType\":\"double\",\"containsNull\":false},\"nullable\":true,\"metadata\":{}}]}}"
        },
        {
         "metadata": "{\"ml_attr\":{\"type\":\"nominal\",\"num_vals\":2}}",
         "name": "prediction",
         "type": "\"double\""
        }
       ],
       "type": "table"
      }
     },
     "output_type": "display_data"
    }
   ],
   "source": [
    "results.limit(10).display()"
   ]
  },
  {
   "cell_type": "code",
   "execution_count": 0,
   "metadata": {
    "application/vnd.databricks.v1+cell": {
     "cellMetadata": {
      "byteLimit": 2048000,
      "rowLimit": 10000
     },
     "inputWidgets": {},
     "nuid": "87467a73-d0d9-43b1-a9c5-abd50c87f5ff",
     "showTitle": false,
     "title": ""
    }
   },
   "outputs": [
    {
     "output_type": "stream",
     "name": "stdout",
     "output_type": "stream",
     "text": [
      "+--------+----------+-----+\n|Severity|prediction|count|\n+--------+----------+-----+\n|       0|       0.0|33523|\n|       0|       1.0|45642|\n|       1|       0.0|14446|\n|       1|       1.0|61255|\n+--------+----------+-----+\n\n"
     ]
    }
   ],
   "source": [
    "# Confusion Matrix\n",
    "confusion_matrix = results.groupBy(\"Severity\", \"prediction\").count()\n",
    "confusion_matrix.show()"
   ]
  },
  {
   "cell_type": "code",
   "execution_count": 0,
   "metadata": {
    "application/vnd.databricks.v1+cell": {
     "cellMetadata": {
      "byteLimit": 2048000,
      "rowLimit": 10000
     },
     "inputWidgets": {},
     "nuid": "f3397aa3-5b94-4b3f-bcd3-d688a2819073",
     "showTitle": false,
     "title": ""
    }
   },
   "outputs": [
    {
     "output_type": "stream",
     "name": "stdout",
     "output_type": "stream",
     "text": [
      "Out[60]: 22.94"
     ]
    }
   ],
   "source": [
    "FP_rate = round((35523 / (33523 + 45642 + 14446 + 61255))*100,2)\n",
    "FP_rate"
   ]
  },
  {
   "cell_type": "code",
   "execution_count": 0,
   "metadata": {
    "application/vnd.databricks.v1+cell": {
     "cellMetadata": {
      "byteLimit": 2048000,
      "rowLimit": 10000
     },
     "inputWidgets": {},
     "nuid": "77d44b39-c3b0-40c0-b9bc-a7eba9bc2122",
     "showTitle": false,
     "title": ""
    }
   },
   "outputs": [
    {
     "output_type": "stream",
     "name": "stdout",
     "output_type": "stream",
     "text": [
      "Accuracy: 0.612000051657562\n"
     ]
    }
   ],
   "source": [
    "## Accuracy\n",
    "from pyspark.ml.evaluation import MulticlassClassificationEvaluator\n",
    "e_acc = MulticlassClassificationEvaluator(labelCol='Severity', predictionCol='prediction', metricName='accuracy')\n",
    "acc = e_acc.evaluate(results)\n",
    "print(\"Accuracy: {}\".format(acc))"
   ]
  },
  {
   "cell_type": "code",
   "execution_count": 0,
   "metadata": {
    "application/vnd.databricks.v1+cell": {
     "cellMetadata": {
      "byteLimit": 2048000,
      "rowLimit": 10000
     },
     "inputWidgets": {},
     "nuid": "e5f449d0-e315-4f50-a2e2-7fddc58a704e",
     "showTitle": false,
     "title": ""
    }
   },
   "outputs": [
    {
     "output_type": "stream",
     "name": "stdout",
     "output_type": "stream",
     "text": [
      "AUC: 0.6994655693050185\n"
     ]
    },
    {
     "output_type": "display_data",
     "data": {
      "image/png": "[encoded data removed]"
     },
     "metadata": {
      "application/vnd.databricks.v1+output": {
       "addedWidgets": {},
       "arguments": {},
       "data": "data:image/png;base64,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\n",
       "datasetInfos": [],
       "metadata": {},
       "removedWidgets": [],
       "type": "image"
      }
     },
     "output_type": "display_data"
    }
   ],
   "source": [
    "from pyspark.ml.evaluation import BinaryClassificationEvaluator\n",
    "from pyspark.mllib.evaluation import BinaryClassificationMetrics\n",
    "import matplotlib.pyplot as plt\n",
    "\n",
    "evaluator = BinaryClassificationEvaluator(labelCol=\"Severity\", rawPredictionCol=\"rawPrediction\", metricName=\"areaUnderROC\")\n",
    "auc_value = evaluator.evaluate(results)\n",
    "\n",
    "import matplotlib.pyplot as plt\n",
    "# Returns as a list (false positive rate, true positive rate)\n",
    "preds = results.select('Severity','rawPrediction').rdd.map(lambda row: (float(row['rawPrediction'][1]), float(row['Severity'])))\n",
    "points = CurveMetrics(preds).get_curve('roc')\n",
    "\n",
    "plt.figure()\n",
    "x_val = [x[0] for x in points]\n",
    "y_val = [x[1] for x in points]\n",
    "plt.title('ROC Curve')\n",
    "plt.xlabel('False  Positive Rate')\n",
    "plt.ylabel('True Positive Rate')\n",
    "plt.plot(x_val, y_val)\n",
    "print(f\"AUC: {auc_value}\")"
   ]
  }
 ],
 "metadata": {
  "application/vnd.databricks.v1+notebook": {
   "dashboards": [],
   "language": "python",
   "notebookMetadata": {
    "mostRecentlyExecutedCommandWithImplicitDF": {
     "commandId": 4471576817270427,
     "dataframes": [
      "_sqldf"
     ]
    },
    "pythonIndentUnit": 4
   },
   "notebookName": "Treands Market",
   "widgets": {}
  }
 },
 "nbformat": 4,
 "nbformat_minor": 0
}
